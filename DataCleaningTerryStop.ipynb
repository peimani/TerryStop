{
 "cells": [
  {
   "cell_type": "markdown",
   "metadata": {},
   "source": [
    "testing save"
   ]
  },
  {
   "cell_type": "markdown",
   "metadata": {},
   "source": [
    " ## Importing Libraries"
   ]
  },
  {
   "cell_type": "code",
   "execution_count": 2248,
   "metadata": {
    "ExecuteTime": {
     "end_time": "2020-11-25T22:13:10.795436Z",
     "start_time": "2020-11-25T22:13:10.791215Z"
    }
   },
   "outputs": [],
   "source": [
    "import pandas as pd\n",
    "import numpy as np\n",
    "import matplotlib.pyplot as plt\n",
    "import seaborn as sns\n",
    "\n",
    "from sklearn.model_selection import train_test_split, GridSearchCV\n",
    "\n",
    "\n",
    "import warnings\n",
    "warnings.filterwarnings('ignore')"
   ]
  },
  {
   "cell_type": "code",
   "execution_count": null,
   "metadata": {},
   "outputs": [],
   "source": []
  },
  {
   "cell_type": "markdown",
   "metadata": {},
   "source": [
    "## Importing Dataset"
   ]
  },
  {
   "cell_type": "code",
   "execution_count": 2249,
   "metadata": {
    "ExecuteTime": {
     "end_time": "2020-11-25T22:13:11.183955Z",
     "start_time": "2020-11-25T22:13:10.982574Z"
    }
   },
   "outputs": [
    {
     "data": {
      "text/html": [
       "<div>\n",
       "<style scoped>\n",
       "    .dataframe tbody tr th:only-of-type {\n",
       "        vertical-align: middle;\n",
       "    }\n",
       "\n",
       "    .dataframe tbody tr th {\n",
       "        vertical-align: top;\n",
       "    }\n",
       "\n",
       "    .dataframe thead th {\n",
       "        text-align: right;\n",
       "    }\n",
       "</style>\n",
       "<table border=\"1\" class=\"dataframe\">\n",
       "  <thead>\n",
       "    <tr style=\"text-align: right;\">\n",
       "      <th></th>\n",
       "      <th>Subject Age Group</th>\n",
       "      <th>Subject ID</th>\n",
       "      <th>GO / SC Num</th>\n",
       "      <th>Terry Stop ID</th>\n",
       "      <th>Stop Resolution</th>\n",
       "      <th>Weapon Type</th>\n",
       "      <th>Officer ID</th>\n",
       "      <th>Officer YOB</th>\n",
       "      <th>Officer Gender</th>\n",
       "      <th>Officer Race</th>\n",
       "      <th>...</th>\n",
       "      <th>Reported Time</th>\n",
       "      <th>Initial Call Type</th>\n",
       "      <th>Final Call Type</th>\n",
       "      <th>Call Type</th>\n",
       "      <th>Officer Squad</th>\n",
       "      <th>Arrest Flag</th>\n",
       "      <th>Frisk Flag</th>\n",
       "      <th>Precinct</th>\n",
       "      <th>Sector</th>\n",
       "      <th>Beat</th>\n",
       "    </tr>\n",
       "  </thead>\n",
       "  <tbody>\n",
       "    <tr>\n",
       "      <th>0</th>\n",
       "      <td>-</td>\n",
       "      <td>-1</td>\n",
       "      <td>20140000120677</td>\n",
       "      <td>92317</td>\n",
       "      <td>Arrest</td>\n",
       "      <td>None</td>\n",
       "      <td>7500</td>\n",
       "      <td>1984</td>\n",
       "      <td>M</td>\n",
       "      <td>Black or African American</td>\n",
       "      <td>...</td>\n",
       "      <td>11:32:00</td>\n",
       "      <td>-</td>\n",
       "      <td>-</td>\n",
       "      <td>-</td>\n",
       "      <td>SOUTH PCT 1ST W - ROBERT</td>\n",
       "      <td>N</td>\n",
       "      <td>N</td>\n",
       "      <td>South</td>\n",
       "      <td>O</td>\n",
       "      <td>O2</td>\n",
       "    </tr>\n",
       "    <tr>\n",
       "      <th>1</th>\n",
       "      <td>-</td>\n",
       "      <td>-1</td>\n",
       "      <td>20150000001463</td>\n",
       "      <td>28806</td>\n",
       "      <td>Field Contact</td>\n",
       "      <td>None</td>\n",
       "      <td>5670</td>\n",
       "      <td>1965</td>\n",
       "      <td>M</td>\n",
       "      <td>White</td>\n",
       "      <td>...</td>\n",
       "      <td>07:59:00</td>\n",
       "      <td>-</td>\n",
       "      <td>-</td>\n",
       "      <td>-</td>\n",
       "      <td>NaN</td>\n",
       "      <td>N</td>\n",
       "      <td>N</td>\n",
       "      <td>-</td>\n",
       "      <td>-</td>\n",
       "      <td>-</td>\n",
       "    </tr>\n",
       "    <tr>\n",
       "      <th>2</th>\n",
       "      <td>-</td>\n",
       "      <td>-1</td>\n",
       "      <td>20150000001516</td>\n",
       "      <td>29599</td>\n",
       "      <td>Field Contact</td>\n",
       "      <td>None</td>\n",
       "      <td>4844</td>\n",
       "      <td>1961</td>\n",
       "      <td>M</td>\n",
       "      <td>White</td>\n",
       "      <td>...</td>\n",
       "      <td>19:12:00</td>\n",
       "      <td>-</td>\n",
       "      <td>-</td>\n",
       "      <td>-</td>\n",
       "      <td>NaN</td>\n",
       "      <td>N</td>\n",
       "      <td>-</td>\n",
       "      <td>-</td>\n",
       "      <td>-</td>\n",
       "      <td>-</td>\n",
       "    </tr>\n",
       "    <tr>\n",
       "      <th>3</th>\n",
       "      <td>-</td>\n",
       "      <td>-1</td>\n",
       "      <td>20150000001670</td>\n",
       "      <td>32260</td>\n",
       "      <td>Field Contact</td>\n",
       "      <td>None</td>\n",
       "      <td>7539</td>\n",
       "      <td>1963</td>\n",
       "      <td>M</td>\n",
       "      <td>White</td>\n",
       "      <td>...</td>\n",
       "      <td>04:55:00</td>\n",
       "      <td>-</td>\n",
       "      <td>-</td>\n",
       "      <td>-</td>\n",
       "      <td>NaN</td>\n",
       "      <td>N</td>\n",
       "      <td>N</td>\n",
       "      <td>-</td>\n",
       "      <td>-</td>\n",
       "      <td>-</td>\n",
       "    </tr>\n",
       "    <tr>\n",
       "      <th>4</th>\n",
       "      <td>-</td>\n",
       "      <td>-1</td>\n",
       "      <td>20150000001739</td>\n",
       "      <td>33155</td>\n",
       "      <td>Field Contact</td>\n",
       "      <td>None</td>\n",
       "      <td>6973</td>\n",
       "      <td>1977</td>\n",
       "      <td>M</td>\n",
       "      <td>White</td>\n",
       "      <td>...</td>\n",
       "      <td>00:41:00</td>\n",
       "      <td>-</td>\n",
       "      <td>-</td>\n",
       "      <td>-</td>\n",
       "      <td>NaN</td>\n",
       "      <td>N</td>\n",
       "      <td>N</td>\n",
       "      <td>-</td>\n",
       "      <td>-</td>\n",
       "      <td>-</td>\n",
       "    </tr>\n",
       "  </tbody>\n",
       "</table>\n",
       "<p>5 rows × 23 columns</p>\n",
       "</div>"
      ],
      "text/plain": [
       "  Subject Age Group  Subject ID     GO / SC Num  Terry Stop ID  \\\n",
       "0                 -          -1  20140000120677          92317   \n",
       "1                 -          -1  20150000001463          28806   \n",
       "2                 -          -1  20150000001516          29599   \n",
       "3                 -          -1  20150000001670          32260   \n",
       "4                 -          -1  20150000001739          33155   \n",
       "\n",
       "  Stop Resolution Weapon Type Officer ID  Officer YOB Officer Gender  \\\n",
       "0          Arrest        None     7500           1984              M   \n",
       "1   Field Contact        None     5670           1965              M   \n",
       "2   Field Contact        None     4844           1961              M   \n",
       "3   Field Contact        None     7539           1963              M   \n",
       "4   Field Contact        None     6973           1977              M   \n",
       "\n",
       "                Officer Race  ... Reported Time Initial Call Type  \\\n",
       "0  Black or African American  ...      11:32:00                 -   \n",
       "1                      White  ...      07:59:00                 -   \n",
       "2                      White  ...      19:12:00                 -   \n",
       "3                      White  ...      04:55:00                 -   \n",
       "4                      White  ...      00:41:00                 -   \n",
       "\n",
       "  Final Call Type Call Type             Officer Squad Arrest Flag Frisk Flag  \\\n",
       "0               -         -  SOUTH PCT 1ST W - ROBERT           N          N   \n",
       "1               -         -                       NaN           N          N   \n",
       "2               -         -                       NaN           N          -   \n",
       "3               -         -                       NaN           N          N   \n",
       "4               -         -                       NaN           N          N   \n",
       "\n",
       "  Precinct  Sector    Beat  \n",
       "0    South  O       O2      \n",
       "1        -       -       -  \n",
       "2        -       -       -  \n",
       "3        -       -       -  \n",
       "4        -       -       -  \n",
       "\n",
       "[5 rows x 23 columns]"
      ]
     },
     "execution_count": 2249,
     "metadata": {},
     "output_type": "execute_result"
    }
   ],
   "source": [
    "df = pd.read_csv('Terry_Stops.csv')\n",
    "\n",
    "df.head()"
   ]
  },
  {
   "cell_type": "code",
   "execution_count": 2250,
   "metadata": {
    "ExecuteTime": {
     "end_time": "2020-11-25T22:13:11.212041Z",
     "start_time": "2020-11-25T22:13:11.186379Z"
    }
   },
   "outputs": [
    {
     "data": {
      "text/html": [
       "<div>\n",
       "<style scoped>\n",
       "    .dataframe tbody tr th:only-of-type {\n",
       "        vertical-align: middle;\n",
       "    }\n",
       "\n",
       "    .dataframe tbody tr th {\n",
       "        vertical-align: top;\n",
       "    }\n",
       "\n",
       "    .dataframe thead th {\n",
       "        text-align: right;\n",
       "    }\n",
       "</style>\n",
       "<table border=\"1\" class=\"dataframe\">\n",
       "  <thead>\n",
       "    <tr style=\"text-align: right;\">\n",
       "      <th></th>\n",
       "      <th>Subject ID</th>\n",
       "      <th>GO / SC Num</th>\n",
       "      <th>Terry Stop ID</th>\n",
       "      <th>Officer YOB</th>\n",
       "    </tr>\n",
       "  </thead>\n",
       "  <tbody>\n",
       "    <tr>\n",
       "      <th>count</th>\n",
       "      <td>4.483800e+04</td>\n",
       "      <td>4.483800e+04</td>\n",
       "      <td>4.483800e+04</td>\n",
       "      <td>44838.000000</td>\n",
       "    </tr>\n",
       "    <tr>\n",
       "      <th>mean</th>\n",
       "      <td>2.048175e+09</td>\n",
       "      <td>2.017435e+13</td>\n",
       "      <td>2.744795e+09</td>\n",
       "      <td>1982.668585</td>\n",
       "    </tr>\n",
       "    <tr>\n",
       "      <th>std</th>\n",
       "      <td>3.929608e+09</td>\n",
       "      <td>1.628590e+10</td>\n",
       "      <td>5.137080e+09</td>\n",
       "      <td>9.293030</td>\n",
       "    </tr>\n",
       "    <tr>\n",
       "      <th>min</th>\n",
       "      <td>-1.000000e+00</td>\n",
       "      <td>2.009000e+13</td>\n",
       "      <td>2.802000e+04</td>\n",
       "      <td>1900.000000</td>\n",
       "    </tr>\n",
       "    <tr>\n",
       "      <th>25%</th>\n",
       "      <td>-1.000000e+00</td>\n",
       "      <td>2.016000e+13</td>\n",
       "      <td>1.733272e+05</td>\n",
       "      <td>1978.000000</td>\n",
       "    </tr>\n",
       "    <tr>\n",
       "      <th>50%</th>\n",
       "      <td>-1.000000e+00</td>\n",
       "      <td>2.018000e+13</td>\n",
       "      <td>3.866160e+05</td>\n",
       "      <td>1985.000000</td>\n",
       "    </tr>\n",
       "    <tr>\n",
       "      <th>75%</th>\n",
       "      <td>-1.000000e+00</td>\n",
       "      <td>2.019000e+13</td>\n",
       "      <td>5.501900e+05</td>\n",
       "      <td>1989.000000</td>\n",
       "    </tr>\n",
       "    <tr>\n",
       "      <th>max</th>\n",
       "      <td>1.755179e+10</td>\n",
       "      <td>2.020000e+13</td>\n",
       "      <td>1.755178e+10</td>\n",
       "      <td>1997.000000</td>\n",
       "    </tr>\n",
       "  </tbody>\n",
       "</table>\n",
       "</div>"
      ],
      "text/plain": [
       "         Subject ID   GO / SC Num  Terry Stop ID   Officer YOB\n",
       "count  4.483800e+04  4.483800e+04   4.483800e+04  44838.000000\n",
       "mean   2.048175e+09  2.017435e+13   2.744795e+09   1982.668585\n",
       "std    3.929608e+09  1.628590e+10   5.137080e+09      9.293030\n",
       "min   -1.000000e+00  2.009000e+13   2.802000e+04   1900.000000\n",
       "25%   -1.000000e+00  2.016000e+13   1.733272e+05   1978.000000\n",
       "50%   -1.000000e+00  2.018000e+13   3.866160e+05   1985.000000\n",
       "75%   -1.000000e+00  2.019000e+13   5.501900e+05   1989.000000\n",
       "max    1.755179e+10  2.020000e+13   1.755178e+10   1997.000000"
      ]
     },
     "execution_count": 2250,
     "metadata": {},
     "output_type": "execute_result"
    }
   ],
   "source": [
    "df.describe()"
   ]
  },
  {
   "cell_type": "code",
   "execution_count": 2251,
   "metadata": {
    "ExecuteTime": {
     "end_time": "2020-11-25T22:13:11.259774Z",
     "start_time": "2020-11-25T22:13:11.215028Z"
    }
   },
   "outputs": [
    {
     "name": "stdout",
     "output_type": "stream",
     "text": [
      "<class 'pandas.core.frame.DataFrame'>\n",
      "RangeIndex: 44838 entries, 0 to 44837\n",
      "Data columns (total 23 columns):\n",
      " #   Column                    Non-Null Count  Dtype \n",
      "---  ------                    --------------  ----- \n",
      " 0   Subject Age Group         44838 non-null  object\n",
      " 1   Subject ID                44838 non-null  int64 \n",
      " 2   GO / SC Num               44838 non-null  int64 \n",
      " 3   Terry Stop ID             44838 non-null  int64 \n",
      " 4   Stop Resolution           44838 non-null  object\n",
      " 5   Weapon Type               44838 non-null  object\n",
      " 6   Officer ID                44838 non-null  object\n",
      " 7   Officer YOB               44838 non-null  int64 \n",
      " 8   Officer Gender            44838 non-null  object\n",
      " 9   Officer Race              44838 non-null  object\n",
      " 10  Subject Perceived Race    44838 non-null  object\n",
      " 11  Subject Perceived Gender  44838 non-null  object\n",
      " 12  Reported Date             44838 non-null  object\n",
      " 13  Reported Time             44838 non-null  object\n",
      " 14  Initial Call Type         44838 non-null  object\n",
      " 15  Final Call Type           44838 non-null  object\n",
      " 16  Call Type                 44838 non-null  object\n",
      " 17  Officer Squad             44258 non-null  object\n",
      " 18  Arrest Flag               44838 non-null  object\n",
      " 19  Frisk Flag                44838 non-null  object\n",
      " 20  Precinct                  44838 non-null  object\n",
      " 21  Sector                    44838 non-null  object\n",
      " 22  Beat                      44838 non-null  object\n",
      "dtypes: int64(4), object(19)\n",
      "memory usage: 7.9+ MB\n"
     ]
    }
   ],
   "source": [
    "# checking for null, data type and name of columns\n",
    "df.info()"
   ]
  },
  {
   "cell_type": "code",
   "execution_count": null,
   "metadata": {},
   "outputs": [],
   "source": []
  },
  {
   "cell_type": "code",
   "execution_count": null,
   "metadata": {},
   "outputs": [],
   "source": []
  },
  {
   "cell_type": "code",
   "execution_count": 2252,
   "metadata": {
    "ExecuteTime": {
     "end_time": "2020-11-25T22:13:11.307033Z",
     "start_time": "2020-11-25T22:13:11.262516Z"
    }
   },
   "outputs": [
    {
     "name": "stdout",
     "output_type": "stream",
     "text": [
      "<class 'pandas.core.frame.DataFrame'>\n",
      "RangeIndex: 44838 entries, 0 to 44837\n",
      "Data columns (total 23 columns):\n",
      " #   Column                    Non-Null Count  Dtype \n",
      "---  ------                    --------------  ----- \n",
      " 0   Subject Age Group         44838 non-null  object\n",
      " 1   Subject ID                44838 non-null  int64 \n",
      " 2   GO / SC Num               44838 non-null  int64 \n",
      " 3   Terry Stop ID             44838 non-null  int64 \n",
      " 4   Stop Resolution           44838 non-null  object\n",
      " 5   Weapon Type               44838 non-null  object\n",
      " 6   Officer ID                44838 non-null  object\n",
      " 7   Officer YOB               44838 non-null  int64 \n",
      " 8   Officer Gender            44838 non-null  object\n",
      " 9   Officer Race              44838 non-null  object\n",
      " 10  Subject Perceived Race    44838 non-null  object\n",
      " 11  Subject Perceived Gender  44838 non-null  object\n",
      " 12  Reported Date             44838 non-null  object\n",
      " 13  Reported Time             44838 non-null  object\n",
      " 14  Initial Call Type         44838 non-null  object\n",
      " 15  Final Call Type           44838 non-null  object\n",
      " 16  Call Type                 44838 non-null  object\n",
      " 17  Officer Squad             44258 non-null  object\n",
      " 18  Arrest Flag               44838 non-null  object\n",
      " 19  Frisk Flag                44838 non-null  object\n",
      " 20  Precinct                  44838 non-null  object\n",
      " 21  Sector                    44838 non-null  object\n",
      " 22  Beat                      44838 non-null  object\n",
      "dtypes: int64(4), object(19)\n",
      "memory usage: 7.9+ MB\n"
     ]
    }
   ],
   "source": [
    "df.info()"
   ]
  },
  {
   "cell_type": "code",
   "execution_count": 2253,
   "metadata": {
    "ExecuteTime": {
     "end_time": "2020-11-25T22:13:11.347428Z",
     "start_time": "2020-11-25T22:13:11.309358Z"
    }
   },
   "outputs": [
    {
     "data": {
      "text/plain": [
       "Subject Age Group             0\n",
       "Subject ID                    0\n",
       "GO / SC Num                   0\n",
       "Terry Stop ID                 0\n",
       "Stop Resolution               0\n",
       "Weapon Type                   0\n",
       "Officer ID                    0\n",
       "Officer YOB                   0\n",
       "Officer Gender                0\n",
       "Officer Race                  0\n",
       "Subject Perceived Race        0\n",
       "Subject Perceived Gender      0\n",
       "Reported Date                 0\n",
       "Reported Time                 0\n",
       "Initial Call Type             0\n",
       "Final Call Type               0\n",
       "Call Type                     0\n",
       "Officer Squad               580\n",
       "Arrest Flag                   0\n",
       "Frisk Flag                    0\n",
       "Precinct                      0\n",
       "Sector                        0\n",
       "Beat                          0\n",
       "dtype: int64"
      ]
     },
     "execution_count": 2253,
     "metadata": {},
     "output_type": "execute_result"
    }
   ],
   "source": [
    "# checking for null values\n",
    "df.isna().sum()"
   ]
  },
  {
   "cell_type": "code",
   "execution_count": null,
   "metadata": {},
   "outputs": [],
   "source": []
  },
  {
   "cell_type": "code",
   "execution_count": 2254,
   "metadata": {
    "ExecuteTime": {
     "end_time": "2020-11-25T22:13:11.351899Z",
     "start_time": "2020-11-25T22:13:11.349527Z"
    }
   },
   "outputs": [],
   "source": [
    "# drop the rows with null values and reset the index\n",
    "# df = df.dropna()\n",
    "# df = df.reset_index(drop=True)\n",
    "# df.isna().sum()"
   ]
  },
  {
   "cell_type": "code",
   "execution_count": 2255,
   "metadata": {
    "ExecuteTime": {
     "end_time": "2020-11-25T22:13:11.433747Z",
     "start_time": "2020-11-25T22:13:11.354000Z"
    }
   },
   "outputs": [
    {
     "name": "stdout",
     "output_type": "stream",
     "text": [
      "False\n",
      "\n"
     ]
    }
   ],
   "source": [
    "# check for duplicates\n",
    "boolean = df.duplicated().any()\n",
    "print(boolean, end='\\n\\n') # True"
   ]
  },
  {
   "cell_type": "code",
   "execution_count": 2256,
   "metadata": {
    "ExecuteTime": {
     "end_time": "2020-11-25T22:13:11.466380Z",
     "start_time": "2020-11-25T22:13:11.437525Z"
    }
   },
   "outputs": [],
   "source": [
    "df = df.replace('-', 'Unknown')"
   ]
  },
  {
   "cell_type": "code",
   "execution_count": 2257,
   "metadata": {
    "ExecuteTime": {
     "end_time": "2020-11-25T22:13:11.528648Z",
     "start_time": "2020-11-25T22:13:11.468938Z"
    }
   },
   "outputs": [
    {
     "name": "stdout",
     "output_type": "stream",
     "text": [
      "<class 'pandas.core.frame.DataFrame'>\n",
      "RangeIndex: 44838 entries, 0 to 44837\n",
      "Data columns (total 23 columns):\n",
      " #   Column                    Non-Null Count  Dtype \n",
      "---  ------                    --------------  ----- \n",
      " 0   Subject Age Group         44838 non-null  object\n",
      " 1   Subject ID                44838 non-null  int64 \n",
      " 2   GO / SC Num               44838 non-null  int64 \n",
      " 3   Terry Stop ID             44838 non-null  int64 \n",
      " 4   Stop Resolution           44838 non-null  object\n",
      " 5   Weapon Type               44838 non-null  object\n",
      " 6   Officer ID                44838 non-null  object\n",
      " 7   Officer YOB               44838 non-null  int64 \n",
      " 8   Officer Gender            44838 non-null  object\n",
      " 9   Officer Race              44838 non-null  object\n",
      " 10  Subject Perceived Race    44838 non-null  object\n",
      " 11  Subject Perceived Gender  44838 non-null  object\n",
      " 12  Reported Date             44838 non-null  object\n",
      " 13  Reported Time             44838 non-null  object\n",
      " 14  Initial Call Type         44838 non-null  object\n",
      " 15  Final Call Type           44838 non-null  object\n",
      " 16  Call Type                 44838 non-null  object\n",
      " 17  Officer Squad             44258 non-null  object\n",
      " 18  Arrest Flag               44838 non-null  object\n",
      " 19  Frisk Flag                44838 non-null  object\n",
      " 20  Precinct                  44838 non-null  object\n",
      " 21  Sector                    44838 non-null  object\n",
      " 22  Beat                      44838 non-null  object\n",
      "dtypes: int64(4), object(19)\n",
      "memory usage: 7.9+ MB\n"
     ]
    }
   ],
   "source": [
    "df.info()"
   ]
  },
  {
   "cell_type": "code",
   "execution_count": 2258,
   "metadata": {
    "ExecuteTime": {
     "end_time": "2020-11-25T22:13:11.598564Z",
     "start_time": "2020-11-25T22:13:11.530832Z"
    }
   },
   "outputs": [
    {
     "name": "stdout",
     "output_type": "stream",
     "text": [
      "Subject Age Group \n",
      " ['Unknown' '46 - 55' '56 and Above' '1 - 17' '18 - 25' '36 - 45' '26 - 35'] \n",
      "\n",
      "\n",
      "Subject ID \n",
      " [         -1 16366865981  7726713382 ... 13855696527 13930427243\n",
      " 14268071835] \n",
      "\n",
      "\n",
      "GO / SC Num \n",
      " [20140000120677 20150000001463 20150000001516 ... 20200000211163\n",
      " 20200000218545 20200000223475] \n",
      "\n",
      "\n",
      "Terry Stop ID \n",
      " [      92317       28806       29599 ... 13855817033 13928574375\n",
      " 14273492771] \n",
      "\n",
      "\n",
      "Stop Resolution \n",
      " ['Arrest' 'Field Contact' 'Citation / Infraction' 'Offense Report'\n",
      " 'Referred for Prosecution'] \n",
      "\n",
      "\n",
      "Weapon Type \n",
      " ['None' 'Firearm Other' 'Lethal Cutting Instrument' 'Handgun' 'Unknown'\n",
      " 'Club, Blackjack, Brass Knuckles' 'Knife/Cutting/Stabbing Instrument'\n",
      " 'Other Firearm' 'Rifle' 'Fire/Incendiary Device'\n",
      " 'Blunt Object/Striking Implement' 'Firearm (unk type)'\n",
      " 'Mace/Pepper Spray' 'None/Not Applicable' 'Club' 'Firearm'\n",
      " 'Taser/Stun Gun' 'Shotgun' 'Brass Knuckles' 'Automatic Handgun'\n",
      " 'Blackjack'] \n",
      "\n",
      "\n",
      "Officer ID \n",
      " ['7500  ' '5670  ' '4844  ' ... '8749  ' '6983  ' '5917  '] \n",
      "\n",
      "\n",
      "Officer YOB \n",
      " [1984 1965 1961 1963 1977 1973 1985 1986 1964 1959 1979 1981 1969 1983\n",
      " 1966 1968 1987 1952 1970 1976 1972 1982 1991 1988 1971 1978 1990 1975\n",
      " 1967 1992 1962 1980 1948 1989 1953 1974 1960 1958 1994 1995 1993 1996\n",
      " 1900 1997 1957 1955 1954 1956 1946 1949 1951] \n",
      "\n",
      "\n",
      "Officer Gender \n",
      " ['M' 'F' 'N'] \n",
      "\n",
      "\n",
      "Officer Race \n",
      " ['Black or African American' 'White' 'Hispanic or Latino' 'Asian'\n",
      " 'American Indian/Alaska Native' 'Two or More Races' 'Not Specified'\n",
      " 'Nat Hawaiian/Oth Pac Islander' 'Unknown'] \n",
      "\n",
      "\n",
      "Subject Perceived Race \n",
      " ['Asian' 'Unknown' 'White' 'Black or African American' 'Other'\n",
      " 'American Indian or Alaska Native' 'Hispanic' 'Multi-Racial'\n",
      " 'Native Hawaiian or Other Pacific Islander'] \n",
      "\n",
      "\n",
      "Subject Perceived Gender \n",
      " ['Male' 'Unknown' 'Female' 'Unable to Determine'\n",
      " 'Gender Diverse (gender non-conforming and/or transgender)'] \n",
      "\n",
      "\n",
      "Reported Date \n",
      " ['2015-10-16T00:00:00' '2015-03-19T00:00:00' '2015-03-21T00:00:00' ...\n",
      " '2015-03-31T00:00:00' '2015-05-13T00:00:00' '2015-04-14T00:00:00'] \n",
      "\n",
      "\n",
      "Reported Time \n",
      " ['11:32:00' '07:59:00' '19:12:00' ... '08:20:33' '00:41:13' '20:37:41'] \n",
      "\n",
      "\n",
      "Initial Call Type \n",
      " ['Unknown' 'DIST - IP/JO - DV DIST - NO ASLT'\n",
      " 'THEFT (DOES NOT INCLUDE SHOPLIFT OR SVCS)'\n",
      " 'DISTURBANCE, MISCELLANEOUS/OTHER'\n",
      " 'SUSPICIOUS PERSON, VEHICLE OR INCIDENT'\n",
      " 'SUSPICIOUS STOP - OFFICER INITIATED ONVIEW'\n",
      " 'SHOTS - IP/JO - INCLUDES HEARD/NO ASSAULT' 'SHOPLIFT - THEFT'\n",
      " 'NARCOTICS - VIOLATIONS (LOITER, USE, SELL, NARS)'\n",
      " 'MVC - HIT AND RUN (NON INJURY), INCLUDES IP/JO'\n",
      " 'WEAPN-IP/JO-GUN,DEADLY WPN (NO THRT/ASLT/DIST)'\n",
      " 'ASLT - IP/JO - WITH OR W/O WPNS (NO SHOOTINGS)' 'TRESPASS'\n",
      " 'MVC - WITH INJURIES (INCLUDES HIT AND RUN)'\n",
      " 'FIGHT - VERBAL/ORAL (NO WEAPONS)' 'AUTO RECOVERY' 'PROWLER - IP/JO'\n",
      " 'PERSON IN BEHAVIORAL/EMOTIONAL CRISIS'\n",
      " 'FIGHT - IP - PHYSICAL (NO WEAPONS)'\n",
      " 'ROBBERY - IP/JO (INCLUDES STRONG ARM)'\n",
      " 'BURG - IP/JO - RES (INCL UNOCC STRUCTURES)'\n",
      " 'TRAFFIC STOP - OFFICER INITIATED ONVIEW' 'NUISANCE - MISCHIEF'\n",
      " 'HAZ - POTENTIAL THRT TO PHYS SAFETY (NO HAZMAT)'\n",
      " 'WARRANT - MISD WARRANT PICKUP'\n",
      " 'BURG - RES (INCL UNOCC STRUCTURES ON PROP)'\n",
      " 'UNKNOWN - ANI/ALI - LANDLINE (INCLUDES OPEN LINE)'\n",
      " 'SHOTS -DELAY/INCLUDES HEARD/NO ASSAULT'\n",
      " 'ASLT - WITH OR W/O WEAPONS (NO SHOOTINGS)'\n",
      " 'ALARM - COMM, SILENT/AUD BURG (INCL BANKS)'\n",
      " 'CARJACKING - IP/JO - ROBBERY'\n",
      " 'UNKNOWN - ANI/ALI - WRLS PHNS (INCL OPEN LINE)'\n",
      " 'DOWN - CHECK FOR PERSON DOWN' 'TRAFFIC - ROAD RAGE'\n",
      " 'BURG - COMM BURGLARY (INCLUDES SCHOOLS)'\n",
      " 'THREATS (INCLS IN-PERSON/BY PHONE/IN WRITING)' 'WARRANT - FELONY PICKUP'\n",
      " 'DIST - DV - NO ASLT' 'AUTO THEFT - VEH THEFT OR THEFT & RECOVERY'\n",
      " 'SICK PERSON' 'PROPERTY - DAMAGE' 'ASLT - IP/JO - DV' 'ARSON - IP/JO'\n",
      " 'ORDER - IP - VIOLATION OF DV COURT ORDER'\n",
      " 'ROBBERY (INCLUDES STRONG ARM)'\n",
      " 'SEX IN PUBLIC PLACE/VIEW (INCL MASTURBATION)'\n",
      " 'ORDER - VIOLATING DV COURT ORDER'\n",
      " 'ORDER - VIOLATION OF COURT ORDER (NON DV)'\n",
      " 'BURG - IP/JO - COMM BURG (INCLUDES SCHOOLS)'\n",
      " 'TRAFFIC - BLOCKING ROADWAY'\n",
      " 'UNDERCOVER OPS, CAUTION (INCLUDES STAKEOUTS)'\n",
      " 'ASLT - IP/JO - PERSON SHOT OR SHOT AT' 'PANHANDLING, AGGRESSIVE'\n",
      " 'FOLLOW UP' 'DUI - DRIVING UNDER INFLUENCE'\n",
      " 'FIGHT - IP/JO - WITH WEAPONS' 'FIGHT - WITH WEAPONS'\n",
      " 'FIGHT - JO - PHYSICAL (NO WEAPONS)'\n",
      " 'LEWD -  (EXPOSING, FLASHING, URINATING IN PUB)'\n",
      " 'PROPERTY - DAMAGE (GUN RELATED)' 'TRAFFIC - MOVING VIOLATION'\n",
      " 'MVC - UNK INJURIES' 'SFD - ASSIST ON FIRE OR MEDIC RESPONSE'\n",
      " 'PREMISE CHECK, OFFICER INITIATED ONVIEW ONLY'\n",
      " 'ASSIST OTHER AGENCY - ROUTINE SERVICE'\n",
      " 'HARAS - NO BIAS, THREATS OR MALICIOUSNESS' 'ILLEGAL DUMPING'\n",
      " 'LIQUOR VIOLATIONS - ADULT' 'FIREWORKS - NUISANCE (NO HAZARD)'\n",
      " 'UNKNOWN - COMPLAINT OF UNKNOWN NATURE'\n",
      " 'FRAUD - FORGERY,BUNCO, SCAMS, ID THEFT, ETC'\n",
      " 'PROPERTY - FOUND GUN, SHELLCASINGS' 'OPEN - BUILDING, DOOR, ETC.'\n",
      " 'NARCOTICS WARRANT SERVICE' 'WEAPN - GUN,DEADLY WPN (NO THRTS/ASLT/DIST)'\n",
      " 'MVC - NON INJURY, BLOCKING' 'HELP THE OFFICER' 'VICE - PROSTITUTION'\n",
      " 'SERVICE - WELFARE CHECK' 'SUICIDE - IP/JO SUICIDAL PERSON AND ATTEMPTS'\n",
      " 'LIQUOR VIOLATIONS - MINOR' 'PURSE SNATCH - IP/JO - ROBBERY'\n",
      " 'RAPE - IP/JO' 'OVERDOSE - DRUG RELATED CASUALTY'\n",
      " 'AUTO THEFT-IP/JO - VEHICLE, PLATES, TABS' 'PROWLER' 'JUVENILE - RUNAWAY'\n",
      " 'NOISE - DISTURBANCE (PARTY, ETC)' 'PURSE SNATCH - ROBBERY'\n",
      " 'THEFT OF SERVICES' 'JUVENILE - RUNAWAY PICKUP' 'MISSING - CHILD'\n",
      " 'NARCOTICS WARRANT SERVICE - EXECUTED, SECURED' 'ASLT - DV'\n",
      " 'WARRANT - SEARCH. CAUTION (EXCL NARCOTICS)' 'TRAF - ELUDING POLICE'\n",
      " 'FOOT - ELUDING POLICE' 'CHILD - IP/JO - LURING'\n",
      " 'WARRANT - SEARCH. EXECUTED, SECURED' 'CARJACKING - ROBBERY'\n",
      " 'THREATS - DV - NO ASSAULT' 'RAPE' 'ASLT - PERSON SHOT OR SHOT AT'\n",
      " 'CHILD - ABAND, ABUSED, MOLESTED, NEGLECTED'\n",
      " 'ORDER  - SERVICE OF DV COURT ORDER' 'OFF DUTY EMPLOYMENT'\n",
      " 'NOISE - DIST, GENERAL (CONST, RESID, BALL PLAY)'\n",
      " 'ASLT - MOLESTED ADULT (GROPED, FONDLED, ETC.)' 'DEMONSTRATIONS'\n",
      " 'PARKS VIOLATIONS/CITES (INCLUDES EXCLUSIONS)'\n",
      " 'ASSIST PUBLIC - NO WELFARE CHK OR DV ORDER SERVICE'\n",
      " '-ASSIGNED DUTY - FOOT BEAT (FROM ASSIGNED CAR)'\n",
      " 'TRAFFIC - ASSIST MOTORIST'\n",
      " 'CHILD - IP/JO - ABAND, ABUSE, MOLEST, NEGLECT'\n",
      " '-ASSIGNED DUTY - STAKEOUT'\n",
      " 'ALARM - RESIDENTIAL - BURGLARY, SILENT/AUDIBLE'\n",
      " 'PEACE-STANDBY TO ASSURE (NO COURT ORDR SVC)'\n",
      " 'MVC - REPORT, NON INJ/NON BLKG OR AFTER FACT INJ' 'EXPLOSION - IP/JO'\n",
      " 'BURN - RECKLESS BURNING' 'TRU - THEFT'\n",
      " 'ASSIST OTHER AGENCY - EMERGENCY SERVICE' 'BOMB THREATS - IP/JO'\n",
      " 'PARKING VIOLATION (EXCEPT ABANDONED CAR)' 'ARSON - REPORT'\n",
      " 'BIAS -RACIAL, POLITICAL, SEXUAL MOTIVATION' 'PEDESTRIAN VIOLATIONS'\n",
      " 'AWOL - ADULT OR JUVENILE' 'ASSIST SPD - ROUTINE SERVICE'\n",
      " 'DIRECTED PATROL ACTIVITY'\n",
      " 'ALARM - AUDIBLE AUTOMOBILE (UNOCC/ANTI-THEFT)'\n",
      " 'DOWN - CHECK FOR DOWN PERSON' 'LITTERING' 'ALARM - BANK (HOLD-UP)'\n",
      " 'PROPERTY - FOUND' 'CHILD -  LURING' 'NARCOTICS - FOUND' 'FOUND - PERSON'\n",
      " 'AUTO - THEFT/LOSS, PLATES AND/OR TAB' 'SUSPICIOUS PACKAGE'\n",
      " 'ANIMAL - INJURED, DEAD HAZARD, OTHER'\n",
      " 'SUICIDE, SUICIDAL PERSON AND ATTEMPTS' 'REQUEST TO WATCH'\n",
      " 'KNOWN KIDNAPPNG' 'ESCAPE - PRISONER' 'MISSING - ADULT'\n",
      " 'SLEEPER ABOARD BUS/COMMUTER TRAIN'\n",
      " 'PHONE - OBSCENE OR NUISANCE PHONE CALLS'\n",
      " 'ALARM - ATM MACHINE, FREE STANDING'\n",
      " 'ALARM - RESIDENTIAL - SILENT/AUD PANIC/DURESS'\n",
      " 'DOA - CASUALTY, DEAD BODY' 'VICE - PORNOGRAPHY' 'GAMBLING'\n",
      " 'HAZ - IMMINENT THRT TO PHYS SAFETY (NO HAZ MAT)'\n",
      " 'HARBOR - WATER EMERGENCIES'\n",
      " 'INJURED - IP/JO - PERSON/INDUSTRIAL ACCIDENT' 'ANIMAL - IP/JO - BITE'\n",
      " 'UNKNOWN - ANI/ALI - PAY PHNS (INCL OPEN LINE)'\n",
      " 'MISSING - (ALZHEIMER, ENDANGERED, ELDERLY)'\n",
      " 'ORDER - ASSIST DV VIC W/SRVC OF COURT ORDER'\n",
      " 'INJURED -  PERSON/INDUSTRIAL ACCIDENT'\n",
      " 'ALARM - COMM, HOLD-UP/PANIC (EXCEPT BANKS)'\n",
      " 'WARRANT PICKUP - FROM OTHER AGENCY' 'ASSIST SPD - URGENT SERVICE'\n",
      " 'ANIMAL, REPORT - BITE'] \n",
      "\n",
      "\n",
      "Final Call Type \n",
      " ['Unknown' '--DV - ARGUMENTS, DISTURBANCE (NO ARREST)'\n",
      " '--THEFT - CAR PROWL' '--SUSPICIOUS CIRCUM. - SUSPICIOUS PERSON'\n",
      " '--SEX OFFENSES (NON-RAPE) - LEWD CONDUCT' '--PROWLER - TRESPASS'\n",
      " '--WEAPON, PERSON WITH - GUN' '--THEFT - SHOPLIFT' '--NARCOTICS - OTHER'\n",
      " '--TRAFFIC - MV COLLISION INVESTIGATION'\n",
      " '--ASSAULTS - HARASSMENT, THREATS'\n",
      " '--DV - DOMESTIC VIOL/ASLT (ARREST MANDATORY)'\n",
      " '--SUSPICIOUS CIRCUM. - SUSPICIOUS VEHICLE' '--ASSAULTS, OTHER'\n",
      " '--DISTURBANCE - OTHER' '--THEFT - AUTO ACCESSORIES'\n",
      " '--PROPERTY DEST (DAMG)' '--KIDNAP - GENERAL'\n",
      " '--AUTOMOBILES - RECOVERY (THEFT)' '--WARRANT SERVICES - FELONY'\n",
      " '--ROBBERY - STRONG ARM' '--THEFT - BICYCLE'\n",
      " '--TRAFFIC - MOVING VIOLATION' '--WEAPON,PERSON WITH - OTHER WEAPON'\n",
      " 'NUISANCE - MISCHIEF' '--WARRANT SERVICES - MISDEMEANOR'\n",
      " '--THEFT - ALL OTHER' '--SUSPICIOUS CIRCUM. - BUILDING (OPEN DOOR, ETC)'\n",
      " '--ROBBERY - ARMED' '--CRISIS COMPLAINT - GENERAL'\n",
      " '--ALARM-COMM (INC BANK, ATM, SCHOOLS, BSN)' '--DISTURBANCE - FIGHT'\n",
      " '--BURGLARY - RESIDENTIAL OCCUPIED'\n",
      " '--AUTOMOBILES - AUTO THEFT & RECOVERY'\n",
      " '--BURGLARY - NON RESIDENTIAL/COMMERCIAL' '--PERSON - RUNAWAY' 'TRESPASS'\n",
      " 'ROBBERY - IP/JO (INCLUDES STRONG ARM)'\n",
      " 'SUSPICIOUS PERSON, VEHICLE OR INCIDENT' '--PROWLER - GENERAL'\n",
      " '--NARCOTICS - MARIJUANA PUBLIC USE(NOT DISPENSARY)'\n",
      " '--ARSON, BOMBS, EXPLO - RECKLESS BURNING'\n",
      " '--BURGLARY - RESIDENTIAL, UNOCCUPIED'\n",
      " '--DV - ENFORCE COURT ORDER (ARREST MANDATED)'\n",
      " '--AUTOMOBILES - AUTO THEFT' '--TRAFFIC - D.U.I.'\n",
      " '-ASSIGNED DUTY - STAKEOUT' '--ASSAULTS - FIREARM INVOLVED'\n",
      " '--DRIVE BY SHOOTING - NO INJURIES'\n",
      " '--PROPERTY DEST (DAMG) - GRAFFITI (INCLUDES GANG)'\n",
      " '--VICE - PROSTITUTION' '--ANIMAL COMPLAINT - NOISE,STRAY,BITE'\n",
      " '--ASSIST OTHER AGENCY - COUNTY AGENCY' '--NARCOTICS - NARS REPORT'\n",
      " 'PROPERTY - DAMAGE' '--DV - ASSIST VICTIM BY COURT ORDER'\n",
      " '--FRAUD - FRAUD, INCLUDING BUNCO' '--TRAFFIC - REFUSE TO STOP (PURSUIT)'\n",
      " 'DISTURBANCE, MISCELLANEOUS/OTHER'\n",
      " '--BURGLARY - UNOCC STRUC ON RESN PROP'\n",
      " 'PERSON IN BEHAVIORAL/EMOTIONAL CRISIS'\n",
      " '--NARCOTICS - DRUG TRAFFIC LOITERING'\n",
      " 'FIGHT - JO - PHYSICAL (NO WEAPONS)'\n",
      " '--PROWLER - TRESPASS, PARKS EXCLUSION'\n",
      " 'THREATS (INCLS IN-PERSON/BY PHONE/IN WRITING)'\n",
      " '--MISCHIEF OR NUISANCE - GENERAL'\n",
      " '--NARCOTICS - NARCOTICS WARRANT SERVICE'\n",
      " '--INTOX & LIQ VIOLS - ADULTS (VIOLATIONS)' '--DISTURBANCE - NOISE'\n",
      " '--ASSIST OTHER AGENCY - CITY AGENCY'\n",
      " '--PREMISE CHECKS - CRIME PREVENTION' '--FRAUD - FORGERY, BAD CHECKS'\n",
      " 'SHOPLIFT - THEFT' '--MISC MISD AND VIOLS - RECKLESS ENDANGERMENT'\n",
      " 'ASSIST OTHER AGENCY - ROUTINE SERVICE' '--PROPERTY - FOUND PROPERTY'\n",
      " 'FIGHT - IP/JO - WITH WEAPONS' '--HAZARDS - HAZARDS'\n",
      " '--ASSIST OTHER AGENCY - STATE AGENCY'\n",
      " '--DV - DOMESTIC VIOLENCE (ARREST DISCRETIONARY)'\n",
      " '--NARCOTICS - FOUND , RECOVERED NARCOTICS'\n",
      " '--ASSIST PUBLIC - OTHER (NON-SPECIFIED)' '--DISTURBANCE - JUVENILE'\n",
      " '--PERSON - FOUND PERSON' 'SUSPICIOUS STOP - OFFICER INITIATED ONVIEW'\n",
      " '--RAPE - KNOWN SUSPECT (ACQUAINTANCE)'\n",
      " '--CASUALTY NON-TRAF NON-CRIM - DRUG RELATED (OD)'\n",
      " '--INTOX & LIQ VIOLS - MINORS (VIOLATIONS)' '--PERSON - MISSING PERSON'\n",
      " '--CHILD - CHILD ENDANGERMENT' '--HARBOR - ASSIST BOATER (NON EMERG)'\n",
      " '-PRISONER ESCORT - BUSY CODE' 'PURSE SNATCH - IP/JO - ROBBERY'\n",
      " 'WARRANT - FELONY PICKUP' 'BURG - COMM BURGLARY (INCLUDES SCHOOLS)'\n",
      " '--RAPE - UNKNOWN SUSPECT (STRANGER)'\n",
      " '--ARSON,BOMBS,EXPLO - BOMBS, EXPLO,LARGE FIREWORKS'\n",
      " 'SHOTS -DELAY/INCLUDES HEARD/NO ASSAULT'\n",
      " 'BURG - IP/JO - COMM BURG (INCLUDES SCHOOLS)' '--HOMICIDE'\n",
      " 'HAZ - POTENTIAL THRT TO PHYS SAFETY (NO HAZMAT)'\n",
      " '--TRAFFIC - PEDESTRIAN VIOLATION'\n",
      " '--COMMERCIAL SEXUAL EXPLOITATION OF MINORS (CSEC)'\n",
      " '--DV - SERVICE OF COURT ORDER'\n",
      " '-ASSIGNED DUTY - COMMUNITY,SCHOOL,SPECIAL EVENT'\n",
      " '--DV - STANDBY TO ASSURE PEACE' '--DISTURBANCE - NOISE RESIDENTIAL'\n",
      " '--TRAFFIC - ASSIST MOTORIST' '--SEX OFFENSES (RAPE) - MOLESTING'\n",
      " '--MISC MISD AND VIOLS - PARKS EXCLUSION'\n",
      " 'WEAPN - GUN,DEADLY WPN (NO THRTS/ASLT/DIST)'\n",
      " '--ARSON, BOMBS, EXPLO - ARSON'\n",
      " 'ASLT - WITH OR W/O WEAPONS (NO SHOOTINGS)'\n",
      " '--DV - DOMESTIC THREATS BY PHONE OR WRITING'\n",
      " '--CHILD - ABANDONED, ABUSED AND NEGLECTED' 'ASLT - DV'\n",
      " '--TRAFFIC - BLOCKING TRAFFIC' 'FIGHT - IP - PHYSICAL (NO WEAPONS)'\n",
      " 'THEFT (DOES NOT INCLUDE SHOPLIFT OR SVCS)'\n",
      " '--TRAFFIC - PARKING VIOL (EXCEPT ABANDONED CAR)'\n",
      " '--INTOX & LIQ VIOLS - INTOXICATED PERSON'\n",
      " 'ASLT - IP/JO - WITH OR W/O WPNS (NO SHOOTINGS)'\n",
      " '--AUTOMOBILES - LICENSE PLATE(S) THEFT OR LOSS'\n",
      " 'UNKNOWN - COMPLAINT OF UNKNOWN NATURE' '--ASSAULTS - GANG RELATED'\n",
      " 'NARCOTICS - VIOLATIONS (LOITER, USE, SELL, NARS)'\n",
      " '--HARBOR - BOAT ACCIDENT' 'WARRANT - MISD WARRANT PICKUP'\n",
      " '--ALARM-RESIDENTIAL BURG' 'FOLLOW UP'\n",
      " 'BURG - IP/JO - RES (INCL UNOCC STRUCTURES)'\n",
      " 'BURG - RES (INCL UNOCC STRUCTURES ON PROP)' 'MVC - NON INJURY, BLOCKING'\n",
      " 'ASLT - IP/JO - DV' '--TRAFFIC - BICYCLE VIOLATION'\n",
      " 'FIREWORKS - NUISANCE (NO HAZARD)'\n",
      " 'SHOTS - IP/JO - INCLUDES HEARD/NO ASSAULT'\n",
      " 'PREMISE CHECK, OFFICER INITIATED ONVIEW ONLY' 'AUTO RECOVERY'\n",
      " 'ASLT - IP/JO - PERSON SHOT OR SHOT AT'\n",
      " 'SFD - ASSIST ON FIRE OR MEDIC RESPONSE'\n",
      " 'WEAPN-IP/JO-GUN,DEADLY WPN (NO THRT/ASLT/DIST)'\n",
      " 'HOSPITAL GUARD ASSIGNMENT' 'HARAS - NO BIAS, THREATS OR MALICIOUSNESS'\n",
      " '--ALARM-COMM ROBB (BANK, PANIC, DURESS)' '--CROWD MGMNT (STAND BY ONLY)'\n",
      " 'TRAFFIC - BLOCKING ROADWAY' 'MVC - WITH INJURIES (INCLUDES HIT AND RUN)'\n",
      " 'BOMB - THREATS' '--VICE - OTHER' 'DOWN - CHECK FOR PERSON DOWN'\n",
      " '--ASSIST OTHER AGENCY - FEDERAL AGENCY'\n",
      " '--SEX OFFENSES (NON-RAPE) - FAILURE TO REGISTER'\n",
      " '--ALARM-OTHER (VARDA,PDT,FIRE,LOCAL,METRO,ETC))'\n",
      " '--ANIMAL COMPLAINT - INJURED,DEAD,DANGEROUS' 'THEFT OF SERVICES'\n",
      " '--CASUALTY,NON-TRAF,NON-CRIM - NON-DRUG RELATED'\n",
      " 'LIQUOR VIOLATIONS - ADULT' 'SERVICE - WELFARE CHECK'\n",
      " '--ASSAULTS - TELEPHONE, WRITING'\n",
      " '--CRISIS COMPLAINT - PICK-UP OR TRANSPORT'\n",
      " 'ORDER - VIOLATION OF COURT ORDER (NON DV)'\n",
      " 'ROBBERY (INCLUDES STRONG ARM)' '-OFF DUTY EMPLOYMENT'\n",
      " 'ASSIST OTHER AGENCY - EMERGENCY SERVICE'\n",
      " 'DIST - IP/JO - DV DIST - NO ASLT' '--ALARM-RESIDENTIAL PANIC OR DURESS'\n",
      " 'ALARM - COMM, SILENT/AUD BURG (INCL BANKS)'\n",
      " 'AUTO THEFT - VEH THEFT OR THEFT & RECOVERY' 'ESCAPE - PRISONER'\n",
      " '--VICE - GAMBLING' '--DIRECTED PATROL ACTIVITY'\n",
      " 'TRAFFIC STOP - OFFICER INITIATED ONVIEW'\n",
      " '--PREMISE CHECKS - REQUEST TO WATCH'\n",
      " 'PEACE-STANDBY TO ASSURE (NO COURT ORDR SVC)'\n",
      " '--TRAFFIC - COMMUNITY TRAFFIC COMPLAINT (CTC)'\n",
      " 'MVC - HIT AND RUN (NON INJURY), INCLUDES IP/JO'\n",
      " 'LEWD -  (EXPOSING, FLASHING, URINATING IN PUB)'\n",
      " '--PREMISE CHECKS - BUSINESS CHECK' 'MVC - UNK INJURIES'\n",
      " '-ASSIGNED DUTY - FOOT BEAT (FROM ASSIGNED CAR)'\n",
      " 'BURN - RECKLESS BURNING' 'RAPE' 'PROWLER - IP/JO'\n",
      " 'ORDER - VIOLATING DV COURT ORDER' 'NARCOTICS - FOUND'\n",
      " '--PREMISE CHECKS - HOMELESS ENCAMPMENT' 'PROPERTY - FOUND'\n",
      " 'DIST - DV - NO ASLT' '--PROPERTY - MISSING PROPERTY'\n",
      " '--ASSIST PUBLIC - 911 HANG UP, OPEN LINE'\n",
      " 'FIGHT - VERBAL/ORAL (NO WEAPONS)' 'OVERDOSE - DRUG RELATED CASUALTY'\n",
      " 'BIAS -IP/JO - RACIAL, POLITICAL, SEXUAL MOTIVATION'\n",
      " 'BIAS -RACIAL, POLITICAL, SEXUAL MOTIVATION'\n",
      " 'UNDERCOVER OPS, CAUTION (INCLUDES STAKEOUTS)'\n",
      " 'WARRANT PICKUP - FROM OTHER AGENCY'\n",
      " 'SEX IN PUBLIC PLACE/VIEW (INCL MASTURBATION)' 'PROWLER'\n",
      " 'NARCOTICS WARRANT SERVICE' 'DOWN - CHECK FOR DOWN PERSON'\n",
      " 'TRAFFIC - MOVING VIOLATION'\n",
      " 'NOISE - DIST, GENERAL (CONST, RESID, BALL PLAY)'\n",
      " 'DUI - DRIVING UNDER INFLUENCE'] \n",
      "\n",
      "\n",
      "Call Type \n",
      " ['Unknown' '911' 'ONVIEW' 'TELEPHONE OTHER, NOT 911'\n",
      " 'ALARM CALL (NOT POLICE ALARM)' 'TEXT MESSAGE'\n",
      " 'SCHEDULED EVENT (RECURRING)'] \n",
      "\n",
      "\n",
      "Officer Squad \n",
      " ['SOUTH PCT 1ST W - ROBERT' nan 'WEST PCT 3RD W - MARY'\n",
      " 'SOUTH PCT 1ST W - R/S RELIEF' 'WEST PCT 2ND W - MARY BEATS'\n",
      " 'WEST PCT 2ND W - SPECIAL BEATS' 'TRAINING - FIELD TRAINING SQUAD'\n",
      " 'NORTH PCT 3RD W - LINCOLN' 'SOUTH PCT 3RD W - ROBERT'\n",
      " 'NORTH PCT 2ND W - NORA' 'NORTH PCT 2ND WATCH - B/N RELIEF'\n",
      " 'WEST PCT 3RD W - K/Q RELIEF' 'SOUTHWEST PCT 2ND W - WILLIAM'\n",
      " 'WEST PCT OPS - ACT NIGHT' 'WEST PCT 2ND W - KING'\n",
      " 'SOUTHWEST PCT 3RD W - WILLIAM' 'WEST PCT 2ND W - KING BEATS'\n",
      " 'SOUTH PCT OPS - NIGHT ACT' 'WEST PCT 2ND W - D/M RELIEF'\n",
      " 'NORTH PCT 1ST W - LINCOLN' 'NORTH PCT 1ST W - L/U RELIEF'\n",
      " 'WEST PCT 1ST W - KQ/DM RELIEF' 'SOUTH PCT 2ND W - OCEAN RELIEF'\n",
      " 'NORTH PCT OPS - ACT DAY' 'SOUTH PCT 3RD W - OCEAN'\n",
      " 'NORTH PCT 3RD W - NORA' 'WEST PCT 1ST W - DAVID/MARY'\n",
      " 'EAST PCT 2ND W - EDWARD' 'SOUTHWEST PCT 1ST W - FRANK'\n",
      " 'SOUTH PCT 1ST W - SAM' 'SOUTHWEST PCT 1ST W - WILLIAM'\n",
      " 'WEST PCT 2ND W - QUEEN' 'NORTH PCT 3RD W - JOHN'\n",
      " 'SOUTHWEST PCT 2ND WATCH - F/W RELIEF'\n",
      " 'EAST PCT 1ST W - GEORGE (CHARLIE)' 'WEST PCT 2ND W - DAVID BEATS'\n",
      " 'NORTH PCT 2ND W - L/U RELIEF' 'EAST PCT 3RD W - E/G RELIEF'\n",
      " 'EAST PCT 1ST W - EDWARD (CHARLIE)' 'SOUTH PCT 3RD W - SAM'\n",
      " 'EAST PCT 2ND W - CHARLIE RELIEF' 'SOUTH PCT 2ND W - SAM'\n",
      " 'NORTH PCT 3RD W - B/N RELIEF' 'NORTH PCT 1ST W - BOY (JOHN)'\n",
      " 'SOUTH PCT 3RD W - R/S RELIEF' 'NORTH PCT 3RD W - BOY'\n",
      " 'NORTH PCT 2ND W - UNION' 'WEST PCT 2ND W - DAVID'\n",
      " 'SOUTH PCT 3RD W - OCEAN RELIEF' 'SOUTH PCT 2ND W - OCEAN'\n",
      " 'NORTH PCT 1ST W - UNION' 'WEST PCT 3RD W - KING'\n",
      " 'SOUTHWEST PCT OPS - NIGHT ACT' 'NORTH PCT 2ND W - LINCOLN'\n",
      " 'EAST PCT 1ST W - E/G RELIEF (CHARLIE)' 'NORTH PCT 1ST W - NORA (JOHN)'\n",
      " 'EAST PCT 3RD W - EDWARD' 'NARC - PROACTIVE SQUAD C'\n",
      " 'NORTH PCT 2ND W - JOHN RELIEF' 'OPS BUREAU - SPECIAL ASSIGNMENTS'\n",
      " 'NORTH PCT 2ND WATCH - NORTH BEATS' 'EAST PCT 2ND W - CHARLIE'\n",
      " 'MAJOR CRIMES TASK FORCE' 'EAST PCT OPS - NIGHT ACT'\n",
      " 'NORTH PCT 1ST W - B/N RELIEF (JOHN)' 'SOUTHWEST PCT 2ND W - FRANK'\n",
      " 'TRAF - DUI SQUAD' 'NORTH PCT 3RD W - UNION'\n",
      " 'EAST PCT 2ND W - E/G RELIEF' 'EAST PCT 3RD W - GEORGE'\n",
      " 'SOUTHWEST PCT - 3RD WATCH - F/W RELIEF' 'NORTH PCT 2ND W - BOY'\n",
      " 'EAST PCT 2ND W - GEORGE' 'WEST PCT 3RD W - DAVID BEATS'\n",
      " 'SOUTHWEST PCT - 1ST WATCH - F/W RELIEF' 'SOUTH PCT OPS - DAY ACT'\n",
      " 'WEST PCT 2ND W - MARY' 'NORTH PCT 2ND W - JOHN' 'GANG SQUAD B'\n",
      " 'EAST PCT 3RD WATCH - CHARLIE RELIEF' 'SOUTH PCT 2ND W - ROBERT'\n",
      " 'EAST PCT 3RD W - CHARLIE' 'NORTH PCT 3RD W - L/U RELIEF'\n",
      " 'SOUTH PCT OPS - CPT' 'SOUTHWEST PCT 2ND W - SOUTHWEST BEATS'\n",
      " 'SOUTHWEST PCT 3RD W - FRANK' 'TRAINING - LEARNING MANAGEMENT SYSTEM'\n",
      " 'WEST PCT 1ST W - KING/QUEEN' 'WEST PCT OPS - CPT' 'SWAT - NIGHT SQUAD 2'\n",
      " 'CANINE - NIGHT SQUAD' 'SAU SQUAD A' 'NORTH PCT OPS - CPT'\n",
      " 'SOUTH PCT 2ND W - R/S RELIEF' 'CANINE - SQUAD C'\n",
      " 'WEST PCT 2ND W - K/Q RELIEF' 'SOUTH PCT 1ST W - OCEAN'\n",
      " 'EAST PCT 2ND W - BEATS' 'WEST PCT 3RD W - D/M RELIEF'\n",
      " 'WEST PCT 3RD W - DAVID' 'ROBBERY SQUAD B' 'SWAT - DAY SQUAD 2'\n",
      " 'NORTH PCT 3RD W - JOHN RELIEF' 'GANG SQUAD C' 'WEST PCT 3RD W - QUEEN'\n",
      " 'COMM - INTERNET AND TELEPHONE REPORTING (ITRU)' 'CRISIS RESPONSE SQUAD'\n",
      " 'DV SQUAD D - ORDER SERVICE' 'GANG SQUAD A' 'BURG/THEFT/JUV - SOUTH'\n",
      " 'EAST PCT OPS - CPT' 'WEST PCT OPS - SEA CTR' 'SWAT - DAY SQUAD 1'\n",
      " 'HARBOR - SQUAD A' 'SOUTH PCT 2ND W - SAM BEATS'\n",
      " 'EAST PCT 3RD W - EAST BEATS' 'CANINE - SQUAD A' 'TRAF - AM ENFORCEMENT'\n",
      " 'SOUTH PCT OPS - BURG/THEFT' 'AUTO THEFT' 'ROBBERY SQUAD A'\n",
      " 'COMMUNITY OUTREACH UNIT' 'SOUTHWEST PCT OPS - CPT'\n",
      " 'COMMUNITY OUTREACH - YOUTH VIOLENCE -SCHOOLS DETAIL'\n",
      " 'DV SQUAD A - INVESTIGATIONS'\n",
      " 'COMMUNITY OUTREACH - SPECIAL PROJECTS DETAIL'\n",
      " 'CRISIS INTERVENTION COORDINATION SQUAD'\n",
      " 'HR - HUMAN RESOURCES  - DEPT UNAVAIL PERSONNEL' 'BURG/THEFT/JUV - WEST'\n",
      " 'BURG/THEFT/JUV - NORTH' 'BURG/THEFT/JUV - EAST'\n",
      " 'WEST PCT OPS - MOUNTED PATROL' 'PAWN DETAIL' 'JOINT ENFORCEMENT TEAM'\n",
      " 'SOUTHWEST PCT OPS - DAY ACT' 'SOUTHWEST PCT OPS - BURG/THEFT'\n",
      " 'HR - DEPARTMENT UNAVAILABLE PERSONNEL' 'SWAT - NIGHT SQUAD 1'\n",
      " 'NORTH PCT OPS - BURG/THEFT' 'CRG - SQUAD 81E' 'CRG - SQUAD 81D'\n",
      " 'CRG - SQUAD 81B' 'CRG - SQUAD 82A' 'WEST PCT OPS - BURG/THEFT'\n",
      " 'CRG - SQUAD 82D' 'CRG - SQUAD 81C' 'HR - BLEA - ACADEMY RECRUITS'\n",
      " 'CRG - SQUAD 82E' 'PUBLIC AFFAIRS SQUAD' 'TRAF - PM ENFORCEMENT'\n",
      " 'TRAF - COLLISION INVESTIGATION' 'CANINE - DAY SQUAD'\n",
      " 'JOINT ENFORCEMENT TEAM (JET)'\n",
      " 'COMMUNITY OUTREACH - YOUTH VIOLENCE-SCHOOLS DETAIL'\n",
      " 'EAST PCT OPS - BURG/THEFT' 'CRG - SQUAD 81A' 'DV SQUAD C - ELDER ABUSE'\n",
      " 'SAU SQUAD B' 'NAVIGATION TEAM - SQUAD A' 'HARBOR - SQUAD D'\n",
      " 'CRG - SQUAD 82C' 'TRAF - MOTORCYCLE UNIT - T4 SQUAD'\n",
      " 'RECORDS - DAY SHIFT' 'TRAINING - ADVANCED - SQUAD C'\n",
      " 'NORTH PCT 2ND W - PCT SUPPORT' 'TRAF - MOTORCYCLE UNIT - T2 SQUAD'\n",
      " 'VICE - GENERAL INVESTIGATIONS SQUAD' 'NAVIGATION TEAM - SQUAD B'\n",
      " 'ZOLD CRIME ANALYSIS UNIT - ANALYSTS'] \n",
      "\n",
      "\n",
      "Arrest Flag \n",
      " ['N' 'Y'] \n",
      "\n",
      "\n",
      "Frisk Flag \n",
      " ['N' 'Unknown' 'Y'] \n",
      "\n",
      "\n",
      "Precinct \n",
      " ['South' 'Unknown' 'East' 'North' 'West' 'Southwest' 'SouthWest' 'OOJ'\n",
      " 'FK ERROR'] \n",
      "\n",
      "\n",
      "Sector \n",
      " ['O     ' 'Unknown' 'E     ' 'C     ' 'N     ' 'U     ' 'K     ' 'L     '\n",
      " 'G     ' 'F     ' 'R     ' 'W     ' 'J     ' 'M     ' 'D     ' 'S     '\n",
      " 'B     ' 'Q     ' 'K' '99    ' 'Q' 'C' 'O' 'R' 'D' 'G' 'B' 'S' 'U' 'F'\n",
      " 'E' 'W' 'N' 'M' 'J' 'L'] \n",
      "\n",
      "\n",
      "Beat \n",
      " ['O2    ' 'Unknown' 'E2    ' 'C3    ' 'N3    ' 'U1    ' 'K2    ' 'L2    '\n",
      " 'G2    ' 'U2    ' 'N2    ' 'F1    ' 'U3    ' 'F3    ' 'R1    ' 'W3    '\n",
      " 'J2    ' 'M3    ' 'L3    ' 'K1    ' 'D1    ' 'E1    ' 'C2    ' 'S1    '\n",
      " 'L1    ' 'S3    ' 'F2    ' 'G3    ' 'O3    ' 'B3    ' 'Q3    ' 'K3'\n",
      " 'S2    ' 'R2    ' 'Q1    ' 'R3    ' 'J3    ' 'E3    ' 'C1    ' 'N1    '\n",
      " 'W1    ' 'M1    ' 'B2    ' 'W2    ' 'O1    ' 'M2    ' '99    ' 'D3    '\n",
      " 'B1    ' 'D2    ' 'K3    ' 'J1    ' 'Q3' 'K2' 'Q2    ' 'G1    ' 'C2' 'O1'\n",
      " 'O2' 'R2' 'D3' 'C3' 'G2' 'B1' 'S3' 'U2' 'F1' 'E2' 'W2' 'K1' 'E3' 'S2'\n",
      " 'N1' 'U3' 'D1' 'B2' 'C1' 'W1' 'O3' 'M3' 'Q1' 'J2' 'J3' 'F2' 'J1' 'W3'\n",
      " 'N3' 'U1' 'N2' 'G1' 'R1' 'S1' 'D2' 'M1' 'M2' 'F3' 'Q2' 'E1' 'L2' 'L1'\n",
      " 'R3' 'OOJ' 'G3' 'B3' 'L3' '99' 'S     '] \n",
      "\n",
      "\n"
     ]
    }
   ],
   "source": [
    "#look at the unique data of each column\n",
    "for col in df.columns:\n",
    "    print(col, '\\n', df[col].unique(), '\\n\\n')"
   ]
  },
  {
   "cell_type": "code",
   "execution_count": null,
   "metadata": {
    "ExecuteTime": {
     "end_time": "2020-11-23T14:40:40.577051Z",
     "start_time": "2020-11-23T14:40:40.383044Z"
    }
   },
   "outputs": [],
   "source": []
  },
  {
   "cell_type": "code",
   "execution_count": 2259,
   "metadata": {
    "ExecuteTime": {
     "end_time": "2020-11-25T22:13:11.742312Z",
     "start_time": "2020-11-25T22:13:11.601110Z"
    }
   },
   "outputs": [
    {
     "name": "stdout",
     "output_type": "stream",
     "text": [
      "Subject Age Group\n",
      "\n",
      "\n",
      "26 - 35         14905\n",
      "36 - 45          9460\n",
      "18 - 25          9069\n",
      "46 - 55          5768\n",
      "56 and Above     2283\n",
      "1 - 17           1935\n",
      "Unknown          1418\n",
      "Name: Subject Age Group, dtype: int64\n",
      "-------------------------------------------------------\n",
      "\n",
      "\n",
      "Subject ID\n",
      "\n",
      "\n",
      "-1              34700\n",
      " 7726859935        19\n",
      " 7753260438        13\n",
      " 7727117712        12\n",
      " 7727600619         9\n",
      "                ...  \n",
      " 7730602336         1\n",
      " 15879606630        1\n",
      " 7758922092         1\n",
      " 7727677812         1\n",
      " 16219707395        1\n",
      "Name: Subject ID, Length: 7945, dtype: int64\n",
      "-------------------------------------------------------\n",
      "\n",
      "\n",
      "GO / SC Num\n",
      "\n",
      "\n",
      "20150000190790    16\n",
      "20160000378750    16\n",
      "20180000134604    14\n",
      "20190000441736    13\n",
      "20170000132836    13\n",
      "                  ..\n",
      "20180000358142     1\n",
      "20200000180303     1\n",
      "20190000045451     1\n",
      "20170000158799     1\n",
      "20180000071981     1\n",
      "Name: GO / SC Num, Length: 35023, dtype: int64\n",
      "-------------------------------------------------------\n",
      "\n",
      "\n",
      "Terry Stop ID\n",
      "\n",
      "\n",
      "13080077761    3\n",
      "15045077325    3\n",
      "16076863718    2\n",
      "9585545373     2\n",
      "12119304761    2\n",
      "              ..\n",
      "13103094430    1\n",
      "154270         1\n",
      "269792         1\n",
      "97455          1\n",
      "131072         1\n",
      "Name: Terry Stop ID, Length: 44814, dtype: int64\n",
      "-------------------------------------------------------\n",
      "\n",
      "\n",
      "Stop Resolution\n",
      "\n",
      "\n",
      "Field Contact               17968\n",
      "Offense Report              15124\n",
      "Arrest                      10843\n",
      "Referred for Prosecution      728\n",
      "Citation / Infraction         175\n",
      "Name: Stop Resolution, dtype: int64\n",
      "-------------------------------------------------------\n",
      "\n",
      "\n",
      "Weapon Type\n",
      "\n",
      "\n",
      "None                                 32565\n",
      "Unknown                               9671\n",
      "Lethal Cutting Instrument             1482\n",
      "Knife/Cutting/Stabbing Instrument      496\n",
      "Handgun                                281\n",
      "Firearm Other                          100\n",
      "Blunt Object/Striking Implement         66\n",
      "Club, Blackjack, Brass Knuckles         49\n",
      "Firearm                                 34\n",
      "Mace/Pepper Spray                       20\n",
      "Other Firearm                           18\n",
      "Firearm (unk type)                      15\n",
      "Club                                     9\n",
      "Taser/Stun Gun                           7\n",
      "Rifle                                    7\n",
      "None/Not Applicable                      7\n",
      "Fire/Incendiary Device                   4\n",
      "Shotgun                                  3\n",
      "Automatic Handgun                        2\n",
      "Blackjack                                1\n",
      "Brass Knuckles                           1\n",
      "Name: Weapon Type, dtype: int64\n",
      "-------------------------------------------------------\n",
      "\n",
      "\n",
      "Officer ID\n",
      "\n",
      "\n",
      "7456      401\n",
      "7634      339\n",
      "7773      307\n",
      "7765      304\n",
      "7758      299\n",
      "         ... \n",
      "8761        1\n",
      "5937        1\n",
      "6058        1\n",
      "6245        1\n",
      "6830        1\n",
      "Name: Officer ID, Length: 1178, dtype: int64\n",
      "-------------------------------------------------------\n",
      "\n",
      "\n",
      "Officer YOB\n",
      "\n",
      "\n",
      "1986    3153\n",
      "1987    2880\n",
      "1984    2670\n",
      "1991    2590\n",
      "1985    2424\n",
      "1992    2258\n",
      "1990    2128\n",
      "1988    1975\n",
      "1989    1915\n",
      "1982    1811\n",
      "1983    1661\n",
      "1979    1443\n",
      "1981    1366\n",
      "1993    1323\n",
      "1971    1211\n",
      "1978    1117\n",
      "1995     980\n",
      "1976     979\n",
      "1977     977\n",
      "1973     896\n",
      "1994     803\n",
      "1980     785\n",
      "1967     705\n",
      "1968     622\n",
      "1970     576\n",
      "1974     546\n",
      "1969     530\n",
      "1975     519\n",
      "1996     493\n",
      "1962     452\n",
      "1972     414\n",
      "1965     414\n",
      "1964     411\n",
      "1997     327\n",
      "1963     255\n",
      "1966     223\n",
      "1958     218\n",
      "1961     208\n",
      "1959     174\n",
      "1960     161\n",
      "1900      60\n",
      "1954      44\n",
      "1957      43\n",
      "1953      32\n",
      "1955      21\n",
      "1956      17\n",
      "1948      11\n",
      "1952       9\n",
      "1949       5\n",
      "1946       2\n",
      "1951       1\n",
      "Name: Officer YOB, dtype: int64\n",
      "-------------------------------------------------------\n",
      "\n",
      "\n",
      "Officer Gender\n",
      "\n",
      "\n",
      "M    39709\n",
      "F     5100\n",
      "N       29\n",
      "Name: Officer Gender, dtype: int64\n",
      "-------------------------------------------------------\n",
      "\n",
      "\n",
      "Officer Race\n",
      "\n",
      "\n",
      "White                            34109\n",
      "Hispanic or Latino                2547\n",
      "Two or More Races                 2487\n",
      "Asian                             1850\n",
      "Black or African American         1793\n",
      "Not Specified                     1244\n",
      "Nat Hawaiian/Oth Pac Islander      437\n",
      "American Indian/Alaska Native      311\n",
      "Unknown                             60\n",
      "Name: Officer Race, dtype: int64\n",
      "-------------------------------------------------------\n",
      "\n",
      "\n",
      "Subject Perceived Race\n",
      "\n",
      "\n",
      "White                                        21917\n",
      "Black or African American                    13359\n",
      "Unknown                                       4143\n",
      "Hispanic                                      1684\n",
      "Asian                                         1429\n",
      "American Indian or Alaska Native              1303\n",
      "Multi-Racial                                   809\n",
      "Other                                          152\n",
      "Native Hawaiian or Other Pacific Islander       42\n",
      "Name: Subject Perceived Race, dtype: int64\n",
      "-------------------------------------------------------\n",
      "\n",
      "\n",
      "Subject Perceived Gender\n",
      "\n",
      "\n",
      "Male                                                         35055\n",
      "Female                                                        9167\n",
      "Unable to Determine                                            326\n",
      "Unknown                                                        286\n",
      "Gender Diverse (gender non-conforming and/or transgender)        4\n",
      "Name: Subject Perceived Gender, dtype: int64\n",
      "-------------------------------------------------------\n",
      "\n",
      "\n",
      "Reported Date\n",
      "\n",
      "\n",
      "2015-10-01T00:00:00    101\n",
      "2015-09-29T00:00:00     66\n",
      "2015-05-28T00:00:00     57\n",
      "2015-07-18T00:00:00     55\n",
      "2019-04-26T00:00:00     54\n",
      "                      ... \n",
      "2015-05-13T00:00:00      1\n",
      "2015-05-06T00:00:00      1\n",
      "2015-04-14T00:00:00      1\n",
      "2015-05-10T00:00:00      1\n",
      "2015-03-15T00:00:00      1\n",
      "Name: Reported Date, Length: 2064, dtype: int64\n",
      "-------------------------------------------------------\n",
      "\n",
      "\n",
      "Reported Time\n",
      "\n",
      "\n",
      "02:56:00    51\n",
      "19:18:00    51\n",
      "17:00:00    51\n",
      "03:09:00    50\n",
      "03:13:00    50\n",
      "            ..\n",
      "00:31:20     1\n",
      "05:13:57     1\n",
      "00:24:47     1\n",
      "13:04:04     1\n",
      "08:44:18     1\n",
      "Name: Reported Time, Length: 10946, dtype: int64\n",
      "-------------------------------------------------------\n",
      "\n",
      "\n",
      "Initial Call Type\n",
      "\n",
      "\n",
      "Unknown                                           13038\n",
      "SUSPICIOUS STOP - OFFICER INITIATED ONVIEW         2920\n",
      "SUSPICIOUS PERSON, VEHICLE OR INCIDENT             2814\n",
      "DISTURBANCE, MISCELLANEOUS/OTHER                   2302\n",
      "ASLT - IP/JO - WITH OR W/O WPNS (NO SHOOTINGS)     1890\n",
      "                                                  ...  \n",
      "REQUEST TO WATCH                                      1\n",
      "PHONE - OBSCENE OR NUISANCE PHONE CALLS               1\n",
      "DEMONSTRATIONS                                        1\n",
      "MISSING - ADULT                                       1\n",
      "ALARM - ATM MACHINE, FREE STANDING                    1\n",
      "Name: Initial Call Type, Length: 165, dtype: int64\n",
      "-------------------------------------------------------\n",
      "\n",
      "\n",
      "Final Call Type\n",
      "\n",
      "\n",
      "Unknown                                       13038\n",
      "--SUSPICIOUS CIRCUM. - SUSPICIOUS PERSON       3481\n",
      "--PROWLER - TRESPASS                           3126\n",
      "--DISTURBANCE - OTHER                          2549\n",
      "--ASSAULTS, OTHER                              2178\n",
      "                                              ...  \n",
      "-OFF DUTY EMPLOYMENT                              1\n",
      "-ASSIGNED DUTY - STAKEOUT                         1\n",
      "ORDER - VIOLATING DV COURT ORDER                  1\n",
      "FIGHT - VERBAL/ORAL (NO WEAPONS)                  1\n",
      "BIAS -RACIAL, POLITICAL, SEXUAL MOTIVATION        1\n",
      "Name: Final Call Type, Length: 204, dtype: int64\n",
      "-------------------------------------------------------\n",
      "\n",
      "\n",
      "Call Type\n",
      "\n",
      "\n",
      "911                              19891\n",
      "Unknown                          13038\n",
      "ONVIEW                            8493\n",
      "TELEPHONE OTHER, NOT 911          3117\n",
      "ALARM CALL (NOT POLICE ALARM)      292\n",
      "TEXT MESSAGE                         6\n",
      "SCHEDULED EVENT (RECURRING)          1\n",
      "Name: Call Type, dtype: int64\n",
      "-------------------------------------------------------\n",
      "\n",
      "\n",
      "Officer Squad\n",
      "\n",
      "\n",
      "TRAINING - FIELD TRAINING SQUAD                   4756\n",
      "WEST PCT 1ST W - DAVID/MARY                       1470\n",
      "WEST PCT 2ND W - D/M RELIEF                        972\n",
      "SOUTHWEST PCT 2ND W - FRANK                        895\n",
      "NORTH PCT 2ND WATCH - NORTH BEATS                  885\n",
      "                                                  ... \n",
      "TRAF - MOTORCYCLE UNIT - T2 SQUAD                    1\n",
      "VICE - GENERAL INVESTIGATIONS SQUAD                  1\n",
      "BURG/THEFT/JUV - WEST                                1\n",
      "ROBBERY SQUAD B                                      1\n",
      "COMM - INTERNET AND TELEPHONE REPORTING (ITRU)       1\n",
      "Name: Officer Squad, Length: 168, dtype: int64\n",
      "-------------------------------------------------------\n",
      "\n",
      "\n",
      "Arrest Flag\n",
      "\n",
      "\n",
      "N    42203\n",
      "Y     2635\n",
      "Name: Arrest Flag, dtype: int64\n",
      "-------------------------------------------------------\n",
      "\n",
      "\n",
      "Frisk Flag\n",
      "\n",
      "\n",
      "N          34388\n",
      "Y           9972\n",
      "Unknown      478\n",
      "Name: Frisk Flag, dtype: int64\n",
      "-------------------------------------------------------\n",
      "\n",
      "\n",
      "Precinct\n",
      "\n",
      "\n",
      "West         10578\n",
      "Unknown       9932\n",
      "North         9867\n",
      "East          5931\n",
      "South         5349\n",
      "Southwest     2320\n",
      "SouthWest      816\n",
      "OOJ             30\n",
      "FK ERROR        15\n"
     ]
    },
    {
     "name": "stdout",
     "output_type": "stream",
     "text": [
      "Name: Precinct, dtype: int64\n",
      "-------------------------------------------------------\n",
      "\n",
      "\n",
      "Sector\n",
      "\n",
      "\n",
      "Unknown    9930\n",
      "E          2337\n",
      "M          2270\n",
      "N          2191\n",
      "K          1762\n",
      "B          1658\n",
      "L          1639\n",
      "D          1512\n",
      "K          1470\n",
      "R          1455\n",
      "F          1378\n",
      "S          1348\n",
      "U          1302\n",
      "O          1161\n",
      "J          1119\n",
      "G          1087\n",
      "C          1037\n",
      "M          1027\n",
      "Q           967\n",
      "D           957\n",
      "W           941\n",
      "E           801\n",
      "Q           609\n",
      "N           574\n",
      "O           497\n",
      "F           486\n",
      "R           473\n",
      "S           416\n",
      "B           388\n",
      "G           370\n",
      "U           367\n",
      "J           337\n",
      "W           330\n",
      "C           298\n",
      "L           291\n",
      "99           53\n",
      "Name: Sector, dtype: int64\n",
      "-------------------------------------------------------\n",
      "\n",
      "\n",
      "Beat\n",
      "\n",
      "\n",
      "Unknown    9877\n",
      "N3         1175\n",
      "E2         1092\n",
      "M2          852\n",
      "K3          816\n",
      "           ... \n",
      "J2           63\n",
      "99           53\n",
      "99           27\n",
      "OOJ          20\n",
      "S             2\n",
      "Name: Beat, Length: 107, dtype: int64\n",
      "-------------------------------------------------------\n",
      "\n",
      "\n"
     ]
    }
   ],
   "source": [
    "#look at the value counts of each column (not normalized)\n",
    "def col_values(df):\n",
    "    \"\"\"\n",
    "    For use in Preprocessing and cleaning to find placeholder values\n",
    "    Input: Data frame\n",
    "    Output: Counts of unique values for each column\n",
    "    \"\"\"\n",
    "    for col in df.columns:\n",
    "        print(col)\n",
    "        print('\\n')\n",
    "        print(df[col].value_counts())\n",
    "        print('-------------------------------------------------------')\n",
    "        print('\\n')\n",
    "        \n",
    "col_values(df)"
   ]
  },
  {
   "cell_type": "markdown",
   "metadata": {},
   "source": [
    "Initial Thoughts on How to Handle the Columns:\n",
    "\n",
    "**Subject Age Group** none\n",
    "**Subject ID**  drop since subjects are not required to present ID\n",
    "**GO / SC Num**  drop because the numbers may have a one to many relationship\n",
    "**Terry Stop ID**  drop as ID is not important when looking at relationships\n",
    "**Stop Resolution** Categorize to Arrest(1) and Not Arrested(0)\n",
    "**Weapon Type** Categorize to Weapon found at time of Frisk Yes(1) No(0)\n",
    "**Officer ID** Create Bins of 0-99, 100-199, 200-299, 300-399\n",
    "    Q: Were Officers with higher amount of cases/stops having high arrest percentage?\n",
    "**Officer YOB**  Bin the birthdates\n",
    "**Officer Gender**  Categorize to Female(1), Male(0)\n",
    "**Officer Race**  Categorize to White(1), Not-White(0)\n",
    "**Subject Perceived Race**  Drop as this is based on the officers' account and can be biased\n",
    "**Subject Perceived Gender**  Categorize to only Female(1) and Male(0)\n",
    "**Reported Date**  Categorize to Years (maybe bins)\n",
    "**Reported Time**  Categorize to Day and Night shifts\n",
    "**Initial Call Type**  Drop since majority is categorized as unknown\n",
    "**Final Call Type** Drop since majority is categorized as unknown\n",
    "**Call Type**  Categorize as 911(1) and not911(0)\n",
    "**Officer Squad**  Drop too much room for error in trying to evaluate this data set\n",
    "**Arrest Flag** Good\n",
    "**Frisk Flag**  Drop rows with 'unknown' as this is a small amount\n",
    "**Precinct** fix OOJ and FK ERROR. May help with location of dispatched officer\n",
    "**Sector**. May help with location of dispatched officer\n",
    "Beat**  Precinct,Sector and Beat are together with identifying location of dispatch"
   ]
  },
  {
   "cell_type": "code",
   "execution_count": 2260,
   "metadata": {
    "ExecuteTime": {
     "end_time": "2020-11-25T22:13:11.750787Z",
     "start_time": "2020-11-25T22:13:11.746527Z"
    }
   },
   "outputs": [
    {
     "name": "stdout",
     "output_type": "stream",
     "text": [
      "Subject Age Group\n",
      "Subject ID\n",
      "GO / SC Num\n",
      "Terry Stop ID\n",
      "Stop Resolution\n",
      "Weapon Type\n",
      "Officer ID\n",
      "Officer YOB\n",
      "Officer Gender\n",
      "Officer Race\n",
      "Subject Perceived Race\n",
      "Subject Perceived Gender\n",
      "Reported Date\n",
      "Reported Time\n",
      "Initial Call Type\n",
      "Final Call Type\n",
      "Call Type\n",
      "Officer Squad\n",
      "Arrest Flag\n",
      "Frisk Flag\n",
      "Precinct\n",
      "Sector\n",
      "Beat\n"
     ]
    }
   ],
   "source": [
    "# show names of columns\n",
    "for col in df.columns:\n",
    "    print(col)"
   ]
  },
  {
   "cell_type": "markdown",
   "metadata": {},
   "source": [
    "Make the columns python friendly "
   ]
  },
  {
   "cell_type": "code",
   "execution_count": 2261,
   "metadata": {
    "ExecuteTime": {
     "end_time": "2020-11-25T22:13:11.764846Z",
     "start_time": "2020-11-25T22:13:11.756729Z"
    }
   },
   "outputs": [
    {
     "data": {
      "text/plain": [
       "Index(['subject_age_group', 'subject_id', 'go_sc_num', 'terry_stop_id',\n",
       "       'stop_resolution', 'weapon_type', 'officer_id', 'officer_yob',\n",
       "       'officer_gender', 'officer_race', 'subject_perceived_race',\n",
       "       'subject_perceived_gender', 'reported_date', 'reported_time',\n",
       "       'initial_call_type', 'final_call_type', 'call_type', 'officer_squad',\n",
       "       'arrest_flag', 'frisk_flag', 'precinct', 'sector', 'beat'],\n",
       "      dtype='object')"
      ]
     },
     "execution_count": 2261,
     "metadata": {},
     "output_type": "execute_result"
    }
   ],
   "source": [
    "df.columns = ['subject_age_group', 'subject_id', 'go_sc_num', 'terry_stop_id',\n",
    "       'stop_resolution', 'weapon_type', 'officer_id', 'officer_yob',\n",
    "       'officer_gender', 'officer_race', 'subject_perceived_race',\n",
    "       'subject_perceived_gender', 'reported_date', 'reported_time',\n",
    "       'initial_call_type', 'final_call_type', 'call_type', 'officer_squad',\n",
    "       'arrest_flag', 'frisk_flag', 'precinct', 'sector', 'beat']\n",
    "df.columns\n"
   ]
  },
  {
   "cell_type": "code",
   "execution_count": null,
   "metadata": {},
   "outputs": [],
   "source": []
  },
  {
   "cell_type": "code",
   "execution_count": 2262,
   "metadata": {
    "ExecuteTime": {
     "end_time": "2020-11-25T22:13:11.775094Z",
     "start_time": "2020-11-25T22:13:11.769005Z"
    }
   },
   "outputs": [],
   "source": [
    "def replace_val(df, column, old, new):\n",
    "        \"\"\"\n",
    "        Input: data frame, specific column, list (must in list format, even if \n",
    "        it's a single value) of values you would like to change (old), and a \n",
    "        new value to replace each item with.\n",
    "        \n",
    "        Output: Data frame with each old value in list changed to the new \n",
    "        value.\n",
    "        \"\"\"\n",
    "        \n",
    "        for i in range(len(df[column])):\n",
    "            for j in range(len(old)): \n",
    "                if df[column].iloc[i] == old[j]:\n",
    "                    df[column].iloc[i] = df[column].iloc[i].replace(old[j], \n",
    "                                                                    new)"
   ]
  },
  {
   "cell_type": "code",
   "execution_count": 2263,
   "metadata": {
    "ExecuteTime": {
     "end_time": "2020-11-25T22:13:32.495226Z",
     "start_time": "2020-11-25T22:13:32.483264Z"
    }
   },
   "outputs": [
    {
     "data": {
      "text/plain": [
       "26 - 35         14905\n",
       "36 - 45          9460\n",
       "18 - 25          9069\n",
       "46 - 55          5768\n",
       "56 and Above     2283\n",
       "1 - 17           1935\n",
       "Unknown          1418\n",
       "Name: subject_age_group, dtype: int64"
      ]
     },
     "execution_count": 2263,
     "metadata": {},
     "output_type": "execute_result"
    }
   ],
   "source": [
    "df.subject_age_group.value_counts()"
   ]
  },
  {
   "cell_type": "code",
   "execution_count": 2264,
   "metadata": {
    "ExecuteTime": {
     "end_time": "2020-11-25T22:13:32.480931Z",
     "start_time": "2020-11-25T22:13:11.794627Z"
    }
   },
   "outputs": [],
   "source": [
    "replace_val(df, 'subject_age_group', ['26 - 35'], '26_35')\n",
    "replace_val(df, 'subject_age_group', ['18 - 25'], '18_25')\n",
    "replace_val(df, 'subject_age_group', ['36 - 45'], '36_45')\n",
    "replace_val(df, 'subject_age_group', ['46 - 55'], '46_55')\n",
    "replace_val(df, 'subject_age_group', ['56 and Above'], '56_100')\n",
    "replace_val(df, 'subject_age_group', ['1 - 17'], '1_17')\n",
    "replace_val(df, 'subject_age_group', ['Unknown'], '26_35')"
   ]
  },
  {
   "cell_type": "code",
   "execution_count": null,
   "metadata": {},
   "outputs": [],
   "source": []
  },
  {
   "cell_type": "code",
   "execution_count": 2265,
   "metadata": {
    "ExecuteTime": {
     "end_time": "2020-11-25T22:13:32.495226Z",
     "start_time": "2020-11-25T22:13:32.483264Z"
    }
   },
   "outputs": [
    {
     "data": {
      "text/plain": [
       "26_35     16323\n",
       "36_45      9460\n",
       "18_25      9069\n",
       "46_55      5768\n",
       "56_100     2283\n",
       "1_17       1935\n",
       "Name: subject_age_group, dtype: int64"
      ]
     },
     "execution_count": 2265,
     "metadata": {},
     "output_type": "execute_result"
    }
   ],
   "source": [
    "df.subject_age_group.value_counts()"
   ]
  },
  {
   "cell_type": "markdown",
   "metadata": {},
   "source": [
    "## **Scrubbing**"
   ]
  },
  {
   "cell_type": "code",
   "execution_count": 2266,
   "metadata": {
    "ExecuteTime": {
     "end_time": "2020-11-25T22:13:32.544762Z",
     "start_time": "2020-11-25T22:13:32.498099Z"
    }
   },
   "outputs": [
    {
     "name": "stdout",
     "output_type": "stream",
     "text": [
      "<class 'pandas.core.frame.DataFrame'>\n",
      "RangeIndex: 44838 entries, 0 to 44837\n",
      "Data columns (total 23 columns):\n",
      " #   Column                    Non-Null Count  Dtype \n",
      "---  ------                    --------------  ----- \n",
      " 0   subject_age_group         44838 non-null  object\n",
      " 1   subject_id                44838 non-null  int64 \n",
      " 2   go_sc_num                 44838 non-null  int64 \n",
      " 3   terry_stop_id             44838 non-null  int64 \n",
      " 4   stop_resolution           44838 non-null  object\n",
      " 5   weapon_type               44838 non-null  object\n",
      " 6   officer_id                44838 non-null  object\n",
      " 7   officer_yob               44838 non-null  int64 \n",
      " 8   officer_gender            44838 non-null  object\n",
      " 9   officer_race              44838 non-null  object\n",
      " 10  subject_perceived_race    44838 non-null  object\n",
      " 11  subject_perceived_gender  44838 non-null  object\n",
      " 12  reported_date             44838 non-null  object\n",
      " 13  reported_time             44838 non-null  object\n",
      " 14  initial_call_type         44838 non-null  object\n",
      " 15  final_call_type           44838 non-null  object\n",
      " 16  call_type                 44838 non-null  object\n",
      " 17  officer_squad             44258 non-null  object\n",
      " 18  arrest_flag               44838 non-null  object\n",
      " 19  frisk_flag                44838 non-null  object\n",
      " 20  precinct                  44838 non-null  object\n",
      " 21  sector                    44838 non-null  object\n",
      " 22  beat                      44838 non-null  object\n",
      "dtypes: int64(4), object(19)\n",
      "memory usage: 7.9+ MB\n"
     ]
    }
   ],
   "source": [
    "df.info()"
   ]
  },
  {
   "cell_type": "code",
   "execution_count": null,
   "metadata": {},
   "outputs": [],
   "source": []
  },
  {
   "cell_type": "code",
   "execution_count": 2267,
   "metadata": {
    "ExecuteTime": {
     "end_time": "2020-11-25T22:13:32.574902Z",
     "start_time": "2020-11-25T22:13:32.547567Z"
    }
   },
   "outputs": [
    {
     "data": {
      "text/html": [
       "<div>\n",
       "<style scoped>\n",
       "    .dataframe tbody tr th:only-of-type {\n",
       "        vertical-align: middle;\n",
       "    }\n",
       "\n",
       "    .dataframe tbody tr th {\n",
       "        vertical-align: top;\n",
       "    }\n",
       "\n",
       "    .dataframe thead th {\n",
       "        text-align: right;\n",
       "    }\n",
       "</style>\n",
       "<table border=\"1\" class=\"dataframe\">\n",
       "  <thead>\n",
       "    <tr style=\"text-align: right;\">\n",
       "      <th></th>\n",
       "      <th>subject_age_group</th>\n",
       "      <th>subject_id</th>\n",
       "      <th>go_sc_num</th>\n",
       "      <th>terry_stop_id</th>\n",
       "      <th>stop_resolution</th>\n",
       "      <th>weapon_type</th>\n",
       "      <th>officer_id</th>\n",
       "      <th>officer_yob</th>\n",
       "      <th>officer_gender</th>\n",
       "      <th>officer_race</th>\n",
       "      <th>...</th>\n",
       "      <th>reported_time</th>\n",
       "      <th>initial_call_type</th>\n",
       "      <th>final_call_type</th>\n",
       "      <th>call_type</th>\n",
       "      <th>officer_squad</th>\n",
       "      <th>arrest_flag</th>\n",
       "      <th>frisk_flag</th>\n",
       "      <th>precinct</th>\n",
       "      <th>sector</th>\n",
       "      <th>beat</th>\n",
       "    </tr>\n",
       "  </thead>\n",
       "  <tbody>\n",
       "    <tr>\n",
       "      <th>0</th>\n",
       "      <td>26_35</td>\n",
       "      <td>-1</td>\n",
       "      <td>20140000120677</td>\n",
       "      <td>92317</td>\n",
       "      <td>Arrest</td>\n",
       "      <td>None</td>\n",
       "      <td>7500</td>\n",
       "      <td>1984</td>\n",
       "      <td>M</td>\n",
       "      <td>Black or African American</td>\n",
       "      <td>...</td>\n",
       "      <td>11:32:00</td>\n",
       "      <td>Unknown</td>\n",
       "      <td>Unknown</td>\n",
       "      <td>Unknown</td>\n",
       "      <td>SOUTH PCT 1ST W - ROBERT</td>\n",
       "      <td>N</td>\n",
       "      <td>N</td>\n",
       "      <td>South</td>\n",
       "      <td>O</td>\n",
       "      <td>O2</td>\n",
       "    </tr>\n",
       "    <tr>\n",
       "      <th>1</th>\n",
       "      <td>26_35</td>\n",
       "      <td>-1</td>\n",
       "      <td>20150000001463</td>\n",
       "      <td>28806</td>\n",
       "      <td>Field Contact</td>\n",
       "      <td>None</td>\n",
       "      <td>5670</td>\n",
       "      <td>1965</td>\n",
       "      <td>M</td>\n",
       "      <td>White</td>\n",
       "      <td>...</td>\n",
       "      <td>07:59:00</td>\n",
       "      <td>Unknown</td>\n",
       "      <td>Unknown</td>\n",
       "      <td>Unknown</td>\n",
       "      <td>NaN</td>\n",
       "      <td>N</td>\n",
       "      <td>N</td>\n",
       "      <td>Unknown</td>\n",
       "      <td>Unknown</td>\n",
       "      <td>Unknown</td>\n",
       "    </tr>\n",
       "    <tr>\n",
       "      <th>2</th>\n",
       "      <td>26_35</td>\n",
       "      <td>-1</td>\n",
       "      <td>20150000001516</td>\n",
       "      <td>29599</td>\n",
       "      <td>Field Contact</td>\n",
       "      <td>None</td>\n",
       "      <td>4844</td>\n",
       "      <td>1961</td>\n",
       "      <td>M</td>\n",
       "      <td>White</td>\n",
       "      <td>...</td>\n",
       "      <td>19:12:00</td>\n",
       "      <td>Unknown</td>\n",
       "      <td>Unknown</td>\n",
       "      <td>Unknown</td>\n",
       "      <td>NaN</td>\n",
       "      <td>N</td>\n",
       "      <td>Unknown</td>\n",
       "      <td>Unknown</td>\n",
       "      <td>Unknown</td>\n",
       "      <td>Unknown</td>\n",
       "    </tr>\n",
       "    <tr>\n",
       "      <th>3</th>\n",
       "      <td>26_35</td>\n",
       "      <td>-1</td>\n",
       "      <td>20150000001670</td>\n",
       "      <td>32260</td>\n",
       "      <td>Field Contact</td>\n",
       "      <td>None</td>\n",
       "      <td>7539</td>\n",
       "      <td>1963</td>\n",
       "      <td>M</td>\n",
       "      <td>White</td>\n",
       "      <td>...</td>\n",
       "      <td>04:55:00</td>\n",
       "      <td>Unknown</td>\n",
       "      <td>Unknown</td>\n",
       "      <td>Unknown</td>\n",
       "      <td>NaN</td>\n",
       "      <td>N</td>\n",
       "      <td>N</td>\n",
       "      <td>Unknown</td>\n",
       "      <td>Unknown</td>\n",
       "      <td>Unknown</td>\n",
       "    </tr>\n",
       "    <tr>\n",
       "      <th>4</th>\n",
       "      <td>26_35</td>\n",
       "      <td>-1</td>\n",
       "      <td>20150000001739</td>\n",
       "      <td>33155</td>\n",
       "      <td>Field Contact</td>\n",
       "      <td>None</td>\n",
       "      <td>6973</td>\n",
       "      <td>1977</td>\n",
       "      <td>M</td>\n",
       "      <td>White</td>\n",
       "      <td>...</td>\n",
       "      <td>00:41:00</td>\n",
       "      <td>Unknown</td>\n",
       "      <td>Unknown</td>\n",
       "      <td>Unknown</td>\n",
       "      <td>NaN</td>\n",
       "      <td>N</td>\n",
       "      <td>N</td>\n",
       "      <td>Unknown</td>\n",
       "      <td>Unknown</td>\n",
       "      <td>Unknown</td>\n",
       "    </tr>\n",
       "  </tbody>\n",
       "</table>\n",
       "<p>5 rows × 23 columns</p>\n",
       "</div>"
      ],
      "text/plain": [
       "  subject_age_group  subject_id       go_sc_num  terry_stop_id  \\\n",
       "0             26_35          -1  20140000120677          92317   \n",
       "1             26_35          -1  20150000001463          28806   \n",
       "2             26_35          -1  20150000001516          29599   \n",
       "3             26_35          -1  20150000001670          32260   \n",
       "4             26_35          -1  20150000001739          33155   \n",
       "\n",
       "  stop_resolution weapon_type officer_id  officer_yob officer_gender  \\\n",
       "0          Arrest        None     7500           1984              M   \n",
       "1   Field Contact        None     5670           1965              M   \n",
       "2   Field Contact        None     4844           1961              M   \n",
       "3   Field Contact        None     7539           1963              M   \n",
       "4   Field Contact        None     6973           1977              M   \n",
       "\n",
       "                officer_race  ... reported_time initial_call_type  \\\n",
       "0  Black or African American  ...      11:32:00           Unknown   \n",
       "1                      White  ...      07:59:00           Unknown   \n",
       "2                      White  ...      19:12:00           Unknown   \n",
       "3                      White  ...      04:55:00           Unknown   \n",
       "4                      White  ...      00:41:00           Unknown   \n",
       "\n",
       "  final_call_type call_type             officer_squad arrest_flag frisk_flag  \\\n",
       "0         Unknown   Unknown  SOUTH PCT 1ST W - ROBERT           N          N   \n",
       "1         Unknown   Unknown                       NaN           N          N   \n",
       "2         Unknown   Unknown                       NaN           N    Unknown   \n",
       "3         Unknown   Unknown                       NaN           N          N   \n",
       "4         Unknown   Unknown                       NaN           N          N   \n",
       "\n",
       "  precinct   sector     beat  \n",
       "0    South   O        O2      \n",
       "1  Unknown  Unknown  Unknown  \n",
       "2  Unknown  Unknown  Unknown  \n",
       "3  Unknown  Unknown  Unknown  \n",
       "4  Unknown  Unknown  Unknown  \n",
       "\n",
       "[5 rows x 23 columns]"
      ]
     },
     "execution_count": 2267,
     "metadata": {},
     "output_type": "execute_result"
    }
   ],
   "source": [
    "df.head()"
   ]
  },
  {
   "cell_type": "code",
   "execution_count": 2268,
   "metadata": {
    "ExecuteTime": {
     "end_time": "2020-11-25T22:13:32.579557Z",
     "start_time": "2020-11-25T22:13:32.577118Z"
    }
   },
   "outputs": [],
   "source": [
    "# df = df.drop(['go_sc_num','terry_stop_id','officer_id','sector','beat'], axis=1)\n",
    "# df.columns"
   ]
  },
  {
   "cell_type": "markdown",
   "metadata": {},
   "source": [
    "### Subject ID"
   ]
  },
  {
   "cell_type": "markdown",
   "metadata": {},
   "source": [
    "Will need to feature engineer this to make a column for repeat offenders and drop subject_id"
   ]
  },
  {
   "cell_type": "code",
   "execution_count": 2269,
   "metadata": {
    "ExecuteTime": {
     "end_time": "2020-11-25T22:13:46.894389Z",
     "start_time": "2020-11-25T22:13:32.582035Z"
    }
   },
   "outputs": [
    {
     "data": {
      "text/plain": [
       "N    34700\n",
       "Y    10138\n",
       "Name: repeat_offenders, dtype: int64"
      ]
     },
     "execution_count": 2269,
     "metadata": {},
     "output_type": "execute_result"
    }
   ],
   "source": [
    "import numpy as np\n",
    "\n",
    "df['repeat_offenders'] = np.nan\n",
    "\n",
    "for i in range(len(df['subject_id'])):\n",
    "    if df['subject_id'].iloc[i] > 1:\n",
    "        df['repeat_offenders'].iloc[i] = 'Y'\n",
    "    else:\n",
    "        df['repeat_offenders'].iloc[i] = 'N'\n",
    "\n",
    "df['repeat_offenders'].value_counts()"
   ]
  },
  {
   "cell_type": "code",
   "execution_count": 2270,
   "metadata": {
    "ExecuteTime": {
     "end_time": "2020-11-25T22:13:46.904533Z",
     "start_time": "2020-11-25T22:13:46.896415Z"
    }
   },
   "outputs": [
    {
     "data": {
      "text/plain": [
       "-1              34700\n",
       " 7726859935        19\n",
       " 7753260438        13\n",
       " 7727117712        12\n",
       " 7727600619         9\n",
       "                ...  \n",
       " 7730602336         1\n",
       " 15879606630        1\n",
       " 7758922092         1\n",
       " 7727677812         1\n",
       " 16219707395        1\n",
       "Name: subject_id, Length: 7945, dtype: int64"
      ]
     },
     "execution_count": 2270,
     "metadata": {},
     "output_type": "execute_result"
    }
   ],
   "source": [
    "df.subject_id.value_counts()"
   ]
  },
  {
   "cell_type": "code",
   "execution_count": 2271,
   "metadata": {
    "ExecuteTime": {
     "end_time": "2020-11-25T22:13:46.929246Z",
     "start_time": "2020-11-25T22:13:46.906684Z"
    }
   },
   "outputs": [
    {
     "data": {
      "text/plain": [
       "unassigned     34700\n",
       "7726859935        19\n",
       "7753260438        13\n",
       "7727117712        12\n",
       "7727600619         9\n",
       "               ...  \n",
       "7727409564         1\n",
       "10372082077        1\n",
       "7726246304         1\n",
       "7726914788         1\n",
       "7729725441         1\n",
       "Name: subject_id, Length: 7945, dtype: int64"
      ]
     },
     "execution_count": 2271,
     "metadata": {},
     "output_type": "execute_result"
    }
   ],
   "source": [
    "df['subject_id'] = df.subject_id.replace(-1, 'unassigned')\n",
    "df.subject_id.value_counts()"
   ]
  },
  {
   "cell_type": "code",
   "execution_count": null,
   "metadata": {
    "ExecuteTime": {
     "end_time": "2020-11-24T02:30:18.864999Z",
     "start_time": "2020-11-24T02:30:18.835002Z"
    }
   },
   "outputs": [],
   "source": []
  },
  {
   "cell_type": "markdown",
   "metadata": {},
   "source": [
    "## General Offense/Street Check Number (go_sc_num)"
   ]
  },
  {
   "cell_type": "code",
   "execution_count": 2272,
   "metadata": {
    "ExecuteTime": {
     "end_time": "2020-11-25T22:13:46.941632Z",
     "start_time": "2020-11-25T22:13:46.931832Z"
    }
   },
   "outputs": [
    {
     "data": {
      "text/plain": [
       "20150000190790    16\n",
       "20160000378750    16\n",
       "20180000134604    14\n",
       "20190000441736    13\n",
       "20170000132836    13\n",
       "                  ..\n",
       "20180000358142     1\n",
       "20200000180303     1\n",
       "20190000045451     1\n",
       "20170000158799     1\n",
       "20180000071981     1\n",
       "Name: go_sc_num, Length: 35023, dtype: int64"
      ]
     },
     "execution_count": 2272,
     "metadata": {},
     "output_type": "execute_result"
    }
   ],
   "source": [
    "df.go_sc_num.value_counts()"
   ]
  },
  {
   "cell_type": "code",
   "execution_count": 2273,
   "metadata": {
    "ExecuteTime": {
     "end_time": "2020-11-25T22:13:47.000496Z",
     "start_time": "2020-11-25T22:13:46.946413Z"
    }
   },
   "outputs": [
    {
     "data": {
      "text/html": [
       "<div>\n",
       "<style scoped>\n",
       "    .dataframe tbody tr th:only-of-type {\n",
       "        vertical-align: middle;\n",
       "    }\n",
       "\n",
       "    .dataframe tbody tr th {\n",
       "        vertical-align: top;\n",
       "    }\n",
       "\n",
       "    .dataframe thead th {\n",
       "        text-align: right;\n",
       "    }\n",
       "</style>\n",
       "<table border=\"1\" class=\"dataframe\">\n",
       "  <thead>\n",
       "    <tr style=\"text-align: right;\">\n",
       "      <th></th>\n",
       "      <th>subject_age_group</th>\n",
       "      <th>subject_id</th>\n",
       "      <th>go_sc_num</th>\n",
       "      <th>terry_stop_id</th>\n",
       "      <th>stop_resolution</th>\n",
       "      <th>weapon_type</th>\n",
       "      <th>officer_id</th>\n",
       "      <th>officer_yob</th>\n",
       "      <th>officer_gender</th>\n",
       "      <th>officer_race</th>\n",
       "      <th>...</th>\n",
       "      <th>initial_call_type</th>\n",
       "      <th>final_call_type</th>\n",
       "      <th>call_type</th>\n",
       "      <th>officer_squad</th>\n",
       "      <th>arrest_flag</th>\n",
       "      <th>frisk_flag</th>\n",
       "      <th>precinct</th>\n",
       "      <th>sector</th>\n",
       "      <th>beat</th>\n",
       "      <th>repeat_offenders</th>\n",
       "    </tr>\n",
       "  </thead>\n",
       "  <tbody>\n",
       "    <tr>\n",
       "      <th>6595</th>\n",
       "      <td>18_25</td>\n",
       "      <td>unassigned</td>\n",
       "      <td>20160000378750</td>\n",
       "      <td>208302</td>\n",
       "      <td>Offense Report</td>\n",
       "      <td>None</td>\n",
       "      <td>7492</td>\n",
       "      <td>1983</td>\n",
       "      <td>M</td>\n",
       "      <td>White</td>\n",
       "      <td>...</td>\n",
       "      <td>Unknown</td>\n",
       "      <td>Unknown</td>\n",
       "      <td>Unknown</td>\n",
       "      <td>NORTH PCT 3RD W - LINCOLN</td>\n",
       "      <td>N</td>\n",
       "      <td>Y</td>\n",
       "      <td>North</td>\n",
       "      <td>N</td>\n",
       "      <td>N3</td>\n",
       "      <td>N</td>\n",
       "    </tr>\n",
       "    <tr>\n",
       "      <th>6596</th>\n",
       "      <td>18_25</td>\n",
       "      <td>unassigned</td>\n",
       "      <td>20160000378750</td>\n",
       "      <td>208311</td>\n",
       "      <td>Arrest</td>\n",
       "      <td>None</td>\n",
       "      <td>7492</td>\n",
       "      <td>1983</td>\n",
       "      <td>M</td>\n",
       "      <td>White</td>\n",
       "      <td>...</td>\n",
       "      <td>Unknown</td>\n",
       "      <td>Unknown</td>\n",
       "      <td>Unknown</td>\n",
       "      <td>NORTH PCT 3RD W - LINCOLN</td>\n",
       "      <td>N</td>\n",
       "      <td>Y</td>\n",
       "      <td>North</td>\n",
       "      <td>N</td>\n",
       "      <td>N3</td>\n",
       "      <td>N</td>\n",
       "    </tr>\n",
       "    <tr>\n",
       "      <th>16761</th>\n",
       "      <td>26_35</td>\n",
       "      <td>unassigned</td>\n",
       "      <td>20160000378750</td>\n",
       "      <td>208300</td>\n",
       "      <td>Offense Report</td>\n",
       "      <td>None</td>\n",
       "      <td>7492</td>\n",
       "      <td>1983</td>\n",
       "      <td>M</td>\n",
       "      <td>White</td>\n",
       "      <td>...</td>\n",
       "      <td>Unknown</td>\n",
       "      <td>Unknown</td>\n",
       "      <td>Unknown</td>\n",
       "      <td>NORTH PCT 3RD W - LINCOLN</td>\n",
       "      <td>N</td>\n",
       "      <td>Y</td>\n",
       "      <td>North</td>\n",
       "      <td>N</td>\n",
       "      <td>N3</td>\n",
       "      <td>N</td>\n",
       "    </tr>\n",
       "    <tr>\n",
       "      <th>16762</th>\n",
       "      <td>26_35</td>\n",
       "      <td>unassigned</td>\n",
       "      <td>20160000378750</td>\n",
       "      <td>208301</td>\n",
       "      <td>Offense Report</td>\n",
       "      <td>None</td>\n",
       "      <td>7492</td>\n",
       "      <td>1983</td>\n",
       "      <td>M</td>\n",
       "      <td>White</td>\n",
       "      <td>...</td>\n",
       "      <td>Unknown</td>\n",
       "      <td>Unknown</td>\n",
       "      <td>Unknown</td>\n",
       "      <td>NORTH PCT 3RD W - LINCOLN</td>\n",
       "      <td>N</td>\n",
       "      <td>Y</td>\n",
       "      <td>North</td>\n",
       "      <td>N</td>\n",
       "      <td>N3</td>\n",
       "      <td>N</td>\n",
       "    </tr>\n",
       "    <tr>\n",
       "      <th>16763</th>\n",
       "      <td>26_35</td>\n",
       "      <td>unassigned</td>\n",
       "      <td>20160000378750</td>\n",
       "      <td>208303</td>\n",
       "      <td>Offense Report</td>\n",
       "      <td>None</td>\n",
       "      <td>7492</td>\n",
       "      <td>1983</td>\n",
       "      <td>M</td>\n",
       "      <td>White</td>\n",
       "      <td>...</td>\n",
       "      <td>Unknown</td>\n",
       "      <td>Unknown</td>\n",
       "      <td>Unknown</td>\n",
       "      <td>NORTH PCT 3RD W - LINCOLN</td>\n",
       "      <td>N</td>\n",
       "      <td>Y</td>\n",
       "      <td>North</td>\n",
       "      <td>N</td>\n",
       "      <td>N3</td>\n",
       "      <td>N</td>\n",
       "    </tr>\n",
       "    <tr>\n",
       "      <th>16764</th>\n",
       "      <td>26_35</td>\n",
       "      <td>unassigned</td>\n",
       "      <td>20160000378750</td>\n",
       "      <td>208307</td>\n",
       "      <td>Offense Report</td>\n",
       "      <td>None</td>\n",
       "      <td>7492</td>\n",
       "      <td>1983</td>\n",
       "      <td>M</td>\n",
       "      <td>White</td>\n",
       "      <td>...</td>\n",
       "      <td>Unknown</td>\n",
       "      <td>Unknown</td>\n",
       "      <td>Unknown</td>\n",
       "      <td>NORTH PCT 3RD W - LINCOLN</td>\n",
       "      <td>N</td>\n",
       "      <td>Y</td>\n",
       "      <td>North</td>\n",
       "      <td>N</td>\n",
       "      <td>N3</td>\n",
       "      <td>N</td>\n",
       "    </tr>\n",
       "    <tr>\n",
       "      <th>30073</th>\n",
       "      <td>36_45</td>\n",
       "      <td>unassigned</td>\n",
       "      <td>20160000378750</td>\n",
       "      <td>208299</td>\n",
       "      <td>Offense Report</td>\n",
       "      <td>None</td>\n",
       "      <td>7492</td>\n",
       "      <td>1983</td>\n",
       "      <td>M</td>\n",
       "      <td>White</td>\n",
       "      <td>...</td>\n",
       "      <td>Unknown</td>\n",
       "      <td>Unknown</td>\n",
       "      <td>Unknown</td>\n",
       "      <td>NORTH PCT 3RD W - LINCOLN</td>\n",
       "      <td>N</td>\n",
       "      <td>Y</td>\n",
       "      <td>North</td>\n",
       "      <td>N</td>\n",
       "      <td>N3</td>\n",
       "      <td>N</td>\n",
       "    </tr>\n",
       "    <tr>\n",
       "      <th>30074</th>\n",
       "      <td>36_45</td>\n",
       "      <td>unassigned</td>\n",
       "      <td>20160000378750</td>\n",
       "      <td>208305</td>\n",
       "      <td>Offense Report</td>\n",
       "      <td>None</td>\n",
       "      <td>7492</td>\n",
       "      <td>1983</td>\n",
       "      <td>M</td>\n",
       "      <td>White</td>\n",
       "      <td>...</td>\n",
       "      <td>Unknown</td>\n",
       "      <td>Unknown</td>\n",
       "      <td>Unknown</td>\n",
       "      <td>NORTH PCT 3RD W - LINCOLN</td>\n",
       "      <td>N</td>\n",
       "      <td>Y</td>\n",
       "      <td>North</td>\n",
       "      <td>N</td>\n",
       "      <td>N3</td>\n",
       "      <td>N</td>\n",
       "    </tr>\n",
       "    <tr>\n",
       "      <th>30075</th>\n",
       "      <td>36_45</td>\n",
       "      <td>unassigned</td>\n",
       "      <td>20160000378750</td>\n",
       "      <td>208308</td>\n",
       "      <td>Offense Report</td>\n",
       "      <td>None</td>\n",
       "      <td>7492</td>\n",
       "      <td>1983</td>\n",
       "      <td>M</td>\n",
       "      <td>White</td>\n",
       "      <td>...</td>\n",
       "      <td>Unknown</td>\n",
       "      <td>Unknown</td>\n",
       "      <td>Unknown</td>\n",
       "      <td>NORTH PCT 3RD W - LINCOLN</td>\n",
       "      <td>N</td>\n",
       "      <td>Y</td>\n",
       "      <td>North</td>\n",
       "      <td>N</td>\n",
       "      <td>N3</td>\n",
       "      <td>N</td>\n",
       "    </tr>\n",
       "    <tr>\n",
       "      <th>30076</th>\n",
       "      <td>36_45</td>\n",
       "      <td>unassigned</td>\n",
       "      <td>20160000378750</td>\n",
       "      <td>208310</td>\n",
       "      <td>Offense Report</td>\n",
       "      <td>None</td>\n",
       "      <td>7492</td>\n",
       "      <td>1983</td>\n",
       "      <td>M</td>\n",
       "      <td>White</td>\n",
       "      <td>...</td>\n",
       "      <td>Unknown</td>\n",
       "      <td>Unknown</td>\n",
       "      <td>Unknown</td>\n",
       "      <td>NORTH PCT 3RD W - LINCOLN</td>\n",
       "      <td>N</td>\n",
       "      <td>Y</td>\n",
       "      <td>North</td>\n",
       "      <td>N</td>\n",
       "      <td>N3</td>\n",
       "      <td>N</td>\n",
       "    </tr>\n",
       "    <tr>\n",
       "      <th>30077</th>\n",
       "      <td>36_45</td>\n",
       "      <td>unassigned</td>\n",
       "      <td>20160000378750</td>\n",
       "      <td>208312</td>\n",
       "      <td>Offense Report</td>\n",
       "      <td>None</td>\n",
       "      <td>7492</td>\n",
       "      <td>1983</td>\n",
       "      <td>M</td>\n",
       "      <td>White</td>\n",
       "      <td>...</td>\n",
       "      <td>Unknown</td>\n",
       "      <td>Unknown</td>\n",
       "      <td>Unknown</td>\n",
       "      <td>NORTH PCT 3RD W - LINCOLN</td>\n",
       "      <td>N</td>\n",
       "      <td>Y</td>\n",
       "      <td>North</td>\n",
       "      <td>N</td>\n",
       "      <td>N3</td>\n",
       "      <td>N</td>\n",
       "    </tr>\n",
       "    <tr>\n",
       "      <th>30078</th>\n",
       "      <td>36_45</td>\n",
       "      <td>unassigned</td>\n",
       "      <td>20160000378750</td>\n",
       "      <td>208314</td>\n",
       "      <td>Arrest</td>\n",
       "      <td>None</td>\n",
       "      <td>7492</td>\n",
       "      <td>1983</td>\n",
       "      <td>M</td>\n",
       "      <td>White</td>\n",
       "      <td>...</td>\n",
       "      <td>Unknown</td>\n",
       "      <td>Unknown</td>\n",
       "      <td>Unknown</td>\n",
       "      <td>NORTH PCT 3RD W - LINCOLN</td>\n",
       "      <td>N</td>\n",
       "      <td>Y</td>\n",
       "      <td>North</td>\n",
       "      <td>N</td>\n",
       "      <td>N3</td>\n",
       "      <td>N</td>\n",
       "    </tr>\n",
       "    <tr>\n",
       "      <th>38630</th>\n",
       "      <td>46_55</td>\n",
       "      <td>unassigned</td>\n",
       "      <td>20160000378750</td>\n",
       "      <td>208304</td>\n",
       "      <td>Offense Report</td>\n",
       "      <td>None</td>\n",
       "      <td>7492</td>\n",
       "      <td>1983</td>\n",
       "      <td>M</td>\n",
       "      <td>White</td>\n",
       "      <td>...</td>\n",
       "      <td>Unknown</td>\n",
       "      <td>Unknown</td>\n",
       "      <td>Unknown</td>\n",
       "      <td>NORTH PCT 3RD W - LINCOLN</td>\n",
       "      <td>N</td>\n",
       "      <td>Y</td>\n",
       "      <td>North</td>\n",
       "      <td>N</td>\n",
       "      <td>N3</td>\n",
       "      <td>N</td>\n",
       "    </tr>\n",
       "    <tr>\n",
       "      <th>38631</th>\n",
       "      <td>46_55</td>\n",
       "      <td>unassigned</td>\n",
       "      <td>20160000378750</td>\n",
       "      <td>208306</td>\n",
       "      <td>Offense Report</td>\n",
       "      <td>None</td>\n",
       "      <td>7492</td>\n",
       "      <td>1983</td>\n",
       "      <td>M</td>\n",
       "      <td>White</td>\n",
       "      <td>...</td>\n",
       "      <td>Unknown</td>\n",
       "      <td>Unknown</td>\n",
       "      <td>Unknown</td>\n",
       "      <td>NORTH PCT 3RD W - LINCOLN</td>\n",
       "      <td>N</td>\n",
       "      <td>Y</td>\n",
       "      <td>North</td>\n",
       "      <td>N</td>\n",
       "      <td>N3</td>\n",
       "      <td>N</td>\n",
       "    </tr>\n",
       "    <tr>\n",
       "      <th>38632</th>\n",
       "      <td>46_55</td>\n",
       "      <td>unassigned</td>\n",
       "      <td>20160000378750</td>\n",
       "      <td>208309</td>\n",
       "      <td>Arrest</td>\n",
       "      <td>None</td>\n",
       "      <td>7492</td>\n",
       "      <td>1983</td>\n",
       "      <td>M</td>\n",
       "      <td>White</td>\n",
       "      <td>...</td>\n",
       "      <td>Unknown</td>\n",
       "      <td>Unknown</td>\n",
       "      <td>Unknown</td>\n",
       "      <td>NORTH PCT 3RD W - LINCOLN</td>\n",
       "      <td>N</td>\n",
       "      <td>Y</td>\n",
       "      <td>North</td>\n",
       "      <td>N</td>\n",
       "      <td>N3</td>\n",
       "      <td>N</td>\n",
       "    </tr>\n",
       "    <tr>\n",
       "      <th>38633</th>\n",
       "      <td>46_55</td>\n",
       "      <td>unassigned</td>\n",
       "      <td>20160000378750</td>\n",
       "      <td>208313</td>\n",
       "      <td>Arrest</td>\n",
       "      <td>None</td>\n",
       "      <td>7492</td>\n",
       "      <td>1983</td>\n",
       "      <td>M</td>\n",
       "      <td>White</td>\n",
       "      <td>...</td>\n",
       "      <td>Unknown</td>\n",
       "      <td>Unknown</td>\n",
       "      <td>Unknown</td>\n",
       "      <td>NORTH PCT 3RD W - LINCOLN</td>\n",
       "      <td>N</td>\n",
       "      <td>Y</td>\n",
       "      <td>North</td>\n",
       "      <td>N</td>\n",
       "      <td>N3</td>\n",
       "      <td>N</td>\n",
       "    </tr>\n",
       "  </tbody>\n",
       "</table>\n",
       "<p>16 rows × 24 columns</p>\n",
       "</div>"
      ],
      "text/plain": [
       "      subject_age_group  subject_id       go_sc_num  terry_stop_id  \\\n",
       "6595              18_25  unassigned  20160000378750         208302   \n",
       "6596              18_25  unassigned  20160000378750         208311   \n",
       "16761             26_35  unassigned  20160000378750         208300   \n",
       "16762             26_35  unassigned  20160000378750         208301   \n",
       "16763             26_35  unassigned  20160000378750         208303   \n",
       "16764             26_35  unassigned  20160000378750         208307   \n",
       "30073             36_45  unassigned  20160000378750         208299   \n",
       "30074             36_45  unassigned  20160000378750         208305   \n",
       "30075             36_45  unassigned  20160000378750         208308   \n",
       "30076             36_45  unassigned  20160000378750         208310   \n",
       "30077             36_45  unassigned  20160000378750         208312   \n",
       "30078             36_45  unassigned  20160000378750         208314   \n",
       "38630             46_55  unassigned  20160000378750         208304   \n",
       "38631             46_55  unassigned  20160000378750         208306   \n",
       "38632             46_55  unassigned  20160000378750         208309   \n",
       "38633             46_55  unassigned  20160000378750         208313   \n",
       "\n",
       "      stop_resolution weapon_type officer_id  officer_yob officer_gender  \\\n",
       "6595   Offense Report        None     7492           1983              M   \n",
       "6596           Arrest        None     7492           1983              M   \n",
       "16761  Offense Report        None     7492           1983              M   \n",
       "16762  Offense Report        None     7492           1983              M   \n",
       "16763  Offense Report        None     7492           1983              M   \n",
       "16764  Offense Report        None     7492           1983              M   \n",
       "30073  Offense Report        None     7492           1983              M   \n",
       "30074  Offense Report        None     7492           1983              M   \n",
       "30075  Offense Report        None     7492           1983              M   \n",
       "30076  Offense Report        None     7492           1983              M   \n",
       "30077  Offense Report        None     7492           1983              M   \n",
       "30078          Arrest        None     7492           1983              M   \n",
       "38630  Offense Report        None     7492           1983              M   \n",
       "38631  Offense Report        None     7492           1983              M   \n",
       "38632          Arrest        None     7492           1983              M   \n",
       "38633          Arrest        None     7492           1983              M   \n",
       "\n",
       "      officer_race  ... initial_call_type final_call_type call_type  \\\n",
       "6595         White  ...           Unknown         Unknown   Unknown   \n",
       "6596         White  ...           Unknown         Unknown   Unknown   \n",
       "16761        White  ...           Unknown         Unknown   Unknown   \n",
       "16762        White  ...           Unknown         Unknown   Unknown   \n",
       "16763        White  ...           Unknown         Unknown   Unknown   \n",
       "16764        White  ...           Unknown         Unknown   Unknown   \n",
       "30073        White  ...           Unknown         Unknown   Unknown   \n",
       "30074        White  ...           Unknown         Unknown   Unknown   \n",
       "30075        White  ...           Unknown         Unknown   Unknown   \n",
       "30076        White  ...           Unknown         Unknown   Unknown   \n",
       "30077        White  ...           Unknown         Unknown   Unknown   \n",
       "30078        White  ...           Unknown         Unknown   Unknown   \n",
       "38630        White  ...           Unknown         Unknown   Unknown   \n",
       "38631        White  ...           Unknown         Unknown   Unknown   \n",
       "38632        White  ...           Unknown         Unknown   Unknown   \n",
       "38633        White  ...           Unknown         Unknown   Unknown   \n",
       "\n",
       "                   officer_squad arrest_flag frisk_flag precinct  sector  \\\n",
       "6595   NORTH PCT 3RD W - LINCOLN           N          Y    North  N        \n",
       "6596   NORTH PCT 3RD W - LINCOLN           N          Y    North  N        \n",
       "16761  NORTH PCT 3RD W - LINCOLN           N          Y    North  N        \n",
       "16762  NORTH PCT 3RD W - LINCOLN           N          Y    North  N        \n",
       "16763  NORTH PCT 3RD W - LINCOLN           N          Y    North  N        \n",
       "16764  NORTH PCT 3RD W - LINCOLN           N          Y    North  N        \n",
       "30073  NORTH PCT 3RD W - LINCOLN           N          Y    North  N        \n",
       "30074  NORTH PCT 3RD W - LINCOLN           N          Y    North  N        \n",
       "30075  NORTH PCT 3RD W - LINCOLN           N          Y    North  N        \n",
       "30076  NORTH PCT 3RD W - LINCOLN           N          Y    North  N        \n",
       "30077  NORTH PCT 3RD W - LINCOLN           N          Y    North  N        \n",
       "30078  NORTH PCT 3RD W - LINCOLN           N          Y    North  N        \n",
       "38630  NORTH PCT 3RD W - LINCOLN           N          Y    North  N        \n",
       "38631  NORTH PCT 3RD W - LINCOLN           N          Y    North  N        \n",
       "38632  NORTH PCT 3RD W - LINCOLN           N          Y    North  N        \n",
       "38633  NORTH PCT 3RD W - LINCOLN           N          Y    North  N        \n",
       "\n",
       "         beat repeat_offenders  \n",
       "6595   N3                    N  \n",
       "6596   N3                    N  \n",
       "16761  N3                    N  \n",
       "16762  N3                    N  \n",
       "16763  N3                    N  \n",
       "16764  N3                    N  \n",
       "30073  N3                    N  \n",
       "30074  N3                    N  \n",
       "30075  N3                    N  \n",
       "30076  N3                    N  \n",
       "30077  N3                    N  \n",
       "30078  N3                    N  \n",
       "38630  N3                    N  \n",
       "38631  N3                    N  \n",
       "38632  N3                    N  \n",
       "38633  N3                    N  \n",
       "\n",
       "[16 rows x 24 columns]"
      ]
     },
     "execution_count": 2273,
     "metadata": {},
     "output_type": "execute_result"
    }
   ],
   "source": [
    "stop_chk = df[df['go_sc_num'] == 20160000378750]\n",
    "stop_chk"
   ]
  },
  {
   "cell_type": "markdown",
   "metadata": {},
   "source": [
    "From the dates, the separate Terry Stop ID's, the different Stop Resolutions and it all roughly happening within the same hour, it appears that this was a dispute of some sort in which an officer collected Offense Reports from 12 people and issued out tickets to 4 people (because there was no physical arrest denoted by the column 'arrest_flag', these were non-custodial arrests/citations).\n",
    "\n",
    "Looking back at the Column Description document, the GO/SC Number is considered the \"parent report\" that contain associated Terry Stops. This confirms my observations."
   ]
  },
  {
   "cell_type": "markdown",
   "metadata": {},
   "source": [
    "### Terry Stop ID"
   ]
  },
  {
   "cell_type": "code",
   "execution_count": 2274,
   "metadata": {
    "ExecuteTime": {
     "end_time": "2020-11-25T22:13:47.054958Z",
     "start_time": "2020-11-25T22:13:47.004143Z"
    }
   },
   "outputs": [
    {
     "data": {
      "text/html": [
       "<div>\n",
       "<style scoped>\n",
       "    .dataframe tbody tr th:only-of-type {\n",
       "        vertical-align: middle;\n",
       "    }\n",
       "\n",
       "    .dataframe tbody tr th {\n",
       "        vertical-align: top;\n",
       "    }\n",
       "\n",
       "    .dataframe thead th {\n",
       "        text-align: right;\n",
       "    }\n",
       "</style>\n",
       "<table border=\"1\" class=\"dataframe\">\n",
       "  <thead>\n",
       "    <tr style=\"text-align: right;\">\n",
       "      <th></th>\n",
       "      <th>subject_age_group</th>\n",
       "      <th>subject_id</th>\n",
       "      <th>go_sc_num</th>\n",
       "      <th>terry_stop_id</th>\n",
       "      <th>stop_resolution</th>\n",
       "      <th>weapon_type</th>\n",
       "      <th>officer_id</th>\n",
       "      <th>reported_date</th>\n",
       "      <th>reported_time</th>\n",
       "      <th>initial_call_type</th>\n",
       "      <th>final_call_type</th>\n",
       "      <th>arrest_flag</th>\n",
       "      <th>frisk_flag</th>\n",
       "    </tr>\n",
       "  </thead>\n",
       "  <tbody>\n",
       "    <tr>\n",
       "      <th>3288</th>\n",
       "      <td>1_17</td>\n",
       "      <td>11637443950</td>\n",
       "      <td>20190000465104</td>\n",
       "      <td>12105013403</td>\n",
       "      <td>Arrest</td>\n",
       "      <td>Knife/Cutting/Stabbing Instrument</td>\n",
       "      <td>8500</td>\n",
       "      <td>2019-12-17T00:00:00</td>\n",
       "      <td>00:13:50</td>\n",
       "      <td>ROBBERY - IP/JO (INCLUDES STRONG ARM)</td>\n",
       "      <td>--ROBBERY - ARMED</td>\n",
       "      <td>Y</td>\n",
       "      <td>Y</td>\n",
       "    </tr>\n",
       "    <tr>\n",
       "      <th>3289</th>\n",
       "      <td>1_17</td>\n",
       "      <td>11637443950</td>\n",
       "      <td>20190000465104</td>\n",
       "      <td>12105013403</td>\n",
       "      <td>Arrest</td>\n",
       "      <td>Mace/Pepper Spray</td>\n",
       "      <td>8500</td>\n",
       "      <td>2019-12-17T00:00:00</td>\n",
       "      <td>00:13:50</td>\n",
       "      <td>ROBBERY - IP/JO (INCLUDES STRONG ARM)</td>\n",
       "      <td>--ROBBERY - ARMED</td>\n",
       "      <td>Y</td>\n",
       "      <td>Y</td>\n",
       "    </tr>\n",
       "    <tr>\n",
       "      <th>11168</th>\n",
       "      <td>18_25</td>\n",
       "      <td>7730702138</td>\n",
       "      <td>20200000235966</td>\n",
       "      <td>15045077325</td>\n",
       "      <td>Arrest</td>\n",
       "      <td>Blunt Object/Striking Implement</td>\n",
       "      <td>6257</td>\n",
       "      <td>2020-08-21T00:00:00</td>\n",
       "      <td>22:14:46</td>\n",
       "      <td>BURG - IP/JO - COMM BURG (INCLUDES SCHOOLS)</td>\n",
       "      <td>--PROPERTY DEST (DAMG)</td>\n",
       "      <td>Y</td>\n",
       "      <td>Y</td>\n",
       "    </tr>\n",
       "    <tr>\n",
       "      <th>11169</th>\n",
       "      <td>18_25</td>\n",
       "      <td>7730702138</td>\n",
       "      <td>20200000235966</td>\n",
       "      <td>15045077325</td>\n",
       "      <td>Arrest</td>\n",
       "      <td>Fire/Incendiary Device</td>\n",
       "      <td>6257</td>\n",
       "      <td>2020-08-21T00:00:00</td>\n",
       "      <td>22:14:46</td>\n",
       "      <td>BURG - IP/JO - COMM BURG (INCLUDES SCHOOLS)</td>\n",
       "      <td>--PROPERTY DEST (DAMG)</td>\n",
       "      <td>Y</td>\n",
       "      <td>Y</td>\n",
       "    </tr>\n",
       "    <tr>\n",
       "      <th>11170</th>\n",
       "      <td>18_25</td>\n",
       "      <td>7730702138</td>\n",
       "      <td>20200000235966</td>\n",
       "      <td>15045077325</td>\n",
       "      <td>Arrest</td>\n",
       "      <td>Knife/Cutting/Stabbing Instrument</td>\n",
       "      <td>6257</td>\n",
       "      <td>2020-08-21T00:00:00</td>\n",
       "      <td>22:14:46</td>\n",
       "      <td>BURG - IP/JO - COMM BURG (INCLUDES SCHOOLS)</td>\n",
       "      <td>--PROPERTY DEST (DAMG)</td>\n",
       "      <td>Y</td>\n",
       "      <td>Y</td>\n",
       "    </tr>\n",
       "    <tr>\n",
       "      <th>11546</th>\n",
       "      <td>18_25</td>\n",
       "      <td>7764935851</td>\n",
       "      <td>20200000080922</td>\n",
       "      <td>12689034912</td>\n",
       "      <td>Field Contact</td>\n",
       "      <td>Blunt Object/Striking Implement</td>\n",
       "      <td>7667</td>\n",
       "      <td>2020-03-04T00:00:00</td>\n",
       "      <td>19:52:40</td>\n",
       "      <td>WEAPN-IP/JO-GUN,DEADLY WPN (NO THRT/ASLT/DIST)</td>\n",
       "      <td>--WEAPON, PERSON WITH - GUN</td>\n",
       "      <td>N</td>\n",
       "      <td>Y</td>\n",
       "    </tr>\n",
       "    <tr>\n",
       "      <th>11547</th>\n",
       "      <td>18_25</td>\n",
       "      <td>7764935851</td>\n",
       "      <td>20200000080922</td>\n",
       "      <td>12689034912</td>\n",
       "      <td>Field Contact</td>\n",
       "      <td>Knife/Cutting/Stabbing Instrument</td>\n",
       "      <td>7667</td>\n",
       "      <td>2020-03-04T00:00:00</td>\n",
       "      <td>19:52:40</td>\n",
       "      <td>WEAPN-IP/JO-GUN,DEADLY WPN (NO THRT/ASLT/DIST)</td>\n",
       "      <td>--WEAPON, PERSON WITH - GUN</td>\n",
       "      <td>N</td>\n",
       "      <td>Y</td>\n",
       "    </tr>\n",
       "    <tr>\n",
       "      <th>11883</th>\n",
       "      <td>18_25</td>\n",
       "      <td>9458419522</td>\n",
       "      <td>20190000285750</td>\n",
       "      <td>9585545373</td>\n",
       "      <td>Field Contact</td>\n",
       "      <td>Firearm</td>\n",
       "      <td>8382</td>\n",
       "      <td>2019-08-03T00:00:00</td>\n",
       "      <td>22:50:59</td>\n",
       "      <td>ASLT - IP/JO - PERSON SHOT OR SHOT AT</td>\n",
       "      <td>--SUSPICIOUS CIRCUM. - SUSPICIOUS PERSON</td>\n",
       "      <td>N</td>\n",
       "      <td>Y</td>\n",
       "    </tr>\n",
       "    <tr>\n",
       "      <th>11884</th>\n",
       "      <td>18_25</td>\n",
       "      <td>9458419522</td>\n",
       "      <td>20190000285750</td>\n",
       "      <td>9585545373</td>\n",
       "      <td>Field Contact</td>\n",
       "      <td>Handgun</td>\n",
       "      <td>8382</td>\n",
       "      <td>2019-08-03T00:00:00</td>\n",
       "      <td>22:50:59</td>\n",
       "      <td>ASLT - IP/JO - PERSON SHOT OR SHOT AT</td>\n",
       "      <td>--SUSPICIOUS CIRCUM. - SUSPICIOUS PERSON</td>\n",
       "      <td>N</td>\n",
       "      <td>Y</td>\n",
       "    </tr>\n",
       "    <tr>\n",
       "      <th>12088</th>\n",
       "      <td>18_25</td>\n",
       "      <td>11896724492</td>\n",
       "      <td>20190000454262</td>\n",
       "      <td>12034618758</td>\n",
       "      <td>Arrest</td>\n",
       "      <td>Knife/Cutting/Stabbing Instrument</td>\n",
       "      <td>7782</td>\n",
       "      <td>2019-12-08T00:00:00</td>\n",
       "      <td>15:41:10</td>\n",
       "      <td>DIST - IP/JO - DV DIST - NO ASLT</td>\n",
       "      <td>--WEAPON, PERSON WITH - GUN</td>\n",
       "      <td>Y</td>\n",
       "      <td>Y</td>\n",
       "    </tr>\n",
       "    <tr>\n",
       "      <th>12089</th>\n",
       "      <td>18_25</td>\n",
       "      <td>11896724492</td>\n",
       "      <td>20190000454262</td>\n",
       "      <td>12034618758</td>\n",
       "      <td>Arrest</td>\n",
       "      <td>Other Firearm</td>\n",
       "      <td>7782</td>\n",
       "      <td>2019-12-08T00:00:00</td>\n",
       "      <td>15:41:10</td>\n",
       "      <td>DIST - IP/JO - DV DIST - NO ASLT</td>\n",
       "      <td>--WEAPON, PERSON WITH - GUN</td>\n",
       "      <td>Y</td>\n",
       "      <td>Y</td>\n",
       "    </tr>\n",
       "    <tr>\n",
       "      <th>12253</th>\n",
       "      <td>18_25</td>\n",
       "      <td>12781633141</td>\n",
       "      <td>20200000136635</td>\n",
       "      <td>13080077761</td>\n",
       "      <td>Arrest</td>\n",
       "      <td>Blunt Object/Striking Implement</td>\n",
       "      <td>8680</td>\n",
       "      <td>2020-04-24T00:00:00</td>\n",
       "      <td>22:12:19</td>\n",
       "      <td>WEAPN - GUN,DEADLY WPN (NO THRTS/ASLT/DIST)</td>\n",
       "      <td>--NARCOTICS - OTHER</td>\n",
       "      <td>Y</td>\n",
       "      <td>Y</td>\n",
       "    </tr>\n",
       "    <tr>\n",
       "      <th>12254</th>\n",
       "      <td>18_25</td>\n",
       "      <td>12781633141</td>\n",
       "      <td>20200000136635</td>\n",
       "      <td>13080077761</td>\n",
       "      <td>Arrest</td>\n",
       "      <td>Knife/Cutting/Stabbing Instrument</td>\n",
       "      <td>8680</td>\n",
       "      <td>2020-04-24T00:00:00</td>\n",
       "      <td>22:12:19</td>\n",
       "      <td>WEAPN - GUN,DEADLY WPN (NO THRTS/ASLT/DIST)</td>\n",
       "      <td>--NARCOTICS - OTHER</td>\n",
       "      <td>Y</td>\n",
       "      <td>Y</td>\n",
       "    </tr>\n",
       "    <tr>\n",
       "      <th>12255</th>\n",
       "      <td>18_25</td>\n",
       "      <td>12781633141</td>\n",
       "      <td>20200000136635</td>\n",
       "      <td>13080077761</td>\n",
       "      <td>Arrest</td>\n",
       "      <td>Mace/Pepper Spray</td>\n",
       "      <td>8680</td>\n",
       "      <td>2020-04-24T00:00:00</td>\n",
       "      <td>22:12:19</td>\n",
       "      <td>WEAPN - GUN,DEADLY WPN (NO THRTS/ASLT/DIST)</td>\n",
       "      <td>--NARCOTICS - OTHER</td>\n",
       "      <td>Y</td>\n",
       "      <td>Y</td>\n",
       "    </tr>\n",
       "    <tr>\n",
       "      <th>12442</th>\n",
       "      <td>18_25</td>\n",
       "      <td>16679341397</td>\n",
       "      <td>20200000306689</td>\n",
       "      <td>16677515049</td>\n",
       "      <td>Field Contact</td>\n",
       "      <td>Knife/Cutting/Stabbing Instrument</td>\n",
       "      <td>8561</td>\n",
       "      <td>2020-10-29T00:00:00</td>\n",
       "      <td>18:52:01</td>\n",
       "      <td>THREATS (INCLS IN-PERSON/BY PHONE/IN WRITING)</td>\n",
       "      <td>--CRISIS COMPLAINT - GENERAL</td>\n",
       "      <td>N</td>\n",
       "      <td>Y</td>\n",
       "    </tr>\n",
       "    <tr>\n",
       "      <th>12443</th>\n",
       "      <td>18_25</td>\n",
       "      <td>16679341397</td>\n",
       "      <td>20200000306689</td>\n",
       "      <td>16677515049</td>\n",
       "      <td>Field Contact</td>\n",
       "      <td>Taser/Stun Gun</td>\n",
       "      <td>8561</td>\n",
       "      <td>2020-10-29T00:00:00</td>\n",
       "      <td>18:52:01</td>\n",
       "      <td>THREATS (INCLS IN-PERSON/BY PHONE/IN WRITING)</td>\n",
       "      <td>--CRISIS COMPLAINT - GENERAL</td>\n",
       "      <td>N</td>\n",
       "      <td>Y</td>\n",
       "    </tr>\n",
       "    <tr>\n",
       "      <th>24150</th>\n",
       "      <td>26_35</td>\n",
       "      <td>7726127566</td>\n",
       "      <td>20200000040587</td>\n",
       "      <td>12601385662</td>\n",
       "      <td>Field Contact</td>\n",
       "      <td>Blunt Object/Striking Implement</td>\n",
       "      <td>8629</td>\n",
       "      <td>2020-02-02T00:00:00</td>\n",
       "      <td>08:20:02</td>\n",
       "      <td>BURG - IP/JO - COMM BURG (INCLUDES SCHOOLS)</td>\n",
       "      <td>--BURGLARY - NON RESIDENTIAL/COMMERCIAL</td>\n",
       "      <td>N</td>\n",
       "      <td>Y</td>\n",
       "    </tr>\n",
       "    <tr>\n",
       "      <th>24151</th>\n",
       "      <td>26_35</td>\n",
       "      <td>7726127566</td>\n",
       "      <td>20200000040587</td>\n",
       "      <td>12601385662</td>\n",
       "      <td>Field Contact</td>\n",
       "      <td>Knife/Cutting/Stabbing Instrument</td>\n",
       "      <td>8629</td>\n",
       "      <td>2020-02-02T00:00:00</td>\n",
       "      <td>08:20:02</td>\n",
       "      <td>BURG - IP/JO - COMM BURG (INCLUDES SCHOOLS)</td>\n",
       "      <td>--BURGLARY - NON RESIDENTIAL/COMMERCIAL</td>\n",
       "      <td>N</td>\n",
       "      <td>Y</td>\n",
       "    </tr>\n",
       "    <tr>\n",
       "      <th>24220</th>\n",
       "      <td>26_35</td>\n",
       "      <td>7726479217</td>\n",
       "      <td>20200000242901</td>\n",
       "      <td>14935106231</td>\n",
       "      <td>Arrest</td>\n",
       "      <td>Knife/Cutting/Stabbing Instrument</td>\n",
       "      <td>8723</td>\n",
       "      <td>2020-08-18T00:00:00</td>\n",
       "      <td>02:52:59</td>\n",
       "      <td>Unknown</td>\n",
       "      <td>Unknown</td>\n",
       "      <td>Y</td>\n",
       "      <td>Y</td>\n",
       "    </tr>\n",
       "    <tr>\n",
       "      <th>24221</th>\n",
       "      <td>26_35</td>\n",
       "      <td>7726479217</td>\n",
       "      <td>20200000242901</td>\n",
       "      <td>14935106231</td>\n",
       "      <td>Arrest</td>\n",
       "      <td>Mace/Pepper Spray</td>\n",
       "      <td>8723</td>\n",
       "      <td>2020-08-18T00:00:00</td>\n",
       "      <td>02:52:59</td>\n",
       "      <td>Unknown</td>\n",
       "      <td>Unknown</td>\n",
       "      <td>Y</td>\n",
       "      <td>Y</td>\n",
       "    </tr>\n",
       "    <tr>\n",
       "      <th>24994</th>\n",
       "      <td>26_35</td>\n",
       "      <td>7730805128</td>\n",
       "      <td>20190000268604</td>\n",
       "      <td>8677596250</td>\n",
       "      <td>Offense Report</td>\n",
       "      <td>Knife/Cutting/Stabbing Instrument</td>\n",
       "      <td>5630</td>\n",
       "      <td>2019-07-22T00:00:00</td>\n",
       "      <td>10:27:54</td>\n",
       "      <td>THEFT (DOES NOT INCLUDE SHOPLIFT OR SVCS)</td>\n",
       "      <td>--THEFT - CAR PROWL</td>\n",
       "      <td>N</td>\n",
       "      <td>Y</td>\n",
       "    </tr>\n",
       "    <tr>\n",
       "      <th>24995</th>\n",
       "      <td>26_35</td>\n",
       "      <td>7730805128</td>\n",
       "      <td>20190000268604</td>\n",
       "      <td>8677596250</td>\n",
       "      <td>Offense Report</td>\n",
       "      <td>Taser/Stun Gun</td>\n",
       "      <td>5630</td>\n",
       "      <td>2019-07-22T00:00:00</td>\n",
       "      <td>10:27:54</td>\n",
       "      <td>THEFT (DOES NOT INCLUDE SHOPLIFT OR SVCS)</td>\n",
       "      <td>--THEFT - CAR PROWL</td>\n",
       "      <td>N</td>\n",
       "      <td>Y</td>\n",
       "    </tr>\n",
       "    <tr>\n",
       "      <th>25095</th>\n",
       "      <td>26_35</td>\n",
       "      <td>7731973837</td>\n",
       "      <td>20190000479273</td>\n",
       "      <td>12119304761</td>\n",
       "      <td>Field Contact</td>\n",
       "      <td>Blunt Object/Striking Implement</td>\n",
       "      <td>8405</td>\n",
       "      <td>2019-12-28T00:00:00</td>\n",
       "      <td>15:18:49</td>\n",
       "      <td>SUSPICIOUS PERSON, VEHICLE OR INCIDENT</td>\n",
       "      <td>--SUSPICIOUS CIRCUM. - SUSPICIOUS PERSON</td>\n",
       "      <td>N</td>\n",
       "      <td>Y</td>\n",
       "    </tr>\n",
       "    <tr>\n",
       "      <th>25096</th>\n",
       "      <td>26_35</td>\n",
       "      <td>7731973837</td>\n",
       "      <td>20190000479273</td>\n",
       "      <td>12119304761</td>\n",
       "      <td>Field Contact</td>\n",
       "      <td>Knife/Cutting/Stabbing Instrument</td>\n",
       "      <td>8405</td>\n",
       "      <td>2019-12-28T00:00:00</td>\n",
       "      <td>15:18:49</td>\n",
       "      <td>SUSPICIOUS PERSON, VEHICLE OR INCIDENT</td>\n",
       "      <td>--SUSPICIOUS CIRCUM. - SUSPICIOUS PERSON</td>\n",
       "      <td>N</td>\n",
       "      <td>Y</td>\n",
       "    </tr>\n",
       "    <tr>\n",
       "      <th>25262</th>\n",
       "      <td>26_35</td>\n",
       "      <td>7733943974</td>\n",
       "      <td>20200000312115</td>\n",
       "      <td>17542218019</td>\n",
       "      <td>Arrest</td>\n",
       "      <td>Knife/Cutting/Stabbing Instrument</td>\n",
       "      <td>8447</td>\n",
       "      <td>2020-11-05T00:00:00</td>\n",
       "      <td>04:44:15</td>\n",
       "      <td>BURG - IP/JO - RES (INCL UNOCC STRUCTURES)</td>\n",
       "      <td>--BURGLARY - UNOCC STRUC ON RESN PROP</td>\n",
       "      <td>Y</td>\n",
       "      <td>Y</td>\n",
       "    </tr>\n",
       "    <tr>\n",
       "      <th>25263</th>\n",
       "      <td>26_35</td>\n",
       "      <td>7733943974</td>\n",
       "      <td>20200000312115</td>\n",
       "      <td>17542218019</td>\n",
       "      <td>Arrest</td>\n",
       "      <td>Other Firearm</td>\n",
       "      <td>8447</td>\n",
       "      <td>2020-11-05T00:00:00</td>\n",
       "      <td>04:44:15</td>\n",
       "      <td>BURG - IP/JO - RES (INCL UNOCC STRUCTURES)</td>\n",
       "      <td>--BURGLARY - UNOCC STRUC ON RESN PROP</td>\n",
       "      <td>Y</td>\n",
       "      <td>Y</td>\n",
       "    </tr>\n",
       "    <tr>\n",
       "      <th>26012</th>\n",
       "      <td>26_35</td>\n",
       "      <td>7810387129</td>\n",
       "      <td>20190000254490</td>\n",
       "      <td>8611673538</td>\n",
       "      <td>Field Contact</td>\n",
       "      <td>Blunt Object/Striking Implement</td>\n",
       "      <td>7712</td>\n",
       "      <td>2019-07-12T00:00:00</td>\n",
       "      <td>01:09:47</td>\n",
       "      <td>SUSPICIOUS PERSON, VEHICLE OR INCIDENT</td>\n",
       "      <td>--SUSPICIOUS CIRCUM. - SUSPICIOUS PERSON</td>\n",
       "      <td>N</td>\n",
       "      <td>Y</td>\n",
       "    </tr>\n",
       "    <tr>\n",
       "      <th>26013</th>\n",
       "      <td>26_35</td>\n",
       "      <td>7810387129</td>\n",
       "      <td>20190000254490</td>\n",
       "      <td>8611673538</td>\n",
       "      <td>Field Contact</td>\n",
       "      <td>Knife/Cutting/Stabbing Instrument</td>\n",
       "      <td>7712</td>\n",
       "      <td>2019-07-12T00:00:00</td>\n",
       "      <td>01:09:47</td>\n",
       "      <td>SUSPICIOUS PERSON, VEHICLE OR INCIDENT</td>\n",
       "      <td>--SUSPICIOUS CIRCUM. - SUSPICIOUS PERSON</td>\n",
       "      <td>N</td>\n",
       "      <td>Y</td>\n",
       "    </tr>\n",
       "    <tr>\n",
       "      <th>34648</th>\n",
       "      <td>36_45</td>\n",
       "      <td>7726767701</td>\n",
       "      <td>20200000121708</td>\n",
       "      <td>12851512661</td>\n",
       "      <td>Field Contact</td>\n",
       "      <td>Knife/Cutting/Stabbing Instrument</td>\n",
       "      <td>7288</td>\n",
       "      <td>2020-04-11T00:00:00</td>\n",
       "      <td>13:32:46</td>\n",
       "      <td>SUSPICIOUS STOP - OFFICER INITIATED ONVIEW</td>\n",
       "      <td>--SUSPICIOUS CIRCUM. - SUSPICIOUS PERSON</td>\n",
       "      <td>N</td>\n",
       "      <td>Y</td>\n",
       "    </tr>\n",
       "    <tr>\n",
       "      <th>34649</th>\n",
       "      <td>36_45</td>\n",
       "      <td>7726767701</td>\n",
       "      <td>20200000121708</td>\n",
       "      <td>12851512661</td>\n",
       "      <td>Field Contact</td>\n",
       "      <td>Other Firearm</td>\n",
       "      <td>7288</td>\n",
       "      <td>2020-04-11T00:00:00</td>\n",
       "      <td>13:32:46</td>\n",
       "      <td>SUSPICIOUS STOP - OFFICER INITIATED ONVIEW</td>\n",
       "      <td>--SUSPICIOUS CIRCUM. - SUSPICIOUS PERSON</td>\n",
       "      <td>N</td>\n",
       "      <td>Y</td>\n",
       "    </tr>\n",
       "    <tr>\n",
       "      <th>34728</th>\n",
       "      <td>36_45</td>\n",
       "      <td>7726992180</td>\n",
       "      <td>20200000269165</td>\n",
       "      <td>15595812669</td>\n",
       "      <td>Offense Report</td>\n",
       "      <td>Blunt Object/Striking Implement</td>\n",
       "      <td>8744</td>\n",
       "      <td>2020-09-17T00:00:00</td>\n",
       "      <td>03:10:07</td>\n",
       "      <td>WEAPN-IP/JO-GUN,DEADLY WPN (NO THRT/ASLT/DIST)</td>\n",
       "      <td>--SUSPICIOUS CIRCUM. - SUSPICIOUS PERSON</td>\n",
       "      <td>N</td>\n",
       "      <td>Y</td>\n",
       "    </tr>\n",
       "    <tr>\n",
       "      <th>34729</th>\n",
       "      <td>36_45</td>\n",
       "      <td>7726992180</td>\n",
       "      <td>20200000269165</td>\n",
       "      <td>15595812669</td>\n",
       "      <td>Offense Report</td>\n",
       "      <td>Knife/Cutting/Stabbing Instrument</td>\n",
       "      <td>8744</td>\n",
       "      <td>2020-09-17T00:00:00</td>\n",
       "      <td>03:10:07</td>\n",
       "      <td>WEAPN-IP/JO-GUN,DEADLY WPN (NO THRT/ASLT/DIST)</td>\n",
       "      <td>--SUSPICIOUS CIRCUM. - SUSPICIOUS PERSON</td>\n",
       "      <td>N</td>\n",
       "      <td>Y</td>\n",
       "    </tr>\n",
       "    <tr>\n",
       "      <th>35171</th>\n",
       "      <td>36_45</td>\n",
       "      <td>7729855913</td>\n",
       "      <td>20200000291621</td>\n",
       "      <td>16076863718</td>\n",
       "      <td>Arrest</td>\n",
       "      <td>Firearm</td>\n",
       "      <td>8491</td>\n",
       "      <td>2020-10-12T00:00:00</td>\n",
       "      <td>16:12:12</td>\n",
       "      <td>ASLT - IP/JO - DV</td>\n",
       "      <td>--DV - DOMESTIC VIOL/ASLT (ARREST MANDATORY)</td>\n",
       "      <td>Y</td>\n",
       "      <td>Y</td>\n",
       "    </tr>\n",
       "    <tr>\n",
       "      <th>35172</th>\n",
       "      <td>36_45</td>\n",
       "      <td>7729855913</td>\n",
       "      <td>20200000291621</td>\n",
       "      <td>16076863718</td>\n",
       "      <td>Arrest</td>\n",
       "      <td>Knife/Cutting/Stabbing Instrument</td>\n",
       "      <td>8491</td>\n",
       "      <td>2020-10-12T00:00:00</td>\n",
       "      <td>16:12:12</td>\n",
       "      <td>ASLT - IP/JO - DV</td>\n",
       "      <td>--DV - DOMESTIC VIOL/ASLT (ARREST MANDATORY)</td>\n",
       "      <td>Y</td>\n",
       "      <td>Y</td>\n",
       "    </tr>\n",
       "    <tr>\n",
       "      <th>35944</th>\n",
       "      <td>36_45</td>\n",
       "      <td>7805394791</td>\n",
       "      <td>20200000047411</td>\n",
       "      <td>12608907801</td>\n",
       "      <td>Arrest</td>\n",
       "      <td>Firearm</td>\n",
       "      <td>8687</td>\n",
       "      <td>2020-02-07T00:00:00</td>\n",
       "      <td>14:28:58</td>\n",
       "      <td>ROBBERY - IP/JO (INCLUDES STRONG ARM)</td>\n",
       "      <td>--THEFT - ALL OTHER</td>\n",
       "      <td>Y</td>\n",
       "      <td>Y</td>\n",
       "    </tr>\n",
       "    <tr>\n",
       "      <th>35945</th>\n",
       "      <td>36_45</td>\n",
       "      <td>7805394791</td>\n",
       "      <td>20200000047411</td>\n",
       "      <td>12608907801</td>\n",
       "      <td>Arrest</td>\n",
       "      <td>Knife/Cutting/Stabbing Instrument</td>\n",
       "      <td>8687</td>\n",
       "      <td>2020-02-07T00:00:00</td>\n",
       "      <td>14:28:58</td>\n",
       "      <td>ROBBERY - IP/JO (INCLUDES STRONG ARM)</td>\n",
       "      <td>--THEFT - ALL OTHER</td>\n",
       "      <td>Y</td>\n",
       "      <td>Y</td>\n",
       "    </tr>\n",
       "    <tr>\n",
       "      <th>36534</th>\n",
       "      <td>36_45</td>\n",
       "      <td>12219243227</td>\n",
       "      <td>20200000193987</td>\n",
       "      <td>13645398605</td>\n",
       "      <td>Offense Report</td>\n",
       "      <td>Blunt Object/Striking Implement</td>\n",
       "      <td>8680</td>\n",
       "      <td>2020-06-22T00:00:00</td>\n",
       "      <td>20:24:12</td>\n",
       "      <td>FIGHT - IP/JO - WITH WEAPONS</td>\n",
       "      <td>--DISTURBANCE - OTHER</td>\n",
       "      <td>N</td>\n",
       "      <td>Y</td>\n",
       "    </tr>\n",
       "    <tr>\n",
       "      <th>36535</th>\n",
       "      <td>36_45</td>\n",
       "      <td>12219243227</td>\n",
       "      <td>20200000193987</td>\n",
       "      <td>13645398605</td>\n",
       "      <td>Offense Report</td>\n",
       "      <td>Knife/Cutting/Stabbing Instrument</td>\n",
       "      <td>8680</td>\n",
       "      <td>2020-06-22T00:00:00</td>\n",
       "      <td>20:24:12</td>\n",
       "      <td>FIGHT - IP/JO - WITH WEAPONS</td>\n",
       "      <td>--DISTURBANCE - OTHER</td>\n",
       "      <td>N</td>\n",
       "      <td>Y</td>\n",
       "    </tr>\n",
       "    <tr>\n",
       "      <th>36761</th>\n",
       "      <td>36_45</td>\n",
       "      <td>15055810513</td>\n",
       "      <td>20200000250139</td>\n",
       "      <td>15055860719</td>\n",
       "      <td>Field Contact</td>\n",
       "      <td>Knife/Cutting/Stabbing Instrument</td>\n",
       "      <td>7773</td>\n",
       "      <td>2020-08-26T00:00:00</td>\n",
       "      <td>05:23:01</td>\n",
       "      <td>SUSPICIOUS PERSON, VEHICLE OR INCIDENT</td>\n",
       "      <td>--BURGLARY - UNOCC STRUC ON RESN PROP</td>\n",
       "      <td>N</td>\n",
       "      <td>Y</td>\n",
       "    </tr>\n",
       "    <tr>\n",
       "      <th>36762</th>\n",
       "      <td>36_45</td>\n",
       "      <td>15055810513</td>\n",
       "      <td>20200000250139</td>\n",
       "      <td>15055860719</td>\n",
       "      <td>Field Contact</td>\n",
       "      <td>Mace/Pepper Spray</td>\n",
       "      <td>7773</td>\n",
       "      <td>2020-08-26T00:00:00</td>\n",
       "      <td>05:23:01</td>\n",
       "      <td>SUSPICIOUS PERSON, VEHICLE OR INCIDENT</td>\n",
       "      <td>--BURGLARY - UNOCC STRUC ON RESN PROP</td>\n",
       "      <td>N</td>\n",
       "      <td>Y</td>\n",
       "    </tr>\n",
       "    <tr>\n",
       "      <th>42349</th>\n",
       "      <td>46_55</td>\n",
       "      <td>10573154542</td>\n",
       "      <td>20200000072145</td>\n",
       "      <td>12686594000</td>\n",
       "      <td>Arrest</td>\n",
       "      <td>Blunt Object/Striking Implement</td>\n",
       "      <td>8557</td>\n",
       "      <td>2020-03-03T00:00:00</td>\n",
       "      <td>15:21:31</td>\n",
       "      <td>HARAS - NO BIAS, THREATS OR MALICIOUSNESS</td>\n",
       "      <td>--ASSAULTS - HARASSMENT, THREATS</td>\n",
       "      <td>Y</td>\n",
       "      <td>Y</td>\n",
       "    </tr>\n",
       "    <tr>\n",
       "      <th>42350</th>\n",
       "      <td>46_55</td>\n",
       "      <td>10573154542</td>\n",
       "      <td>20200000072145</td>\n",
       "      <td>12686594000</td>\n",
       "      <td>Arrest</td>\n",
       "      <td>Knife/Cutting/Stabbing Instrument</td>\n",
       "      <td>8557</td>\n",
       "      <td>2020-03-03T00:00:00</td>\n",
       "      <td>15:21:31</td>\n",
       "      <td>HARAS - NO BIAS, THREATS OR MALICIOUSNESS</td>\n",
       "      <td>--ASSAULTS - HARASSMENT, THREATS</td>\n",
       "      <td>Y</td>\n",
       "      <td>Y</td>\n",
       "    </tr>\n",
       "    <tr>\n",
       "      <th>44551</th>\n",
       "      <td>56_100</td>\n",
       "      <td>7740388693</td>\n",
       "      <td>20200000223408</td>\n",
       "      <td>14266198833</td>\n",
       "      <td>Arrest</td>\n",
       "      <td>Blunt Object/Striking Implement</td>\n",
       "      <td>8514</td>\n",
       "      <td>2020-07-26T00:00:00</td>\n",
       "      <td>17:36:23</td>\n",
       "      <td>ROBBERY - IP/JO (INCLUDES STRONG ARM)</td>\n",
       "      <td>--ROBBERY - ARMED</td>\n",
       "      <td>Y</td>\n",
       "      <td>Y</td>\n",
       "    </tr>\n",
       "    <tr>\n",
       "      <th>44552</th>\n",
       "      <td>56_100</td>\n",
       "      <td>7740388693</td>\n",
       "      <td>20200000223408</td>\n",
       "      <td>14266198833</td>\n",
       "      <td>Arrest</td>\n",
       "      <td>Knife/Cutting/Stabbing Instrument</td>\n",
       "      <td>8514</td>\n",
       "      <td>2020-07-26T00:00:00</td>\n",
       "      <td>17:36:23</td>\n",
       "      <td>ROBBERY - IP/JO (INCLUDES STRONG ARM)</td>\n",
       "      <td>--ROBBERY - ARMED</td>\n",
       "      <td>Y</td>\n",
       "      <td>Y</td>\n",
       "    </tr>\n",
       "    <tr>\n",
       "      <th>44643</th>\n",
       "      <td>56_100</td>\n",
       "      <td>7814963710</td>\n",
       "      <td>20200000099547</td>\n",
       "      <td>12781960580</td>\n",
       "      <td>Offense Report</td>\n",
       "      <td>Firearm</td>\n",
       "      <td>8484</td>\n",
       "      <td>2020-03-21T00:00:00</td>\n",
       "      <td>11:07:11</td>\n",
       "      <td>WEAPN-IP/JO-GUN,DEADLY WPN (NO THRT/ASLT/DIST)</td>\n",
       "      <td>--PROWLER - TRESPASS</td>\n",
       "      <td>N</td>\n",
       "      <td>Y</td>\n",
       "    </tr>\n",
       "    <tr>\n",
       "      <th>44644</th>\n",
       "      <td>56_100</td>\n",
       "      <td>7814963710</td>\n",
       "      <td>20200000099547</td>\n",
       "      <td>12781960580</td>\n",
       "      <td>Offense Report</td>\n",
       "      <td>Knife/Cutting/Stabbing Instrument</td>\n",
       "      <td>8484</td>\n",
       "      <td>2020-03-21T00:00:00</td>\n",
       "      <td>11:07:11</td>\n",
       "      <td>WEAPN-IP/JO-GUN,DEADLY WPN (NO THRT/ASLT/DIST)</td>\n",
       "      <td>--PROWLER - TRESPASS</td>\n",
       "      <td>N</td>\n",
       "      <td>Y</td>\n",
       "    </tr>\n",
       "  </tbody>\n",
       "</table>\n",
       "</div>"
      ],
      "text/plain": [
       "      subject_age_group   subject_id       go_sc_num  terry_stop_id  \\\n",
       "3288               1_17  11637443950  20190000465104    12105013403   \n",
       "3289               1_17  11637443950  20190000465104    12105013403   \n",
       "11168             18_25   7730702138  20200000235966    15045077325   \n",
       "11169             18_25   7730702138  20200000235966    15045077325   \n",
       "11170             18_25   7730702138  20200000235966    15045077325   \n",
       "11546             18_25   7764935851  20200000080922    12689034912   \n",
       "11547             18_25   7764935851  20200000080922    12689034912   \n",
       "11883             18_25   9458419522  20190000285750     9585545373   \n",
       "11884             18_25   9458419522  20190000285750     9585545373   \n",
       "12088             18_25  11896724492  20190000454262    12034618758   \n",
       "12089             18_25  11896724492  20190000454262    12034618758   \n",
       "12253             18_25  12781633141  20200000136635    13080077761   \n",
       "12254             18_25  12781633141  20200000136635    13080077761   \n",
       "12255             18_25  12781633141  20200000136635    13080077761   \n",
       "12442             18_25  16679341397  20200000306689    16677515049   \n",
       "12443             18_25  16679341397  20200000306689    16677515049   \n",
       "24150             26_35   7726127566  20200000040587    12601385662   \n",
       "24151             26_35   7726127566  20200000040587    12601385662   \n",
       "24220             26_35   7726479217  20200000242901    14935106231   \n",
       "24221             26_35   7726479217  20200000242901    14935106231   \n",
       "24994             26_35   7730805128  20190000268604     8677596250   \n",
       "24995             26_35   7730805128  20190000268604     8677596250   \n",
       "25095             26_35   7731973837  20190000479273    12119304761   \n",
       "25096             26_35   7731973837  20190000479273    12119304761   \n",
       "25262             26_35   7733943974  20200000312115    17542218019   \n",
       "25263             26_35   7733943974  20200000312115    17542218019   \n",
       "26012             26_35   7810387129  20190000254490     8611673538   \n",
       "26013             26_35   7810387129  20190000254490     8611673538   \n",
       "34648             36_45   7726767701  20200000121708    12851512661   \n",
       "34649             36_45   7726767701  20200000121708    12851512661   \n",
       "34728             36_45   7726992180  20200000269165    15595812669   \n",
       "34729             36_45   7726992180  20200000269165    15595812669   \n",
       "35171             36_45   7729855913  20200000291621    16076863718   \n",
       "35172             36_45   7729855913  20200000291621    16076863718   \n",
       "35944             36_45   7805394791  20200000047411    12608907801   \n",
       "35945             36_45   7805394791  20200000047411    12608907801   \n",
       "36534             36_45  12219243227  20200000193987    13645398605   \n",
       "36535             36_45  12219243227  20200000193987    13645398605   \n",
       "36761             36_45  15055810513  20200000250139    15055860719   \n",
       "36762             36_45  15055810513  20200000250139    15055860719   \n",
       "42349             46_55  10573154542  20200000072145    12686594000   \n",
       "42350             46_55  10573154542  20200000072145    12686594000   \n",
       "44551            56_100   7740388693  20200000223408    14266198833   \n",
       "44552            56_100   7740388693  20200000223408    14266198833   \n",
       "44643            56_100   7814963710  20200000099547    12781960580   \n",
       "44644            56_100   7814963710  20200000099547    12781960580   \n",
       "\n",
       "      stop_resolution                        weapon_type officer_id  \\\n",
       "3288           Arrest  Knife/Cutting/Stabbing Instrument     8500     \n",
       "3289           Arrest                  Mace/Pepper Spray     8500     \n",
       "11168          Arrest    Blunt Object/Striking Implement     6257     \n",
       "11169          Arrest             Fire/Incendiary Device     6257     \n",
       "11170          Arrest  Knife/Cutting/Stabbing Instrument     6257     \n",
       "11546   Field Contact    Blunt Object/Striking Implement     7667     \n",
       "11547   Field Contact  Knife/Cutting/Stabbing Instrument     7667     \n",
       "11883   Field Contact                            Firearm     8382     \n",
       "11884   Field Contact                            Handgun     8382     \n",
       "12088          Arrest  Knife/Cutting/Stabbing Instrument     7782     \n",
       "12089          Arrest                      Other Firearm     7782     \n",
       "12253          Arrest    Blunt Object/Striking Implement     8680     \n",
       "12254          Arrest  Knife/Cutting/Stabbing Instrument     8680     \n",
       "12255          Arrest                  Mace/Pepper Spray     8680     \n",
       "12442   Field Contact  Knife/Cutting/Stabbing Instrument     8561     \n",
       "12443   Field Contact                     Taser/Stun Gun     8561     \n",
       "24150   Field Contact    Blunt Object/Striking Implement     8629     \n",
       "24151   Field Contact  Knife/Cutting/Stabbing Instrument     8629     \n",
       "24220          Arrest  Knife/Cutting/Stabbing Instrument     8723     \n",
       "24221          Arrest                  Mace/Pepper Spray     8723     \n",
       "24994  Offense Report  Knife/Cutting/Stabbing Instrument     5630     \n",
       "24995  Offense Report                     Taser/Stun Gun     5630     \n",
       "25095   Field Contact    Blunt Object/Striking Implement     8405     \n",
       "25096   Field Contact  Knife/Cutting/Stabbing Instrument     8405     \n",
       "25262          Arrest  Knife/Cutting/Stabbing Instrument     8447     \n",
       "25263          Arrest                      Other Firearm     8447     \n",
       "26012   Field Contact    Blunt Object/Striking Implement     7712     \n",
       "26013   Field Contact  Knife/Cutting/Stabbing Instrument     7712     \n",
       "34648   Field Contact  Knife/Cutting/Stabbing Instrument     7288     \n",
       "34649   Field Contact                      Other Firearm     7288     \n",
       "34728  Offense Report    Blunt Object/Striking Implement     8744     \n",
       "34729  Offense Report  Knife/Cutting/Stabbing Instrument     8744     \n",
       "35171          Arrest                            Firearm     8491     \n",
       "35172          Arrest  Knife/Cutting/Stabbing Instrument     8491     \n",
       "35944          Arrest                            Firearm     8687     \n",
       "35945          Arrest  Knife/Cutting/Stabbing Instrument     8687     \n",
       "36534  Offense Report    Blunt Object/Striking Implement     8680     \n",
       "36535  Offense Report  Knife/Cutting/Stabbing Instrument     8680     \n",
       "36761   Field Contact  Knife/Cutting/Stabbing Instrument     7773     \n",
       "36762   Field Contact                  Mace/Pepper Spray     7773     \n",
       "42349          Arrest    Blunt Object/Striking Implement     8557     \n",
       "42350          Arrest  Knife/Cutting/Stabbing Instrument     8557     \n",
       "44551          Arrest    Blunt Object/Striking Implement     8514     \n",
       "44552          Arrest  Knife/Cutting/Stabbing Instrument     8514     \n",
       "44643  Offense Report                            Firearm     8484     \n",
       "44644  Offense Report  Knife/Cutting/Stabbing Instrument     8484     \n",
       "\n",
       "             reported_date reported_time  \\\n",
       "3288   2019-12-17T00:00:00      00:13:50   \n",
       "3289   2019-12-17T00:00:00      00:13:50   \n",
       "11168  2020-08-21T00:00:00      22:14:46   \n",
       "11169  2020-08-21T00:00:00      22:14:46   \n",
       "11170  2020-08-21T00:00:00      22:14:46   \n",
       "11546  2020-03-04T00:00:00      19:52:40   \n",
       "11547  2020-03-04T00:00:00      19:52:40   \n",
       "11883  2019-08-03T00:00:00      22:50:59   \n",
       "11884  2019-08-03T00:00:00      22:50:59   \n",
       "12088  2019-12-08T00:00:00      15:41:10   \n",
       "12089  2019-12-08T00:00:00      15:41:10   \n",
       "12253  2020-04-24T00:00:00      22:12:19   \n",
       "12254  2020-04-24T00:00:00      22:12:19   \n",
       "12255  2020-04-24T00:00:00      22:12:19   \n",
       "12442  2020-10-29T00:00:00      18:52:01   \n",
       "12443  2020-10-29T00:00:00      18:52:01   \n",
       "24150  2020-02-02T00:00:00      08:20:02   \n",
       "24151  2020-02-02T00:00:00      08:20:02   \n",
       "24220  2020-08-18T00:00:00      02:52:59   \n",
       "24221  2020-08-18T00:00:00      02:52:59   \n",
       "24994  2019-07-22T00:00:00      10:27:54   \n",
       "24995  2019-07-22T00:00:00      10:27:54   \n",
       "25095  2019-12-28T00:00:00      15:18:49   \n",
       "25096  2019-12-28T00:00:00      15:18:49   \n",
       "25262  2020-11-05T00:00:00      04:44:15   \n",
       "25263  2020-11-05T00:00:00      04:44:15   \n",
       "26012  2019-07-12T00:00:00      01:09:47   \n",
       "26013  2019-07-12T00:00:00      01:09:47   \n",
       "34648  2020-04-11T00:00:00      13:32:46   \n",
       "34649  2020-04-11T00:00:00      13:32:46   \n",
       "34728  2020-09-17T00:00:00      03:10:07   \n",
       "34729  2020-09-17T00:00:00      03:10:07   \n",
       "35171  2020-10-12T00:00:00      16:12:12   \n",
       "35172  2020-10-12T00:00:00      16:12:12   \n",
       "35944  2020-02-07T00:00:00      14:28:58   \n",
       "35945  2020-02-07T00:00:00      14:28:58   \n",
       "36534  2020-06-22T00:00:00      20:24:12   \n",
       "36535  2020-06-22T00:00:00      20:24:12   \n",
       "36761  2020-08-26T00:00:00      05:23:01   \n",
       "36762  2020-08-26T00:00:00      05:23:01   \n",
       "42349  2020-03-03T00:00:00      15:21:31   \n",
       "42350  2020-03-03T00:00:00      15:21:31   \n",
       "44551  2020-07-26T00:00:00      17:36:23   \n",
       "44552  2020-07-26T00:00:00      17:36:23   \n",
       "44643  2020-03-21T00:00:00      11:07:11   \n",
       "44644  2020-03-21T00:00:00      11:07:11   \n",
       "\n",
       "                                    initial_call_type  \\\n",
       "3288            ROBBERY - IP/JO (INCLUDES STRONG ARM)   \n",
       "3289            ROBBERY - IP/JO (INCLUDES STRONG ARM)   \n",
       "11168     BURG - IP/JO - COMM BURG (INCLUDES SCHOOLS)   \n",
       "11169     BURG - IP/JO - COMM BURG (INCLUDES SCHOOLS)   \n",
       "11170     BURG - IP/JO - COMM BURG (INCLUDES SCHOOLS)   \n",
       "11546  WEAPN-IP/JO-GUN,DEADLY WPN (NO THRT/ASLT/DIST)   \n",
       "11547  WEAPN-IP/JO-GUN,DEADLY WPN (NO THRT/ASLT/DIST)   \n",
       "11883           ASLT - IP/JO - PERSON SHOT OR SHOT AT   \n",
       "11884           ASLT - IP/JO - PERSON SHOT OR SHOT AT   \n",
       "12088                DIST - IP/JO - DV DIST - NO ASLT   \n",
       "12089                DIST - IP/JO - DV DIST - NO ASLT   \n",
       "12253     WEAPN - GUN,DEADLY WPN (NO THRTS/ASLT/DIST)   \n",
       "12254     WEAPN - GUN,DEADLY WPN (NO THRTS/ASLT/DIST)   \n",
       "12255     WEAPN - GUN,DEADLY WPN (NO THRTS/ASLT/DIST)   \n",
       "12442   THREATS (INCLS IN-PERSON/BY PHONE/IN WRITING)   \n",
       "12443   THREATS (INCLS IN-PERSON/BY PHONE/IN WRITING)   \n",
       "24150     BURG - IP/JO - COMM BURG (INCLUDES SCHOOLS)   \n",
       "24151     BURG - IP/JO - COMM BURG (INCLUDES SCHOOLS)   \n",
       "24220                                         Unknown   \n",
       "24221                                         Unknown   \n",
       "24994       THEFT (DOES NOT INCLUDE SHOPLIFT OR SVCS)   \n",
       "24995       THEFT (DOES NOT INCLUDE SHOPLIFT OR SVCS)   \n",
       "25095          SUSPICIOUS PERSON, VEHICLE OR INCIDENT   \n",
       "25096          SUSPICIOUS PERSON, VEHICLE OR INCIDENT   \n",
       "25262      BURG - IP/JO - RES (INCL UNOCC STRUCTURES)   \n",
       "25263      BURG - IP/JO - RES (INCL UNOCC STRUCTURES)   \n",
       "26012          SUSPICIOUS PERSON, VEHICLE OR INCIDENT   \n",
       "26013          SUSPICIOUS PERSON, VEHICLE OR INCIDENT   \n",
       "34648      SUSPICIOUS STOP - OFFICER INITIATED ONVIEW   \n",
       "34649      SUSPICIOUS STOP - OFFICER INITIATED ONVIEW   \n",
       "34728  WEAPN-IP/JO-GUN,DEADLY WPN (NO THRT/ASLT/DIST)   \n",
       "34729  WEAPN-IP/JO-GUN,DEADLY WPN (NO THRT/ASLT/DIST)   \n",
       "35171                               ASLT - IP/JO - DV   \n",
       "35172                               ASLT - IP/JO - DV   \n",
       "35944           ROBBERY - IP/JO (INCLUDES STRONG ARM)   \n",
       "35945           ROBBERY - IP/JO (INCLUDES STRONG ARM)   \n",
       "36534                    FIGHT - IP/JO - WITH WEAPONS   \n",
       "36535                    FIGHT - IP/JO - WITH WEAPONS   \n",
       "36761          SUSPICIOUS PERSON, VEHICLE OR INCIDENT   \n",
       "36762          SUSPICIOUS PERSON, VEHICLE OR INCIDENT   \n",
       "42349       HARAS - NO BIAS, THREATS OR MALICIOUSNESS   \n",
       "42350       HARAS - NO BIAS, THREATS OR MALICIOUSNESS   \n",
       "44551           ROBBERY - IP/JO (INCLUDES STRONG ARM)   \n",
       "44552           ROBBERY - IP/JO (INCLUDES STRONG ARM)   \n",
       "44643  WEAPN-IP/JO-GUN,DEADLY WPN (NO THRT/ASLT/DIST)   \n",
       "44644  WEAPN-IP/JO-GUN,DEADLY WPN (NO THRT/ASLT/DIST)   \n",
       "\n",
       "                                    final_call_type arrest_flag frisk_flag  \n",
       "3288                              --ROBBERY - ARMED           Y          Y  \n",
       "3289                              --ROBBERY - ARMED           Y          Y  \n",
       "11168                        --PROPERTY DEST (DAMG)           Y          Y  \n",
       "11169                        --PROPERTY DEST (DAMG)           Y          Y  \n",
       "11170                        --PROPERTY DEST (DAMG)           Y          Y  \n",
       "11546                   --WEAPON, PERSON WITH - GUN           N          Y  \n",
       "11547                   --WEAPON, PERSON WITH - GUN           N          Y  \n",
       "11883      --SUSPICIOUS CIRCUM. - SUSPICIOUS PERSON           N          Y  \n",
       "11884      --SUSPICIOUS CIRCUM. - SUSPICIOUS PERSON           N          Y  \n",
       "12088                   --WEAPON, PERSON WITH - GUN           Y          Y  \n",
       "12089                   --WEAPON, PERSON WITH - GUN           Y          Y  \n",
       "12253                           --NARCOTICS - OTHER           Y          Y  \n",
       "12254                           --NARCOTICS - OTHER           Y          Y  \n",
       "12255                           --NARCOTICS - OTHER           Y          Y  \n",
       "12442                  --CRISIS COMPLAINT - GENERAL           N          Y  \n",
       "12443                  --CRISIS COMPLAINT - GENERAL           N          Y  \n",
       "24150       --BURGLARY - NON RESIDENTIAL/COMMERCIAL           N          Y  \n",
       "24151       --BURGLARY - NON RESIDENTIAL/COMMERCIAL           N          Y  \n",
       "24220                                       Unknown           Y          Y  \n",
       "24221                                       Unknown           Y          Y  \n",
       "24994                           --THEFT - CAR PROWL           N          Y  \n",
       "24995                           --THEFT - CAR PROWL           N          Y  \n",
       "25095      --SUSPICIOUS CIRCUM. - SUSPICIOUS PERSON           N          Y  \n",
       "25096      --SUSPICIOUS CIRCUM. - SUSPICIOUS PERSON           N          Y  \n",
       "25262         --BURGLARY - UNOCC STRUC ON RESN PROP           Y          Y  \n",
       "25263         --BURGLARY - UNOCC STRUC ON RESN PROP           Y          Y  \n",
       "26012      --SUSPICIOUS CIRCUM. - SUSPICIOUS PERSON           N          Y  \n",
       "26013      --SUSPICIOUS CIRCUM. - SUSPICIOUS PERSON           N          Y  \n",
       "34648      --SUSPICIOUS CIRCUM. - SUSPICIOUS PERSON           N          Y  \n",
       "34649      --SUSPICIOUS CIRCUM. - SUSPICIOUS PERSON           N          Y  \n",
       "34728      --SUSPICIOUS CIRCUM. - SUSPICIOUS PERSON           N          Y  \n",
       "34729      --SUSPICIOUS CIRCUM. - SUSPICIOUS PERSON           N          Y  \n",
       "35171  --DV - DOMESTIC VIOL/ASLT (ARREST MANDATORY)           Y          Y  \n",
       "35172  --DV - DOMESTIC VIOL/ASLT (ARREST MANDATORY)           Y          Y  \n",
       "35944                           --THEFT - ALL OTHER           Y          Y  \n",
       "35945                           --THEFT - ALL OTHER           Y          Y  \n",
       "36534                         --DISTURBANCE - OTHER           N          Y  \n",
       "36535                         --DISTURBANCE - OTHER           N          Y  \n",
       "36761         --BURGLARY - UNOCC STRUC ON RESN PROP           N          Y  \n",
       "36762         --BURGLARY - UNOCC STRUC ON RESN PROP           N          Y  \n",
       "42349              --ASSAULTS - HARASSMENT, THREATS           Y          Y  \n",
       "42350              --ASSAULTS - HARASSMENT, THREATS           Y          Y  \n",
       "44551                             --ROBBERY - ARMED           Y          Y  \n",
       "44552                             --ROBBERY - ARMED           Y          Y  \n",
       "44643                          --PROWLER - TRESPASS           N          Y  \n",
       "44644                          --PROWLER - TRESPASS           N          Y  "
      ]
     },
     "execution_count": 2274,
     "metadata": {},
     "output_type": "execute_result"
    }
   ],
   "source": [
    "# Find out why there are duplicate ID's in this column\n",
    "dup_ids = df[df['terry_stop_id'].duplicated(keep=False)]\n",
    "dup_ids = dup_ids[['subject_age_group', 'subject_id', 'go_sc_num', \n",
    "                   'terry_stop_id', 'stop_resolution', 'weapon_type',\n",
    "                   'officer_id', 'reported_date', 'reported_time',\n",
    "                   'initial_call_type', 'final_call_type', 'arrest_flag',\n",
    "                   'frisk_flag' ]]\n",
    "dup_ids"
   ]
  },
  {
   "cell_type": "code",
   "execution_count": 2275,
   "metadata": {
    "ExecuteTime": {
     "end_time": "2020-11-25T22:13:47.152067Z",
     "start_time": "2020-11-25T22:13:47.057478Z"
    }
   },
   "outputs": [
    {
     "data": {
      "text/html": [
       "<div>\n",
       "<style scoped>\n",
       "    .dataframe tbody tr th:only-of-type {\n",
       "        vertical-align: middle;\n",
       "    }\n",
       "\n",
       "    .dataframe tbody tr th {\n",
       "        vertical-align: top;\n",
       "    }\n",
       "\n",
       "    .dataframe thead th {\n",
       "        text-align: right;\n",
       "    }\n",
       "</style>\n",
       "<table border=\"1\" class=\"dataframe\">\n",
       "  <thead>\n",
       "    <tr style=\"text-align: right;\">\n",
       "      <th></th>\n",
       "      <th>subject_age_group</th>\n",
       "      <th>subject_id</th>\n",
       "      <th>go_sc_num</th>\n",
       "      <th>terry_stop_id</th>\n",
       "      <th>stop_resolution</th>\n",
       "      <th>weapon_type</th>\n",
       "      <th>officer_id</th>\n",
       "      <th>officer_yob</th>\n",
       "      <th>officer_gender</th>\n",
       "      <th>officer_race</th>\n",
       "      <th>...</th>\n",
       "      <th>initial_call_type</th>\n",
       "      <th>final_call_type</th>\n",
       "      <th>call_type</th>\n",
       "      <th>officer_squad</th>\n",
       "      <th>arrest_flag</th>\n",
       "      <th>frisk_flag</th>\n",
       "      <th>precinct</th>\n",
       "      <th>sector</th>\n",
       "      <th>beat</th>\n",
       "      <th>repeat_offenders</th>\n",
       "    </tr>\n",
       "  </thead>\n",
       "  <tbody>\n",
       "    <tr>\n",
       "      <th>0</th>\n",
       "      <td>26_35</td>\n",
       "      <td>unassigned</td>\n",
       "      <td>20140000120677</td>\n",
       "      <td>92317</td>\n",
       "      <td>Arrest</td>\n",
       "      <td>None</td>\n",
       "      <td>7500</td>\n",
       "      <td>1984</td>\n",
       "      <td>M</td>\n",
       "      <td>Black or African American</td>\n",
       "      <td>...</td>\n",
       "      <td>Unknown</td>\n",
       "      <td>Unknown</td>\n",
       "      <td>Unknown</td>\n",
       "      <td>SOUTH PCT 1ST W - ROBERT</td>\n",
       "      <td>N</td>\n",
       "      <td>N</td>\n",
       "      <td>South</td>\n",
       "      <td>O</td>\n",
       "      <td>O2</td>\n",
       "      <td>N</td>\n",
       "    </tr>\n",
       "    <tr>\n",
       "      <th>1</th>\n",
       "      <td>26_35</td>\n",
       "      <td>unassigned</td>\n",
       "      <td>20150000001463</td>\n",
       "      <td>28806</td>\n",
       "      <td>Field Contact</td>\n",
       "      <td>None</td>\n",
       "      <td>5670</td>\n",
       "      <td>1965</td>\n",
       "      <td>M</td>\n",
       "      <td>White</td>\n",
       "      <td>...</td>\n",
       "      <td>Unknown</td>\n",
       "      <td>Unknown</td>\n",
       "      <td>Unknown</td>\n",
       "      <td>NaN</td>\n",
       "      <td>N</td>\n",
       "      <td>N</td>\n",
       "      <td>Unknown</td>\n",
       "      <td>Unknown</td>\n",
       "      <td>Unknown</td>\n",
       "      <td>N</td>\n",
       "    </tr>\n",
       "    <tr>\n",
       "      <th>2</th>\n",
       "      <td>26_35</td>\n",
       "      <td>unassigned</td>\n",
       "      <td>20150000001516</td>\n",
       "      <td>29599</td>\n",
       "      <td>Field Contact</td>\n",
       "      <td>None</td>\n",
       "      <td>4844</td>\n",
       "      <td>1961</td>\n",
       "      <td>M</td>\n",
       "      <td>White</td>\n",
       "      <td>...</td>\n",
       "      <td>Unknown</td>\n",
       "      <td>Unknown</td>\n",
       "      <td>Unknown</td>\n",
       "      <td>NaN</td>\n",
       "      <td>N</td>\n",
       "      <td>Unknown</td>\n",
       "      <td>Unknown</td>\n",
       "      <td>Unknown</td>\n",
       "      <td>Unknown</td>\n",
       "      <td>N</td>\n",
       "    </tr>\n",
       "    <tr>\n",
       "      <th>3</th>\n",
       "      <td>26_35</td>\n",
       "      <td>unassigned</td>\n",
       "      <td>20150000001670</td>\n",
       "      <td>32260</td>\n",
       "      <td>Field Contact</td>\n",
       "      <td>None</td>\n",
       "      <td>7539</td>\n",
       "      <td>1963</td>\n",
       "      <td>M</td>\n",
       "      <td>White</td>\n",
       "      <td>...</td>\n",
       "      <td>Unknown</td>\n",
       "      <td>Unknown</td>\n",
       "      <td>Unknown</td>\n",
       "      <td>NaN</td>\n",
       "      <td>N</td>\n",
       "      <td>N</td>\n",
       "      <td>Unknown</td>\n",
       "      <td>Unknown</td>\n",
       "      <td>Unknown</td>\n",
       "      <td>N</td>\n",
       "    </tr>\n",
       "    <tr>\n",
       "      <th>4</th>\n",
       "      <td>26_35</td>\n",
       "      <td>unassigned</td>\n",
       "      <td>20150000001739</td>\n",
       "      <td>33155</td>\n",
       "      <td>Field Contact</td>\n",
       "      <td>None</td>\n",
       "      <td>6973</td>\n",
       "      <td>1977</td>\n",
       "      <td>M</td>\n",
       "      <td>White</td>\n",
       "      <td>...</td>\n",
       "      <td>Unknown</td>\n",
       "      <td>Unknown</td>\n",
       "      <td>Unknown</td>\n",
       "      <td>NaN</td>\n",
       "      <td>N</td>\n",
       "      <td>N</td>\n",
       "      <td>Unknown</td>\n",
       "      <td>Unknown</td>\n",
       "      <td>Unknown</td>\n",
       "      <td>N</td>\n",
       "    </tr>\n",
       "    <tr>\n",
       "      <th>...</th>\n",
       "      <td>...</td>\n",
       "      <td>...</td>\n",
       "      <td>...</td>\n",
       "      <td>...</td>\n",
       "      <td>...</td>\n",
       "      <td>...</td>\n",
       "      <td>...</td>\n",
       "      <td>...</td>\n",
       "      <td>...</td>\n",
       "      <td>...</td>\n",
       "      <td>...</td>\n",
       "      <td>...</td>\n",
       "      <td>...</td>\n",
       "      <td>...</td>\n",
       "      <td>...</td>\n",
       "      <td>...</td>\n",
       "      <td>...</td>\n",
       "      <td>...</td>\n",
       "      <td>...</td>\n",
       "      <td>...</td>\n",
       "      <td>...</td>\n",
       "    </tr>\n",
       "    <tr>\n",
       "      <th>44833</th>\n",
       "      <td>56_100</td>\n",
       "      <td>13852338055</td>\n",
       "      <td>20200000209169</td>\n",
       "      <td>13852344465</td>\n",
       "      <td>Field Contact</td>\n",
       "      <td>Knife/Cutting/Stabbing Instrument</td>\n",
       "      <td>8537</td>\n",
       "      <td>1988</td>\n",
       "      <td>M</td>\n",
       "      <td>Black or African American</td>\n",
       "      <td>...</td>\n",
       "      <td>ASLT - IP/JO - WITH OR W/O WPNS (NO SHOOTINGS)</td>\n",
       "      <td>--DV - DOMESTIC VIOL/ASLT (ARREST MANDATORY)</td>\n",
       "      <td>911</td>\n",
       "      <td>SOUTH PCT 3RD W - ROBERT</td>\n",
       "      <td>N</td>\n",
       "      <td>Y</td>\n",
       "      <td>South</td>\n",
       "      <td>S</td>\n",
       "      <td>S2</td>\n",
       "      <td>Y</td>\n",
       "    </tr>\n",
       "    <tr>\n",
       "      <th>44834</th>\n",
       "      <td>56_100</td>\n",
       "      <td>13855399471</td>\n",
       "      <td>20200000210914</td>\n",
       "      <td>13855407067</td>\n",
       "      <td>Offense Report</td>\n",
       "      <td>Unknown</td>\n",
       "      <td>8465</td>\n",
       "      <td>1990</td>\n",
       "      <td>M</td>\n",
       "      <td>White</td>\n",
       "      <td>...</td>\n",
       "      <td>THREATS (INCLS IN-PERSON/BY PHONE/IN WRITING)</td>\n",
       "      <td>--ASSAULTS - HARASSMENT, THREATS</td>\n",
       "      <td>911</td>\n",
       "      <td>NORTH PCT 3RD W - BOY</td>\n",
       "      <td>N</td>\n",
       "      <td>N</td>\n",
       "      <td>North</td>\n",
       "      <td>B</td>\n",
       "      <td>B3</td>\n",
       "      <td>Y</td>\n",
       "    </tr>\n",
       "    <tr>\n",
       "      <th>44835</th>\n",
       "      <td>56_100</td>\n",
       "      <td>13855696527</td>\n",
       "      <td>20200000211163</td>\n",
       "      <td>13855817033</td>\n",
       "      <td>Arrest</td>\n",
       "      <td>Unknown</td>\n",
       "      <td>8626</td>\n",
       "      <td>1992</td>\n",
       "      <td>M</td>\n",
       "      <td>White</td>\n",
       "      <td>...</td>\n",
       "      <td>ASLT - IP/JO - DV</td>\n",
       "      <td>--DV - DOMESTIC VIOL/ASLT (ARREST MANDATORY)</td>\n",
       "      <td>911</td>\n",
       "      <td>WEST PCT 1ST W - KING/QUEEN</td>\n",
       "      <td>Y</td>\n",
       "      <td>N</td>\n",
       "      <td>West</td>\n",
       "      <td>M</td>\n",
       "      <td>M3</td>\n",
       "      <td>Y</td>\n",
       "    </tr>\n",
       "    <tr>\n",
       "      <th>44836</th>\n",
       "      <td>56_100</td>\n",
       "      <td>13930427243</td>\n",
       "      <td>20200000218545</td>\n",
       "      <td>13928574375</td>\n",
       "      <td>Field Contact</td>\n",
       "      <td>Unknown</td>\n",
       "      <td>8672</td>\n",
       "      <td>1995</td>\n",
       "      <td>F</td>\n",
       "      <td>Hispanic or Latino</td>\n",
       "      <td>...</td>\n",
       "      <td>THEFT (DOES NOT INCLUDE SHOPLIFT OR SVCS)</td>\n",
       "      <td>--PROWLER - GENERAL</td>\n",
       "      <td>911</td>\n",
       "      <td>NORTH PCT 3RD W - LINCOLN</td>\n",
       "      <td>N</td>\n",
       "      <td>N</td>\n",
       "      <td>North</td>\n",
       "      <td>L</td>\n",
       "      <td>L1</td>\n",
       "      <td>Y</td>\n",
       "    </tr>\n",
       "    <tr>\n",
       "      <th>44837</th>\n",
       "      <td>56_100</td>\n",
       "      <td>14268071835</td>\n",
       "      <td>20200000223475</td>\n",
       "      <td>14273492771</td>\n",
       "      <td>Arrest</td>\n",
       "      <td>Firearm</td>\n",
       "      <td>8731</td>\n",
       "      <td>1994</td>\n",
       "      <td>M</td>\n",
       "      <td>Asian</td>\n",
       "      <td>...</td>\n",
       "      <td>FIGHT - VERBAL/ORAL (NO WEAPONS)</td>\n",
       "      <td>--ASSAULTS - HARASSMENT, THREATS</td>\n",
       "      <td>911</td>\n",
       "      <td>TRAINING - FIELD TRAINING SQUAD</td>\n",
       "      <td>Y</td>\n",
       "      <td>Y</td>\n",
       "      <td>East</td>\n",
       "      <td>G</td>\n",
       "      <td>G3</td>\n",
       "      <td>Y</td>\n",
       "    </tr>\n",
       "  </tbody>\n",
       "</table>\n",
       "<p>44814 rows × 24 columns</p>\n",
       "</div>"
      ],
      "text/plain": [
       "      subject_age_group   subject_id       go_sc_num  terry_stop_id  \\\n",
       "0                 26_35   unassigned  20140000120677          92317   \n",
       "1                 26_35   unassigned  20150000001463          28806   \n",
       "2                 26_35   unassigned  20150000001516          29599   \n",
       "3                 26_35   unassigned  20150000001670          32260   \n",
       "4                 26_35   unassigned  20150000001739          33155   \n",
       "...                 ...          ...             ...            ...   \n",
       "44833            56_100  13852338055  20200000209169    13852344465   \n",
       "44834            56_100  13855399471  20200000210914    13855407067   \n",
       "44835            56_100  13855696527  20200000211163    13855817033   \n",
       "44836            56_100  13930427243  20200000218545    13928574375   \n",
       "44837            56_100  14268071835  20200000223475    14273492771   \n",
       "\n",
       "      stop_resolution                        weapon_type officer_id  \\\n",
       "0              Arrest                               None     7500     \n",
       "1       Field Contact                               None     5670     \n",
       "2       Field Contact                               None     4844     \n",
       "3       Field Contact                               None     7539     \n",
       "4       Field Contact                               None     6973     \n",
       "...               ...                                ...        ...   \n",
       "44833   Field Contact  Knife/Cutting/Stabbing Instrument     8537     \n",
       "44834  Offense Report                            Unknown     8465     \n",
       "44835          Arrest                            Unknown     8626     \n",
       "44836   Field Contact                            Unknown     8672     \n",
       "44837          Arrest                            Firearm     8731     \n",
       "\n",
       "       officer_yob officer_gender               officer_race  ...  \\\n",
       "0             1984              M  Black or African American  ...   \n",
       "1             1965              M                      White  ...   \n",
       "2             1961              M                      White  ...   \n",
       "3             1963              M                      White  ...   \n",
       "4             1977              M                      White  ...   \n",
       "...            ...            ...                        ...  ...   \n",
       "44833         1988              M  Black or African American  ...   \n",
       "44834         1990              M                      White  ...   \n",
       "44835         1992              M                      White  ...   \n",
       "44836         1995              F         Hispanic or Latino  ...   \n",
       "44837         1994              M                      Asian  ...   \n",
       "\n",
       "                                    initial_call_type  \\\n",
       "0                                             Unknown   \n",
       "1                                             Unknown   \n",
       "2                                             Unknown   \n",
       "3                                             Unknown   \n",
       "4                                             Unknown   \n",
       "...                                               ...   \n",
       "44833  ASLT - IP/JO - WITH OR W/O WPNS (NO SHOOTINGS)   \n",
       "44834   THREATS (INCLS IN-PERSON/BY PHONE/IN WRITING)   \n",
       "44835                               ASLT - IP/JO - DV   \n",
       "44836       THEFT (DOES NOT INCLUDE SHOPLIFT OR SVCS)   \n",
       "44837                FIGHT - VERBAL/ORAL (NO WEAPONS)   \n",
       "\n",
       "                                    final_call_type call_type  \\\n",
       "0                                           Unknown   Unknown   \n",
       "1                                           Unknown   Unknown   \n",
       "2                                           Unknown   Unknown   \n",
       "3                                           Unknown   Unknown   \n",
       "4                                           Unknown   Unknown   \n",
       "...                                             ...       ...   \n",
       "44833  --DV - DOMESTIC VIOL/ASLT (ARREST MANDATORY)       911   \n",
       "44834              --ASSAULTS - HARASSMENT, THREATS       911   \n",
       "44835  --DV - DOMESTIC VIOL/ASLT (ARREST MANDATORY)       911   \n",
       "44836                           --PROWLER - GENERAL       911   \n",
       "44837              --ASSAULTS - HARASSMENT, THREATS       911   \n",
       "\n",
       "                         officer_squad arrest_flag frisk_flag precinct  \\\n",
       "0             SOUTH PCT 1ST W - ROBERT           N          N    South   \n",
       "1                                  NaN           N          N  Unknown   \n",
       "2                                  NaN           N    Unknown  Unknown   \n",
       "3                                  NaN           N          N  Unknown   \n",
       "4                                  NaN           N          N  Unknown   \n",
       "...                                ...         ...        ...      ...   \n",
       "44833         SOUTH PCT 3RD W - ROBERT           N          Y    South   \n",
       "44834            NORTH PCT 3RD W - BOY           N          N    North   \n",
       "44835      WEST PCT 1ST W - KING/QUEEN           Y          N     West   \n",
       "44836        NORTH PCT 3RD W - LINCOLN           N          N    North   \n",
       "44837  TRAINING - FIELD TRAINING SQUAD           Y          Y     East   \n",
       "\n",
       "        sector     beat repeat_offenders  \n",
       "0       O        O2                    N  \n",
       "1      Unknown  Unknown                N  \n",
       "2      Unknown  Unknown                N  \n",
       "3      Unknown  Unknown                N  \n",
       "4      Unknown  Unknown                N  \n",
       "...        ...      ...              ...  \n",
       "44833        S       S2                Y  \n",
       "44834        B       B3                Y  \n",
       "44835        M       M3                Y  \n",
       "44836        L       L1                Y  \n",
       "44837        G       G3                Y  \n",
       "\n",
       "[44814 rows x 24 columns]"
      ]
     },
     "execution_count": 2275,
     "metadata": {},
     "output_type": "execute_result"
    }
   ],
   "source": [
    "df = df.drop_duplicates('terry_stop_id', keep='first')\n",
    "df"
   ]
  },
  {
   "cell_type": "markdown",
   "metadata": {},
   "source": [
    "### Stop Resolution"
   ]
  },
  {
   "cell_type": "code",
   "execution_count": 2276,
   "metadata": {
    "ExecuteTime": {
     "end_time": "2020-11-25T22:13:47.163515Z",
     "start_time": "2020-11-25T22:13:47.153930Z"
    }
   },
   "outputs": [
    {
     "data": {
      "text/plain": [
       "Field Contact               17960\n",
       "Offense Report              15120\n",
       "Arrest                      10831\n",
       "Referred for Prosecution      728\n",
       "Citation / Infraction         175\n",
       "Name: stop_resolution, dtype: int64"
      ]
     },
     "execution_count": 2276,
     "metadata": {},
     "output_type": "execute_result"
    }
   ],
   "source": [
    "df.stop_resolution.value_counts()"
   ]
  },
  {
   "cell_type": "markdown",
   "metadata": {},
   "source": [
    "Since the above is getting data after stop is made I only want to know if arrest was made. This is because a resolution doesn't work for prediction modeling and the arrest is what we want to know."
   ]
  },
  {
   "cell_type": "code",
   "execution_count": 2277,
   "metadata": {
    "ExecuteTime": {
     "end_time": "2020-11-25T22:13:47.261665Z",
     "start_time": "2020-11-25T22:13:47.165948Z"
    }
   },
   "outputs": [
    {
     "name": "stdout",
     "output_type": "stream",
     "text": [
      "<class 'pandas.core.frame.DataFrame'>\n",
      "Int64Index: 44814 entries, 0 to 44837\n",
      "Data columns (total 24 columns):\n",
      " #   Column                    Non-Null Count  Dtype \n",
      "---  ------                    --------------  ----- \n",
      " 0   subject_age_group         44814 non-null  object\n",
      " 1   subject_id                44814 non-null  object\n",
      " 2   go_sc_num                 44814 non-null  int64 \n",
      " 3   terry_stop_id             44814 non-null  int64 \n",
      " 4   weapon_type               44814 non-null  object\n",
      " 5   officer_id                44814 non-null  object\n",
      " 6   officer_yob               44814 non-null  int64 \n",
      " 7   officer_gender            44814 non-null  object\n",
      " 8   officer_race              44814 non-null  object\n",
      " 9   subject_perceived_race    44814 non-null  object\n",
      " 10  subject_perceived_gender  44814 non-null  object\n",
      " 11  reported_date             44814 non-null  object\n",
      " 12  reported_time             44814 non-null  object\n",
      " 13  initial_call_type         44814 non-null  object\n",
      " 14  final_call_type           44814 non-null  object\n",
      " 15  call_type                 44814 non-null  object\n",
      " 16  officer_squad             44234 non-null  object\n",
      " 17  arrest_flag               44814 non-null  object\n",
      " 18  frisk_flag                44814 non-null  object\n",
      " 19  precinct                  44814 non-null  object\n",
      " 20  sector                    44814 non-null  object\n",
      " 21  beat                      44814 non-null  object\n",
      " 22  repeat_offenders          44814 non-null  object\n",
      " 23  arrest_made               44814 non-null  object\n",
      "dtypes: int64(3), object(21)\n",
      "memory usage: 8.5+ MB\n"
     ]
    }
   ],
   "source": [
    "arrest_made = [] # Initialize a an Empty List\n",
    "for value in df['stop_resolution']:\n",
    "    if value == 'Arrest': # Replace \"None\" Values with \"Y\" \n",
    "        arrest_made.append('Y')\n",
    "    else:\n",
    "        arrest_made.append('N') # Replace Other Values with \"N\" \n",
    "df['arrest_made'] = arrest_made # Create a New Column Called \"arrest_made\"\n",
    "df = df.drop(['stop_resolution'], axis=1) # Drop Column stop_resolution\n",
    "df.info() # Print First 5 Rows of DataFrame"
   ]
  },
  {
   "cell_type": "markdown",
   "metadata": {},
   "source": [
    "### Weapons Type"
   ]
  },
  {
   "cell_type": "code",
   "execution_count": 2278,
   "metadata": {
    "ExecuteTime": {
     "end_time": "2020-11-25T22:13:47.278190Z",
     "start_time": "2020-11-25T22:13:47.265778Z"
    }
   },
   "outputs": [
    {
     "data": {
      "text/plain": [
       "None                                 32565\n",
       "Unknown                               9671\n",
       "Lethal Cutting Instrument             1482\n",
       "Knife/Cutting/Stabbing Instrument      483\n",
       "Handgun                                280\n",
       "Firearm Other                          100\n",
       "Blunt Object/Striking Implement         66\n",
       "Club, Blackjack, Brass Knuckles         49\n",
       "Firearm                                 34\n",
       "Mace/Pepper Spray                       16\n",
       "Other Firearm                           15\n",
       "Firearm (unk type)                      15\n",
       "Club                                     9\n",
       "Rifle                                    7\n",
       "None/Not Applicable                      7\n",
       "Taser/Stun Gun                           5\n",
       "Fire/Incendiary Device                   3\n",
       "Shotgun                                  3\n",
       "Automatic Handgun                        2\n",
       "Blackjack                                1\n",
       "Brass Knuckles                           1\n",
       "Name: weapon_type, dtype: int64"
      ]
     },
     "execution_count": 2278,
     "metadata": {},
     "output_type": "execute_result"
    }
   ],
   "source": [
    "df.weapon_type.value_counts()"
   ]
  },
  {
   "cell_type": "markdown",
   "metadata": {},
   "source": [
    "The above data shows there are duplicates because a single person can be carrying multiple weapons type and the officer must create a separate entry for each weapon.\n",
    "\n",
    "I will drop the duplicates to help clean up those wrongefully classified as 'Repeat Offenders'"
   ]
  },
  {
   "cell_type": "code",
   "execution_count": 2279,
   "metadata": {
    "ExecuteTime": {
     "end_time": "2020-11-25T22:13:47.334058Z",
     "start_time": "2020-11-25T22:13:47.281493Z"
    }
   },
   "outputs": [
    {
     "data": {
      "text/html": [
       "<div>\n",
       "<style scoped>\n",
       "    .dataframe tbody tr th:only-of-type {\n",
       "        vertical-align: middle;\n",
       "    }\n",
       "\n",
       "    .dataframe tbody tr th {\n",
       "        vertical-align: top;\n",
       "    }\n",
       "\n",
       "    .dataframe thead th {\n",
       "        text-align: right;\n",
       "    }\n",
       "</style>\n",
       "<table border=\"1\" class=\"dataframe\">\n",
       "  <thead>\n",
       "    <tr style=\"text-align: right;\">\n",
       "      <th></th>\n",
       "      <th>subject_age_group</th>\n",
       "      <th>subject_id</th>\n",
       "      <th>go_sc_num</th>\n",
       "      <th>terry_stop_id</th>\n",
       "      <th>weapon_type</th>\n",
       "      <th>officer_id</th>\n",
       "      <th>officer_yob</th>\n",
       "      <th>officer_gender</th>\n",
       "      <th>officer_race</th>\n",
       "      <th>subject_perceived_race</th>\n",
       "      <th>...</th>\n",
       "      <th>call_type</th>\n",
       "      <th>officer_squad</th>\n",
       "      <th>arrest_flag</th>\n",
       "      <th>frisk_flag</th>\n",
       "      <th>precinct</th>\n",
       "      <th>sector</th>\n",
       "      <th>beat</th>\n",
       "      <th>repeat_offenders</th>\n",
       "      <th>arrest_made</th>\n",
       "      <th>weapon</th>\n",
       "    </tr>\n",
       "  </thead>\n",
       "  <tbody>\n",
       "    <tr>\n",
       "      <th>0</th>\n",
       "      <td>26_35</td>\n",
       "      <td>unassigned</td>\n",
       "      <td>20140000120677</td>\n",
       "      <td>92317</td>\n",
       "      <td>None</td>\n",
       "      <td>7500</td>\n",
       "      <td>1984</td>\n",
       "      <td>M</td>\n",
       "      <td>Black or African American</td>\n",
       "      <td>Asian</td>\n",
       "      <td>...</td>\n",
       "      <td>Unknown</td>\n",
       "      <td>SOUTH PCT 1ST W - ROBERT</td>\n",
       "      <td>N</td>\n",
       "      <td>N</td>\n",
       "      <td>South</td>\n",
       "      <td>O</td>\n",
       "      <td>O2</td>\n",
       "      <td>N</td>\n",
       "      <td>Y</td>\n",
       "      <td>0</td>\n",
       "    </tr>\n",
       "    <tr>\n",
       "      <th>1</th>\n",
       "      <td>26_35</td>\n",
       "      <td>unassigned</td>\n",
       "      <td>20150000001463</td>\n",
       "      <td>28806</td>\n",
       "      <td>None</td>\n",
       "      <td>5670</td>\n",
       "      <td>1965</td>\n",
       "      <td>M</td>\n",
       "      <td>White</td>\n",
       "      <td>Unknown</td>\n",
       "      <td>...</td>\n",
       "      <td>Unknown</td>\n",
       "      <td>NaN</td>\n",
       "      <td>N</td>\n",
       "      <td>N</td>\n",
       "      <td>Unknown</td>\n",
       "      <td>Unknown</td>\n",
       "      <td>Unknown</td>\n",
       "      <td>N</td>\n",
       "      <td>N</td>\n",
       "      <td>0</td>\n",
       "    </tr>\n",
       "    <tr>\n",
       "      <th>2</th>\n",
       "      <td>26_35</td>\n",
       "      <td>unassigned</td>\n",
       "      <td>20150000001516</td>\n",
       "      <td>29599</td>\n",
       "      <td>None</td>\n",
       "      <td>4844</td>\n",
       "      <td>1961</td>\n",
       "      <td>M</td>\n",
       "      <td>White</td>\n",
       "      <td>White</td>\n",
       "      <td>...</td>\n",
       "      <td>Unknown</td>\n",
       "      <td>NaN</td>\n",
       "      <td>N</td>\n",
       "      <td>Unknown</td>\n",
       "      <td>Unknown</td>\n",
       "      <td>Unknown</td>\n",
       "      <td>Unknown</td>\n",
       "      <td>N</td>\n",
       "      <td>N</td>\n",
       "      <td>0</td>\n",
       "    </tr>\n",
       "    <tr>\n",
       "      <th>3</th>\n",
       "      <td>26_35</td>\n",
       "      <td>unassigned</td>\n",
       "      <td>20150000001670</td>\n",
       "      <td>32260</td>\n",
       "      <td>None</td>\n",
       "      <td>7539</td>\n",
       "      <td>1963</td>\n",
       "      <td>M</td>\n",
       "      <td>White</td>\n",
       "      <td>Unknown</td>\n",
       "      <td>...</td>\n",
       "      <td>Unknown</td>\n",
       "      <td>NaN</td>\n",
       "      <td>N</td>\n",
       "      <td>N</td>\n",
       "      <td>Unknown</td>\n",
       "      <td>Unknown</td>\n",
       "      <td>Unknown</td>\n",
       "      <td>N</td>\n",
       "      <td>N</td>\n",
       "      <td>0</td>\n",
       "    </tr>\n",
       "    <tr>\n",
       "      <th>4</th>\n",
       "      <td>26_35</td>\n",
       "      <td>unassigned</td>\n",
       "      <td>20150000001739</td>\n",
       "      <td>33155</td>\n",
       "      <td>None</td>\n",
       "      <td>6973</td>\n",
       "      <td>1977</td>\n",
       "      <td>M</td>\n",
       "      <td>White</td>\n",
       "      <td>Black or African American</td>\n",
       "      <td>...</td>\n",
       "      <td>Unknown</td>\n",
       "      <td>NaN</td>\n",
       "      <td>N</td>\n",
       "      <td>N</td>\n",
       "      <td>Unknown</td>\n",
       "      <td>Unknown</td>\n",
       "      <td>Unknown</td>\n",
       "      <td>N</td>\n",
       "      <td>N</td>\n",
       "      <td>0</td>\n",
       "    </tr>\n",
       "  </tbody>\n",
       "</table>\n",
       "<p>5 rows × 25 columns</p>\n",
       "</div>"
      ],
      "text/plain": [
       "  subject_age_group  subject_id       go_sc_num  terry_stop_id weapon_type  \\\n",
       "0             26_35  unassigned  20140000120677          92317        None   \n",
       "1             26_35  unassigned  20150000001463          28806        None   \n",
       "2             26_35  unassigned  20150000001516          29599        None   \n",
       "3             26_35  unassigned  20150000001670          32260        None   \n",
       "4             26_35  unassigned  20150000001739          33155        None   \n",
       "\n",
       "  officer_id  officer_yob officer_gender               officer_race  \\\n",
       "0     7500           1984              M  Black or African American   \n",
       "1     5670           1965              M                      White   \n",
       "2     4844           1961              M                      White   \n",
       "3     7539           1963              M                      White   \n",
       "4     6973           1977              M                      White   \n",
       "\n",
       "      subject_perceived_race  ... call_type             officer_squad  \\\n",
       "0                      Asian  ...   Unknown  SOUTH PCT 1ST W - ROBERT   \n",
       "1                    Unknown  ...   Unknown                       NaN   \n",
       "2                      White  ...   Unknown                       NaN   \n",
       "3                    Unknown  ...   Unknown                       NaN   \n",
       "4  Black or African American  ...   Unknown                       NaN   \n",
       "\n",
       "  arrest_flag frisk_flag precinct   sector     beat repeat_offenders  \\\n",
       "0           N          N    South   O        O2                    N   \n",
       "1           N          N  Unknown  Unknown  Unknown                N   \n",
       "2           N    Unknown  Unknown  Unknown  Unknown                N   \n",
       "3           N          N  Unknown  Unknown  Unknown                N   \n",
       "4           N          N  Unknown  Unknown  Unknown                N   \n",
       "\n",
       "  arrest_made weapon  \n",
       "0           Y      0  \n",
       "1           N      0  \n",
       "2           N      0  \n",
       "3           N      0  \n",
       "4           N      0  \n",
       "\n",
       "[5 rows x 25 columns]"
      ]
     },
     "execution_count": 2279,
     "metadata": {},
     "output_type": "execute_result"
    }
   ],
   "source": [
    "# Switch Weapon Type to Weapon (0's & 1's)\n",
    "weapon = [] # Initialize a an Empty List\n",
    "for value in df['weapon_type']:\n",
    "    if value == 'None': # Replace \"None\" Values with \"0\" \n",
    "        weapon.append(0)\n",
    "    else:\n",
    "        weapon.append(1) # Replace Other Values with \"0\" \n",
    "df['weapon'] = weapon # Create a New Column Called \"Weapon\"\n",
    "df.head() # Print First 5 Rows of DataFrame"
   ]
  },
  {
   "cell_type": "code",
   "execution_count": null,
   "metadata": {
    "ExecuteTime": {
     "end_time": "2020-11-24T02:41:52.520954Z",
     "start_time": "2020-11-24T02:41:52.471848Z"
    }
   },
   "outputs": [],
   "source": []
  },
  {
   "cell_type": "code",
   "execution_count": null,
   "metadata": {},
   "outputs": [],
   "source": []
  },
  {
   "cell_type": "code",
   "execution_count": 2280,
   "metadata": {
    "ExecuteTime": {
     "end_time": "2020-11-25T22:13:47.341115Z",
     "start_time": "2020-11-25T22:13:47.336021Z"
    }
   },
   "outputs": [],
   "source": [
    "def replace_val(df, column, old, new):\n",
    "        \"\"\"\n",
    "        Input: data frame, specific column, list (must in list format, even if \n",
    "        it's a single value) of values you would like to change (old), and a \n",
    "        new value to replace each item with.\n",
    "        \n",
    "        Output: Data frame with each old value in list changed to the new \n",
    "        value.\n",
    "        \"\"\"\n",
    "        \n",
    "        for i in range(len(df[column])):\n",
    "            for j in range(len(old)): \n",
    "                if df[column].iloc[i] == old[j]:\n",
    "                    df[column].iloc[i] = df[column].iloc[i].replace(old[j], \n",
    "                                                                    new)"
   ]
  },
  {
   "cell_type": "code",
   "execution_count": 2281,
   "metadata": {
    "ExecuteTime": {
     "end_time": "2020-11-25T22:13:47.345724Z",
     "start_time": "2020-11-25T22:13:47.343122Z"
    }
   },
   "outputs": [],
   "source": [
    "# weapon types to replace\n",
    "# none = ['None/Not Applicable']\n",
    "\n",
    "# knife = ['Lethal Cutting Instrument', 'Knife/Cutting/Stabbing Instrument']\n",
    "\n",
    "# blunt_obj = ['Club, Blackjack, Brass Knuckles', 'Club', 'Blackjack', \n",
    "#              'Brass Knuckles']\n",
    "# firearm = ['Firearm Other', 'Firearm (unk type)', 'Other Firearm', 'Rifle', \n",
    "#           'Shotgun', 'Automatic Handgun', 'Handgun']\n",
    "# other = ['Taser/Stun Gun', 'Mace/Pepper Spray', 'Fire/Incendiary Device']"
   ]
  },
  {
   "cell_type": "code",
   "execution_count": 2282,
   "metadata": {
    "ExecuteTime": {
     "end_time": "2020-11-25T22:13:47.350552Z",
     "start_time": "2020-11-25T22:13:47.348216Z"
    }
   },
   "outputs": [],
   "source": [
    "# replacing none\n",
    "# replace_val(df, 'weapon_type', none, 'None')\n",
    "\n",
    "# # replacing knife\n",
    "# replace_val(df, 'weapon_type', knife, 'Knife/Stabbing Instrument')\n",
    "\n",
    "# # replacing blunt object\n",
    "# replace_val(df, 'weapon_type', blunt_obj, 'Blunt Object/Striking Implement')\n",
    "\n",
    "# # replacing firearm\n",
    "# replace_val(df, 'weapon_type', firearm, 'Firearm')\n",
    "\n",
    "# # other\n",
    "# replace_val(df, 'weapon_type', other, 'Other')"
   ]
  },
  {
   "cell_type": "code",
   "execution_count": 2283,
   "metadata": {
    "ExecuteTime": {
     "end_time": "2020-11-25T22:13:47.358416Z",
     "start_time": "2020-11-25T22:13:47.352643Z"
    }
   },
   "outputs": [
    {
     "data": {
      "text/plain": [
       "0    32565\n",
       "1    12249\n",
       "Name: weapon, dtype: int64"
      ]
     },
     "execution_count": 2283,
     "metadata": {},
     "output_type": "execute_result"
    }
   ],
   "source": [
    "df.weapon.value_counts()"
   ]
  },
  {
   "cell_type": "code",
   "execution_count": 2284,
   "metadata": {
    "ExecuteTime": {
     "end_time": "2020-11-25T22:13:47.413131Z",
     "start_time": "2020-11-25T22:13:47.360234Z"
    }
   },
   "outputs": [
    {
     "name": "stdout",
     "output_type": "stream",
     "text": [
      "<class 'pandas.core.frame.DataFrame'>\n",
      "Int64Index: 44814 entries, 0 to 44837\n",
      "Data columns (total 25 columns):\n",
      " #   Column                    Non-Null Count  Dtype \n",
      "---  ------                    --------------  ----- \n",
      " 0   subject_age_group         44814 non-null  object\n",
      " 1   subject_id                44814 non-null  object\n",
      " 2   go_sc_num                 44814 non-null  int64 \n",
      " 3   terry_stop_id             44814 non-null  int64 \n",
      " 4   weapon_type               44814 non-null  object\n",
      " 5   officer_id                44814 non-null  object\n",
      " 6   officer_yob               44814 non-null  int64 \n",
      " 7   officer_gender            44814 non-null  object\n",
      " 8   officer_race              44814 non-null  object\n",
      " 9   subject_perceived_race    44814 non-null  object\n",
      " 10  subject_perceived_gender  44814 non-null  object\n",
      " 11  reported_date             44814 non-null  object\n",
      " 12  reported_time             44814 non-null  object\n",
      " 13  initial_call_type         44814 non-null  object\n",
      " 14  final_call_type           44814 non-null  object\n",
      " 15  call_type                 44814 non-null  object\n",
      " 16  officer_squad             44234 non-null  object\n",
      " 17  arrest_flag               44814 non-null  object\n",
      " 18  frisk_flag                44814 non-null  object\n",
      " 19  precinct                  44814 non-null  object\n",
      " 20  sector                    44814 non-null  object\n",
      " 21  beat                      44814 non-null  object\n",
      " 22  repeat_offenders          44814 non-null  object\n",
      " 23  arrest_made               44814 non-null  object\n",
      " 24  weapon                    44814 non-null  int64 \n",
      "dtypes: int64(4), object(21)\n",
      "memory usage: 8.9+ MB\n"
     ]
    }
   ],
   "source": [
    "df.info()"
   ]
  },
  {
   "cell_type": "code",
   "execution_count": null,
   "metadata": {},
   "outputs": [],
   "source": []
  },
  {
   "cell_type": "code",
   "execution_count": null,
   "metadata": {},
   "outputs": [],
   "source": []
  },
  {
   "cell_type": "code",
   "execution_count": null,
   "metadata": {
    "ExecuteTime": {
     "end_time": "2020-11-23T14:16:48.010218Z",
     "start_time": "2020-11-23T14:16:48.000502Z"
    }
   },
   "outputs": [],
   "source": []
  },
  {
   "cell_type": "markdown",
   "metadata": {},
   "source": [
    "### Officer ID\n",
    "   "
   ]
  },
  {
   "cell_type": "code",
   "execution_count": 2285,
   "metadata": {
    "ExecuteTime": {
     "end_time": "2020-11-25T22:13:47.426686Z",
     "start_time": "2020-11-25T22:13:47.415669Z"
    }
   },
   "outputs": [
    {
     "data": {
      "text/plain": [
       "7456      401\n",
       "7634      339\n",
       "7773      306\n",
       "7765      304\n",
       "7758      299\n",
       "         ... \n",
       "4729        1\n",
       "6231        1\n",
       "5014        1\n",
       "5469        1\n",
       "6808        1\n",
       "Name: officer_id, Length: 1178, dtype: int64"
      ]
     },
     "execution_count": 2285,
     "metadata": {},
     "output_type": "execute_result"
    }
   ],
   "source": [
    "df.officer_id.value_counts()"
   ]
  },
  {
   "cell_type": "code",
   "execution_count": 2286,
   "metadata": {
    "ExecuteTime": {
     "end_time": "2020-11-25T22:13:47.440840Z",
     "start_time": "2020-11-25T22:13:47.428588Z"
    }
   },
   "outputs": [],
   "source": [
    "# this will be dropped, not needed\n",
    "df = df.drop(['officer_id'], axis =1) "
   ]
  },
  {
   "cell_type": "code",
   "execution_count": 2287,
   "metadata": {
    "ExecuteTime": {
     "end_time": "2020-11-25T22:13:47.488074Z",
     "start_time": "2020-11-25T22:13:47.442874Z"
    }
   },
   "outputs": [
    {
     "name": "stdout",
     "output_type": "stream",
     "text": [
      "<class 'pandas.core.frame.DataFrame'>\n",
      "Int64Index: 44814 entries, 0 to 44837\n",
      "Data columns (total 24 columns):\n",
      " #   Column                    Non-Null Count  Dtype \n",
      "---  ------                    --------------  ----- \n",
      " 0   subject_age_group         44814 non-null  object\n",
      " 1   subject_id                44814 non-null  object\n",
      " 2   go_sc_num                 44814 non-null  int64 \n",
      " 3   terry_stop_id             44814 non-null  int64 \n",
      " 4   weapon_type               44814 non-null  object\n",
      " 5   officer_yob               44814 non-null  int64 \n",
      " 6   officer_gender            44814 non-null  object\n",
      " 7   officer_race              44814 non-null  object\n",
      " 8   subject_perceived_race    44814 non-null  object\n",
      " 9   subject_perceived_gender  44814 non-null  object\n",
      " 10  reported_date             44814 non-null  object\n",
      " 11  reported_time             44814 non-null  object\n",
      " 12  initial_call_type         44814 non-null  object\n",
      " 13  final_call_type           44814 non-null  object\n",
      " 14  call_type                 44814 non-null  object\n",
      " 15  officer_squad             44234 non-null  object\n",
      " 16  arrest_flag               44814 non-null  object\n",
      " 17  frisk_flag                44814 non-null  object\n",
      " 18  precinct                  44814 non-null  object\n",
      " 19  sector                    44814 non-null  object\n",
      " 20  beat                      44814 non-null  object\n",
      " 21  repeat_offenders          44814 non-null  object\n",
      " 22  arrest_made               44814 non-null  object\n",
      " 23  weapon                    44814 non-null  int64 \n",
      "dtypes: int64(4), object(20)\n",
      "memory usage: 8.5+ MB\n"
     ]
    }
   ],
   "source": [
    "#check\n",
    "df.info()"
   ]
  },
  {
   "cell_type": "markdown",
   "metadata": {},
   "source": [
    "### Report Date/Age of Officer"
   ]
  },
  {
   "cell_type": "code",
   "execution_count": 2288,
   "metadata": {
    "ExecuteTime": {
     "end_time": "2020-11-25T22:13:47.496100Z",
     "start_time": "2020-11-25T22:13:47.490253Z"
    }
   },
   "outputs": [
    {
     "data": {
      "text/plain": [
       "0    2015-10-16T00:00:00\n",
       "1    2015-03-19T00:00:00\n",
       "2    2015-03-21T00:00:00\n",
       "3    2015-04-01T00:00:00\n",
       "4    2015-04-03T00:00:00\n",
       "Name: reported_date, dtype: object"
      ]
     },
     "execution_count": 2288,
     "metadata": {},
     "output_type": "execute_result"
    }
   ],
   "source": [
    "df.reported_date.head()"
   ]
  },
  {
   "cell_type": "code",
   "execution_count": 2289,
   "metadata": {
    "ExecuteTime": {
     "end_time": "2020-11-25T22:13:47.563269Z",
     "start_time": "2020-11-25T22:13:47.498997Z"
    }
   },
   "outputs": [
    {
     "data": {
      "text/plain": [
       "2015-10-01    101\n",
       "2015-09-29     66\n",
       "2015-05-28     57\n",
       "2015-07-18     55\n",
       "2019-04-26     54\n",
       "             ... \n",
       "2015-03-15      1\n",
       "2015-05-06      1\n",
       "2015-04-28      1\n",
       "2015-03-24      1\n",
       "2015-05-10      1\n",
       "Name: reported_date, Length: 2064, dtype: int64"
      ]
     },
     "execution_count": 2289,
     "metadata": {},
     "output_type": "execute_result"
    }
   ],
   "source": [
    "# removing the time tag\n",
    "df['reported_date'] = df['reported_date'].str.replace(r'T00:00:00$','')\n",
    "df.reported_date.value_counts()"
   ]
  },
  {
   "cell_type": "code",
   "execution_count": 2290,
   "metadata": {
    "ExecuteTime": {
     "end_time": "2020-11-25T22:13:47.594699Z",
     "start_time": "2020-11-25T22:13:47.567151Z"
    }
   },
   "outputs": [
    {
     "data": {
      "text/plain": [
       "2018    8883\n",
       "2019    8242\n",
       "2016    7715\n",
       "2017    7488\n",
       "2015    7059\n",
       "2020    5427\n",
       "Name: incident_year, dtype: int64"
      ]
     },
     "execution_count": 2290,
     "metadata": {},
     "output_type": "execute_result"
    }
   ],
   "source": [
    " # converting to date time\n",
    "import datetime as dt\n",
    "\n",
    "df['reported_date'] = pd.to_datetime(df['reported_date'])\n",
    "# creating column containing the incident year \n",
    "df['incident_year'] = df['reported_date'].dt.year\n",
    "df['incident_year'].value_counts()"
   ]
  },
  {
   "cell_type": "code",
   "execution_count": 2291,
   "metadata": {
    "ExecuteTime": {
     "end_time": "2020-11-25T22:13:47.605314Z",
     "start_time": "2020-11-25T22:13:47.596766Z"
    }
   },
   "outputs": [
    {
     "data": {
      "text/plain": [
       "0    10\n",
       "1     3\n",
       "2     3\n",
       "3     4\n",
       "4     4\n",
       "Name: incident_month, dtype: int64"
      ]
     },
     "execution_count": 2291,
     "metadata": {},
     "output_type": "execute_result"
    }
   ],
   "source": [
    "df['incident_month'] = df['reported_date'].dt.month\n",
    "df['incident_month'].head()"
   ]
  },
  {
   "cell_type": "code",
   "execution_count": 2292,
   "metadata": {
    "ExecuteTime": {
     "end_time": "2020-11-25T22:13:47.624614Z",
     "start_time": "2020-11-25T22:13:47.607478Z"
    }
   },
   "outputs": [],
   "source": [
    "df = df.drop('reported_date', axis=1)"
   ]
  },
  {
   "cell_type": "markdown",
   "metadata": {},
   "source": [
    "#### Feature Engineer Officer's Age"
   ]
  },
  {
   "cell_type": "code",
   "execution_count": 2293,
   "metadata": {
    "ExecuteTime": {
     "end_time": "2020-11-25T22:13:47.635126Z",
     "start_time": "2020-11-25T22:13:47.626804Z"
    }
   },
   "outputs": [
    {
     "data": {
      "text/plain": [
       "0        31\n",
       "1        50\n",
       "2        54\n",
       "3        52\n",
       "4        38\n",
       "         ..\n",
       "44833    32\n",
       "44834    30\n",
       "44835    28\n",
       "44836    25\n",
       "44837    26\n",
       "Name: officer_age, Length: 44814, dtype: int64"
      ]
     },
     "execution_count": 2293,
     "metadata": {},
     "output_type": "execute_result"
    }
   ],
   "source": [
    "df['officer_age'] = df['incident_year'] - df['officer_yob']\n",
    "df['officer_age']"
   ]
  },
  {
   "cell_type": "code",
   "execution_count": 2294,
   "metadata": {
    "ExecuteTime": {
     "end_time": "2020-11-25T22:13:47.648906Z",
     "start_time": "2020-11-25T22:13:47.645588Z"
    }
   },
   "outputs": [],
   "source": [
    "#df = df.drop('officer_yob', axis=1)"
   ]
  },
  {
   "cell_type": "code",
   "execution_count": 2295,
   "metadata": {
    "ExecuteTime": {
     "end_time": "2020-11-25T22:13:47.662178Z",
     "start_time": "2020-11-25T22:13:47.655359Z"
    }
   },
   "outputs": [
    {
     "data": {
      "text/plain": [
       "31     2998\n",
       "30     2820\n",
       "33     2725\n",
       "32     2657\n",
       "29     2479\n",
       "34     2422\n",
       "28     2382\n",
       "27     2102\n",
       "26     2083\n",
       "35     1815\n",
       "25     1796\n",
       "24     1666\n",
       "36     1335\n",
       "37     1257\n",
       "38     1176\n",
       "39     1058\n",
       "40      984\n",
       "42      886\n",
       "23      881\n",
       "41      838\n",
       "45      742\n",
       "44      733\n",
       "46      701\n",
       "48      638\n",
       "43      637\n",
       "47      622\n",
       "49      579\n",
       "50      565\n",
       "54      443\n",
       "51      419\n",
       "53      396\n",
       "52      344\n",
       "55      319\n",
       "56      264\n",
       "22      251\n",
       "57      229\n",
       "58      181\n",
       "59       94\n",
       "60       76\n",
       "61       39\n",
       "63       34\n",
       "119      28\n",
       "120      25\n",
       "21       19\n",
       "62       19\n",
       "65       16\n",
       "64       14\n",
       "67       12\n",
       "68        4\n",
       "118       3\n",
       "116       2\n",
       "66        2\n",
       "70        1\n",
       "69        1\n",
       "117       1\n",
       "115       1\n",
       "Name: officer_age, dtype: int64"
      ]
     },
     "execution_count": 2295,
     "metadata": {},
     "output_type": "execute_result"
    }
   ],
   "source": [
    "df.officer_age.value_counts()"
   ]
  },
  {
   "cell_type": "code",
   "execution_count": 2296,
   "metadata": {
    "ExecuteTime": {
     "end_time": "2020-11-25T22:13:47.734455Z",
     "start_time": "2020-11-25T22:13:47.664659Z"
    }
   },
   "outputs": [
    {
     "data": {
      "text/plain": [
       "array([31, 50, 54, 52, 38, 42, 30, 29, 51, 56, 36, 34, 46, 32, 49, 47, 28,\n",
       "       63, 45, 39, 43, 33, 24, 27, 44, 37, 25, 40, 48, 23, 53, 35, 67, 26,\n",
       "       62, 41, 55, 57, 58, 22, 59, 60, 61, 69, 66, 70, 21, 64, 68, 65])"
      ]
     },
     "execution_count": 2296,
     "metadata": {},
     "output_type": "execute_result"
    }
   ],
   "source": [
    "# drop the ages that don't make sense\n",
    "df = df[df['officer_age'] != 120]  \n",
    "df = df[df['officer_age'] != 118]\n",
    "df = df[df['officer_age'] != 116]\n",
    "df = df[df['officer_age'] != 119]\n",
    "df = df[df['officer_age'] != 115]\n",
    "df = df[df['officer_age'] != 117]\n",
    "df.officer_age.unique()"
   ]
  },
  {
   "cell_type": "markdown",
   "metadata": {},
   "source": [
    "### Reported Time"
   ]
  },
  {
   "cell_type": "markdown",
   "metadata": {
    "ExecuteTime": {
     "end_time": "2020-11-18T16:25:46.198469Z",
     "start_time": "2020-11-18T16:25:46.192650Z"
    }
   },
   "source": [
    "Here I want to categorize the time of day of the reports"
   ]
  },
  {
   "cell_type": "code",
   "execution_count": 2297,
   "metadata": {
    "ExecuteTime": {
     "end_time": "2020-11-25T22:13:50.373162Z",
     "start_time": "2020-11-25T22:13:47.736263Z"
    }
   },
   "outputs": [
    {
     "data": {
      "text/plain": [
       "0    11\n",
       "1     7\n",
       "2    19\n",
       "3     4\n",
       "4     0\n",
       "Name: reported_hour, dtype: int64"
      ]
     },
     "execution_count": 2297,
     "metadata": {},
     "output_type": "execute_result"
    }
   ],
   "source": [
    "df['reported_time'] = pd.to_datetime(df['reported_time'])\n",
    "df['reported_hour'] = df['reported_time'].dt.hour\n",
    "df.reported_hour.head()"
   ]
  },
  {
   "cell_type": "code",
   "execution_count": 2298,
   "metadata": {
    "ExecuteTime": {
     "end_time": "2020-11-25T22:13:50.429634Z",
     "start_time": "2020-11-25T22:13:50.375179Z"
    }
   },
   "outputs": [
    {
     "name": "stdout",
     "output_type": "stream",
     "text": [
      "<class 'pandas.core.frame.DataFrame'>\n",
      "Int64Index: 44754 entries, 0 to 44837\n",
      "Data columns (total 26 columns):\n",
      " #   Column                    Non-Null Count  Dtype \n",
      "---  ------                    --------------  ----- \n",
      " 0   subject_age_group         44754 non-null  object\n",
      " 1   subject_id                44754 non-null  object\n",
      " 2   go_sc_num                 44754 non-null  int64 \n",
      " 3   terry_stop_id             44754 non-null  int64 \n",
      " 4   weapon_type               44754 non-null  object\n",
      " 5   officer_yob               44754 non-null  int64 \n",
      " 6   officer_gender            44754 non-null  object\n",
      " 7   officer_race              44754 non-null  object\n",
      " 8   subject_perceived_race    44754 non-null  object\n",
      " 9   subject_perceived_gender  44754 non-null  object\n",
      " 10  initial_call_type         44754 non-null  object\n",
      " 11  final_call_type           44754 non-null  object\n",
      " 12  call_type                 44754 non-null  object\n",
      " 13  officer_squad             44207 non-null  object\n",
      " 14  arrest_flag               44754 non-null  object\n",
      " 15  frisk_flag                44754 non-null  object\n",
      " 16  precinct                  44754 non-null  object\n",
      " 17  sector                    44754 non-null  object\n",
      " 18  beat                      44754 non-null  object\n",
      " 19  repeat_offenders          44754 non-null  object\n",
      " 20  arrest_made               44754 non-null  object\n",
      " 21  weapon                    44754 non-null  int64 \n",
      " 22  incident_year             44754 non-null  int64 \n",
      " 23  incident_month            44754 non-null  int64 \n",
      " 24  officer_age               44754 non-null  int64 \n",
      " 25  reported_hour             44754 non-null  int64 \n",
      "dtypes: int64(8), object(18)\n",
      "memory usage: 9.2+ MB\n"
     ]
    }
   ],
   "source": [
    "df = df.drop('reported_time', axis =1)\n",
    "df.info()"
   ]
  },
  {
   "cell_type": "markdown",
   "metadata": {
    "ExecuteTime": {
     "end_time": "2020-11-18T16:39:22.543119Z",
     "start_time": "2020-11-18T16:39:22.384625Z"
    }
   },
   "source": [
    "### Call Types"
   ]
  },
  {
   "cell_type": "code",
   "execution_count": 2299,
   "metadata": {
    "ExecuteTime": {
     "end_time": "2020-11-25T22:13:50.442284Z",
     "start_time": "2020-11-25T22:13:50.432358Z"
    }
   },
   "outputs": [
    {
     "data": {
      "text/plain": [
       "911                              19858\n",
       "Unknown                          13003\n",
       "ONVIEW                            8480\n",
       "TELEPHONE OTHER, NOT 911          3114\n",
       "ALARM CALL (NOT POLICE ALARM)      292\n",
       "TEXT MESSAGE                         6\n",
       "SCHEDULED EVENT (RECURRING)          1\n",
       "Name: call_type, dtype: int64"
      ]
     },
     "execution_count": 2299,
     "metadata": {},
     "output_type": "execute_result"
    }
   ],
   "source": [
    "df['call_type'].value_counts()"
   ]
  },
  {
   "cell_type": "code",
   "execution_count": 2300,
   "metadata": {
    "ExecuteTime": {
     "end_time": "2020-11-25T22:13:50.506497Z",
     "start_time": "2020-11-25T22:13:50.444320Z"
    }
   },
   "outputs": [
    {
     "data": {
      "text/html": [
       "<div>\n",
       "<style scoped>\n",
       "    .dataframe tbody tr th:only-of-type {\n",
       "        vertical-align: middle;\n",
       "    }\n",
       "\n",
       "    .dataframe tbody tr th {\n",
       "        vertical-align: top;\n",
       "    }\n",
       "\n",
       "    .dataframe thead th {\n",
       "        text-align: right;\n",
       "    }\n",
       "</style>\n",
       "<table border=\"1\" class=\"dataframe\">\n",
       "  <thead>\n",
       "    <tr style=\"text-align: right;\">\n",
       "      <th></th>\n",
       "      <th>subject_age_group</th>\n",
       "      <th>subject_id</th>\n",
       "      <th>go_sc_num</th>\n",
       "      <th>terry_stop_id</th>\n",
       "      <th>weapon_type</th>\n",
       "      <th>officer_yob</th>\n",
       "      <th>officer_gender</th>\n",
       "      <th>officer_race</th>\n",
       "      <th>subject_perceived_race</th>\n",
       "      <th>subject_perceived_gender</th>\n",
       "      <th>...</th>\n",
       "      <th>sector</th>\n",
       "      <th>beat</th>\n",
       "      <th>repeat_offenders</th>\n",
       "      <th>arrest_made</th>\n",
       "      <th>weapon</th>\n",
       "      <th>incident_year</th>\n",
       "      <th>incident_month</th>\n",
       "      <th>officer_age</th>\n",
       "      <th>reported_hour</th>\n",
       "      <th>call_made</th>\n",
       "    </tr>\n",
       "  </thead>\n",
       "  <tbody>\n",
       "    <tr>\n",
       "      <th>0</th>\n",
       "      <td>26_35</td>\n",
       "      <td>unassigned</td>\n",
       "      <td>20140000120677</td>\n",
       "      <td>92317</td>\n",
       "      <td>None</td>\n",
       "      <td>1984</td>\n",
       "      <td>M</td>\n",
       "      <td>Black or African American</td>\n",
       "      <td>Asian</td>\n",
       "      <td>Male</td>\n",
       "      <td>...</td>\n",
       "      <td>O</td>\n",
       "      <td>O2</td>\n",
       "      <td>N</td>\n",
       "      <td>Y</td>\n",
       "      <td>0</td>\n",
       "      <td>2015</td>\n",
       "      <td>10</td>\n",
       "      <td>31</td>\n",
       "      <td>11</td>\n",
       "      <td>0</td>\n",
       "    </tr>\n",
       "    <tr>\n",
       "      <th>1</th>\n",
       "      <td>26_35</td>\n",
       "      <td>unassigned</td>\n",
       "      <td>20150000001463</td>\n",
       "      <td>28806</td>\n",
       "      <td>None</td>\n",
       "      <td>1965</td>\n",
       "      <td>M</td>\n",
       "      <td>White</td>\n",
       "      <td>Unknown</td>\n",
       "      <td>Unknown</td>\n",
       "      <td>...</td>\n",
       "      <td>Unknown</td>\n",
       "      <td>Unknown</td>\n",
       "      <td>N</td>\n",
       "      <td>N</td>\n",
       "      <td>0</td>\n",
       "      <td>2015</td>\n",
       "      <td>3</td>\n",
       "      <td>50</td>\n",
       "      <td>7</td>\n",
       "      <td>0</td>\n",
       "    </tr>\n",
       "    <tr>\n",
       "      <th>2</th>\n",
       "      <td>26_35</td>\n",
       "      <td>unassigned</td>\n",
       "      <td>20150000001516</td>\n",
       "      <td>29599</td>\n",
       "      <td>None</td>\n",
       "      <td>1961</td>\n",
       "      <td>M</td>\n",
       "      <td>White</td>\n",
       "      <td>White</td>\n",
       "      <td>Male</td>\n",
       "      <td>...</td>\n",
       "      <td>Unknown</td>\n",
       "      <td>Unknown</td>\n",
       "      <td>N</td>\n",
       "      <td>N</td>\n",
       "      <td>0</td>\n",
       "      <td>2015</td>\n",
       "      <td>3</td>\n",
       "      <td>54</td>\n",
       "      <td>19</td>\n",
       "      <td>0</td>\n",
       "    </tr>\n",
       "    <tr>\n",
       "      <th>3</th>\n",
       "      <td>26_35</td>\n",
       "      <td>unassigned</td>\n",
       "      <td>20150000001670</td>\n",
       "      <td>32260</td>\n",
       "      <td>None</td>\n",
       "      <td>1963</td>\n",
       "      <td>M</td>\n",
       "      <td>White</td>\n",
       "      <td>Unknown</td>\n",
       "      <td>Unknown</td>\n",
       "      <td>...</td>\n",
       "      <td>Unknown</td>\n",
       "      <td>Unknown</td>\n",
       "      <td>N</td>\n",
       "      <td>N</td>\n",
       "      <td>0</td>\n",
       "      <td>2015</td>\n",
       "      <td>4</td>\n",
       "      <td>52</td>\n",
       "      <td>4</td>\n",
       "      <td>0</td>\n",
       "    </tr>\n",
       "    <tr>\n",
       "      <th>4</th>\n",
       "      <td>26_35</td>\n",
       "      <td>unassigned</td>\n",
       "      <td>20150000001739</td>\n",
       "      <td>33155</td>\n",
       "      <td>None</td>\n",
       "      <td>1977</td>\n",
       "      <td>M</td>\n",
       "      <td>White</td>\n",
       "      <td>Black or African American</td>\n",
       "      <td>Male</td>\n",
       "      <td>...</td>\n",
       "      <td>Unknown</td>\n",
       "      <td>Unknown</td>\n",
       "      <td>N</td>\n",
       "      <td>N</td>\n",
       "      <td>0</td>\n",
       "      <td>2015</td>\n",
       "      <td>4</td>\n",
       "      <td>38</td>\n",
       "      <td>0</td>\n",
       "      <td>0</td>\n",
       "    </tr>\n",
       "  </tbody>\n",
       "</table>\n",
       "<p>5 rows × 26 columns</p>\n",
       "</div>"
      ],
      "text/plain": [
       "  subject_age_group  subject_id       go_sc_num  terry_stop_id weapon_type  \\\n",
       "0             26_35  unassigned  20140000120677          92317        None   \n",
       "1             26_35  unassigned  20150000001463          28806        None   \n",
       "2             26_35  unassigned  20150000001516          29599        None   \n",
       "3             26_35  unassigned  20150000001670          32260        None   \n",
       "4             26_35  unassigned  20150000001739          33155        None   \n",
       "\n",
       "   officer_yob officer_gender               officer_race  \\\n",
       "0         1984              M  Black or African American   \n",
       "1         1965              M                      White   \n",
       "2         1961              M                      White   \n",
       "3         1963              M                      White   \n",
       "4         1977              M                      White   \n",
       "\n",
       "      subject_perceived_race subject_perceived_gender  ...   sector     beat  \\\n",
       "0                      Asian                     Male  ...   O        O2       \n",
       "1                    Unknown                  Unknown  ...  Unknown  Unknown   \n",
       "2                      White                     Male  ...  Unknown  Unknown   \n",
       "3                    Unknown                  Unknown  ...  Unknown  Unknown   \n",
       "4  Black or African American                     Male  ...  Unknown  Unknown   \n",
       "\n",
       "  repeat_offenders arrest_made weapon incident_year incident_month  \\\n",
       "0                N           Y      0          2015             10   \n",
       "1                N           N      0          2015              3   \n",
       "2                N           N      0          2015              3   \n",
       "3                N           N      0          2015              4   \n",
       "4                N           N      0          2015              4   \n",
       "\n",
       "  officer_age reported_hour call_made  \n",
       "0          31            11         0  \n",
       "1          50             7         0  \n",
       "2          54            19         0  \n",
       "3          52             4         0  \n",
       "4          38             0         0  \n",
       "\n",
       "[5 rows x 26 columns]"
      ]
     },
     "execution_count": 2300,
     "metadata": {},
     "output_type": "execute_result"
    }
   ],
   "source": [
    "# Switch Call Type to Call Made/No Call Made (0's & 1's)\n",
    "call_made = [] # Initialize a an Empty List\n",
    "for value in df['call_type']:\n",
    "    if value == 'Unknown':  \n",
    "        call_made.append(0) # Replace \"-\" Values with \"0\"\n",
    "    else:\n",
    "        call_made.append(1) # Replace Other Values with \"1\"\n",
    "df['call_made'] = call_made\n",
    "df = df.drop('call_type', axis=1)\n",
    "df.head() # Print First 5 Rows of DataFrame"
   ]
  },
  {
   "cell_type": "markdown",
   "metadata": {},
   "source": [
    "### Officer Squad"
   ]
  },
  {
   "cell_type": "code",
   "execution_count": 2301,
   "metadata": {
    "ExecuteTime": {
     "end_time": "2020-11-25T22:13:50.517721Z",
     "start_time": "2020-11-25T22:13:50.508611Z"
    }
   },
   "outputs": [
    {
     "data": {
      "text/plain": [
       "False    44207\n",
       "True       547\n",
       "Name: officer_squad, dtype: int64"
      ]
     },
     "execution_count": 2301,
     "metadata": {},
     "output_type": "execute_result"
    }
   ],
   "source": [
    "df.officer_squad.isna().value_counts()"
   ]
  },
  {
   "cell_type": "code",
   "execution_count": 2302,
   "metadata": {
    "ExecuteTime": {
     "end_time": "2020-11-25T22:13:50.522294Z",
     "start_time": "2020-11-25T22:13:50.519713Z"
    }
   },
   "outputs": [],
   "source": [
    "\n",
    "# df = df.copy()\n",
    "# df = adf.drop('officer_squad', axis=1)\n",
    "# df.columns"
   ]
  },
  {
   "cell_type": "code",
   "execution_count": null,
   "metadata": {},
   "outputs": [],
   "source": []
  },
  {
   "cell_type": "markdown",
   "metadata": {
    "ExecuteTime": {
     "end_time": "2020-11-18T22:56:59.149777Z",
     "start_time": "2020-11-18T22:56:59.127448Z"
    }
   },
   "source": [
    "### Arrest Flag"
   ]
  },
  {
   "cell_type": "code",
   "execution_count": 2303,
   "metadata": {
    "ExecuteTime": {
     "end_time": "2020-11-25T22:13:50.534306Z",
     "start_time": "2020-11-25T22:13:50.524540Z"
    }
   },
   "outputs": [
    {
     "data": {
      "text/plain": [
       "N    42136\n",
       "Y     2618\n",
       "Name: arrest_flag, dtype: int64"
      ]
     },
     "execution_count": 2303,
     "metadata": {},
     "output_type": "execute_result"
    }
   ],
   "source": [
    "df.arrest_flag.value_counts()"
   ]
  },
  {
   "cell_type": "code",
   "execution_count": 2304,
   "metadata": {
    "ExecuteTime": {
     "end_time": "2020-11-25T22:13:50.538800Z",
     "start_time": "2020-11-25T22:13:50.536286Z"
    }
   },
   "outputs": [],
   "source": [
    "# arrest_made = [] # Initialize a an Empty List\n",
    "\n",
    "# for value in df['arrest_flag']:\n",
    "#     if value == 'N':  \n",
    "#         arrest_made.append(0) # Replace \"N\" Values with \"0\"\n",
    "#     else:\n",
    "#         arrest_made.append(1) # Replace \"Y\" Values with \"1\"\n",
    "# df['arrest_flag'] = arrest_made # Create a New Column Called \"Arrest Made\"\n",
    "# df = df.drop('arrest_flag', axis=1)\n",
    "# df.head() # Print First 5 Rows of DataFrame\n"
   ]
  },
  {
   "cell_type": "code",
   "execution_count": 2305,
   "metadata": {
    "ExecuteTime": {
     "end_time": "2020-11-25T22:13:50.583113Z",
     "start_time": "2020-11-25T22:13:50.540730Z"
    }
   },
   "outputs": [
    {
     "name": "stdout",
     "output_type": "stream",
     "text": [
      "<class 'pandas.core.frame.DataFrame'>\n",
      "Int64Index: 44754 entries, 0 to 44837\n",
      "Data columns (total 26 columns):\n",
      " #   Column                    Non-Null Count  Dtype \n",
      "---  ------                    --------------  ----- \n",
      " 0   subject_age_group         44754 non-null  object\n",
      " 1   subject_id                44754 non-null  object\n",
      " 2   go_sc_num                 44754 non-null  int64 \n",
      " 3   terry_stop_id             44754 non-null  int64 \n",
      " 4   weapon_type               44754 non-null  object\n",
      " 5   officer_yob               44754 non-null  int64 \n",
      " 6   officer_gender            44754 non-null  object\n",
      " 7   officer_race              44754 non-null  object\n",
      " 8   subject_perceived_race    44754 non-null  object\n",
      " 9   subject_perceived_gender  44754 non-null  object\n",
      " 10  initial_call_type         44754 non-null  object\n",
      " 11  final_call_type           44754 non-null  object\n",
      " 12  officer_squad             44207 non-null  object\n",
      " 13  arrest_flag               44754 non-null  object\n",
      " 14  frisk_flag                44754 non-null  object\n",
      " 15  precinct                  44754 non-null  object\n",
      " 16  sector                    44754 non-null  object\n",
      " 17  beat                      44754 non-null  object\n",
      " 18  repeat_offenders          44754 non-null  object\n",
      " 19  arrest_made               44754 non-null  object\n",
      " 20  weapon                    44754 non-null  int64 \n",
      " 21  incident_year             44754 non-null  int64 \n",
      " 22  incident_month            44754 non-null  int64 \n",
      " 23  officer_age               44754 non-null  int64 \n",
      " 24  reported_hour             44754 non-null  int64 \n",
      " 25  call_made                 44754 non-null  int64 \n",
      "dtypes: int64(9), object(17)\n",
      "memory usage: 9.2+ MB\n"
     ]
    }
   ],
   "source": [
    "df.info()"
   ]
  },
  {
   "cell_type": "markdown",
   "metadata": {},
   "source": [
    "### Officer Gender"
   ]
  },
  {
   "cell_type": "code",
   "execution_count": 2306,
   "metadata": {
    "ExecuteTime": {
     "end_time": "2020-11-25T22:13:50.594171Z",
     "start_time": "2020-11-25T22:13:50.585002Z"
    }
   },
   "outputs": [
    {
     "data": {
      "text/plain": [
       "M    39656\n",
       "F     5098\n",
       "Name: officer_gender, dtype: int64"
      ]
     },
     "execution_count": 2306,
     "metadata": {},
     "output_type": "execute_result"
    }
   ],
   "source": [
    "df.officer_gender.value_counts()"
   ]
  },
  {
   "cell_type": "code",
   "execution_count": null,
   "metadata": {
    "ExecuteTime": {
     "end_time": "2020-11-24T02:30:33.532726Z",
     "start_time": "2020-11-24T02:30:33.510474Z"
    }
   },
   "outputs": [],
   "source": []
  },
  {
   "cell_type": "markdown",
   "metadata": {},
   "source": [
    "### Subject Preceived Gender"
   ]
  },
  {
   "cell_type": "code",
   "execution_count": 2307,
   "metadata": {
    "ExecuteTime": {
     "end_time": "2020-11-25T22:13:50.601771Z",
     "start_time": "2020-11-25T22:13:50.596135Z"
    }
   },
   "outputs": [],
   "source": [
    "def replace_val(df, column, old, new):\n",
    "        \"\"\"\n",
    "        Input: data frame, specific column, list (must in list format, even if \n",
    "        it's a single value) of values you would like to change (old), and a \n",
    "        new value to replace each item with.\n",
    "        \n",
    "        Output: Data frame with each old value in list changed to the new \n",
    "        value.\n",
    "        \"\"\"\n",
    "        \n",
    "        for i in range(len(df[column])):\n",
    "            for j in range(len(old)): \n",
    "                if df[column].iloc[i] == old[j]:\n",
    "                    df[column].iloc[i] = df[column].iloc[i].replace(old[j], \n",
    "                                                                    new)"
   ]
  },
  {
   "cell_type": "code",
   "execution_count": 2308,
   "metadata": {
    "ExecuteTime": {
     "end_time": "2020-11-25T22:13:50.615472Z",
     "start_time": "2020-11-25T22:13:50.604126Z"
    }
   },
   "outputs": [
    {
     "data": {
      "text/plain": [
       "Male                                                         34997\n",
       "Female                                                        9144\n",
       "Unable to Determine                                            326\n",
       "Unknown                                                        283\n",
       "Gender Diverse (gender non-conforming and/or transgender)        4\n",
       "Name: subject_perceived_gender, dtype: int64"
      ]
     },
     "execution_count": 2308,
     "metadata": {},
     "output_type": "execute_result"
    }
   ],
   "source": [
    "df.subject_perceived_gender.value_counts()"
   ]
  },
  {
   "cell_type": "code",
   "execution_count": 2309,
   "metadata": {
    "ExecuteTime": {
     "end_time": "2020-11-25T22:13:51.314703Z",
     "start_time": "2020-11-25T22:13:50.617746Z"
    }
   },
   "outputs": [
    {
     "data": {
      "text/plain": [
       "Male                                                         34997\n",
       "Female                                                        9144\n",
       "Unable to Determine                                            609\n",
       "Gender Diverse (gender non-conforming and/or transgender)        4\n",
       "Name: subject_perceived_gender, dtype: int64"
      ]
     },
     "execution_count": 2309,
     "metadata": {},
     "output_type": "execute_result"
    }
   ],
   "source": [
    "#combine unknown and unable to determine\n",
    "unknown = ['Unknown']\n",
    "replace_val(df, 'subject_perceived_gender', unknown, 'Unable to Determine')\n",
    "df.subject_perceived_gender.value_counts()"
   ]
  },
  {
   "cell_type": "code",
   "execution_count": 2310,
   "metadata": {
    "ExecuteTime": {
     "end_time": "2020-11-25T22:13:51.337013Z",
     "start_time": "2020-11-25T22:13:51.316744Z"
    }
   },
   "outputs": [
    {
     "data": {
      "text/plain": [
       "Male                   34997\n",
       "Female                  9144\n",
       "Unable to Determine      609\n",
       "Name: subject_perceived_gender, dtype: int64"
      ]
     },
     "execution_count": 2310,
     "metadata": {},
     "output_type": "execute_result"
    }
   ],
   "source": [
    "# since there are only 4 instances of gender diverse, I will drop it. \n",
    "df = df[df['subject_perceived_gender'] != \n",
    "          'Gender Diverse (gender non-conforming and/or transgender)']\n",
    "df.subject_perceived_gender.value_counts()"
   ]
  },
  {
   "cell_type": "markdown",
   "metadata": {
    "ExecuteTime": {
     "end_time": "2020-11-18T16:25:46.273811Z",
     "start_time": "2020-11-18T16:25:30.159Z"
    }
   },
   "source": [
    "### Compare Officer Race to Subject Perceived Race"
   ]
  },
  {
   "cell_type": "markdown",
   "metadata": {
    "ExecuteTime": {
     "end_time": "2020-11-19T16:48:49.180069Z",
     "start_time": "2020-11-19T16:48:49.165809Z"
    }
   },
   "source": [
    "Lets make the column values equal"
   ]
  },
  {
   "cell_type": "code",
   "execution_count": null,
   "metadata": {
    "ExecuteTime": {
     "end_time": "2020-11-24T02:30:34.327078Z",
     "start_time": "2020-11-24T02:30:34.321753Z"
    }
   },
   "outputs": [],
   "source": []
  },
  {
   "cell_type": "code",
   "execution_count": 2311,
   "metadata": {
    "ExecuteTime": {
     "end_time": "2020-11-25T22:13:51.944722Z",
     "start_time": "2020-11-25T22:13:51.339145Z"
    }
   },
   "outputs": [
    {
     "data": {
      "text/plain": [
       "White                            34088\n",
       "Hispanic or Latino                2547\n",
       "Two or More Races                 2483\n",
       "Asian                             1849\n",
       "Black or African American         1791\n",
       "Not Specified                     1244\n",
       "Nat Hawaiian/Oth Pac Islander      437\n",
       "American Indian/Alaska Native      311\n",
       "Name: officer_race, dtype: int64"
      ]
     },
     "execution_count": 2311,
     "metadata": {},
     "output_type": "execute_result"
    }
   ],
   "source": [
    "unknown = ['Unknown']\n",
    "replace_val(df, 'officer_race', unknown, 'Not Specified')\n",
    "df.officer_race.value_counts()"
   ]
  },
  {
   "cell_type": "code",
   "execution_count": 2312,
   "metadata": {
    "ExecuteTime": {
     "end_time": "2020-11-25T22:13:51.956563Z",
     "start_time": "2020-11-25T22:13:51.946735Z"
    }
   },
   "outputs": [
    {
     "data": {
      "text/plain": [
       "White                                        21870\n",
       "Black or African American                    13347\n",
       "Unknown                                       4120\n",
       "Hispanic                                      1683\n",
       "Asian                                         1427\n",
       "American Indian or Alaska Native              1300\n",
       "Multi-Racial                                   809\n",
       "Other                                          152\n",
       "Native Hawaiian or Other Pacific Islander       42\n",
       "Name: subject_perceived_race, dtype: int64"
      ]
     },
     "execution_count": 2312,
     "metadata": {},
     "output_type": "execute_result"
    }
   ],
   "source": [
    "df.subject_perceived_race.value_counts()"
   ]
  },
  {
   "cell_type": "code",
   "execution_count": 2313,
   "metadata": {
    "ExecuteTime": {
     "end_time": "2020-11-25T22:13:52.570776Z",
     "start_time": "2020-11-25T22:13:51.958704Z"
    }
   },
   "outputs": [],
   "source": [
    "other = ['Native Hawaiian or Other Pacific Islander']\n",
    "\n",
    "replace_val(df, 'subject_perceived_race',other , 'Other')"
   ]
  },
  {
   "cell_type": "code",
   "execution_count": 2314,
   "metadata": {
    "ExecuteTime": {
     "end_time": "2020-11-25T22:13:52.585283Z",
     "start_time": "2020-11-25T22:13:52.575263Z"
    }
   },
   "outputs": [
    {
     "data": {
      "text/plain": [
       "White                               21870\n",
       "Black or African American           13347\n",
       "Unknown                              4120\n",
       "Hispanic                             1683\n",
       "Asian                                1427\n",
       "American Indian or Alaska Native     1300\n",
       "Multi-Racial                          809\n",
       "Other                                 194\n",
       "Name: subject_perceived_race, dtype: int64"
      ]
     },
     "execution_count": 2314,
     "metadata": {},
     "output_type": "execute_result"
    }
   ],
   "source": [
    "df.subject_perceived_race.value_counts()"
   ]
  },
  {
   "cell_type": "markdown",
   "metadata": {},
   "source": []
  },
  {
   "cell_type": "code",
   "execution_count": 2315,
   "metadata": {
    "ExecuteTime": {
     "end_time": "2020-11-25T22:13:52.605691Z",
     "start_time": "2020-11-25T22:13:52.587321Z"
    }
   },
   "outputs": [
    {
     "name": "stdout",
     "output_type": "stream",
     "text": [
      "officer_race\n",
      "\n",
      "\n",
      "White                            34088\n",
      "Hispanic or Latino                2547\n",
      "Two or More Races                 2483\n",
      "Asian                             1849\n",
      "Black or African American         1791\n",
      "Not Specified                     1244\n",
      "Nat Hawaiian/Oth Pac Islander      437\n",
      "American Indian/Alaska Native      311\n",
      "Name: officer_race, dtype: int64\n",
      "-------------------------------------------------------\n",
      "\n",
      "\n",
      "subject_perceived_race\n",
      "\n",
      "\n",
      "White                               21870\n",
      "Black or African American           13347\n",
      "Unknown                              4120\n",
      "Hispanic                             1683\n",
      "Asian                                1427\n",
      "American Indian or Alaska Native     1300\n",
      "Multi-Racial                          809\n",
      "Other                                 194\n",
      "Name: subject_perceived_race, dtype: int64\n",
      "-------------------------------------------------------\n",
      "\n",
      "\n"
     ]
    }
   ],
   "source": [
    "races = df[['officer_race', 'subject_perceived_race']]\n",
    "col_values(races)"
   ]
  },
  {
   "cell_type": "code",
   "execution_count": 2316,
   "metadata": {
    "ExecuteTime": {
     "end_time": "2020-11-25T22:14:00.560688Z",
     "start_time": "2020-11-25T22:13:52.608292Z"
    }
   },
   "outputs": [
    {
     "data": {
      "text/plain": [
       "array(['Black or African American', 'White', 'Hispanic', 'Asian',\n",
       "       'Native American', 'Multi-Racial', 'Not Specified', 'Other'],\n",
       "      dtype=object)"
      ]
     },
     "execution_count": 2316,
     "metadata": {},
     "output_type": "execute_result"
    }
   ],
   "source": [
    "native = ['American Indian/Alaska Native', 'American Indian or Alaska Native']\n",
    "multi = ['Two or More Races']\n",
    "other = ['Nat Hawaiian/Oth Pac Islander']\n",
    "unknown = ['Unknown']\n",
    "hispanic = ['Hispanic or Latino']\n",
    "# native\n",
    "replace_val(df, 'officer_race', native, 'Native American')\n",
    "replace_val(df, 'subject_perceived_race', native, 'Native American')\n",
    "# multi\n",
    "replace_val(df, 'officer_race', multi, 'Multi-Racial')\n",
    "# other\n",
    "replace_val(df, 'officer_race', other, 'Other')\n",
    "# unknown\n",
    "replace_val(df, 'subject_perceived_race', unknown, 'Not Specified')\n",
    "# hispanic\n",
    "replace_val(df, 'officer_race', hispanic, 'Hispanic')\n",
    "\n",
    "df.officer_race.unique()"
   ]
  },
  {
   "cell_type": "code",
   "execution_count": 2317,
   "metadata": {
    "ExecuteTime": {
     "end_time": "2020-11-25T22:14:00.569659Z",
     "start_time": "2020-11-25T22:14:00.562555Z"
    }
   },
   "outputs": [
    {
     "data": {
      "text/plain": [
       "array(['Asian', 'Not Specified', 'White', 'Black or African American',\n",
       "       'Other', 'Native American', 'Hispanic', 'Multi-Racial'],\n",
       "      dtype=object)"
      ]
     },
     "execution_count": 2317,
     "metadata": {},
     "output_type": "execute_result"
    }
   ],
   "source": [
    "# checking subject race values\n",
    "df.subject_perceived_race.unique()"
   ]
  },
  {
   "cell_type": "code",
   "execution_count": 2318,
   "metadata": {
    "ExecuteTime": {
     "end_time": "2020-11-25T22:14:14.143067Z",
     "start_time": "2020-11-25T22:14:00.571657Z"
    }
   },
   "outputs": [
    {
     "data": {
      "text/plain": [
       "Y    26906\n",
       "N    17844\n",
       "Name: dif_race, dtype: int64"
      ]
     },
     "execution_count": 2318,
     "metadata": {},
     "output_type": "execute_result"
    }
   ],
   "source": [
    "df['dif_race'] = np.nan\n",
    "\n",
    "for i in range(len(df['officer_race'])):\n",
    "    if df['officer_race'].iloc[i] != df['subject_perceived_race'].iloc[i]:\n",
    "        df['dif_race'].iloc[i] = 'Y'\n",
    "    else:\n",
    "        df['dif_race'].iloc[i] = 'N'\n",
    "\n",
    "df['dif_race'].value_counts()"
   ]
  },
  {
   "cell_type": "code",
   "execution_count": 2319,
   "metadata": {
    "ExecuteTime": {
     "end_time": "2020-11-25T22:14:14.190882Z",
     "start_time": "2020-11-25T22:14:14.145193Z"
    }
   },
   "outputs": [
    {
     "name": "stdout",
     "output_type": "stream",
     "text": [
      "<class 'pandas.core.frame.DataFrame'>\n",
      "Int64Index: 44750 entries, 0 to 44837\n",
      "Data columns (total 27 columns):\n",
      " #   Column                    Non-Null Count  Dtype \n",
      "---  ------                    --------------  ----- \n",
      " 0   subject_age_group         44750 non-null  object\n",
      " 1   subject_id                44750 non-null  object\n",
      " 2   go_sc_num                 44750 non-null  int64 \n",
      " 3   terry_stop_id             44750 non-null  int64 \n",
      " 4   weapon_type               44750 non-null  object\n",
      " 5   officer_yob               44750 non-null  int64 \n",
      " 6   officer_gender            44750 non-null  object\n",
      " 7   officer_race              44750 non-null  object\n",
      " 8   subject_perceived_race    44750 non-null  object\n",
      " 9   subject_perceived_gender  44750 non-null  object\n",
      " 10  initial_call_type         44750 non-null  object\n",
      " 11  final_call_type           44750 non-null  object\n",
      " 12  officer_squad             44203 non-null  object\n",
      " 13  arrest_flag               44750 non-null  object\n",
      " 14  frisk_flag                44750 non-null  object\n",
      " 15  precinct                  44750 non-null  object\n",
      " 16  sector                    44750 non-null  object\n",
      " 17  beat                      44750 non-null  object\n",
      " 18  repeat_offenders          44750 non-null  object\n",
      " 19  arrest_made               44750 non-null  object\n",
      " 20  weapon                    44750 non-null  int64 \n",
      " 21  incident_year             44750 non-null  int64 \n",
      " 22  incident_month            44750 non-null  int64 \n",
      " 23  officer_age               44750 non-null  int64 \n",
      " 24  reported_hour             44750 non-null  int64 \n",
      " 25  call_made                 44750 non-null  int64 \n",
      " 26  dif_race                  44750 non-null  object\n",
      "dtypes: int64(9), object(18)\n",
      "memory usage: 9.6+ MB\n"
     ]
    }
   ],
   "source": [
    "df.info()"
   ]
  },
  {
   "cell_type": "markdown",
   "metadata": {},
   "source": [
    "### Gender Difference"
   ]
  },
  {
   "cell_type": "markdown",
   "metadata": {},
   "source": [
    "Create a column that identifies if a difference between officer and subjects' gender"
   ]
  },
  {
   "cell_type": "code",
   "execution_count": 2320,
   "metadata": {
    "ExecuteTime": {
     "end_time": "2020-11-25T22:14:29.499490Z",
     "start_time": "2020-11-25T22:14:14.192890Z"
    }
   },
   "outputs": [],
   "source": [
    "#First, we'll change the values in Subject Gender to match those of Officer Gender.\n",
    "\n",
    "male = ['Male']\n",
    "female = ['Female']\n",
    "\n",
    "replace_val(df, 'subject_perceived_gender', male, 'M')\n",
    "replace_val(df, 'subject_perceived_gender', female, 'F')"
   ]
  },
  {
   "cell_type": "code",
   "execution_count": 2321,
   "metadata": {
    "ExecuteTime": {
     "end_time": "2020-11-25T22:14:43.176981Z",
     "start_time": "2020-11-25T22:14:29.501606Z"
    }
   },
   "outputs": [
    {
     "data": {
      "text/plain": [
       "N    32202\n",
       "Y    12548\n",
       "Name: dif_gender, dtype: int64"
      ]
     },
     "execution_count": 2321,
     "metadata": {},
     "output_type": "execute_result"
    }
   ],
   "source": [
    "df['dif_gender'] = np.nan\n",
    "\n",
    "for i in range(len(df['officer_gender'])):\n",
    "    if df['officer_gender'].iloc[i] == df['subject_perceived_gender'].iloc[i]:\n",
    "        df['dif_gender'].iloc[i] = 'N'\n",
    "    else:\n",
    "        df['dif_gender'].iloc[i] = 'Y'\n",
    "\n",
    "df['dif_gender'].value_counts()"
   ]
  },
  {
   "cell_type": "code",
   "execution_count": 2322,
   "metadata": {
    "ExecuteTime": {
     "end_time": "2020-11-25T22:14:43.226011Z",
     "start_time": "2020-11-25T22:14:43.179084Z"
    }
   },
   "outputs": [
    {
     "name": "stdout",
     "output_type": "stream",
     "text": [
      "<class 'pandas.core.frame.DataFrame'>\n",
      "Int64Index: 44750 entries, 0 to 44837\n",
      "Data columns (total 28 columns):\n",
      " #   Column                    Non-Null Count  Dtype \n",
      "---  ------                    --------------  ----- \n",
      " 0   subject_age_group         44750 non-null  object\n",
      " 1   subject_id                44750 non-null  object\n",
      " 2   go_sc_num                 44750 non-null  int64 \n",
      " 3   terry_stop_id             44750 non-null  int64 \n",
      " 4   weapon_type               44750 non-null  object\n",
      " 5   officer_yob               44750 non-null  int64 \n",
      " 6   officer_gender            44750 non-null  object\n",
      " 7   officer_race              44750 non-null  object\n",
      " 8   subject_perceived_race    44750 non-null  object\n",
      " 9   subject_perceived_gender  44750 non-null  object\n",
      " 10  initial_call_type         44750 non-null  object\n",
      " 11  final_call_type           44750 non-null  object\n",
      " 12  officer_squad             44203 non-null  object\n",
      " 13  arrest_flag               44750 non-null  object\n",
      " 14  frisk_flag                44750 non-null  object\n",
      " 15  precinct                  44750 non-null  object\n",
      " 16  sector                    44750 non-null  object\n",
      " 17  beat                      44750 non-null  object\n",
      " 18  repeat_offenders          44750 non-null  object\n",
      " 19  arrest_made               44750 non-null  object\n",
      " 20  weapon                    44750 non-null  int64 \n",
      " 21  incident_year             44750 non-null  int64 \n",
      " 22  incident_month            44750 non-null  int64 \n",
      " 23  officer_age               44750 non-null  int64 \n",
      " 24  reported_hour             44750 non-null  int64 \n",
      " 25  call_made                 44750 non-null  int64 \n",
      " 26  dif_race                  44750 non-null  object\n",
      " 27  dif_gender                44750 non-null  object\n",
      "dtypes: int64(9), object(19)\n",
      "memory usage: 9.9+ MB\n"
     ]
    }
   ],
   "source": [
    "df.info()"
   ]
  },
  {
   "cell_type": "markdown",
   "metadata": {},
   "source": [
    "### Difference in Race and Gender"
   ]
  },
  {
   "cell_type": "code",
   "execution_count": 2323,
   "metadata": {
    "ExecuteTime": {
     "end_time": "2020-11-25T22:14:56.349002Z",
     "start_time": "2020-11-25T22:14:43.228044Z"
    }
   },
   "outputs": [
    {
     "data": {
      "text/plain": [
       "Y    31918\n",
       "N    12832\n",
       "Name: dif_race_gender, dtype: int64"
      ]
     },
     "execution_count": 2323,
     "metadata": {},
     "output_type": "execute_result"
    }
   ],
   "source": [
    "df['dif_race_gender'] = np.nan\n",
    "\n",
    "for i in range(len(df['dif_race'])):\n",
    "    if (df['dif_race'].iloc[i] == 'N') and (df['dif_gender'].iloc[i] == 'N'):\n",
    "        df['dif_race_gender'].iloc[i] = 'N'\n",
    "    else:\n",
    "        df['dif_race_gender'].iloc[i] = 'Y'\n",
    "\n",
    "df['dif_race_gender'].value_counts()"
   ]
  },
  {
   "cell_type": "markdown",
   "metadata": {},
   "source": [
    "### Precinct, Sector, and Beat"
   ]
  },
  {
   "cell_type": "markdown",
   "metadata": {},
   "source": [
    "Arrests and frisks were performed, and most of them took place in June 2019 (the rest are random within 2019 and 2020) so 'FK ERROR' must be an error in which CAD system failed to capture the associated Precinct, Sector, and Beat the incident took place in (Beat 99 does not exist). These are not fake calls or fake stops, so we can make the changes."
   ]
  },
  {
   "cell_type": "code",
   "execution_count": 2324,
   "metadata": {
    "ExecuteTime": {
     "end_time": "2020-11-25T22:14:56.354445Z",
     "start_time": "2020-11-25T22:14:56.351128Z"
    }
   },
   "outputs": [],
   "source": [
    "prec = ['FK ERROR', 'OOJ'] # OOJ stands for Obstruction of Justice\n",
    "\n",
    "sect = ['99    ']\n",
    "\n",
    "beats = ['99', '99','99    ', 'OOJ']"
   ]
  },
  {
   "cell_type": "code",
   "execution_count": 2325,
   "metadata": {
    "ExecuteTime": {
     "end_time": "2020-11-25T22:15:00.372750Z",
     "start_time": "2020-11-25T22:14:56.356542Z"
    }
   },
   "outputs": [],
   "source": [
    "# precinct\n",
    "replace_val(df=df, column='precinct', old=prec, new='Unknown')\n",
    "# sector\n",
    "replace_val(df=df, column='sector', old=sect, new='Unknown')\n",
    "# beat\n",
    "replace_val(df=df, column='beat', old=beats, new='Unknown')"
   ]
  },
  {
   "cell_type": "code",
   "execution_count": 2326,
   "metadata": {
    "ExecuteTime": {
     "end_time": "2020-11-25T22:15:00.395481Z",
     "start_time": "2020-11-25T22:15:00.374797Z"
    }
   },
   "outputs": [
    {
     "name": "stdout",
     "output_type": "stream",
     "text": [
      "West         10535\n",
      "Unknown       9969\n",
      "North         9861\n",
      "East          5919\n",
      "South         5341\n",
      "Southwest     2320\n",
      "SouthWest      805\n",
      "Name: precinct, dtype: int64\n",
      "Unknown    9975\n",
      "E          2337\n",
      "M          2270\n",
      "N          2190\n",
      "K          1762\n",
      "B          1657\n",
      "L          1639\n",
      "D          1512\n",
      "K          1457\n",
      "R          1455\n",
      "F          1378\n",
      "S          1348\n",
      "U          1302\n",
      "O          1161\n",
      "J          1119\n",
      "G          1087\n",
      "C          1037\n",
      "M          1016\n",
      "Q           966\n",
      "D           945\n",
      "W           941\n",
      "E           792\n",
      "Q           603\n",
      "N           574\n",
      "O           497\n",
      "F           480\n",
      "R           467\n",
      "S           414\n",
      "B           385\n",
      "G           367\n",
      "U           366\n",
      "J           337\n",
      "W           325\n",
      "C           298\n",
      "L           291\n",
      "Name: sector, dtype: int64\n",
      "Unknown    9969\n",
      "N3         1174\n",
      "E2         1092\n",
      "M2          852\n",
      "K3          810\n",
      "           ... \n",
      "U3           72\n",
      "N1           63\n",
      "J2           63\n",
      "C2           63\n",
      "S             2\n",
      "Name: beat, Length: 104, dtype: int64\n"
     ]
    }
   ],
   "source": [
    "print(df.precinct.value_counts())\n",
    "print(df.sector.value_counts())\n",
    "print(df.beat.value_counts())"
   ]
  },
  {
   "cell_type": "code",
   "execution_count": 2327,
   "metadata": {
    "ExecuteTime": {
     "end_time": "2020-11-25T22:15:01.681908Z",
     "start_time": "2020-11-25T22:15:00.399455Z"
    }
   },
   "outputs": [
    {
     "name": "stdout",
     "output_type": "stream",
     "text": [
      "Unknown    9975\n",
      "E          2337\n",
      "M          2270\n",
      "N          2190\n",
      "K          1762\n",
      "B          1657\n",
      "L          1639\n",
      "D          1512\n",
      "K          1457\n",
      "R          1455\n",
      "F          1378\n",
      "S          1348\n",
      "U          1302\n",
      "O          1161\n",
      "J          1119\n",
      "G          1087\n",
      "C          1037\n",
      "M          1016\n",
      "Q           966\n",
      "D           945\n",
      "W           941\n",
      "E           792\n",
      "Q           603\n",
      "N           574\n",
      "O           497\n",
      "F           480\n",
      "R           467\n",
      "S           414\n",
      "B           385\n",
      "G           367\n",
      "U           366\n",
      "J           337\n",
      "W           325\n",
      "C           298\n",
      "L           291\n",
      "Name: sector, dtype: int64\n",
      "Unknown    9969\n",
      "N3         1174\n",
      "E2         1092\n",
      "M2          852\n",
      "K3          810\n",
      "           ... \n",
      "U3           72\n",
      "N1           63\n",
      "J2           63\n",
      "C2           63\n",
      "S             2\n",
      "Name: beat, Length: 104, dtype: int64\n"
     ]
    }
   ],
   "source": [
    "sect = ['99    ']\n",
    "\n",
    "beats = ['99    ']\n",
    "# sector\n",
    "replace_val(df=df, column='sector', old=sect, new='Unknown')\n",
    "# beat\n",
    "replace_val(df=df, column='beat', old=beats, new='Unknown')\n",
    "\n",
    "print(df.sector.value_counts())\n",
    "print(df.beat.value_counts())"
   ]
  },
  {
   "cell_type": "markdown",
   "metadata": {},
   "source": [
    "### Time"
   ]
  },
  {
   "cell_type": "markdown",
   "metadata": {},
   "source": [
    "Need to bin the times into morning, afternoon, evening and after midnight. "
   ]
  },
  {
   "cell_type": "markdown",
   "metadata": {},
   "source": [
    "#### Add Dummies"
   ]
  },
  {
   "cell_type": "code",
   "execution_count": 2328,
   "metadata": {
    "ExecuteTime": {
     "end_time": "2020-11-25T22:15:01.872223Z",
     "start_time": "2020-11-25T22:15:01.683920Z"
    }
   },
   "outputs": [
    {
     "data": {
      "text/plain": [
       "Text(0, 0.5, 'value counts')"
      ]
     },
     "execution_count": 2328,
     "metadata": {},
     "output_type": "execute_result"
    },
    {
     "data": {
      "image/png": "[encoded data removed]",
      "text/plain": [
       "<Figure size 432x288 with 1 Axes>"
      ]
     },
     "metadata": {
      "needs_background": "light"
     },
     "output_type": "display_data"
    }
   ],
   "source": [
    "import matplotlib.pyplot as plt\n",
    "%matplotlib inline\n",
    "\n",
    "bins = [-1, 6, 12, 18, 23]\n",
    "bin_hr = pd.cut(df['reported_hour'], bins)\n",
    "bin_hr = bin_hr.cat.as_ordered()\n",
    "\n",
    "bin_hr.value_counts().plot(kind='bar')\n",
    "plt.title('hour bins')\n",
    "plt.xlabel('hour bins')\n",
    "plt.ylabel('value counts')"
   ]
  },
  {
   "cell_type": "code",
   "execution_count": 2329,
   "metadata": {
    "ExecuteTime": {
     "end_time": "2020-11-25T22:15:01.931729Z",
     "start_time": "2020-11-25T22:15:01.874172Z"
    }
   },
   "outputs": [
    {
     "data": {
      "text/html": [
       "<div>\n",
       "<style scoped>\n",
       "    .dataframe tbody tr th:only-of-type {\n",
       "        vertical-align: middle;\n",
       "    }\n",
       "\n",
       "    .dataframe tbody tr th {\n",
       "        vertical-align: top;\n",
       "    }\n",
       "\n",
       "    .dataframe thead th {\n",
       "        text-align: right;\n",
       "    }\n",
       "</style>\n",
       "<table border=\"1\" class=\"dataframe\">\n",
       "  <thead>\n",
       "    <tr style=\"text-align: right;\">\n",
       "      <th></th>\n",
       "      <th>subject_age_group</th>\n",
       "      <th>subject_id</th>\n",
       "      <th>go_sc_num</th>\n",
       "      <th>terry_stop_id</th>\n",
       "      <th>weapon_type</th>\n",
       "      <th>officer_yob</th>\n",
       "      <th>officer_gender</th>\n",
       "      <th>officer_race</th>\n",
       "      <th>subject_perceived_race</th>\n",
       "      <th>subject_perceived_gender</th>\n",
       "      <th>...</th>\n",
       "      <th>officer_age</th>\n",
       "      <th>reported_hour</th>\n",
       "      <th>call_made</th>\n",
       "      <th>dif_race</th>\n",
       "      <th>dif_gender</th>\n",
       "      <th>dif_race_gender</th>\n",
       "      <th>hour_(-1, 6]</th>\n",
       "      <th>hour_(6, 12]</th>\n",
       "      <th>hour_(12, 18]</th>\n",
       "      <th>hour_(18, 23]</th>\n",
       "    </tr>\n",
       "  </thead>\n",
       "  <tbody>\n",
       "    <tr>\n",
       "      <th>0</th>\n",
       "      <td>26_35</td>\n",
       "      <td>unassigned</td>\n",
       "      <td>20140000120677</td>\n",
       "      <td>92317</td>\n",
       "      <td>None</td>\n",
       "      <td>1984</td>\n",
       "      <td>M</td>\n",
       "      <td>Black or African American</td>\n",
       "      <td>Asian</td>\n",
       "      <td>M</td>\n",
       "      <td>...</td>\n",
       "      <td>31</td>\n",
       "      <td>11</td>\n",
       "      <td>0</td>\n",
       "      <td>Y</td>\n",
       "      <td>N</td>\n",
       "      <td>Y</td>\n",
       "      <td>0</td>\n",
       "      <td>1</td>\n",
       "      <td>0</td>\n",
       "      <td>0</td>\n",
       "    </tr>\n",
       "    <tr>\n",
       "      <th>1</th>\n",
       "      <td>26_35</td>\n",
       "      <td>unassigned</td>\n",
       "      <td>20150000001463</td>\n",
       "      <td>28806</td>\n",
       "      <td>None</td>\n",
       "      <td>1965</td>\n",
       "      <td>M</td>\n",
       "      <td>White</td>\n",
       "      <td>Not Specified</td>\n",
       "      <td>Unable to Determine</td>\n",
       "      <td>...</td>\n",
       "      <td>50</td>\n",
       "      <td>7</td>\n",
       "      <td>0</td>\n",
       "      <td>Y</td>\n",
       "      <td>Y</td>\n",
       "      <td>Y</td>\n",
       "      <td>0</td>\n",
       "      <td>1</td>\n",
       "      <td>0</td>\n",
       "      <td>0</td>\n",
       "    </tr>\n",
       "    <tr>\n",
       "      <th>2</th>\n",
       "      <td>26_35</td>\n",
       "      <td>unassigned</td>\n",
       "      <td>20150000001516</td>\n",
       "      <td>29599</td>\n",
       "      <td>None</td>\n",
       "      <td>1961</td>\n",
       "      <td>M</td>\n",
       "      <td>White</td>\n",
       "      <td>White</td>\n",
       "      <td>M</td>\n",
       "      <td>...</td>\n",
       "      <td>54</td>\n",
       "      <td>19</td>\n",
       "      <td>0</td>\n",
       "      <td>N</td>\n",
       "      <td>N</td>\n",
       "      <td>N</td>\n",
       "      <td>0</td>\n",
       "      <td>0</td>\n",
       "      <td>0</td>\n",
       "      <td>1</td>\n",
       "    </tr>\n",
       "    <tr>\n",
       "      <th>3</th>\n",
       "      <td>26_35</td>\n",
       "      <td>unassigned</td>\n",
       "      <td>20150000001670</td>\n",
       "      <td>32260</td>\n",
       "      <td>None</td>\n",
       "      <td>1963</td>\n",
       "      <td>M</td>\n",
       "      <td>White</td>\n",
       "      <td>Not Specified</td>\n",
       "      <td>Unable to Determine</td>\n",
       "      <td>...</td>\n",
       "      <td>52</td>\n",
       "      <td>4</td>\n",
       "      <td>0</td>\n",
       "      <td>Y</td>\n",
       "      <td>Y</td>\n",
       "      <td>Y</td>\n",
       "      <td>1</td>\n",
       "      <td>0</td>\n",
       "      <td>0</td>\n",
       "      <td>0</td>\n",
       "    </tr>\n",
       "    <tr>\n",
       "      <th>4</th>\n",
       "      <td>26_35</td>\n",
       "      <td>unassigned</td>\n",
       "      <td>20150000001739</td>\n",
       "      <td>33155</td>\n",
       "      <td>None</td>\n",
       "      <td>1977</td>\n",
       "      <td>M</td>\n",
       "      <td>White</td>\n",
       "      <td>Black or African American</td>\n",
       "      <td>M</td>\n",
       "      <td>...</td>\n",
       "      <td>38</td>\n",
       "      <td>0</td>\n",
       "      <td>0</td>\n",
       "      <td>Y</td>\n",
       "      <td>N</td>\n",
       "      <td>Y</td>\n",
       "      <td>1</td>\n",
       "      <td>0</td>\n",
       "      <td>0</td>\n",
       "      <td>0</td>\n",
       "    </tr>\n",
       "  </tbody>\n",
       "</table>\n",
       "<p>5 rows × 33 columns</p>\n",
       "</div>"
      ],
      "text/plain": [
       "  subject_age_group  subject_id       go_sc_num  terry_stop_id weapon_type  \\\n",
       "0             26_35  unassigned  20140000120677          92317        None   \n",
       "1             26_35  unassigned  20150000001463          28806        None   \n",
       "2             26_35  unassigned  20150000001516          29599        None   \n",
       "3             26_35  unassigned  20150000001670          32260        None   \n",
       "4             26_35  unassigned  20150000001739          33155        None   \n",
       "\n",
       "   officer_yob officer_gender               officer_race  \\\n",
       "0         1984              M  Black or African American   \n",
       "1         1965              M                      White   \n",
       "2         1961              M                      White   \n",
       "3         1963              M                      White   \n",
       "4         1977              M                      White   \n",
       "\n",
       "      subject_perceived_race subject_perceived_gender  ... officer_age  \\\n",
       "0                      Asian                        M  ...          31   \n",
       "1              Not Specified      Unable to Determine  ...          50   \n",
       "2                      White                        M  ...          54   \n",
       "3              Not Specified      Unable to Determine  ...          52   \n",
       "4  Black or African American                        M  ...          38   \n",
       "\n",
       "  reported_hour call_made dif_race dif_gender dif_race_gender hour_(-1, 6]  \\\n",
       "0            11         0        Y          N               Y            0   \n",
       "1             7         0        Y          Y               Y            0   \n",
       "2            19         0        N          N               N            0   \n",
       "3             4         0        Y          Y               Y            1   \n",
       "4             0         0        Y          N               Y            1   \n",
       "\n",
       "  hour_(6, 12] hour_(12, 18] hour_(18, 23]  \n",
       "0            1             0             0  \n",
       "1            1             0             0  \n",
       "2            0             0             1  \n",
       "3            0             0             0  \n",
       "4            0             0             0  \n",
       "\n",
       "[5 rows x 33 columns]"
      ]
     },
     "execution_count": 2329,
     "metadata": {},
     "output_type": "execute_result"
    }
   ],
   "source": [
    "# now to afix this to our data frame and create dummies\n",
    "df['time'] = bin_hr\n",
    "df['time'] = df['time'].cat.codes\n",
    "# Creating dummies\n",
    "gbin_dummies = pd.get_dummies(bin_hr, prefix='hour') \n",
    "\n",
    "# keeping first column for now\n",
    "\n",
    "df = df.drop(['time'], axis=1)\n",
    "df = pd.concat([df, gbin_dummies], axis=1)\n",
    "df.head()"
   ]
  },
  {
   "cell_type": "code",
   "execution_count": 2330,
   "metadata": {
    "ExecuteTime": {
     "end_time": "2020-11-25T22:15:01.942920Z",
     "start_time": "2020-11-25T22:15:01.933663Z"
    }
   },
   "outputs": [],
   "source": [
    "df = df.rename(columns={'hour_(-1, 6]':'12am_6am', \n",
    "                          'hour_(6, 12]':'7am_12pm', \n",
    "                           'hour_(12, 18]':'1pm_6pm', \n",
    "                          'hour_(18, 23]':'7pm_11pm'})"
   ]
  },
  {
   "cell_type": "code",
   "execution_count": null,
   "metadata": {
    "ExecuteTime": {
     "end_time": "2020-11-24T18:38:50.870082Z",
     "start_time": "2020-11-24T18:38:50.850361Z"
    }
   },
   "outputs": [],
   "source": []
  },
  {
   "cell_type": "code",
   "execution_count": null,
   "metadata": {},
   "outputs": [],
   "source": []
  },
  {
   "cell_type": "code",
   "execution_count": 2331,
   "metadata": {
    "ExecuteTime": {
     "end_time": "2020-11-25T22:15:02.024429Z",
     "start_time": "2020-11-25T22:15:01.946247Z"
    }
   },
   "outputs": [
    {
     "name": "stdout",
     "output_type": "stream",
     "text": [
      "<class 'pandas.core.frame.DataFrame'>\n",
      "Int64Index: 44750 entries, 0 to 44837\n",
      "Data columns (total 33 columns):\n",
      " #   Column                    Non-Null Count  Dtype \n",
      "---  ------                    --------------  ----- \n",
      " 0   subject_age_group         44750 non-null  object\n",
      " 1   subject_id                44750 non-null  object\n",
      " 2   go_sc_num                 44750 non-null  int64 \n",
      " 3   terry_stop_id             44750 non-null  int64 \n",
      " 4   weapon_type               44750 non-null  object\n",
      " 5   officer_yob               44750 non-null  int64 \n",
      " 6   officer_gender            44750 non-null  object\n",
      " 7   officer_race              44750 non-null  object\n",
      " 8   subject_perceived_race    44750 non-null  object\n",
      " 9   subject_perceived_gender  44750 non-null  object\n",
      " 10  initial_call_type         44750 non-null  object\n",
      " 11  final_call_type           44750 non-null  object\n",
      " 12  officer_squad             44203 non-null  object\n",
      " 13  arrest_flag               44750 non-null  object\n",
      " 14  frisk_flag                44750 non-null  object\n",
      " 15  precinct                  44750 non-null  object\n",
      " 16  sector                    44750 non-null  object\n",
      " 17  beat                      44750 non-null  object\n",
      " 18  repeat_offenders          44750 non-null  object\n",
      " 19  arrest_made               44750 non-null  object\n",
      " 20  weapon                    44750 non-null  int64 \n",
      " 21  incident_year             44750 non-null  int64 \n",
      " 22  incident_month            44750 non-null  int64 \n",
      " 23  officer_age               44750 non-null  int64 \n",
      " 24  reported_hour             44750 non-null  int64 \n",
      " 25  call_made                 44750 non-null  int64 \n",
      " 26  dif_race                  44750 non-null  object\n",
      " 27  dif_gender                44750 non-null  object\n",
      " 28  dif_race_gender           44750 non-null  object\n",
      " 29  12am_6am                  44750 non-null  uint8 \n",
      " 30  7am_12pm                  44750 non-null  uint8 \n",
      " 31  1pm_6pm                   44750 non-null  uint8 \n",
      " 32  7pm_11pm                  44750 non-null  uint8 \n",
      "dtypes: int64(9), object(20), uint8(4)\n",
      "memory usage: 10.4+ MB\n"
     ]
    }
   ],
   "source": [
    "df.info()"
   ]
  },
  {
   "cell_type": "code",
   "execution_count": null,
   "metadata": {},
   "outputs": [],
   "source": []
  },
  {
   "cell_type": "code",
   "execution_count": 2333,
   "metadata": {
    "ExecuteTime": {
     "end_time": "2020-11-25T22:19:42.678815Z",
     "start_time": "2020-11-25T22:19:42.165233Z"
    }
   },
   "outputs": [],
   "source": [
    "df.to_csv('cleaned_terry_stop_for_eda.csv')"
   ]
  },
  {
   "cell_type": "code",
   "execution_count": 2336,
   "metadata": {
    "ExecuteTime": {
     "end_time": "2020-11-25T22:22:35.321109Z",
     "start_time": "2020-11-25T22:22:35.318248Z"
    }
   },
   "outputs": [],
   "source": [
    "dfm = df"
   ]
  },
  {
   "cell_type": "code",
   "execution_count": 2353,
   "metadata": {
    "ExecuteTime": {
     "end_time": "2020-11-25T22:33:45.989049Z",
     "start_time": "2020-11-25T22:33:45.880128Z"
    }
   },
   "outputs": [
    {
     "name": "stdout",
     "output_type": "stream",
     "text": [
      "<class 'pandas.core.frame.DataFrame'>\n",
      "Int64Index: 44750 entries, 0 to 44837\n",
      "Data columns (total 39 columns):\n",
      " #   Column                                         Non-Null Count  Dtype   \n",
      "---  ------                                         --------------  -----   \n",
      " 0   subject_id                                     44750 non-null  category\n",
      " 1   go_sc_num                                      44750 non-null  category\n",
      " 2   terry_stop_id                                  44750 non-null  category\n",
      " 3   weapon_type                                    44750 non-null  category\n",
      " 4   officer_yob                                    44750 non-null  category\n",
      " 5   officer_race                                   44750 non-null  category\n",
      " 6   subject_perceived_race                         44750 non-null  category\n",
      " 7   initial_call_type                              44750 non-null  category\n",
      " 8   final_call_type                                44750 non-null  category\n",
      " 9   officer_squad                                  44203 non-null  category\n",
      " 10  precinct                                       44750 non-null  category\n",
      " 11  sector                                         44750 non-null  category\n",
      " 12  beat                                           44750 non-null  category\n",
      " 13  arrest_made                                    44750 non-null  category\n",
      " 14  weapon                                         44750 non-null  category\n",
      " 15  incident_year                                  44750 non-null  category\n",
      " 16  incident_month                                 44750 non-null  category\n",
      " 17  officer_age                                    44750 non-null  category\n",
      " 18  reported_hour                                  44750 non-null  category\n",
      " 19  call_made                                      44750 non-null  category\n",
      " 20  12am_6am                                       44750 non-null  category\n",
      " 21  7am_12pm                                       44750 non-null  category\n",
      " 22  1pm_6pm                                        44750 non-null  category\n",
      " 23  7pm_11pm                                       44750 non-null  category\n",
      " 24  officer_gender__M                              44750 non-null  category\n",
      " 25  subject_perceived_gender__M                    44750 non-null  category\n",
      " 26  subject_perceived_gender__Unable to Determine  44750 non-null  category\n",
      " 27  arrest_flag__Y                                 44750 non-null  category\n",
      " 28  frisk_flag__Unknown                            44750 non-null  category\n",
      " 29  frisk_flag__Y                                  44750 non-null  category\n",
      " 30  dif_race__Y                                    44750 non-null  category\n",
      " 31  dif_gender__Y                                  44750 non-null  category\n",
      " 32  dif_race_gender__Y                             44750 non-null  category\n",
      " 33  repeat_offenders__Y                            44750 non-null  category\n",
      " 34  subject_age_group__1_17                        44750 non-null  category\n",
      " 35  subject_age_group__26_35                       44750 non-null  category\n",
      " 36  subject_age_group__36_45                       44750 non-null  category\n",
      " 37  subject_age_group__46_55                       44750 non-null  category\n",
      " 38  subject_age_group__56_100                      44750 non-null  category\n",
      "dtypes: category(39)\n",
      "memory usage: 6.0 MB\n"
     ]
    }
   ],
   "source": [
    "dfm.info()"
   ]
  },
  {
   "cell_type": "code",
   "execution_count": 2350,
   "metadata": {
    "ExecuteTime": {
     "end_time": "2020-11-25T22:32:04.078503Z",
     "start_time": "2020-11-25T22:32:04.063703Z"
    }
   },
   "outputs": [],
   "source": [
    "for col in dfm.columns:\n",
    "    dfm[col] = dfm[col].astype('category')"
   ]
  },
  {
   "cell_type": "code",
   "execution_count": 2345,
   "metadata": {
    "ExecuteTime": {
     "end_time": "2020-11-25T22:26:25.804971Z",
     "start_time": "2020-11-25T22:26:25.801090Z"
    }
   },
   "outputs": [],
   "source": [
    "# Listing all of the columns to make dummies from\n",
    "dummy = ['officer_gender', 'subject_perceived_gender', 'arrest_flag', \n",
    "           'frisk_flag', 'dif_race', 'dif_gender', 'dif_race_gender', \n",
    "           'repeat_offenders', 'subject_age_group', \n",
    "           'offense_report']"
   ]
  },
  {
   "cell_type": "code",
   "execution_count": 2352,
   "metadata": {
    "ExecuteTime": {
     "end_time": "2020-11-25T22:32:34.928860Z",
     "start_time": "2020-11-25T22:32:34.893718Z"
    }
   },
   "outputs": [
    {
     "ename": "KeyError",
     "evalue": "'subject_perceived_gender'",
     "output_type": "error",
     "traceback": [
      "\u001b[0;31m---------------------------------------------------------------------------\u001b[0m",
      "\u001b[0;31mKeyError\u001b[0m                                  Traceback (most recent call last)",
      "\u001b[0;32m~/opt/anaconda3/lib/python3.7/site-packages/pandas/core/indexes/base.py\u001b[0m in \u001b[0;36mget_loc\u001b[0;34m(self, key, method, tolerance)\u001b[0m\n\u001b[1;32m   2894\u001b[0m             \u001b[0;32mtry\u001b[0m\u001b[0;34m:\u001b[0m\u001b[0;34m\u001b[0m\u001b[0;34m\u001b[0m\u001b[0m\n\u001b[0;32m-> 2895\u001b[0;31m                 \u001b[0;32mreturn\u001b[0m \u001b[0mself\u001b[0m\u001b[0;34m.\u001b[0m\u001b[0m_engine\u001b[0m\u001b[0;34m.\u001b[0m\u001b[0mget_loc\u001b[0m\u001b[0;34m(\u001b[0m\u001b[0mcasted_key\u001b[0m\u001b[0;34m)\u001b[0m\u001b[0;34m\u001b[0m\u001b[0;34m\u001b[0m\u001b[0m\n\u001b[0m\u001b[1;32m   2896\u001b[0m             \u001b[0;32mexcept\u001b[0m \u001b[0mKeyError\u001b[0m \u001b[0;32mas\u001b[0m \u001b[0merr\u001b[0m\u001b[0;34m:\u001b[0m\u001b[0;34m\u001b[0m\u001b[0;34m\u001b[0m\u001b[0m\n",
      "\u001b[0;32mpandas/_libs/index.pyx\u001b[0m in \u001b[0;36mpandas._libs.index.IndexEngine.get_loc\u001b[0;34m()\u001b[0m\n",
      "\u001b[0;32mpandas/_libs/index.pyx\u001b[0m in \u001b[0;36mpandas._libs.index.IndexEngine.get_loc\u001b[0;34m()\u001b[0m\n",
      "\u001b[0;32mpandas/_libs/hashtable_class_helper.pxi\u001b[0m in \u001b[0;36mpandas._libs.hashtable.PyObjectHashTable.get_item\u001b[0;34m()\u001b[0m\n",
      "\u001b[0;32mpandas/_libs/hashtable_class_helper.pxi\u001b[0m in \u001b[0;36mpandas._libs.hashtable.PyObjectHashTable.get_item\u001b[0;34m()\u001b[0m\n",
      "\u001b[0;31mKeyError\u001b[0m: 'subject_perceived_gender'",
      "\nThe above exception was the direct cause of the following exception:\n",
      "\u001b[0;31mKeyError\u001b[0m                                  Traceback (most recent call last)",
      "\u001b[0;32m<ipython-input-2352-f0d19ba59254>\u001b[0m in \u001b[0;36m<module>\u001b[0;34m\u001b[0m\n\u001b[0;32m----> 1\u001b[0;31m \u001b[0mdummies\u001b[0m \u001b[0;34m=\u001b[0m \u001b[0mpd\u001b[0m\u001b[0;34m.\u001b[0m\u001b[0mget_dummies\u001b[0m\u001b[0;34m(\u001b[0m\u001b[0mdfm\u001b[0m\u001b[0;34m[\u001b[0m\u001b[0;34m'subject_perceived_gender'\u001b[0m\u001b[0;34m]\u001b[0m\u001b[0;34m)\u001b[0m\u001b[0;34m\u001b[0m\u001b[0;34m\u001b[0m\u001b[0m\n\u001b[0m",
      "\u001b[0;32m~/opt/anaconda3/lib/python3.7/site-packages/pandas/core/frame.py\u001b[0m in \u001b[0;36m__getitem__\u001b[0;34m(self, key)\u001b[0m\n\u001b[1;32m   2904\u001b[0m             \u001b[0;32mif\u001b[0m \u001b[0mself\u001b[0m\u001b[0;34m.\u001b[0m\u001b[0mcolumns\u001b[0m\u001b[0;34m.\u001b[0m\u001b[0mnlevels\u001b[0m \u001b[0;34m>\u001b[0m \u001b[0;36m1\u001b[0m\u001b[0;34m:\u001b[0m\u001b[0;34m\u001b[0m\u001b[0;34m\u001b[0m\u001b[0m\n\u001b[1;32m   2905\u001b[0m                 \u001b[0;32mreturn\u001b[0m \u001b[0mself\u001b[0m\u001b[0;34m.\u001b[0m\u001b[0m_getitem_multilevel\u001b[0m\u001b[0;34m(\u001b[0m\u001b[0mkey\u001b[0m\u001b[0;34m)\u001b[0m\u001b[0;34m\u001b[0m\u001b[0;34m\u001b[0m\u001b[0m\n\u001b[0;32m-> 2906\u001b[0;31m             \u001b[0mindexer\u001b[0m \u001b[0;34m=\u001b[0m \u001b[0mself\u001b[0m\u001b[0;34m.\u001b[0m\u001b[0mcolumns\u001b[0m\u001b[0;34m.\u001b[0m\u001b[0mget_loc\u001b[0m\u001b[0;34m(\u001b[0m\u001b[0mkey\u001b[0m\u001b[0;34m)\u001b[0m\u001b[0;34m\u001b[0m\u001b[0;34m\u001b[0m\u001b[0m\n\u001b[0m\u001b[1;32m   2907\u001b[0m             \u001b[0;32mif\u001b[0m \u001b[0mis_integer\u001b[0m\u001b[0;34m(\u001b[0m\u001b[0mindexer\u001b[0m\u001b[0;34m)\u001b[0m\u001b[0;34m:\u001b[0m\u001b[0;34m\u001b[0m\u001b[0;34m\u001b[0m\u001b[0m\n\u001b[1;32m   2908\u001b[0m                 \u001b[0mindexer\u001b[0m \u001b[0;34m=\u001b[0m \u001b[0;34m[\u001b[0m\u001b[0mindexer\u001b[0m\u001b[0;34m]\u001b[0m\u001b[0;34m\u001b[0m\u001b[0;34m\u001b[0m\u001b[0m\n",
      "\u001b[0;32m~/opt/anaconda3/lib/python3.7/site-packages/pandas/core/indexes/base.py\u001b[0m in \u001b[0;36mget_loc\u001b[0;34m(self, key, method, tolerance)\u001b[0m\n\u001b[1;32m   2895\u001b[0m                 \u001b[0;32mreturn\u001b[0m \u001b[0mself\u001b[0m\u001b[0;34m.\u001b[0m\u001b[0m_engine\u001b[0m\u001b[0;34m.\u001b[0m\u001b[0mget_loc\u001b[0m\u001b[0;34m(\u001b[0m\u001b[0mcasted_key\u001b[0m\u001b[0;34m)\u001b[0m\u001b[0;34m\u001b[0m\u001b[0;34m\u001b[0m\u001b[0m\n\u001b[1;32m   2896\u001b[0m             \u001b[0;32mexcept\u001b[0m \u001b[0mKeyError\u001b[0m \u001b[0;32mas\u001b[0m \u001b[0merr\u001b[0m\u001b[0;34m:\u001b[0m\u001b[0;34m\u001b[0m\u001b[0;34m\u001b[0m\u001b[0m\n\u001b[0;32m-> 2897\u001b[0;31m                 \u001b[0;32mraise\u001b[0m \u001b[0mKeyError\u001b[0m\u001b[0;34m(\u001b[0m\u001b[0mkey\u001b[0m\u001b[0;34m)\u001b[0m \u001b[0;32mfrom\u001b[0m \u001b[0merr\u001b[0m\u001b[0;34m\u001b[0m\u001b[0;34m\u001b[0m\u001b[0m\n\u001b[0m\u001b[1;32m   2898\u001b[0m \u001b[0;34m\u001b[0m\u001b[0m\n\u001b[1;32m   2899\u001b[0m         \u001b[0;32mif\u001b[0m \u001b[0mtolerance\u001b[0m \u001b[0;32mis\u001b[0m \u001b[0;32mnot\u001b[0m \u001b[0;32mNone\u001b[0m\u001b[0;34m:\u001b[0m\u001b[0;34m\u001b[0m\u001b[0;34m\u001b[0m\u001b[0m\n",
      "\u001b[0;31mKeyError\u001b[0m: 'subject_perceived_gender'"
     ]
    }
   ],
   "source": [
    "dummies = pd.get_dummies(dfm['subject_perceived_gender'])"
   ]
  },
  {
   "cell_type": "code",
   "execution_count": 2346,
   "metadata": {
    "ExecuteTime": {
     "end_time": "2020-11-25T22:26:28.960846Z",
     "start_time": "2020-11-25T22:26:28.919798Z"
    }
   },
   "outputs": [
    {
     "ename": "KeyError",
     "evalue": "'officer_gender'",
     "output_type": "error",
     "traceback": [
      "\u001b[0;31m---------------------------------------------------------------------------\u001b[0m",
      "\u001b[0;31mKeyError\u001b[0m                                  Traceback (most recent call last)",
      "\u001b[0;32m~/opt/anaconda3/lib/python3.7/site-packages/pandas/core/indexes/base.py\u001b[0m in \u001b[0;36mget_loc\u001b[0;34m(self, key, method, tolerance)\u001b[0m\n\u001b[1;32m   2894\u001b[0m             \u001b[0;32mtry\u001b[0m\u001b[0;34m:\u001b[0m\u001b[0;34m\u001b[0m\u001b[0;34m\u001b[0m\u001b[0m\n\u001b[0;32m-> 2895\u001b[0;31m                 \u001b[0;32mreturn\u001b[0m \u001b[0mself\u001b[0m\u001b[0;34m.\u001b[0m\u001b[0m_engine\u001b[0m\u001b[0;34m.\u001b[0m\u001b[0mget_loc\u001b[0m\u001b[0;34m(\u001b[0m\u001b[0mcasted_key\u001b[0m\u001b[0;34m)\u001b[0m\u001b[0;34m\u001b[0m\u001b[0;34m\u001b[0m\u001b[0m\n\u001b[0m\u001b[1;32m   2896\u001b[0m             \u001b[0;32mexcept\u001b[0m \u001b[0mKeyError\u001b[0m \u001b[0;32mas\u001b[0m \u001b[0merr\u001b[0m\u001b[0;34m:\u001b[0m\u001b[0;34m\u001b[0m\u001b[0;34m\u001b[0m\u001b[0m\n",
      "\u001b[0;32mpandas/_libs/index.pyx\u001b[0m in \u001b[0;36mpandas._libs.index.IndexEngine.get_loc\u001b[0;34m()\u001b[0m\n",
      "\u001b[0;32mpandas/_libs/index.pyx\u001b[0m in \u001b[0;36mpandas._libs.index.IndexEngine.get_loc\u001b[0;34m()\u001b[0m\n",
      "\u001b[0;32mpandas/_libs/hashtable_class_helper.pxi\u001b[0m in \u001b[0;36mpandas._libs.hashtable.PyObjectHashTable.get_item\u001b[0;34m()\u001b[0m\n",
      "\u001b[0;32mpandas/_libs/hashtable_class_helper.pxi\u001b[0m in \u001b[0;36mpandas._libs.hashtable.PyObjectHashTable.get_item\u001b[0;34m()\u001b[0m\n",
      "\u001b[0;31mKeyError\u001b[0m: 'officer_gender'",
      "\nThe above exception was the direct cause of the following exception:\n",
      "\u001b[0;31mKeyError\u001b[0m                                  Traceback (most recent call last)",
      "\u001b[0;32m<ipython-input-2346-f65c16cd0930>\u001b[0m in \u001b[0;36m<module>\u001b[0;34m\u001b[0m\n\u001b[1;32m      1\u001b[0m \u001b[0;31m# for loop to iterate through list and concat them to the data frame\u001b[0m\u001b[0;34m\u001b[0m\u001b[0;34m\u001b[0m\u001b[0;34m\u001b[0m\u001b[0m\n\u001b[1;32m      2\u001b[0m \u001b[0;32mfor\u001b[0m \u001b[0mcol\u001b[0m \u001b[0;32min\u001b[0m \u001b[0mdummy\u001b[0m\u001b[0;34m:\u001b[0m\u001b[0;34m\u001b[0m\u001b[0;34m\u001b[0m\u001b[0m\n\u001b[0;32m----> 3\u001b[0;31m     \u001b[0mdumdums\u001b[0m \u001b[0;34m=\u001b[0m \u001b[0mpd\u001b[0m\u001b[0;34m.\u001b[0m\u001b[0mget_dummies\u001b[0m\u001b[0;34m(\u001b[0m\u001b[0mdfm\u001b[0m\u001b[0;34m[\u001b[0m\u001b[0mstr\u001b[0m\u001b[0;34m(\u001b[0m\u001b[0mcol\u001b[0m\u001b[0;34m)\u001b[0m\u001b[0;34m]\u001b[0m\u001b[0;34m,\u001b[0m \u001b[0mdrop_first\u001b[0m\u001b[0;34m=\u001b[0m\u001b[0;32mTrue\u001b[0m\u001b[0;34m,\u001b[0m \u001b[0mprefix\u001b[0m\u001b[0;34m=\u001b[0m\u001b[0;34mf'{col}_'\u001b[0m\u001b[0;34m)\u001b[0m\u001b[0;34m\u001b[0m\u001b[0;34m\u001b[0m\u001b[0m\n\u001b[0m\u001b[1;32m      4\u001b[0m     \u001b[0mdfm\u001b[0m \u001b[0;34m=\u001b[0m \u001b[0mpd\u001b[0m\u001b[0;34m.\u001b[0m\u001b[0mconcat\u001b[0m\u001b[0;34m(\u001b[0m\u001b[0;34m[\u001b[0m\u001b[0mdfm\u001b[0m\u001b[0;34m,\u001b[0m \u001b[0mdumdums\u001b[0m\u001b[0;34m]\u001b[0m\u001b[0;34m,\u001b[0m \u001b[0maxis\u001b[0m\u001b[0;34m=\u001b[0m\u001b[0;36m1\u001b[0m\u001b[0;34m)\u001b[0m\u001b[0;34m\u001b[0m\u001b[0;34m\u001b[0m\u001b[0m\n\u001b[1;32m      5\u001b[0m     \u001b[0mdfm\u001b[0m \u001b[0;34m=\u001b[0m \u001b[0mdfm\u001b[0m\u001b[0;34m.\u001b[0m\u001b[0mdrop\u001b[0m\u001b[0;34m(\u001b[0m\u001b[0mcol\u001b[0m\u001b[0;34m,\u001b[0m \u001b[0maxis\u001b[0m\u001b[0;34m=\u001b[0m\u001b[0;36m1\u001b[0m\u001b[0;34m)\u001b[0m\u001b[0;34m\u001b[0m\u001b[0;34m\u001b[0m\u001b[0m\n",
      "\u001b[0;32m~/opt/anaconda3/lib/python3.7/site-packages/pandas/core/frame.py\u001b[0m in \u001b[0;36m__getitem__\u001b[0;34m(self, key)\u001b[0m\n\u001b[1;32m   2904\u001b[0m             \u001b[0;32mif\u001b[0m \u001b[0mself\u001b[0m\u001b[0;34m.\u001b[0m\u001b[0mcolumns\u001b[0m\u001b[0;34m.\u001b[0m\u001b[0mnlevels\u001b[0m \u001b[0;34m>\u001b[0m \u001b[0;36m1\u001b[0m\u001b[0;34m:\u001b[0m\u001b[0;34m\u001b[0m\u001b[0;34m\u001b[0m\u001b[0m\n\u001b[1;32m   2905\u001b[0m                 \u001b[0;32mreturn\u001b[0m \u001b[0mself\u001b[0m\u001b[0;34m.\u001b[0m\u001b[0m_getitem_multilevel\u001b[0m\u001b[0;34m(\u001b[0m\u001b[0mkey\u001b[0m\u001b[0;34m)\u001b[0m\u001b[0;34m\u001b[0m\u001b[0;34m\u001b[0m\u001b[0m\n\u001b[0;32m-> 2906\u001b[0;31m             \u001b[0mindexer\u001b[0m \u001b[0;34m=\u001b[0m \u001b[0mself\u001b[0m\u001b[0;34m.\u001b[0m\u001b[0mcolumns\u001b[0m\u001b[0;34m.\u001b[0m\u001b[0mget_loc\u001b[0m\u001b[0;34m(\u001b[0m\u001b[0mkey\u001b[0m\u001b[0;34m)\u001b[0m\u001b[0;34m\u001b[0m\u001b[0;34m\u001b[0m\u001b[0m\n\u001b[0m\u001b[1;32m   2907\u001b[0m             \u001b[0;32mif\u001b[0m \u001b[0mis_integer\u001b[0m\u001b[0;34m(\u001b[0m\u001b[0mindexer\u001b[0m\u001b[0;34m)\u001b[0m\u001b[0;34m:\u001b[0m\u001b[0;34m\u001b[0m\u001b[0;34m\u001b[0m\u001b[0m\n\u001b[1;32m   2908\u001b[0m                 \u001b[0mindexer\u001b[0m \u001b[0;34m=\u001b[0m \u001b[0;34m[\u001b[0m\u001b[0mindexer\u001b[0m\u001b[0;34m]\u001b[0m\u001b[0;34m\u001b[0m\u001b[0;34m\u001b[0m\u001b[0m\n",
      "\u001b[0;32m~/opt/anaconda3/lib/python3.7/site-packages/pandas/core/indexes/base.py\u001b[0m in \u001b[0;36mget_loc\u001b[0;34m(self, key, method, tolerance)\u001b[0m\n\u001b[1;32m   2895\u001b[0m                 \u001b[0;32mreturn\u001b[0m \u001b[0mself\u001b[0m\u001b[0;34m.\u001b[0m\u001b[0m_engine\u001b[0m\u001b[0;34m.\u001b[0m\u001b[0mget_loc\u001b[0m\u001b[0;34m(\u001b[0m\u001b[0mcasted_key\u001b[0m\u001b[0;34m)\u001b[0m\u001b[0;34m\u001b[0m\u001b[0;34m\u001b[0m\u001b[0m\n\u001b[1;32m   2896\u001b[0m             \u001b[0;32mexcept\u001b[0m \u001b[0mKeyError\u001b[0m \u001b[0;32mas\u001b[0m \u001b[0merr\u001b[0m\u001b[0;34m:\u001b[0m\u001b[0;34m\u001b[0m\u001b[0;34m\u001b[0m\u001b[0m\n\u001b[0;32m-> 2897\u001b[0;31m                 \u001b[0;32mraise\u001b[0m \u001b[0mKeyError\u001b[0m\u001b[0;34m(\u001b[0m\u001b[0mkey\u001b[0m\u001b[0;34m)\u001b[0m \u001b[0;32mfrom\u001b[0m \u001b[0merr\u001b[0m\u001b[0;34m\u001b[0m\u001b[0;34m\u001b[0m\u001b[0m\n\u001b[0m\u001b[1;32m   2898\u001b[0m \u001b[0;34m\u001b[0m\u001b[0m\n\u001b[1;32m   2899\u001b[0m         \u001b[0;32mif\u001b[0m \u001b[0mtolerance\u001b[0m \u001b[0;32mis\u001b[0m \u001b[0;32mnot\u001b[0m \u001b[0;32mNone\u001b[0m\u001b[0;34m:\u001b[0m\u001b[0;34m\u001b[0m\u001b[0;34m\u001b[0m\u001b[0m\n",
      "\u001b[0;31mKeyError\u001b[0m: 'officer_gender'"
     ]
    }
   ],
   "source": [
    "# for loop to iterate through list and concat them to the data frame\n",
    "for col in dummy:\n",
    "    dumdums = pd.get_dummies(dfm[str(col)], drop_first=True, prefix=f'{col}_') \n",
    "    dfm = pd.concat([dfm, dumdums], axis=1)\n",
    "    dfm = dfm.drop(col, axis=1)\n"
   ]
  },
  {
   "cell_type": "code",
   "execution_count": 2128,
   "metadata": {
    "ExecuteTime": {
     "end_time": "2020-11-25T21:48:52.441479Z",
     "start_time": "2020-11-25T21:48:52.395877Z"
    }
   },
   "outputs": [
    {
     "name": "stdout",
     "output_type": "stream",
     "text": [
      "<class 'pandas.core.frame.DataFrame'>\n",
      "Int64Index: 44750 entries, 0 to 44837\n",
      "Data columns (total 33 columns):\n",
      " #   Column                    Non-Null Count  Dtype \n",
      "---  ------                    --------------  ----- \n",
      " 0   subject_age_group         44750 non-null  object\n",
      " 1   subject_id                44750 non-null  object\n",
      " 2   go_sc_num                 44750 non-null  int64 \n",
      " 3   terry_stop_id             44750 non-null  int64 \n",
      " 4   weapon_type               44750 non-null  object\n",
      " 5   officer_yob               44750 non-null  int64 \n",
      " 6   officer_gender            44750 non-null  object\n",
      " 7   officer_race              44750 non-null  object\n",
      " 8   subject_perceived_race    44750 non-null  object\n",
      " 9   subject_perceived_gender  44750 non-null  object\n",
      " 10  initial_call_type         44750 non-null  object\n",
      " 11  final_call_type           44750 non-null  object\n",
      " 12  officer_squad             44203 non-null  object\n",
      " 13  arrest_flag               44750 non-null  object\n",
      " 14  frisk_flag                44750 non-null  object\n",
      " 15  precinct                  44750 non-null  object\n",
      " 16  sector                    44750 non-null  object\n",
      " 17  beat                      44750 non-null  object\n",
      " 18  repeat_offenders          44750 non-null  object\n",
      " 19  arrest_made               44750 non-null  object\n",
      " 20  weapon                    44750 non-null  int64 \n",
      " 21  incident_year             44750 non-null  int64 \n",
      " 22  incident_month            44750 non-null  int64 \n",
      " 23  officer_age               44750 non-null  int64 \n",
      " 24  reported_hour             44750 non-null  int64 \n",
      " 25  call_made                 44750 non-null  int64 \n",
      " 26  dif_race                  44750 non-null  object\n",
      " 27  dif_gender                44750 non-null  object\n",
      " 28  dif_race_gender           44750 non-null  object\n",
      " 29  12am_6am                  44750 non-null  uint8 \n",
      " 30  7am_12pm                  44750 non-null  uint8 \n",
      " 31  1pm_6pm                   44750 non-null  uint8 \n",
      " 32  7pm_11pm                  44750 non-null  uint8 \n",
      "dtypes: int64(9), object(20), uint8(4)\n",
      "memory usage: 10.4+ MB\n"
     ]
    }
   ],
   "source": [
    "df.info()"
   ]
  },
  {
   "cell_type": "code",
   "execution_count": 2129,
   "metadata": {
    "ExecuteTime": {
     "end_time": "2020-11-25T21:48:52.467945Z",
     "start_time": "2020-11-25T21:48:52.443453Z"
    }
   },
   "outputs": [
    {
     "data": {
      "text/html": [
       "<div>\n",
       "<style scoped>\n",
       "    .dataframe tbody tr th:only-of-type {\n",
       "        vertical-align: middle;\n",
       "    }\n",
       "\n",
       "    .dataframe tbody tr th {\n",
       "        vertical-align: top;\n",
       "    }\n",
       "\n",
       "    .dataframe thead th {\n",
       "        text-align: right;\n",
       "    }\n",
       "</style>\n",
       "<table border=\"1\" class=\"dataframe\">\n",
       "  <thead>\n",
       "    <tr style=\"text-align: right;\">\n",
       "      <th></th>\n",
       "      <th>subject_age_group</th>\n",
       "      <th>subject_id</th>\n",
       "      <th>go_sc_num</th>\n",
       "      <th>terry_stop_id</th>\n",
       "      <th>weapon_type</th>\n",
       "      <th>officer_yob</th>\n",
       "      <th>officer_gender</th>\n",
       "      <th>officer_race</th>\n",
       "      <th>subject_perceived_race</th>\n",
       "      <th>subject_perceived_gender</th>\n",
       "      <th>...</th>\n",
       "      <th>officer_age</th>\n",
       "      <th>reported_hour</th>\n",
       "      <th>call_made</th>\n",
       "      <th>dif_race</th>\n",
       "      <th>dif_gender</th>\n",
       "      <th>dif_race_gender</th>\n",
       "      <th>12am_6am</th>\n",
       "      <th>7am_12pm</th>\n",
       "      <th>1pm_6pm</th>\n",
       "      <th>7pm_11pm</th>\n",
       "    </tr>\n",
       "  </thead>\n",
       "  <tbody>\n",
       "    <tr>\n",
       "      <th>0</th>\n",
       "      <td>26_35</td>\n",
       "      <td>unassigned</td>\n",
       "      <td>20140000120677</td>\n",
       "      <td>92317</td>\n",
       "      <td>None</td>\n",
       "      <td>1984</td>\n",
       "      <td>M</td>\n",
       "      <td>Black or African American</td>\n",
       "      <td>Asian</td>\n",
       "      <td>M</td>\n",
       "      <td>...</td>\n",
       "      <td>31</td>\n",
       "      <td>11</td>\n",
       "      <td>0</td>\n",
       "      <td>Y</td>\n",
       "      <td>N</td>\n",
       "      <td>Y</td>\n",
       "      <td>0</td>\n",
       "      <td>1</td>\n",
       "      <td>0</td>\n",
       "      <td>0</td>\n",
       "    </tr>\n",
       "    <tr>\n",
       "      <th>1</th>\n",
       "      <td>26_35</td>\n",
       "      <td>unassigned</td>\n",
       "      <td>20150000001463</td>\n",
       "      <td>28806</td>\n",
       "      <td>None</td>\n",
       "      <td>1965</td>\n",
       "      <td>M</td>\n",
       "      <td>White</td>\n",
       "      <td>Not Specified</td>\n",
       "      <td>Unable to Determine</td>\n",
       "      <td>...</td>\n",
       "      <td>50</td>\n",
       "      <td>7</td>\n",
       "      <td>0</td>\n",
       "      <td>Y</td>\n",
       "      <td>Y</td>\n",
       "      <td>Y</td>\n",
       "      <td>0</td>\n",
       "      <td>1</td>\n",
       "      <td>0</td>\n",
       "      <td>0</td>\n",
       "    </tr>\n",
       "    <tr>\n",
       "      <th>2</th>\n",
       "      <td>26_35</td>\n",
       "      <td>unassigned</td>\n",
       "      <td>20150000001516</td>\n",
       "      <td>29599</td>\n",
       "      <td>None</td>\n",
       "      <td>1961</td>\n",
       "      <td>M</td>\n",
       "      <td>White</td>\n",
       "      <td>White</td>\n",
       "      <td>M</td>\n",
       "      <td>...</td>\n",
       "      <td>54</td>\n",
       "      <td>19</td>\n",
       "      <td>0</td>\n",
       "      <td>N</td>\n",
       "      <td>N</td>\n",
       "      <td>N</td>\n",
       "      <td>0</td>\n",
       "      <td>0</td>\n",
       "      <td>0</td>\n",
       "      <td>1</td>\n",
       "    </tr>\n",
       "    <tr>\n",
       "      <th>3</th>\n",
       "      <td>26_35</td>\n",
       "      <td>unassigned</td>\n",
       "      <td>20150000001670</td>\n",
       "      <td>32260</td>\n",
       "      <td>None</td>\n",
       "      <td>1963</td>\n",
       "      <td>M</td>\n",
       "      <td>White</td>\n",
       "      <td>Not Specified</td>\n",
       "      <td>Unable to Determine</td>\n",
       "      <td>...</td>\n",
       "      <td>52</td>\n",
       "      <td>4</td>\n",
       "      <td>0</td>\n",
       "      <td>Y</td>\n",
       "      <td>Y</td>\n",
       "      <td>Y</td>\n",
       "      <td>1</td>\n",
       "      <td>0</td>\n",
       "      <td>0</td>\n",
       "      <td>0</td>\n",
       "    </tr>\n",
       "    <tr>\n",
       "      <th>4</th>\n",
       "      <td>26_35</td>\n",
       "      <td>unassigned</td>\n",
       "      <td>20150000001739</td>\n",
       "      <td>33155</td>\n",
       "      <td>None</td>\n",
       "      <td>1977</td>\n",
       "      <td>M</td>\n",
       "      <td>White</td>\n",
       "      <td>Black or African American</td>\n",
       "      <td>M</td>\n",
       "      <td>...</td>\n",
       "      <td>38</td>\n",
       "      <td>0</td>\n",
       "      <td>0</td>\n",
       "      <td>Y</td>\n",
       "      <td>N</td>\n",
       "      <td>Y</td>\n",
       "      <td>1</td>\n",
       "      <td>0</td>\n",
       "      <td>0</td>\n",
       "      <td>0</td>\n",
       "    </tr>\n",
       "  </tbody>\n",
       "</table>\n",
       "<p>5 rows × 33 columns</p>\n",
       "</div>"
      ],
      "text/plain": [
       "  subject_age_group  subject_id       go_sc_num  terry_stop_id weapon_type  \\\n",
       "0             26_35  unassigned  20140000120677          92317        None   \n",
       "1             26_35  unassigned  20150000001463          28806        None   \n",
       "2             26_35  unassigned  20150000001516          29599        None   \n",
       "3             26_35  unassigned  20150000001670          32260        None   \n",
       "4             26_35  unassigned  20150000001739          33155        None   \n",
       "\n",
       "   officer_yob officer_gender               officer_race  \\\n",
       "0         1984              M  Black or African American   \n",
       "1         1965              M                      White   \n",
       "2         1961              M                      White   \n",
       "3         1963              M                      White   \n",
       "4         1977              M                      White   \n",
       "\n",
       "      subject_perceived_race subject_perceived_gender  ... officer_age  \\\n",
       "0                      Asian                        M  ...          31   \n",
       "1              Not Specified      Unable to Determine  ...          50   \n",
       "2                      White                        M  ...          54   \n",
       "3              Not Specified      Unable to Determine  ...          52   \n",
       "4  Black or African American                        M  ...          38   \n",
       "\n",
       "  reported_hour call_made dif_race dif_gender dif_race_gender 12am_6am  \\\n",
       "0            11         0        Y          N               Y        0   \n",
       "1             7         0        Y          Y               Y        0   \n",
       "2            19         0        N          N               N        0   \n",
       "3             4         0        Y          Y               Y        1   \n",
       "4             0         0        Y          N               Y        1   \n",
       "\n",
       "  7am_12pm 1pm_6pm 7pm_11pm  \n",
       "0        1       0        0  \n",
       "1        1       0        0  \n",
       "2        0       0        1  \n",
       "3        0       0        0  \n",
       "4        0       0        0  \n",
       "\n",
       "[5 rows x 33 columns]"
      ]
     },
     "execution_count": 2129,
     "metadata": {},
     "output_type": "execute_result"
    }
   ],
   "source": [
    "df.head()"
   ]
  },
  {
   "cell_type": "code",
   "execution_count": 2130,
   "metadata": {
    "ExecuteTime": {
     "end_time": "2020-11-25T21:48:52.480218Z",
     "start_time": "2020-11-25T21:48:52.470066Z"
    }
   },
   "outputs": [],
   "source": [
    "#df = df.drop (['subject_id','weapon_type', 'officer_gender'], axis = 1)"
   ]
  },
  {
   "cell_type": "code",
   "execution_count": null,
   "metadata": {},
   "outputs": [],
   "source": []
  },
  {
   "cell_type": "code",
   "execution_count": 2131,
   "metadata": {
    "ExecuteTime": {
     "end_time": "2020-11-25T21:48:52.619417Z",
     "start_time": "2020-11-25T21:48:52.482257Z"
    }
   },
   "outputs": [],
   "source": [
    "# for col in df.columns:\n",
    "#     df[col] = df[col].astype('category')"
   ]
  },
  {
   "cell_type": "code",
   "execution_count": null,
   "metadata": {},
   "outputs": [],
   "source": []
  },
  {
   "cell_type": "markdown",
   "metadata": {},
   "source": [
    "#### Save Point for EDA"
   ]
  },
  {
   "cell_type": "markdown",
   "metadata": {},
   "source": [
    "#### Take some columns out for modeling"
   ]
  },
  {
   "cell_type": "code",
   "execution_count": 2133,
   "metadata": {
    "ExecuteTime": {
     "end_time": "2020-11-25T21:48:53.098585Z",
     "start_time": "2020-11-25T21:48:53.091617Z"
    }
   },
   "outputs": [
    {
     "data": {
      "text/plain": [
       "Index(['subject_age_group', 'go_sc_num', 'terry_stop_id', 'officer_yob',\n",
       "       'officer_race', 'subject_perceived_race', 'subject_perceived_gender',\n",
       "       'initial_call_type', 'final_call_type', 'officer_squad', 'arrest_flag',\n",
       "       'frisk_flag', 'precinct', 'sector', 'beat', 'repeat_offenders',\n",
       "       'arrest_made', 'weapon', 'incident_year', 'incident_month',\n",
       "       'officer_age', 'reported_hour', 'call_made', 'dif_race', 'dif_gender',\n",
       "       'dif_race_gender', '12am_6am', '7am_12pm', '1pm_6pm', '7pm_11pm'],\n",
       "      dtype='object')"
      ]
     },
     "execution_count": 2133,
     "metadata": {},
     "output_type": "execute_result"
    }
   ],
   "source": [
    "df.columns"
   ]
  },
  {
   "cell_type": "code",
   "execution_count": 2134,
   "metadata": {
    "ExecuteTime": {
     "end_time": "2020-11-25T21:48:53.107512Z",
     "start_time": "2020-11-25T21:48:53.101840Z"
    }
   },
   "outputs": [],
   "source": [
    "dfm = df.drop(['go_sc_num', 'terry_stop_id',\n",
    "        'officer_yob', 'final_call_type',\n",
    "       'initial_call_type', 'officer_squad', 'arrest_flag',\n",
    "       'frisk_flag', 'precinct', 'sector', 'beat',\n",
    "       'incident_year', 'incident_month',], axis=1)"
   ]
  },
  {
   "cell_type": "code",
   "execution_count": 2135,
   "metadata": {
    "ExecuteTime": {
     "end_time": "2020-11-25T21:48:53.136303Z",
     "start_time": "2020-11-25T21:48:53.109891Z"
    }
   },
   "outputs": [
    {
     "data": {
      "text/html": [
       "<div>\n",
       "<style scoped>\n",
       "    .dataframe tbody tr th:only-of-type {\n",
       "        vertical-align: middle;\n",
       "    }\n",
       "\n",
       "    .dataframe tbody tr th {\n",
       "        vertical-align: top;\n",
       "    }\n",
       "\n",
       "    .dataframe thead th {\n",
       "        text-align: right;\n",
       "    }\n",
       "</style>\n",
       "<table border=\"1\" class=\"dataframe\">\n",
       "  <thead>\n",
       "    <tr style=\"text-align: right;\">\n",
       "      <th></th>\n",
       "      <th>subject_age_group</th>\n",
       "      <th>officer_race</th>\n",
       "      <th>subject_perceived_race</th>\n",
       "      <th>subject_perceived_gender</th>\n",
       "      <th>repeat_offenders</th>\n",
       "      <th>arrest_made</th>\n",
       "      <th>weapon</th>\n",
       "      <th>officer_age</th>\n",
       "      <th>reported_hour</th>\n",
       "      <th>call_made</th>\n",
       "      <th>dif_race</th>\n",
       "      <th>dif_gender</th>\n",
       "      <th>dif_race_gender</th>\n",
       "      <th>12am_6am</th>\n",
       "      <th>7am_12pm</th>\n",
       "      <th>1pm_6pm</th>\n",
       "      <th>7pm_11pm</th>\n",
       "    </tr>\n",
       "  </thead>\n",
       "  <tbody>\n",
       "    <tr>\n",
       "      <th>0</th>\n",
       "      <td>26_35</td>\n",
       "      <td>Black or African American</td>\n",
       "      <td>Asian</td>\n",
       "      <td>M</td>\n",
       "      <td>N</td>\n",
       "      <td>Y</td>\n",
       "      <td>0</td>\n",
       "      <td>31</td>\n",
       "      <td>11</td>\n",
       "      <td>0</td>\n",
       "      <td>Y</td>\n",
       "      <td>N</td>\n",
       "      <td>Y</td>\n",
       "      <td>0</td>\n",
       "      <td>1</td>\n",
       "      <td>0</td>\n",
       "      <td>0</td>\n",
       "    </tr>\n",
       "    <tr>\n",
       "      <th>1</th>\n",
       "      <td>26_35</td>\n",
       "      <td>White</td>\n",
       "      <td>Not Specified</td>\n",
       "      <td>Unable to Determine</td>\n",
       "      <td>N</td>\n",
       "      <td>N</td>\n",
       "      <td>0</td>\n",
       "      <td>50</td>\n",
       "      <td>7</td>\n",
       "      <td>0</td>\n",
       "      <td>Y</td>\n",
       "      <td>Y</td>\n",
       "      <td>Y</td>\n",
       "      <td>0</td>\n",
       "      <td>1</td>\n",
       "      <td>0</td>\n",
       "      <td>0</td>\n",
       "    </tr>\n",
       "    <tr>\n",
       "      <th>2</th>\n",
       "      <td>26_35</td>\n",
       "      <td>White</td>\n",
       "      <td>White</td>\n",
       "      <td>M</td>\n",
       "      <td>N</td>\n",
       "      <td>N</td>\n",
       "      <td>0</td>\n",
       "      <td>54</td>\n",
       "      <td>19</td>\n",
       "      <td>0</td>\n",
       "      <td>N</td>\n",
       "      <td>N</td>\n",
       "      <td>N</td>\n",
       "      <td>0</td>\n",
       "      <td>0</td>\n",
       "      <td>0</td>\n",
       "      <td>1</td>\n",
       "    </tr>\n",
       "    <tr>\n",
       "      <th>3</th>\n",
       "      <td>26_35</td>\n",
       "      <td>White</td>\n",
       "      <td>Not Specified</td>\n",
       "      <td>Unable to Determine</td>\n",
       "      <td>N</td>\n",
       "      <td>N</td>\n",
       "      <td>0</td>\n",
       "      <td>52</td>\n",
       "      <td>4</td>\n",
       "      <td>0</td>\n",
       "      <td>Y</td>\n",
       "      <td>Y</td>\n",
       "      <td>Y</td>\n",
       "      <td>1</td>\n",
       "      <td>0</td>\n",
       "      <td>0</td>\n",
       "      <td>0</td>\n",
       "    </tr>\n",
       "    <tr>\n",
       "      <th>4</th>\n",
       "      <td>26_35</td>\n",
       "      <td>White</td>\n",
       "      <td>Black or African American</td>\n",
       "      <td>M</td>\n",
       "      <td>N</td>\n",
       "      <td>N</td>\n",
       "      <td>0</td>\n",
       "      <td>38</td>\n",
       "      <td>0</td>\n",
       "      <td>0</td>\n",
       "      <td>Y</td>\n",
       "      <td>N</td>\n",
       "      <td>Y</td>\n",
       "      <td>1</td>\n",
       "      <td>0</td>\n",
       "      <td>0</td>\n",
       "      <td>0</td>\n",
       "    </tr>\n",
       "  </tbody>\n",
       "</table>\n",
       "</div>"
      ],
      "text/plain": [
       "  subject_age_group               officer_race     subject_perceived_race  \\\n",
       "0             26_35  Black or African American                      Asian   \n",
       "1             26_35                      White              Not Specified   \n",
       "2             26_35                      White                      White   \n",
       "3             26_35                      White              Not Specified   \n",
       "4             26_35                      White  Black or African American   \n",
       "\n",
       "  subject_perceived_gender repeat_offenders arrest_made weapon officer_age  \\\n",
       "0                        M                N           Y      0          31   \n",
       "1      Unable to Determine                N           N      0          50   \n",
       "2                        M                N           N      0          54   \n",
       "3      Unable to Determine                N           N      0          52   \n",
       "4                        M                N           N      0          38   \n",
       "\n",
       "  reported_hour call_made dif_race dif_gender dif_race_gender 12am_6am  \\\n",
       "0            11         0        Y          N               Y        0   \n",
       "1             7         0        Y          Y               Y        0   \n",
       "2            19         0        N          N               N        0   \n",
       "3             4         0        Y          Y               Y        1   \n",
       "4             0         0        Y          N               Y        1   \n",
       "\n",
       "  7am_12pm 1pm_6pm 7pm_11pm  \n",
       "0        1       0        0  \n",
       "1        1       0        0  \n",
       "2        0       0        1  \n",
       "3        0       0        0  \n",
       "4        0       0        0  "
      ]
     },
     "execution_count": 2135,
     "metadata": {},
     "output_type": "execute_result"
    }
   ],
   "source": [
    "dfm.head()"
   ]
  },
  {
   "cell_type": "code",
   "execution_count": 2136,
   "metadata": {
    "ExecuteTime": {
     "end_time": "2020-11-25T21:48:53.170791Z",
     "start_time": "2020-11-25T21:48:53.138567Z"
    }
   },
   "outputs": [
    {
     "name": "stdout",
     "output_type": "stream",
     "text": [
      "<class 'pandas.core.frame.DataFrame'>\n",
      "Int64Index: 44750 entries, 0 to 44837\n",
      "Data columns (total 17 columns):\n",
      " #   Column                    Non-Null Count  Dtype   \n",
      "---  ------                    --------------  -----   \n",
      " 0   subject_age_group         44750 non-null  category\n",
      " 1   officer_race              44750 non-null  category\n",
      " 2   subject_perceived_race    44750 non-null  category\n",
      " 3   subject_perceived_gender  44750 non-null  category\n",
      " 4   repeat_offenders          44750 non-null  category\n",
      " 5   arrest_made               44750 non-null  category\n",
      " 6   weapon                    44750 non-null  category\n",
      " 7   officer_age               44750 non-null  category\n",
      " 8   reported_hour             44750 non-null  category\n",
      " 9   call_made                 44750 non-null  category\n",
      " 10  dif_race                  44750 non-null  category\n",
      " 11  dif_gender                44750 non-null  category\n",
      " 12  dif_race_gender           44750 non-null  category\n",
      " 13  12am_6am                  44750 non-null  category\n",
      " 14  7am_12pm                  44750 non-null  category\n",
      " 15  1pm_6pm                   44750 non-null  category\n",
      " 16  7pm_11pm                  44750 non-null  category\n",
      "dtypes: category(17)\n",
      "memory usage: 1.1 MB\n"
     ]
    }
   ],
   "source": [
    "dfm.info()"
   ]
  },
  {
   "cell_type": "code",
   "execution_count": 2137,
   "metadata": {
    "ExecuteTime": {
     "end_time": "2020-11-25T21:48:53.180234Z",
     "start_time": "2020-11-25T21:48:53.173592Z"
    }
   },
   "outputs": [
    {
     "data": {
      "text/plain": [
       "Index(['subject_age_group', 'officer_race', 'subject_perceived_race',\n",
       "       'subject_perceived_gender', 'repeat_offenders', 'arrest_made', 'weapon',\n",
       "       'officer_age', 'reported_hour', 'call_made', 'dif_race', 'dif_gender',\n",
       "       'dif_race_gender', '12am_6am', '7am_12pm', '1pm_6pm', '7pm_11pm'],\n",
       "      dtype='object')"
      ]
     },
     "execution_count": 2137,
     "metadata": {},
     "output_type": "execute_result"
    }
   ],
   "source": [
    "dfm.columns"
   ]
  },
  {
   "cell_type": "code",
   "execution_count": 2138,
   "metadata": {
    "ExecuteTime": {
     "end_time": "2020-11-25T21:48:53.184962Z",
     "start_time": "2020-11-25T21:48:53.182243Z"
    }
   },
   "outputs": [],
   "source": [
    "# # Listing all of the columns to make dummies from\n",
    "# dummy = ['subject_age_group', 'officer_race', 'subject_perceived_race',\n",
    "#        'subject_perceived_gender', 'repeat_offenders', 'arrest_made', 'weapon',\n",
    "#        'officer_age', 'reported_hour', 'call_made', 'dif_race', 'dif_gender',\n",
    "#        'dif_race_gender', '12am_6am', '7am_12pm', '1pm_6pm', '7pm_11pm']"
   ]
  },
  {
   "cell_type": "code",
   "execution_count": 2139,
   "metadata": {
    "ExecuteTime": {
     "end_time": "2020-11-25T21:48:53.189650Z",
     "start_time": "2020-11-25T21:48:53.187158Z"
    }
   },
   "outputs": [],
   "source": [
    "# # for loop to iterate through list and concat them to the data frame\n",
    "# for col in dummy:\n",
    "#     dumdums = pd.get_dummies(dfm[str(col)], drop_first=True, prefix=f'{col}_') \n",
    "#     dfm = pd.concat([dfm, dumdums], axis=1)\n",
    "#     dfm = dfm.drop(col, axis=1)"
   ]
  },
  {
   "cell_type": "code",
   "execution_count": 2140,
   "metadata": {
    "ExecuteTime": {
     "end_time": "2020-11-25T21:48:53.220111Z",
     "start_time": "2020-11-25T21:48:53.191671Z"
    }
   },
   "outputs": [
    {
     "name": "stdout",
     "output_type": "stream",
     "text": [
      "<class 'pandas.core.frame.DataFrame'>\n",
      "Int64Index: 44750 entries, 0 to 44837\n",
      "Data columns (total 17 columns):\n",
      " #   Column                    Non-Null Count  Dtype   \n",
      "---  ------                    --------------  -----   \n",
      " 0   subject_age_group         44750 non-null  category\n",
      " 1   officer_race              44750 non-null  category\n",
      " 2   subject_perceived_race    44750 non-null  category\n",
      " 3   subject_perceived_gender  44750 non-null  category\n",
      " 4   repeat_offenders          44750 non-null  category\n",
      " 5   arrest_made               44750 non-null  category\n",
      " 6   weapon                    44750 non-null  category\n",
      " 7   officer_age               44750 non-null  category\n",
      " 8   reported_hour             44750 non-null  category\n",
      " 9   call_made                 44750 non-null  category\n",
      " 10  dif_race                  44750 non-null  category\n",
      " 11  dif_gender                44750 non-null  category\n",
      " 12  dif_race_gender           44750 non-null  category\n",
      " 13  12am_6am                  44750 non-null  category\n",
      " 14  7am_12pm                  44750 non-null  category\n",
      " 15  1pm_6pm                   44750 non-null  category\n",
      " 16  7pm_11pm                  44750 non-null  category\n",
      "dtypes: category(17)\n",
      "memory usage: 1.1 MB\n"
     ]
    }
   ],
   "source": [
    "dfm.info()"
   ]
  },
  {
   "cell_type": "code",
   "execution_count": null,
   "metadata": {},
   "outputs": [],
   "source": []
  },
  {
   "cell_type": "code",
   "execution_count": null,
   "metadata": {},
   "outputs": [],
   "source": []
  },
  {
   "cell_type": "code",
   "execution_count": null,
   "metadata": {},
   "outputs": [],
   "source": []
  },
  {
   "cell_type": "code",
   "execution_count": 2141,
   "metadata": {
    "ExecuteTime": {
     "end_time": "2020-11-25T21:48:53.225500Z",
     "start_time": "2020-11-25T21:48:53.222359Z"
    }
   },
   "outputs": [],
   "source": [
    "# changing columns into categories and datetime\n",
    "\n",
    "# dfm = dfm.astype({'subject_age_group': 'category', 'officer_gender':'category',\n",
    "#                   'officer_race': 'category', 'subject_perceived_race':'category',\n",
    "#                  'subject_perceived_gender' : 'category', 'repeat_offenders' : 'category',\n",
    "#                  'arrest_made':'category', 'dif_race':'category', 'dif_gender':'category',\n",
    "#                  'dif_race_gender':'category'})"
   ]
  },
  {
   "cell_type": "code",
   "execution_count": 2354,
   "metadata": {
    "ExecuteTime": {
     "end_time": "2020-11-25T22:34:31.671937Z",
     "start_time": "2020-11-25T22:34:31.071284Z"
    }
   },
   "outputs": [],
   "source": [
    "dfm.to_csv('Terry_Stop_For_Modeling.csv')"
   ]
  },
  {
   "cell_type": "code",
   "execution_count": null,
   "metadata": {
    "ExecuteTime": {
     "end_time": "2020-11-24T17:02:24.232078Z",
     "start_time": "2020-11-24T17:02:24.184608Z"
    }
   },
   "outputs": [],
   "source": []
  },
  {
   "cell_type": "code",
   "execution_count": null,
   "metadata": {},
   "outputs": [],
   "source": []
  },
  {
   "cell_type": "code",
   "execution_count": null,
   "metadata": {
    "ExecuteTime": {
     "end_time": "2020-11-24T16:54:00.044592Z",
     "start_time": "2020-11-24T16:54:00.002761Z"
    }
   },
   "outputs": [],
   "source": []
  },
  {
   "cell_type": "markdown",
   "metadata": {},
   "source": []
  },
  {
   "cell_type": "code",
   "execution_count": null,
   "metadata": {
    "ExecuteTime": {
     "end_time": "2020-11-24T16:01:53.780210Z",
     "start_time": "2020-11-24T16:01:53.732012Z"
    },
    "scrolled": true
   },
   "outputs": [],
   "source": []
  },
  {
   "cell_type": "code",
   "execution_count": 2143,
   "metadata": {
    "ExecuteTime": {
     "end_time": "2020-11-25T21:48:53.446540Z",
     "start_time": "2020-11-25T21:48:53.443768Z"
    }
   },
   "outputs": [],
   "source": [
    "# Create a DataFrame to use for EDA \n",
    "# df_eda = df.drop(['precinct', 'sector', 'subject_id', 'weapon_type', 'terry_stop_id', 'go_sc_num'], axis=1)\n",
    "\n",
    "# df_eda.head()"
   ]
  },
  {
   "cell_type": "code",
   "execution_count": 2144,
   "metadata": {
    "ExecuteTime": {
     "end_time": "2020-11-25T21:48:53.451754Z",
     "start_time": "2020-11-25T21:48:53.448901Z"
    }
   },
   "outputs": [],
   "source": [
    "#df_eda.to_csv('cleaned_terry_stop_for_eda.csv')"
   ]
  },
  {
   "cell_type": "code",
   "execution_count": 2145,
   "metadata": {
    "ExecuteTime": {
     "end_time": "2020-11-25T21:48:53.456577Z",
     "start_time": "2020-11-25T21:48:53.453909Z"
    }
   },
   "outputs": [],
   "source": [
    "#df.info()"
   ]
  },
  {
   "cell_type": "code",
   "execution_count": 2146,
   "metadata": {
    "ExecuteTime": {
     "end_time": "2020-11-25T21:48:53.462227Z",
     "start_time": "2020-11-25T21:48:53.458778Z"
    }
   },
   "outputs": [],
   "source": [
    "#df = df.drop(['subject_id', 'go_sc_num', 'terry_stop_id', 'weapon_type','officer_squad','sector','beat'], axis = 1)"
   ]
  },
  {
   "cell_type": "code",
   "execution_count": 2147,
   "metadata": {
    "ExecuteTime": {
     "end_time": "2020-11-25T21:48:53.466948Z",
     "start_time": "2020-11-25T21:48:53.464451Z"
    }
   },
   "outputs": [],
   "source": [
    "#df.info()"
   ]
  },
  {
   "cell_type": "code",
   "execution_count": 2148,
   "metadata": {
    "ExecuteTime": {
     "end_time": "2020-11-25T21:48:53.471318Z",
     "start_time": "2020-11-25T21:48:53.469130Z"
    }
   },
   "outputs": [],
   "source": [
    "# export to be used for modeling\n",
    "#df.to_csv('Terry_Stop_For_Modeling.csv')"
   ]
  },
  {
   "cell_type": "code",
   "execution_count": null,
   "metadata": {},
   "outputs": [],
   "source": []
  },
  {
   "cell_type": "code",
   "execution_count": null,
   "metadata": {},
   "outputs": [],
   "source": []
  },
  {
   "cell_type": "code",
   "execution_count": null,
   "metadata": {},
   "outputs": [],
   "source": []
  },
  {
   "cell_type": "markdown",
   "metadata": {
    "ExecuteTime": {
     "end_time": "2020-11-21T16:34:40.118527Z",
     "start_time": "2020-11-21T16:34:40.115427Z"
    }
   },
   "source": [
    "### Make Dummies"
   ]
  },
  {
   "cell_type": "code",
   "execution_count": 2149,
   "metadata": {
    "ExecuteTime": {
     "end_time": "2020-11-25T21:48:53.476146Z",
     "start_time": "2020-11-25T21:48:53.473634Z"
    }
   },
   "outputs": [],
   "source": [
    "# def cat_codes(ddf, columns):\n",
    "#     \"\"\"\n",
    "#     Input: Data frame and list of columns\n",
    "#     Output: Columns converted to categories and assigned cat_codes\n",
    "#     \"\"\"\n",
    "#     for i in columns:\n",
    "#         ddf[i] = ddf[i].astype('category')\n",
    "#         ddf[i] = ddf[i].cat.codes"
   ]
  },
  {
   "cell_type": "code",
   "execution_count": 2150,
   "metadata": {
    "ExecuteTime": {
     "end_time": "2020-11-25T21:48:53.481622Z",
     "start_time": "2020-11-25T21:48:53.479149Z"
    }
   },
   "outputs": [],
   "source": [
    "# label_encoding = ['initial_call_type', 'final_call_type', 'precinct', \n",
    "#                   'incident_year', 'officer_age', 'officer_race', \n",
    "#                   'subject_perceived_race', 'call_type', 'sector', 'beat', \n",
    "#                   'officer_id', 'weapon_type']"
   ]
  },
  {
   "cell_type": "code",
   "execution_count": 2151,
   "metadata": {
    "ExecuteTime": {
     "end_time": "2020-11-25T21:48:53.486471Z",
     "start_time": "2020-11-25T21:48:53.483892Z"
    }
   },
   "outputs": [],
   "source": [
    "# for col in ['initial_call_type', 'final_call_type', 'precinct', \n",
    "#             'incident_year', 'officer_age', 'officer_race', \n",
    "#             'subject_perceived_race', 'call_type', 'sector', 'beat', \n",
    "#             'officer_id', 'weapon_type']:\n",
    "#     df[col] = df[col].astype('category')"
   ]
  },
  {
   "cell_type": "code",
   "execution_count": 2152,
   "metadata": {
    "ExecuteTime": {
     "end_time": "2020-11-25T21:48:53.491175Z",
     "start_time": "2020-11-25T21:48:53.488572Z"
    }
   },
   "outputs": [],
   "source": [
    "#cat_codes(ddf, label_encoding)"
   ]
  },
  {
   "cell_type": "code",
   "execution_count": 2153,
   "metadata": {
    "ExecuteTime": {
     "end_time": "2020-11-25T21:48:53.521164Z",
     "start_time": "2020-11-25T21:48:53.518418Z"
    }
   },
   "outputs": [],
   "source": [
    "# ddf.subject_age_group.value_counts()"
   ]
  },
  {
   "cell_type": "code",
   "execution_count": null,
   "metadata": {},
   "outputs": [],
   "source": []
  },
  {
   "cell_type": "code",
   "execution_count": 2154,
   "metadata": {
    "ExecuteTime": {
     "end_time": "2020-11-25T21:48:53.538897Z",
     "start_time": "2020-11-25T21:48:53.536228Z"
    }
   },
   "outputs": [],
   "source": [
    "# replace_val(df, 'subject_age_group', ['26 - 35'], '26_35')\n",
    "# replace_val(df, 'subject_age_group', ['18 - 25'], '18_25')\n",
    "# replace_val(df, 'subject_age_group', ['36 - 45'], '36_45')\n",
    "# replace_val(df, 'subject_age_group', ['46 - 55'], '46_55')\n",
    "# replace_val(df, 'subject_age_group', ['56 and Above'], '56_up')\n",
    "# replace_val(df, 'subject_age_group', ['1 - 17'], '1_17')"
   ]
  },
  {
   "cell_type": "code",
   "execution_count": 2155,
   "metadata": {
    "ExecuteTime": {
     "end_time": "2020-11-25T21:48:53.544788Z",
     "start_time": "2020-11-25T21:48:53.541244Z"
    }
   },
   "outputs": [],
   "source": [
    "#df.subject_age_group.value_counts()"
   ]
  },
  {
   "cell_type": "code",
   "execution_count": 2156,
   "metadata": {
    "ExecuteTime": {
     "end_time": "2020-11-25T21:48:53.549869Z",
     "start_time": "2020-11-25T21:48:53.547065Z"
    }
   },
   "outputs": [],
   "source": [
    "#df.info()"
   ]
  },
  {
   "cell_type": "code",
   "execution_count": 2157,
   "metadata": {
    "ExecuteTime": {
     "end_time": "2020-11-25T21:48:53.554491Z",
     "start_time": "2020-11-25T21:48:53.552048Z"
    }
   },
   "outputs": [],
   "source": [
    "# Listing all of the columns to make dummies from\n",
    "# dummy = ['officer_gender', 'subject_perceived_gender', 'arrest_flag', \n",
    "#            'frisk_flag', 'dif_race', 'dif_gender', 'dif_race_gender', \n",
    "#            'repeat_offenders', 'subject_age_group']\n"
   ]
  },
  {
   "cell_type": "code",
   "execution_count": 2158,
   "metadata": {
    "ExecuteTime": {
     "end_time": "2020-11-25T21:48:53.559435Z",
     "start_time": "2020-11-25T21:48:53.556810Z"
    }
   },
   "outputs": [],
   "source": [
    "#for loop to iterate through list and concat them to the data frame\n",
    "# for col in dummy:\n",
    "#     dumdums = pd.get_dummies(df[str(col)], drop_first=True, prefix=f'{col}_') \n",
    "#     ddf = pd.concat([df, dumdums], axis=1)\n",
    "#     ddf = df.drop(col, axis=1)"
   ]
  },
  {
   "cell_type": "code",
   "execution_count": 2159,
   "metadata": {
    "ExecuteTime": {
     "end_time": "2020-11-25T21:48:53.587664Z",
     "start_time": "2020-11-25T21:48:53.562788Z"
    }
   },
   "outputs": [
    {
     "name": "stdout",
     "output_type": "stream",
     "text": [
      "<class 'pandas.core.frame.DataFrame'>\n",
      "Int64Index: 44750 entries, 0 to 44837\n",
      "Data columns (total 26 columns):\n",
      " #   Column                                         Non-Null Count  Dtype \n",
      "---  ------                                         --------------  ----- \n",
      " 0   officer_yob                                    44750 non-null  int64 \n",
      " 1   officer_race                                   44750 non-null  int8  \n",
      " 2   subject_perceived_race                         44750 non-null  int8  \n",
      " 3   initial_call_type                              44750 non-null  int16 \n",
      " 4   final_call_type                                44750 non-null  int16 \n",
      " 5   precinct                                       44750 non-null  int8  \n",
      " 6   arrest_made                                    44750 non-null  object\n",
      " 7   weapon                                         44750 non-null  int64 \n",
      " 8   incident_year                                  44750 non-null  int8  \n",
      " 9   incident_month                                 44750 non-null  int64 \n",
      " 10  officer_age                                    44750 non-null  int8  \n",
      " 11  call_made                                      44750 non-null  int64 \n",
      " 12  12am_6am                                       44750 non-null  uint8 \n",
      " 13  7am_12pm                                       44750 non-null  uint8 \n",
      " 14  1pm_6pm                                        44750 non-null  uint8 \n",
      " 15  7pm_11pm                                       44750 non-null  uint8 \n",
      " 16  officer_gender__M                              44750 non-null  uint8 \n",
      " 17  subject_perceived_gender__M                    44750 non-null  uint8 \n",
      " 18  subject_perceived_gender__Unable to Determine  44750 non-null  uint8 \n",
      " 19  arrest_flag__Y                                 44750 non-null  uint8 \n",
      " 20  frisk_flag__Unknown                            44750 non-null  uint8 \n",
      " 21  frisk_flag__Y                                  44750 non-null  uint8 \n",
      " 22  dif_race__Y                                    44750 non-null  uint8 \n",
      " 23  dif_gender__Y                                  44750 non-null  uint8 \n",
      " 24  dif_race_gender__Y                             44750 non-null  uint8 \n",
      " 25  repeat_offenders__Y                            44750 non-null  uint8 \n",
      "dtypes: int16(2), int64(4), int8(5), object(1), uint8(14)\n",
      "memory usage: 3.0+ MB\n"
     ]
    }
   ],
   "source": [
    "ddf.info()"
   ]
  },
  {
   "cell_type": "code",
   "execution_count": null,
   "metadata": {},
   "outputs": [],
   "source": []
  },
  {
   "cell_type": "code",
   "execution_count": null,
   "metadata": {
    "ExecuteTime": {
     "end_time": "2020-11-24T02:31:46.457350Z",
     "start_time": "2020-11-24T02:30:05.745Z"
    }
   },
   "outputs": [],
   "source": []
  },
  {
   "cell_type": "code",
   "execution_count": null,
   "metadata": {},
   "outputs": [],
   "source": []
  },
  {
   "cell_type": "code",
   "execution_count": null,
   "metadata": {},
   "outputs": [],
   "source": []
  },
  {
   "cell_type": "markdown",
   "metadata": {},
   "source": [
    "Done Cleaning and Engineering...Saving it to use in EDA"
   ]
  },
  {
   "cell_type": "code",
   "execution_count": null,
   "metadata": {
    "ExecuteTime": {
     "end_time": "2020-11-21T16:39:33.637155Z",
     "start_time": "2020-11-21T16:39:26.133Z"
    }
   },
   "outputs": [],
   "source": []
  },
  {
   "cell_type": "code",
   "execution_count": null,
   "metadata": {
    "ExecuteTime": {
     "end_time": "2020-11-24T15:28:36.929261Z",
     "start_time": "2020-11-24T15:28:36.511794Z"
    }
   },
   "outputs": [],
   "source": []
  }
 ],
 "metadata": {
  "kernelspec": {
   "display_name": "Python 3",
   "language": "python",
   "name": "python3"
  },
  "language_info": {
   "codemirror_mode": {
    "name": "ipython",
    "version": 3
   },
   "file_extension": ".py",
   "mimetype": "text/x-python",
   "name": "python",
   "nbconvert_exporter": "python",
   "pygments_lexer": "ipython3",
   "version": "3.7.6"
  },
  "toc": {
   "base_numbering": 1,
   "nav_menu": {
    "height": "163px",
    "width": "375px"
   },
   "number_sections": false,
   "sideBar": true,
   "skip_h1_title": false,
   "title_cell": "Table of Contents",
   "title_sidebar": "Contents",
   "toc_cell": false,
   "toc_position": {},
   "toc_section_display": true,
   "toc_window_display": false
  },
  "varInspector": {
   "cols": {
    "lenName": 16,
    "lenType": 16,
    "lenVar": 40
   },
   "kernels_config": {
    "python": {
     "delete_cmd_postfix": "",
     "delete_cmd_prefix": "del ",
     "library": "var_list.py",
     "varRefreshCmd": "print(var_dic_list())"
    },
    "r": {
     "delete_cmd_postfix": ") ",
     "delete_cmd_prefix": "rm(",
     "library": "var_list.r",
     "varRefreshCmd": "cat(var_dic_list()) "
    }
   },
   "types_to_exclude": [
    "module",
    "function",
    "builtin_function_or_method",
    "instance",
    "_Feature"
   ],
   "window_display": false
  }
 },
 "nbformat": 4,
 "nbformat_minor": 4
}
