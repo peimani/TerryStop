{
 "cells": [
  {
   "cell_type": "markdown",
   "metadata": {},
   "source": [
    "# Modeling"
   ]
  },
  {
   "cell_type": "markdown",
   "metadata": {},
   "source": [
    "## Objectives:\n",
    "* Create a model that will predict the likelihood that an arrest will occur during a Terry Stop\n",
    "* Deterimine which modeling method will bring about the best performance"
   ]
  },
  {
   "cell_type": "markdown",
   "metadata": {},
   "source": [
    "## Import Data"
   ]
  },
  {
   "cell_type": "code",
   "execution_count": 436,
   "metadata": {
    "ExecuteTime": {
     "end_time": "2020-11-25T23:11:32.372880Z",
     "start_time": "2020-11-25T23:11:32.356828Z"
    }
   },
   "outputs": [],
   "source": [
    "import six\n",
    "import sys\n",
    "sys.modules['sklearn.externals.six'] = six\n",
    "import pandas as pd\n",
    "import numpy as np\n",
    "import matplotlib.pyplot as plt\n",
    "import xgboost as xgb\n",
    "import seaborn as sns\n",
    "import warnings\n",
    "from imblearn.over_sampling import SMOTE\n",
    "from sklearn.linear_model import LogisticRegression, LogisticRegressionCV\n",
    "from sklearn.model_selection import train_test_split, GridSearchCV\n",
    "from sklearn.model_selection import cross_val_score\n",
    "from sklearn.preprocessing import StandardScaler\n",
    "from sklearn.metrics import precision_score, recall_score, accuracy_score\n",
    "from sklearn.tree import DecisionTreeClassifier\n",
    "from sklearn.ensemble import RandomForestClassifier, AdaBoostClassifier, GradientBoostingClassifier\n",
    "from sklearn.metrics import confusion_matrix, f1_score\n",
    "from sklearn.neighbors import KNeighborsClassifier\n",
    "from scipy.spatial.distance import euclidean\n",
    "from sklearn.metrics import classification_report, confusion_matrix, precision_score, accuracy_score, recall_score, f1_score, roc_curve, auc\n",
    "warnings.filterwarnings('ignore')\n",
    "%matplotlib inline\n",
    "\n",
    "from sklearn.metrics import classification_report, confusion_matrix, plot_confusion_matrix\n",
    "from sklearn.base import BaseEstimator\n",
    "from sklearn.naive_bayes import BernoulliNB, CategoricalNB, GaussianNB, MultinomialNB"
   ]
  },
  {
   "cell_type": "code",
   "execution_count": 437,
   "metadata": {
    "ExecuteTime": {
     "end_time": "2020-11-25T23:11:32.648522Z",
     "start_time": "2020-11-25T23:11:32.375223Z"
    }
   },
   "outputs": [
    {
     "name": "stdout",
     "output_type": "stream",
     "text": [
      "<class 'pandas.core.frame.DataFrame'>\n",
      "RangeIndex: 44750 entries, 0 to 44749\n",
      "Data columns (total 39 columns):\n",
      " #   Column                                         Non-Null Count  Dtype \n",
      "---  ------                                         --------------  ----- \n",
      " 0   subject_id                                     44750 non-null  object\n",
      " 1   go_sc_num                                      44750 non-null  int64 \n",
      " 2   terry_stop_id                                  44750 non-null  int64 \n",
      " 3   weapon_type                                    44750 non-null  object\n",
      " 4   officer_yob                                    44750 non-null  int64 \n",
      " 5   officer_race                                   44750 non-null  object\n",
      " 6   subject_perceived_race                         44750 non-null  object\n",
      " 7   initial_call_type                              44750 non-null  object\n",
      " 8   final_call_type                                44750 non-null  object\n",
      " 9   officer_squad                                  44203 non-null  object\n",
      " 10  precinct                                       44750 non-null  object\n",
      " 11  sector                                         44750 non-null  object\n",
      " 12  beat                                           44750 non-null  object\n",
      " 13  arrest_made                                    44750 non-null  object\n",
      " 14  weapon                                         44750 non-null  int64 \n",
      " 15  incident_year                                  44750 non-null  int64 \n",
      " 16  incident_month                                 44750 non-null  int64 \n",
      " 17  officer_age                                    44750 non-null  int64 \n",
      " 18  reported_hour                                  44750 non-null  int64 \n",
      " 19  call_made                                      44750 non-null  int64 \n",
      " 20  12am_6am                                       44750 non-null  int64 \n",
      " 21  7am_12pm                                       44750 non-null  int64 \n",
      " 22  1pm_6pm                                        44750 non-null  int64 \n",
      " 23  7pm_11pm                                       44750 non-null  int64 \n",
      " 24  officer_gender__M                              44750 non-null  int64 \n",
      " 25  subject_perceived_gender__M                    44750 non-null  int64 \n",
      " 26  subject_perceived_gender__Unable to Determine  44750 non-null  int64 \n",
      " 27  arrest_flag__Y                                 44750 non-null  int64 \n",
      " 28  frisk_flag__Unknown                            44750 non-null  int64 \n",
      " 29  frisk_flag__Y                                  44750 non-null  int64 \n",
      " 30  dif_race__Y                                    44750 non-null  int64 \n",
      " 31  dif_gender__Y                                  44750 non-null  int64 \n",
      " 32  dif_race_gender__Y                             44750 non-null  int64 \n",
      " 33  repeat_offenders__Y                            44750 non-null  int64 \n",
      " 34  subject_age_group__1_17                        44750 non-null  int64 \n",
      " 35  subject_age_group__26_35                       44750 non-null  int64 \n",
      " 36  subject_age_group__36_45                       44750 non-null  int64 \n",
      " 37  subject_age_group__46_55                       44750 non-null  int64 \n",
      " 38  subject_age_group__56_100                      44750 non-null  int64 \n",
      "dtypes: int64(28), object(11)\n",
      "memory usage: 13.3+ MB\n"
     ]
    }
   ],
   "source": [
    "df = pd.read_csv('Terry_Stop_For_Modeling.csv')\n",
    "df = df.drop(['Unnamed: 0'], axis=1)\n",
    "df.info()"
   ]
  },
  {
   "cell_type": "code",
   "execution_count": 438,
   "metadata": {
    "ExecuteTime": {
     "end_time": "2020-11-25T23:11:32.843072Z",
     "start_time": "2020-11-25T23:11:32.653637Z"
    }
   },
   "outputs": [],
   "source": [
    "for col in df.columns:\n",
    "    df[col] = df[col].astype('category')\n"
   ]
  },
  {
   "cell_type": "code",
   "execution_count": 439,
   "metadata": {
    "ExecuteTime": {
     "end_time": "2020-11-25T23:11:32.848265Z",
     "start_time": "2020-11-25T23:11:32.845595Z"
    }
   },
   "outputs": [],
   "source": [
    "# df = df.astype({'subject_age_group': 'category', 'officer_gender':'category',\n",
    "#                   'officer_race': 'category', 'subject_perceived_race':'category',\n",
    "#                  'subject_perceived_gender' : 'category', 'repeat_offenders' : 'category',\n",
    "#                  'arrest_made':'category', 'dif_race':'category', 'dif_gender':'category',\n",
    "#                  'dif_race_gender':'category'})"
   ]
  },
  {
   "cell_type": "code",
   "execution_count": 440,
   "metadata": {
    "ExecuteTime": {
     "end_time": "2020-11-25T23:11:33.005632Z",
     "start_time": "2020-11-25T23:11:32.850764Z"
    }
   },
   "outputs": [
    {
     "name": "stdout",
     "output_type": "stream",
     "text": [
      "<class 'pandas.core.frame.DataFrame'>\n",
      "RangeIndex: 44750 entries, 0 to 44749\n",
      "Data columns (total 39 columns):\n",
      " #   Column                                         Non-Null Count  Dtype   \n",
      "---  ------                                         --------------  -----   \n",
      " 0   subject_id                                     44750 non-null  category\n",
      " 1   go_sc_num                                      44750 non-null  category\n",
      " 2   terry_stop_id                                  44750 non-null  category\n",
      " 3   weapon_type                                    44750 non-null  category\n",
      " 4   officer_yob                                    44750 non-null  category\n",
      " 5   officer_race                                   44750 non-null  category\n",
      " 6   subject_perceived_race                         44750 non-null  category\n",
      " 7   initial_call_type                              44750 non-null  category\n",
      " 8   final_call_type                                44750 non-null  category\n",
      " 9   officer_squad                                  44203 non-null  category\n",
      " 10  precinct                                       44750 non-null  category\n",
      " 11  sector                                         44750 non-null  category\n",
      " 12  beat                                           44750 non-null  category\n",
      " 13  arrest_made                                    44750 non-null  category\n",
      " 14  weapon                                         44750 non-null  category\n",
      " 15  incident_year                                  44750 non-null  category\n",
      " 16  incident_month                                 44750 non-null  category\n",
      " 17  officer_age                                    44750 non-null  category\n",
      " 18  reported_hour                                  44750 non-null  category\n",
      " 19  call_made                                      44750 non-null  category\n",
      " 20  12am_6am                                       44750 non-null  category\n",
      " 21  7am_12pm                                       44750 non-null  category\n",
      " 22  1pm_6pm                                        44750 non-null  category\n",
      " 23  7pm_11pm                                       44750 non-null  category\n",
      " 24  officer_gender__M                              44750 non-null  category\n",
      " 25  subject_perceived_gender__M                    44750 non-null  category\n",
      " 26  subject_perceived_gender__Unable to Determine  44750 non-null  category\n",
      " 27  arrest_flag__Y                                 44750 non-null  category\n",
      " 28  frisk_flag__Unknown                            44750 non-null  category\n",
      " 29  frisk_flag__Y                                  44750 non-null  category\n",
      " 30  dif_race__Y                                    44750 non-null  category\n",
      " 31  dif_gender__Y                                  44750 non-null  category\n",
      " 32  dif_race_gender__Y                             44750 non-null  category\n",
      " 33  repeat_offenders__Y                            44750 non-null  category\n",
      " 34  subject_age_group__1_17                        44750 non-null  category\n",
      " 35  subject_age_group__26_35                       44750 non-null  category\n",
      " 36  subject_age_group__36_45                       44750 non-null  category\n",
      " 37  subject_age_group__46_55                       44750 non-null  category\n",
      " 38  subject_age_group__56_100                      44750 non-null  category\n",
      "dtypes: category(39)\n",
      "memory usage: 5.6 MB\n"
     ]
    }
   ],
   "source": [
    "df.info()"
   ]
  },
  {
   "cell_type": "code",
   "execution_count": null,
   "metadata": {
    "ExecuteTime": {
     "end_time": "2020-11-25T20:23:03.785297Z",
     "start_time": "2020-11-25T20:23:03.777969Z"
    }
   },
   "outputs": [],
   "source": []
  },
  {
   "cell_type": "code",
   "execution_count": null,
   "metadata": {
    "ExecuteTime": {
     "end_time": "2020-11-25T21:43:29.999277Z",
     "start_time": "2020-11-25T21:43:29.990567Z"
    }
   },
   "outputs": [],
   "source": []
  },
  {
   "cell_type": "code",
   "execution_count": 441,
   "metadata": {
    "ExecuteTime": {
     "end_time": "2020-11-25T23:11:33.194776Z",
     "start_time": "2020-11-25T23:11:33.007969Z"
    }
   },
   "outputs": [
    {
     "data": {
      "text/html": [
       "<div>\n",
       "<style scoped>\n",
       "    .dataframe tbody tr th:only-of-type {\n",
       "        vertical-align: middle;\n",
       "    }\n",
       "\n",
       "    .dataframe tbody tr th {\n",
       "        vertical-align: top;\n",
       "    }\n",
       "\n",
       "    .dataframe thead th {\n",
       "        text-align: right;\n",
       "    }\n",
       "</style>\n",
       "<table border=\"1\" class=\"dataframe\">\n",
       "  <thead>\n",
       "    <tr style=\"text-align: right;\">\n",
       "      <th></th>\n",
       "      <th>subject_id</th>\n",
       "      <th>go_sc_num</th>\n",
       "      <th>terry_stop_id</th>\n",
       "      <th>weapon_type</th>\n",
       "      <th>officer_yob</th>\n",
       "      <th>officer_race</th>\n",
       "      <th>subject_perceived_race</th>\n",
       "      <th>initial_call_type</th>\n",
       "      <th>final_call_type</th>\n",
       "      <th>officer_squad</th>\n",
       "      <th>...</th>\n",
       "      <th>frisk_flag__Y</th>\n",
       "      <th>dif_race__Y</th>\n",
       "      <th>dif_gender__Y</th>\n",
       "      <th>dif_race_gender__Y</th>\n",
       "      <th>repeat_offenders__Y</th>\n",
       "      <th>subject_age_group__1_17</th>\n",
       "      <th>subject_age_group__26_35</th>\n",
       "      <th>subject_age_group__36_45</th>\n",
       "      <th>subject_age_group__46_55</th>\n",
       "      <th>subject_age_group__56_100</th>\n",
       "    </tr>\n",
       "  </thead>\n",
       "  <tbody>\n",
       "    <tr>\n",
       "      <th>count</th>\n",
       "      <td>44750</td>\n",
       "      <td>44750</td>\n",
       "      <td>44750</td>\n",
       "      <td>44750</td>\n",
       "      <td>44750</td>\n",
       "      <td>44750</td>\n",
       "      <td>44750</td>\n",
       "      <td>44750</td>\n",
       "      <td>44750</td>\n",
       "      <td>44203</td>\n",
       "      <td>...</td>\n",
       "      <td>44750</td>\n",
       "      <td>44750</td>\n",
       "      <td>44750</td>\n",
       "      <td>44750</td>\n",
       "      <td>44750</td>\n",
       "      <td>44750</td>\n",
       "      <td>44750</td>\n",
       "      <td>44750</td>\n",
       "      <td>44750</td>\n",
       "      <td>44750</td>\n",
       "    </tr>\n",
       "    <tr>\n",
       "      <th>unique</th>\n",
       "      <td>7911</td>\n",
       "      <td>34979</td>\n",
       "      <td>44750</td>\n",
       "      <td>21</td>\n",
       "      <td>50</td>\n",
       "      <td>8</td>\n",
       "      <td>8</td>\n",
       "      <td>165</td>\n",
       "      <td>204</td>\n",
       "      <td>168</td>\n",
       "      <td>...</td>\n",
       "      <td>2</td>\n",
       "      <td>2</td>\n",
       "      <td>2</td>\n",
       "      <td>2</td>\n",
       "      <td>2</td>\n",
       "      <td>2</td>\n",
       "      <td>2</td>\n",
       "      <td>2</td>\n",
       "      <td>2</td>\n",
       "      <td>2</td>\n",
       "    </tr>\n",
       "    <tr>\n",
       "      <th>top</th>\n",
       "      <td>unassigned</td>\n",
       "      <td>20160000378750</td>\n",
       "      <td>17551783994</td>\n",
       "      <td>None</td>\n",
       "      <td>1986</td>\n",
       "      <td>White</td>\n",
       "      <td>White</td>\n",
       "      <td>Unknown</td>\n",
       "      <td>Unknown</td>\n",
       "      <td>TRAINING - FIELD TRAINING SQUAD</td>\n",
       "      <td>...</td>\n",
       "      <td>0</td>\n",
       "      <td>1</td>\n",
       "      <td>0</td>\n",
       "      <td>1</td>\n",
       "      <td>0</td>\n",
       "      <td>0</td>\n",
       "      <td>0</td>\n",
       "      <td>0</td>\n",
       "      <td>0</td>\n",
       "      <td>0</td>\n",
       "    </tr>\n",
       "    <tr>\n",
       "      <th>freq</th>\n",
       "      <td>34688</td>\n",
       "      <td>16</td>\n",
       "      <td>1</td>\n",
       "      <td>32558</td>\n",
       "      <td>3151</td>\n",
       "      <td>34088</td>\n",
       "      <td>21870</td>\n",
       "      <td>13003</td>\n",
       "      <td>13003</td>\n",
       "      <td>4725</td>\n",
       "      <td>...</td>\n",
       "      <td>34809</td>\n",
       "      <td>26906</td>\n",
       "      <td>32202</td>\n",
       "      <td>31918</td>\n",
       "      <td>34688</td>\n",
       "      <td>42816</td>\n",
       "      <td>28456</td>\n",
       "      <td>35314</td>\n",
       "      <td>38990</td>\n",
       "      <td>42473</td>\n",
       "    </tr>\n",
       "  </tbody>\n",
       "</table>\n",
       "<p>4 rows × 39 columns</p>\n",
       "</div>"
      ],
      "text/plain": [
       "        subject_id       go_sc_num  terry_stop_id weapon_type  officer_yob  \\\n",
       "count        44750           44750          44750       44750        44750   \n",
       "unique        7911           34979          44750          21           50   \n",
       "top     unassigned  20160000378750    17551783994        None         1986   \n",
       "freq         34688              16              1       32558         3151   \n",
       "\n",
       "       officer_race subject_perceived_race initial_call_type final_call_type  \\\n",
       "count         44750                  44750             44750           44750   \n",
       "unique            8                      8               165             204   \n",
       "top           White                  White           Unknown         Unknown   \n",
       "freq          34088                  21870             13003           13003   \n",
       "\n",
       "                          officer_squad  ... frisk_flag__Y dif_race__Y  \\\n",
       "count                             44203  ...         44750       44750   \n",
       "unique                              168  ...             2           2   \n",
       "top     TRAINING - FIELD TRAINING SQUAD  ...             0           1   \n",
       "freq                               4725  ...         34809       26906   \n",
       "\n",
       "       dif_gender__Y dif_race_gender__Y  repeat_offenders__Y  \\\n",
       "count          44750              44750                44750   \n",
       "unique             2                  2                    2   \n",
       "top                0                  1                    0   \n",
       "freq           32202              31918                34688   \n",
       "\n",
       "        subject_age_group__1_17  subject_age_group__26_35  \\\n",
       "count                     44750                     44750   \n",
       "unique                        2                         2   \n",
       "top                           0                         0   \n",
       "freq                      42816                     28456   \n",
       "\n",
       "        subject_age_group__36_45  subject_age_group__46_55  \\\n",
       "count                      44750                     44750   \n",
       "unique                         2                         2   \n",
       "top                            0                         0   \n",
       "freq                       35314                     38990   \n",
       "\n",
       "        subject_age_group__56_100  \n",
       "count                       44750  \n",
       "unique                          2  \n",
       "top                             0  \n",
       "freq                        42473  \n",
       "\n",
       "[4 rows x 39 columns]"
      ]
     },
     "execution_count": 441,
     "metadata": {},
     "output_type": "execute_result"
    }
   ],
   "source": [
    "df.describe()"
   ]
  },
  {
   "cell_type": "code",
   "execution_count": 442,
   "metadata": {
    "ExecuteTime": {
     "end_time": "2020-11-25T23:11:33.203321Z",
     "start_time": "2020-11-25T23:11:33.196797Z"
    }
   },
   "outputs": [],
   "source": [
    "df = df.drop(['subject_id', 'go_sc_num', 'terry_stop_id', 'initial_call_type',\n",
    "             'final_call_type', 'officer_yob','officer_squad','reported_hour',\n",
    "             'arrest_made','weapon_type', 'subject_perceived_race', 'precinct',\n",
    "             'sector','beat','officer_race'], axis=1)"
   ]
  },
  {
   "cell_type": "code",
   "execution_count": 443,
   "metadata": {
    "ExecuteTime": {
     "end_time": "2020-11-25T23:11:33.235820Z",
     "start_time": "2020-11-25T23:11:33.208025Z"
    }
   },
   "outputs": [
    {
     "name": "stdout",
     "output_type": "stream",
     "text": [
      "<class 'pandas.core.frame.DataFrame'>\n",
      "RangeIndex: 44750 entries, 0 to 44749\n",
      "Data columns (total 24 columns):\n",
      " #   Column                                         Non-Null Count  Dtype   \n",
      "---  ------                                         --------------  -----   \n",
      " 0   weapon                                         44750 non-null  category\n",
      " 1   incident_year                                  44750 non-null  category\n",
      " 2   incident_month                                 44750 non-null  category\n",
      " 3   officer_age                                    44750 non-null  category\n",
      " 4   call_made                                      44750 non-null  category\n",
      " 5   12am_6am                                       44750 non-null  category\n",
      " 6   7am_12pm                                       44750 non-null  category\n",
      " 7   1pm_6pm                                        44750 non-null  category\n",
      " 8   7pm_11pm                                       44750 non-null  category\n",
      " 9   officer_gender__M                              44750 non-null  category\n",
      " 10  subject_perceived_gender__M                    44750 non-null  category\n",
      " 11  subject_perceived_gender__Unable to Determine  44750 non-null  category\n",
      " 12  arrest_flag__Y                                 44750 non-null  category\n",
      " 13  frisk_flag__Unknown                            44750 non-null  category\n",
      " 14  frisk_flag__Y                                  44750 non-null  category\n",
      " 15  dif_race__Y                                    44750 non-null  category\n",
      " 16  dif_gender__Y                                  44750 non-null  category\n",
      " 17  dif_race_gender__Y                             44750 non-null  category\n",
      " 18  repeat_offenders__Y                            44750 non-null  category\n",
      " 19  subject_age_group__1_17                        44750 non-null  category\n",
      " 20  subject_age_group__26_35                       44750 non-null  category\n",
      " 21  subject_age_group__36_45                       44750 non-null  category\n",
      " 22  subject_age_group__46_55                       44750 non-null  category\n",
      " 23  subject_age_group__56_100                      44750 non-null  category\n",
      "dtypes: category(24)\n",
      "memory usage: 1.0 MB\n"
     ]
    }
   ],
   "source": [
    "df.info()"
   ]
  },
  {
   "cell_type": "code",
   "execution_count": 444,
   "metadata": {
    "ExecuteTime": {
     "end_time": "2020-11-25T23:11:33.242039Z",
     "start_time": "2020-11-25T23:11:33.239418Z"
    }
   },
   "outputs": [],
   "source": [
    "# for col in df.columns:\n",
    "#     df[col] = df[col].astype('float')\n"
   ]
  },
  {
   "cell_type": "code",
   "execution_count": 445,
   "metadata": {
    "ExecuteTime": {
     "end_time": "2020-11-25T23:12:21.822568Z",
     "start_time": "2020-11-25T23:12:21.815483Z"
    }
   },
   "outputs": [
    {
     "data": {
      "text/plain": [
       "0    42133\n",
       "1     2617\n",
       "Name: arrest_flag__Y, dtype: int64"
      ]
     },
     "execution_count": 445,
     "metadata": {},
     "output_type": "execute_result"
    }
   ],
   "source": [
    "df.arrest_flag__Y.value_counts()"
   ]
  },
  {
   "cell_type": "code",
   "execution_count": 446,
   "metadata": {
    "ExecuteTime": {
     "end_time": "2020-11-25T23:12:29.988779Z",
     "start_time": "2020-11-25T23:12:29.984029Z"
    }
   },
   "outputs": [],
   "source": [
    "# Create X and y\n",
    "y = df['arrest_flag__Y']\n",
    "X = df.drop(['arrest_flag__Y'], axis=1)"
   ]
  },
  {
   "cell_type": "code",
   "execution_count": 447,
   "metadata": {
    "ExecuteTime": {
     "end_time": "2020-11-25T23:12:35.409390Z",
     "start_time": "2020-11-25T23:12:35.392448Z"
    }
   },
   "outputs": [],
   "source": [
    "# Split data into training and test sets\n",
    "X_train, X_test, y_train, y_test = train_test_split(X, y, test_size=0.25, random_state=42)"
   ]
  },
  {
   "cell_type": "code",
   "execution_count": 448,
   "metadata": {
    "ExecuteTime": {
     "end_time": "2020-11-25T23:12:40.890308Z",
     "start_time": "2020-11-25T23:12:40.862544Z"
    }
   },
   "outputs": [
    {
     "data": {
      "text/html": [
       "<div>\n",
       "<style scoped>\n",
       "    .dataframe tbody tr th:only-of-type {\n",
       "        vertical-align: middle;\n",
       "    }\n",
       "\n",
       "    .dataframe tbody tr th {\n",
       "        vertical-align: top;\n",
       "    }\n",
       "\n",
       "    .dataframe thead th {\n",
       "        text-align: right;\n",
       "    }\n",
       "</style>\n",
       "<table border=\"1\" class=\"dataframe\">\n",
       "  <thead>\n",
       "    <tr style=\"text-align: right;\">\n",
       "      <th></th>\n",
       "      <th>weapon</th>\n",
       "      <th>incident_year</th>\n",
       "      <th>incident_month</th>\n",
       "      <th>officer_age</th>\n",
       "      <th>call_made</th>\n",
       "      <th>12am_6am</th>\n",
       "      <th>7am_12pm</th>\n",
       "      <th>1pm_6pm</th>\n",
       "      <th>7pm_11pm</th>\n",
       "      <th>officer_gender__M</th>\n",
       "      <th>...</th>\n",
       "      <th>frisk_flag__Y</th>\n",
       "      <th>dif_race__Y</th>\n",
       "      <th>dif_gender__Y</th>\n",
       "      <th>dif_race_gender__Y</th>\n",
       "      <th>repeat_offenders__Y</th>\n",
       "      <th>subject_age_group__1_17</th>\n",
       "      <th>subject_age_group__26_35</th>\n",
       "      <th>subject_age_group__36_45</th>\n",
       "      <th>subject_age_group__46_55</th>\n",
       "      <th>subject_age_group__56_100</th>\n",
       "    </tr>\n",
       "  </thead>\n",
       "  <tbody>\n",
       "    <tr>\n",
       "      <th>0</th>\n",
       "      <td>0</td>\n",
       "      <td>2015</td>\n",
       "      <td>10</td>\n",
       "      <td>31</td>\n",
       "      <td>0</td>\n",
       "      <td>0</td>\n",
       "      <td>1</td>\n",
       "      <td>0</td>\n",
       "      <td>0</td>\n",
       "      <td>1</td>\n",
       "      <td>...</td>\n",
       "      <td>0</td>\n",
       "      <td>1</td>\n",
       "      <td>0</td>\n",
       "      <td>1</td>\n",
       "      <td>0</td>\n",
       "      <td>0</td>\n",
       "      <td>1</td>\n",
       "      <td>0</td>\n",
       "      <td>0</td>\n",
       "      <td>0</td>\n",
       "    </tr>\n",
       "    <tr>\n",
       "      <th>1</th>\n",
       "      <td>0</td>\n",
       "      <td>2015</td>\n",
       "      <td>3</td>\n",
       "      <td>50</td>\n",
       "      <td>0</td>\n",
       "      <td>0</td>\n",
       "      <td>1</td>\n",
       "      <td>0</td>\n",
       "      <td>0</td>\n",
       "      <td>1</td>\n",
       "      <td>...</td>\n",
       "      <td>0</td>\n",
       "      <td>1</td>\n",
       "      <td>1</td>\n",
       "      <td>1</td>\n",
       "      <td>0</td>\n",
       "      <td>0</td>\n",
       "      <td>1</td>\n",
       "      <td>0</td>\n",
       "      <td>0</td>\n",
       "      <td>0</td>\n",
       "    </tr>\n",
       "    <tr>\n",
       "      <th>2</th>\n",
       "      <td>0</td>\n",
       "      <td>2015</td>\n",
       "      <td>3</td>\n",
       "      <td>54</td>\n",
       "      <td>0</td>\n",
       "      <td>0</td>\n",
       "      <td>0</td>\n",
       "      <td>0</td>\n",
       "      <td>1</td>\n",
       "      <td>1</td>\n",
       "      <td>...</td>\n",
       "      <td>0</td>\n",
       "      <td>0</td>\n",
       "      <td>0</td>\n",
       "      <td>0</td>\n",
       "      <td>0</td>\n",
       "      <td>0</td>\n",
       "      <td>1</td>\n",
       "      <td>0</td>\n",
       "      <td>0</td>\n",
       "      <td>0</td>\n",
       "    </tr>\n",
       "    <tr>\n",
       "      <th>3</th>\n",
       "      <td>0</td>\n",
       "      <td>2015</td>\n",
       "      <td>4</td>\n",
       "      <td>52</td>\n",
       "      <td>0</td>\n",
       "      <td>1</td>\n",
       "      <td>0</td>\n",
       "      <td>0</td>\n",
       "      <td>0</td>\n",
       "      <td>1</td>\n",
       "      <td>...</td>\n",
       "      <td>0</td>\n",
       "      <td>1</td>\n",
       "      <td>1</td>\n",
       "      <td>1</td>\n",
       "      <td>0</td>\n",
       "      <td>0</td>\n",
       "      <td>1</td>\n",
       "      <td>0</td>\n",
       "      <td>0</td>\n",
       "      <td>0</td>\n",
       "    </tr>\n",
       "    <tr>\n",
       "      <th>4</th>\n",
       "      <td>0</td>\n",
       "      <td>2015</td>\n",
       "      <td>4</td>\n",
       "      <td>38</td>\n",
       "      <td>0</td>\n",
       "      <td>1</td>\n",
       "      <td>0</td>\n",
       "      <td>0</td>\n",
       "      <td>0</td>\n",
       "      <td>1</td>\n",
       "      <td>...</td>\n",
       "      <td>0</td>\n",
       "      <td>1</td>\n",
       "      <td>0</td>\n",
       "      <td>1</td>\n",
       "      <td>0</td>\n",
       "      <td>0</td>\n",
       "      <td>1</td>\n",
       "      <td>0</td>\n",
       "      <td>0</td>\n",
       "      <td>0</td>\n",
       "    </tr>\n",
       "  </tbody>\n",
       "</table>\n",
       "<p>5 rows × 24 columns</p>\n",
       "</div>"
      ],
      "text/plain": [
       "  weapon incident_year incident_month officer_age call_made 12am_6am 7am_12pm  \\\n",
       "0      0          2015             10          31         0        0        1   \n",
       "1      0          2015              3          50         0        0        1   \n",
       "2      0          2015              3          54         0        0        0   \n",
       "3      0          2015              4          52         0        1        0   \n",
       "4      0          2015              4          38         0        1        0   \n",
       "\n",
       "  1pm_6pm 7pm_11pm officer_gender__M  ... frisk_flag__Y dif_race__Y  \\\n",
       "0       0        0                 1  ...             0           1   \n",
       "1       0        0                 1  ...             0           1   \n",
       "2       0        1                 1  ...             0           0   \n",
       "3       0        0                 1  ...             0           1   \n",
       "4       0        0                 1  ...             0           1   \n",
       "\n",
       "  dif_gender__Y dif_race_gender__Y repeat_offenders__Y  \\\n",
       "0             0                  1                   0   \n",
       "1             1                  1                   0   \n",
       "2             0                  0                   0   \n",
       "3             1                  1                   0   \n",
       "4             0                  1                   0   \n",
       "\n",
       "  subject_age_group__1_17 subject_age_group__26_35 subject_age_group__36_45  \\\n",
       "0                       0                        1                        0   \n",
       "1                       0                        1                        0   \n",
       "2                       0                        1                        0   \n",
       "3                       0                        1                        0   \n",
       "4                       0                        1                        0   \n",
       "\n",
       "  subject_age_group__46_55 subject_age_group__56_100  \n",
       "0                        0                         0  \n",
       "1                        0                         0  \n",
       "2                        0                         0  \n",
       "3                        0                         0  \n",
       "4                        0                         0  \n",
       "\n",
       "[5 rows x 24 columns]"
      ]
     },
     "execution_count": 448,
     "metadata": {},
     "output_type": "execute_result"
    }
   ],
   "source": [
    "df.head()"
   ]
  },
  {
   "cell_type": "code",
   "execution_count": 449,
   "metadata": {
    "ExecuteTime": {
     "end_time": "2020-11-25T23:12:46.353125Z",
     "start_time": "2020-11-25T23:12:46.303868Z"
    }
   },
   "outputs": [],
   "source": [
    "# creating df with continuous features\n",
    "cont_feat = X.select_dtypes(exclude = ['object', 'category'])\n",
    "\n",
    "# removing object and categoricals features in X_train and X_test\n",
    "X_train_cont = X_train.select_dtypes(exclude = ['object', 'category'])\n",
    "X_test_cont = X_test.select_dtypes(exclude = ['object', 'category'])"
   ]
  },
  {
   "cell_type": "code",
   "execution_count": 450,
   "metadata": {
    "ExecuteTime": {
     "end_time": "2020-11-25T23:12:51.763194Z",
     "start_time": "2020-11-25T23:12:51.687048Z"
    }
   },
   "outputs": [],
   "source": [
    "scaler = StandardScaler()\n",
    "\n",
    "X_train_scaled = scaler.fit_transform(X_train)\n",
    "X_test_scaled = scaler.transform(X_test)"
   ]
  },
  {
   "cell_type": "code",
   "execution_count": 456,
   "metadata": {
    "ExecuteTime": {
     "end_time": "2020-11-25T23:14:56.277416Z",
     "start_time": "2020-11-25T23:14:56.237334Z"
    }
   },
   "outputs": [],
   "source": [
    "\n",
    "\n",
    "\n",
    "\n",
    "# Remove object-type features from X\n",
    "cont_features = X.select_dtypes(exclude = ['object'])\n",
    "\n",
    "# Remove object-type features X_train and X_test\n",
    "X_train_cont = X_train.select_dtypes(exclude = ['object'])\n",
    "X_test_cont = X_test.select_dtypes(exclude = ['object'])\n"
   ]
  },
  {
   "cell_type": "code",
   "execution_count": 452,
   "metadata": {
    "ExecuteTime": {
     "end_time": "2020-11-25T23:13:11.618442Z",
     "start_time": "2020-11-25T23:13:11.590426Z"
    }
   },
   "outputs": [
    {
     "data": {
      "text/html": [
       "<div>\n",
       "<style scoped>\n",
       "    .dataframe tbody tr th:only-of-type {\n",
       "        vertical-align: middle;\n",
       "    }\n",
       "\n",
       "    .dataframe tbody tr th {\n",
       "        vertical-align: top;\n",
       "    }\n",
       "\n",
       "    .dataframe thead th {\n",
       "        text-align: right;\n",
       "    }\n",
       "</style>\n",
       "<table border=\"1\" class=\"dataframe\">\n",
       "  <thead>\n",
       "    <tr style=\"text-align: right;\">\n",
       "      <th></th>\n",
       "      <th>weapon</th>\n",
       "      <th>incident_year</th>\n",
       "      <th>incident_month</th>\n",
       "      <th>officer_age</th>\n",
       "      <th>call_made</th>\n",
       "      <th>12am_6am</th>\n",
       "      <th>7am_12pm</th>\n",
       "      <th>1pm_6pm</th>\n",
       "      <th>7pm_11pm</th>\n",
       "      <th>officer_gender__M</th>\n",
       "      <th>...</th>\n",
       "      <th>frisk_flag__Y</th>\n",
       "      <th>dif_race__Y</th>\n",
       "      <th>dif_gender__Y</th>\n",
       "      <th>dif_race_gender__Y</th>\n",
       "      <th>repeat_offenders__Y</th>\n",
       "      <th>subject_age_group__1_17</th>\n",
       "      <th>subject_age_group__26_35</th>\n",
       "      <th>subject_age_group__36_45</th>\n",
       "      <th>subject_age_group__46_55</th>\n",
       "      <th>subject_age_group__56_100</th>\n",
       "    </tr>\n",
       "  </thead>\n",
       "  <tbody>\n",
       "    <tr>\n",
       "      <th>0</th>\n",
       "      <td>0</td>\n",
       "      <td>2015</td>\n",
       "      <td>10</td>\n",
       "      <td>31</td>\n",
       "      <td>0</td>\n",
       "      <td>0</td>\n",
       "      <td>1</td>\n",
       "      <td>0</td>\n",
       "      <td>0</td>\n",
       "      <td>1</td>\n",
       "      <td>...</td>\n",
       "      <td>0</td>\n",
       "      <td>1</td>\n",
       "      <td>0</td>\n",
       "      <td>1</td>\n",
       "      <td>0</td>\n",
       "      <td>0</td>\n",
       "      <td>1</td>\n",
       "      <td>0</td>\n",
       "      <td>0</td>\n",
       "      <td>0</td>\n",
       "    </tr>\n",
       "    <tr>\n",
       "      <th>1</th>\n",
       "      <td>0</td>\n",
       "      <td>2015</td>\n",
       "      <td>3</td>\n",
       "      <td>50</td>\n",
       "      <td>0</td>\n",
       "      <td>0</td>\n",
       "      <td>1</td>\n",
       "      <td>0</td>\n",
       "      <td>0</td>\n",
       "      <td>1</td>\n",
       "      <td>...</td>\n",
       "      <td>0</td>\n",
       "      <td>1</td>\n",
       "      <td>1</td>\n",
       "      <td>1</td>\n",
       "      <td>0</td>\n",
       "      <td>0</td>\n",
       "      <td>1</td>\n",
       "      <td>0</td>\n",
       "      <td>0</td>\n",
       "      <td>0</td>\n",
       "    </tr>\n",
       "    <tr>\n",
       "      <th>2</th>\n",
       "      <td>0</td>\n",
       "      <td>2015</td>\n",
       "      <td>3</td>\n",
       "      <td>54</td>\n",
       "      <td>0</td>\n",
       "      <td>0</td>\n",
       "      <td>0</td>\n",
       "      <td>0</td>\n",
       "      <td>1</td>\n",
       "      <td>1</td>\n",
       "      <td>...</td>\n",
       "      <td>0</td>\n",
       "      <td>0</td>\n",
       "      <td>0</td>\n",
       "      <td>0</td>\n",
       "      <td>0</td>\n",
       "      <td>0</td>\n",
       "      <td>1</td>\n",
       "      <td>0</td>\n",
       "      <td>0</td>\n",
       "      <td>0</td>\n",
       "    </tr>\n",
       "    <tr>\n",
       "      <th>3</th>\n",
       "      <td>0</td>\n",
       "      <td>2015</td>\n",
       "      <td>4</td>\n",
       "      <td>52</td>\n",
       "      <td>0</td>\n",
       "      <td>1</td>\n",
       "      <td>0</td>\n",
       "      <td>0</td>\n",
       "      <td>0</td>\n",
       "      <td>1</td>\n",
       "      <td>...</td>\n",
       "      <td>0</td>\n",
       "      <td>1</td>\n",
       "      <td>1</td>\n",
       "      <td>1</td>\n",
       "      <td>0</td>\n",
       "      <td>0</td>\n",
       "      <td>1</td>\n",
       "      <td>0</td>\n",
       "      <td>0</td>\n",
       "      <td>0</td>\n",
       "    </tr>\n",
       "    <tr>\n",
       "      <th>4</th>\n",
       "      <td>0</td>\n",
       "      <td>2015</td>\n",
       "      <td>4</td>\n",
       "      <td>38</td>\n",
       "      <td>0</td>\n",
       "      <td>1</td>\n",
       "      <td>0</td>\n",
       "      <td>0</td>\n",
       "      <td>0</td>\n",
       "      <td>1</td>\n",
       "      <td>...</td>\n",
       "      <td>0</td>\n",
       "      <td>1</td>\n",
       "      <td>0</td>\n",
       "      <td>1</td>\n",
       "      <td>0</td>\n",
       "      <td>0</td>\n",
       "      <td>1</td>\n",
       "      <td>0</td>\n",
       "      <td>0</td>\n",
       "      <td>0</td>\n",
       "    </tr>\n",
       "  </tbody>\n",
       "</table>\n",
       "<p>5 rows × 24 columns</p>\n",
       "</div>"
      ],
      "text/plain": [
       "  weapon incident_year incident_month officer_age call_made 12am_6am 7am_12pm  \\\n",
       "0      0          2015             10          31         0        0        1   \n",
       "1      0          2015              3          50         0        0        1   \n",
       "2      0          2015              3          54         0        0        0   \n",
       "3      0          2015              4          52         0        1        0   \n",
       "4      0          2015              4          38         0        1        0   \n",
       "\n",
       "  1pm_6pm 7pm_11pm officer_gender__M  ... frisk_flag__Y dif_race__Y  \\\n",
       "0       0        0                 1  ...             0           1   \n",
       "1       0        0                 1  ...             0           1   \n",
       "2       0        1                 1  ...             0           0   \n",
       "3       0        0                 1  ...             0           1   \n",
       "4       0        0                 1  ...             0           1   \n",
       "\n",
       "  dif_gender__Y dif_race_gender__Y repeat_offenders__Y  \\\n",
       "0             0                  1                   0   \n",
       "1             1                  1                   0   \n",
       "2             0                  0                   0   \n",
       "3             1                  1                   0   \n",
       "4             0                  1                   0   \n",
       "\n",
       "  subject_age_group__1_17 subject_age_group__26_35 subject_age_group__36_45  \\\n",
       "0                       0                        1                        0   \n",
       "1                       0                        1                        0   \n",
       "2                       0                        1                        0   \n",
       "3                       0                        1                        0   \n",
       "4                       0                        1                        0   \n",
       "\n",
       "  subject_age_group__46_55 subject_age_group__56_100  \n",
       "0                        0                         0  \n",
       "1                        0                         0  \n",
       "2                        0                         0  \n",
       "3                        0                         0  \n",
       "4                        0                         0  \n",
       "\n",
       "[5 rows x 24 columns]"
      ]
     },
     "execution_count": 452,
     "metadata": {},
     "output_type": "execute_result"
    }
   ],
   "source": [
    "df.head()"
   ]
  },
  {
   "cell_type": "code",
   "execution_count": 457,
   "metadata": {
    "ExecuteTime": {
     "end_time": "2020-11-25T23:15:03.044768Z",
     "start_time": "2020-11-25T23:15:02.962197Z"
    }
   },
   "outputs": [],
   "source": [
    "# Scale the train and test data\n",
    "ss = StandardScaler()\n",
    "X_train_ss = ss.fit_transform(X_train_cont)\n",
    "X_test_ss = ss.transform(X_test_cont)"
   ]
  },
  {
   "cell_type": "code",
   "execution_count": 458,
   "metadata": {
    "ExecuteTime": {
     "end_time": "2020-11-25T23:15:27.959417Z",
     "start_time": "2020-11-25T23:15:27.929255Z"
    }
   },
   "outputs": [],
   "source": [
    "# Create a dataframe only containing the object-type features\n",
    "\n",
    "X_train_cat = X_train.select_dtypes(include = ['object'])\n",
    "X_test_cat = X_test.select_dtypes(include = ['object'])"
   ]
  },
  {
   "cell_type": "code",
   "execution_count": 459,
   "metadata": {
    "ExecuteTime": {
     "end_time": "2020-11-25T23:15:34.224838Z",
     "start_time": "2020-11-25T23:15:34.215465Z"
    }
   },
   "outputs": [],
   "source": [
    "from sklearn.preprocessing import OneHotEncoder\n",
    "\n",
    "# OneHotEncode categorical variables\n",
    "ohe = OneHotEncoder(handle_unknown='ignore')\n",
    "\n",
    "# Transform training and test sets\n",
    "X_train_ohe = ohe.fit_transform(X_train_cat)\n",
    "X_test_ohe = ohe.transform(X_test_cat)\n",
    "\n",
    "# Convert these columns into a DataFrame\n",
    "columns = ohe.get_feature_names(input_features=X_train_cat.columns) # Build an array of column names\n",
    "cat_train_df = pd.DataFrame(X_train_ohe.todense(), columns=columns) # Return a dense version of the dataframe\n",
    "cat_test_df = pd.DataFrame(X_test_ohe.todense(), columns=columns)"
   ]
  },
  {
   "cell_type": "code",
   "execution_count": 460,
   "metadata": {
    "ExecuteTime": {
     "end_time": "2020-11-25T23:15:41.982597Z",
     "start_time": "2020-11-25T23:15:41.979666Z"
    }
   },
   "outputs": [],
   "source": [
    "# Get the column names of the continuous features\n",
    "col = cont_features.columns"
   ]
  },
  {
   "cell_type": "code",
   "execution_count": 463,
   "metadata": {
    "ExecuteTime": {
     "end_time": "2020-11-25T23:27:54.860015Z",
     "start_time": "2020-11-25T23:27:54.836110Z"
    }
   },
   "outputs": [
    {
     "data": {
      "text/html": [
       "<div>\n",
       "<style scoped>\n",
       "    .dataframe tbody tr th:only-of-type {\n",
       "        vertical-align: middle;\n",
       "    }\n",
       "\n",
       "    .dataframe tbody tr th {\n",
       "        vertical-align: top;\n",
       "    }\n",
       "\n",
       "    .dataframe thead th {\n",
       "        text-align: right;\n",
       "    }\n",
       "</style>\n",
       "<table border=\"1\" class=\"dataframe\">\n",
       "  <thead>\n",
       "    <tr style=\"text-align: right;\">\n",
       "      <th></th>\n",
       "      <th>weapon</th>\n",
       "      <th>incident_year</th>\n",
       "      <th>incident_month</th>\n",
       "      <th>officer_age</th>\n",
       "      <th>call_made</th>\n",
       "      <th>12am_6am</th>\n",
       "      <th>7am_12pm</th>\n",
       "      <th>1pm_6pm</th>\n",
       "      <th>7pm_11pm</th>\n",
       "      <th>officer_gender__M</th>\n",
       "      <th>...</th>\n",
       "      <th>frisk_flag__Y</th>\n",
       "      <th>dif_race__Y</th>\n",
       "      <th>dif_gender__Y</th>\n",
       "      <th>dif_race_gender__Y</th>\n",
       "      <th>repeat_offenders__Y</th>\n",
       "      <th>subject_age_group__1_17</th>\n",
       "      <th>subject_age_group__26_35</th>\n",
       "      <th>subject_age_group__36_45</th>\n",
       "      <th>subject_age_group__46_55</th>\n",
       "      <th>subject_age_group__56_100</th>\n",
       "    </tr>\n",
       "  </thead>\n",
       "  <tbody>\n",
       "    <tr>\n",
       "      <th>0</th>\n",
       "      <td>1.626916</td>\n",
       "      <td>1.575888</td>\n",
       "      <td>1.065020</td>\n",
       "      <td>-1.024117</td>\n",
       "      <td>0.638964</td>\n",
       "      <td>-0.644378</td>\n",
       "      <td>-0.504819</td>\n",
       "      <td>1.554230</td>\n",
       "      <td>-0.516736</td>\n",
       "      <td>0.357376</td>\n",
       "      <td>...</td>\n",
       "      <td>-0.535894</td>\n",
       "      <td>-1.226175</td>\n",
       "      <td>-0.623962</td>\n",
       "      <td>-1.574716</td>\n",
       "      <td>1.851406</td>\n",
       "      <td>-0.210497</td>\n",
       "      <td>-0.756009</td>\n",
       "      <td>1.925397</td>\n",
       "      <td>-0.385228</td>\n",
       "      <td>-0.22984</td>\n",
       "    </tr>\n",
       "    <tr>\n",
       "      <th>1</th>\n",
       "      <td>-0.614660</td>\n",
       "      <td>-0.890505</td>\n",
       "      <td>0.454488</td>\n",
       "      <td>0.398683</td>\n",
       "      <td>0.638964</td>\n",
       "      <td>1.551885</td>\n",
       "      <td>-0.504819</td>\n",
       "      <td>-0.643405</td>\n",
       "      <td>-0.516736</td>\n",
       "      <td>0.357376</td>\n",
       "      <td>...</td>\n",
       "      <td>1.866040</td>\n",
       "      <td>0.815544</td>\n",
       "      <td>-0.623962</td>\n",
       "      <td>0.635035</td>\n",
       "      <td>-0.540130</td>\n",
       "      <td>-0.210497</td>\n",
       "      <td>-0.756009</td>\n",
       "      <td>1.925397</td>\n",
       "      <td>-0.385228</td>\n",
       "      <td>-0.22984</td>\n",
       "    </tr>\n",
       "    <tr>\n",
       "      <th>2</th>\n",
       "      <td>-0.614660</td>\n",
       "      <td>-0.890505</td>\n",
       "      <td>-1.682374</td>\n",
       "      <td>-0.194150</td>\n",
       "      <td>0.638964</td>\n",
       "      <td>-0.644378</td>\n",
       "      <td>-0.504819</td>\n",
       "      <td>1.554230</td>\n",
       "      <td>-0.516736</td>\n",
       "      <td>0.357376</td>\n",
       "      <td>...</td>\n",
       "      <td>-0.535894</td>\n",
       "      <td>0.815544</td>\n",
       "      <td>-0.623962</td>\n",
       "      <td>0.635035</td>\n",
       "      <td>-0.540130</td>\n",
       "      <td>-0.210497</td>\n",
       "      <td>-0.756009</td>\n",
       "      <td>-0.519373</td>\n",
       "      <td>2.595868</td>\n",
       "      <td>-0.22984</td>\n",
       "    </tr>\n",
       "    <tr>\n",
       "      <th>3</th>\n",
       "      <td>1.626916</td>\n",
       "      <td>0.342691</td>\n",
       "      <td>-0.156044</td>\n",
       "      <td>1.584350</td>\n",
       "      <td>0.638964</td>\n",
       "      <td>-0.644378</td>\n",
       "      <td>-0.504819</td>\n",
       "      <td>1.554230</td>\n",
       "      <td>-0.516736</td>\n",
       "      <td>0.357376</td>\n",
       "      <td>...</td>\n",
       "      <td>1.866040</td>\n",
       "      <td>-1.226175</td>\n",
       "      <td>-0.623962</td>\n",
       "      <td>-1.574716</td>\n",
       "      <td>-0.540130</td>\n",
       "      <td>-0.210497</td>\n",
       "      <td>-0.756009</td>\n",
       "      <td>-0.519373</td>\n",
       "      <td>-0.385228</td>\n",
       "      <td>-0.22984</td>\n",
       "    </tr>\n",
       "    <tr>\n",
       "      <th>4</th>\n",
       "      <td>-0.614660</td>\n",
       "      <td>0.342691</td>\n",
       "      <td>-0.766576</td>\n",
       "      <td>-0.431283</td>\n",
       "      <td>0.638964</td>\n",
       "      <td>-0.644378</td>\n",
       "      <td>-0.504819</td>\n",
       "      <td>1.554230</td>\n",
       "      <td>-0.516736</td>\n",
       "      <td>0.357376</td>\n",
       "      <td>...</td>\n",
       "      <td>-0.535894</td>\n",
       "      <td>0.815544</td>\n",
       "      <td>-0.623962</td>\n",
       "      <td>0.635035</td>\n",
       "      <td>-0.540130</td>\n",
       "      <td>-0.210497</td>\n",
       "      <td>-0.756009</td>\n",
       "      <td>-0.519373</td>\n",
       "      <td>-0.385228</td>\n",
       "      <td>-0.22984</td>\n",
       "    </tr>\n",
       "  </tbody>\n",
       "</table>\n",
       "<p>5 rows × 23 columns</p>\n",
       "</div>"
      ],
      "text/plain": [
       "     weapon  incident_year  incident_month  officer_age  call_made  12am_6am  \\\n",
       "0  1.626916       1.575888        1.065020    -1.024117   0.638964 -0.644378   \n",
       "1 -0.614660      -0.890505        0.454488     0.398683   0.638964  1.551885   \n",
       "2 -0.614660      -0.890505       -1.682374    -0.194150   0.638964 -0.644378   \n",
       "3  1.626916       0.342691       -0.156044     1.584350   0.638964 -0.644378   \n",
       "4 -0.614660       0.342691       -0.766576    -0.431283   0.638964 -0.644378   \n",
       "\n",
       "   7am_12pm   1pm_6pm  7pm_11pm  officer_gender__M  ...  frisk_flag__Y  \\\n",
       "0 -0.504819  1.554230 -0.516736           0.357376  ...      -0.535894   \n",
       "1 -0.504819 -0.643405 -0.516736           0.357376  ...       1.866040   \n",
       "2 -0.504819  1.554230 -0.516736           0.357376  ...      -0.535894   \n",
       "3 -0.504819  1.554230 -0.516736           0.357376  ...       1.866040   \n",
       "4 -0.504819  1.554230 -0.516736           0.357376  ...      -0.535894   \n",
       "\n",
       "   dif_race__Y  dif_gender__Y  dif_race_gender__Y  repeat_offenders__Y  \\\n",
       "0    -1.226175      -0.623962           -1.574716             1.851406   \n",
       "1     0.815544      -0.623962            0.635035            -0.540130   \n",
       "2     0.815544      -0.623962            0.635035            -0.540130   \n",
       "3    -1.226175      -0.623962           -1.574716            -0.540130   \n",
       "4     0.815544      -0.623962            0.635035            -0.540130   \n",
       "\n",
       "   subject_age_group__1_17  subject_age_group__26_35  \\\n",
       "0                -0.210497                 -0.756009   \n",
       "1                -0.210497                 -0.756009   \n",
       "2                -0.210497                 -0.756009   \n",
       "3                -0.210497                 -0.756009   \n",
       "4                -0.210497                 -0.756009   \n",
       "\n",
       "   subject_age_group__36_45  subject_age_group__46_55  \\\n",
       "0                  1.925397                 -0.385228   \n",
       "1                  1.925397                 -0.385228   \n",
       "2                 -0.519373                  2.595868   \n",
       "3                 -0.519373                 -0.385228   \n",
       "4                 -0.519373                 -0.385228   \n",
       "\n",
       "   subject_age_group__56_100  \n",
       "0                   -0.22984  \n",
       "1                   -0.22984  \n",
       "2                   -0.22984  \n",
       "3                   -0.22984  \n",
       "4                   -0.22984  \n",
       "\n",
       "[5 rows x 23 columns]"
      ]
     },
     "execution_count": 463,
     "metadata": {},
     "output_type": "execute_result"
    }
   ],
   "source": [
    "# Create an X-Train dataframe\n",
    "dff = pd.DataFrame(X_train_ss, columns=col)\n",
    "dff.head()"
   ]
  },
  {
   "cell_type": "code",
   "execution_count": 464,
   "metadata": {
    "ExecuteTime": {
     "end_time": "2020-11-25T23:28:00.821617Z",
     "start_time": "2020-11-25T23:28:00.809068Z"
    }
   },
   "outputs": [],
   "source": [
    "# Combine scaled training data and categorcial data\n",
    "\n",
    "X_train_all = pd.concat([pd.DataFrame(X_train_ss, columns=col), cat_train_df], axis=1)\n",
    "X_test_all = pd.concat([pd.DataFrame(X_test_ss, columns=col), cat_test_df], axis=1)"
   ]
  },
  {
   "cell_type": "code",
   "execution_count": 465,
   "metadata": {
    "ExecuteTime": {
     "end_time": "2020-11-25T23:28:06.651822Z",
     "start_time": "2020-11-25T23:28:06.626286Z"
    }
   },
   "outputs": [
    {
     "data": {
      "text/html": [
       "<div>\n",
       "<style scoped>\n",
       "    .dataframe tbody tr th:only-of-type {\n",
       "        vertical-align: middle;\n",
       "    }\n",
       "\n",
       "    .dataframe tbody tr th {\n",
       "        vertical-align: top;\n",
       "    }\n",
       "\n",
       "    .dataframe thead th {\n",
       "        text-align: right;\n",
       "    }\n",
       "</style>\n",
       "<table border=\"1\" class=\"dataframe\">\n",
       "  <thead>\n",
       "    <tr style=\"text-align: right;\">\n",
       "      <th></th>\n",
       "      <th>weapon</th>\n",
       "      <th>incident_year</th>\n",
       "      <th>incident_month</th>\n",
       "      <th>officer_age</th>\n",
       "      <th>call_made</th>\n",
       "      <th>12am_6am</th>\n",
       "      <th>7am_12pm</th>\n",
       "      <th>1pm_6pm</th>\n",
       "      <th>7pm_11pm</th>\n",
       "      <th>officer_gender__M</th>\n",
       "      <th>...</th>\n",
       "      <th>frisk_flag__Y</th>\n",
       "      <th>dif_race__Y</th>\n",
       "      <th>dif_gender__Y</th>\n",
       "      <th>dif_race_gender__Y</th>\n",
       "      <th>repeat_offenders__Y</th>\n",
       "      <th>subject_age_group__1_17</th>\n",
       "      <th>subject_age_group__26_35</th>\n",
       "      <th>subject_age_group__36_45</th>\n",
       "      <th>subject_age_group__46_55</th>\n",
       "      <th>subject_age_group__56_100</th>\n",
       "    </tr>\n",
       "  </thead>\n",
       "  <tbody>\n",
       "    <tr>\n",
       "      <th>0</th>\n",
       "      <td>-0.614660</td>\n",
       "      <td>-0.890505</td>\n",
       "      <td>-0.156044</td>\n",
       "      <td>-0.075584</td>\n",
       "      <td>0.638964</td>\n",
       "      <td>1.551885</td>\n",
       "      <td>-0.504819</td>\n",
       "      <td>-0.643405</td>\n",
       "      <td>-0.516736</td>\n",
       "      <td>0.357376</td>\n",
       "      <td>...</td>\n",
       "      <td>-0.535894</td>\n",
       "      <td>0.815544</td>\n",
       "      <td>1.602663</td>\n",
       "      <td>0.635035</td>\n",
       "      <td>-0.540130</td>\n",
       "      <td>4.750665</td>\n",
       "      <td>-0.756009</td>\n",
       "      <td>-0.519373</td>\n",
       "      <td>-0.385228</td>\n",
       "      <td>-0.229840</td>\n",
       "    </tr>\n",
       "    <tr>\n",
       "      <th>1</th>\n",
       "      <td>1.626916</td>\n",
       "      <td>0.959290</td>\n",
       "      <td>-0.156044</td>\n",
       "      <td>-0.668417</td>\n",
       "      <td>0.638964</td>\n",
       "      <td>-0.644378</td>\n",
       "      <td>1.980909</td>\n",
       "      <td>-0.643405</td>\n",
       "      <td>-0.516736</td>\n",
       "      <td>0.357376</td>\n",
       "      <td>...</td>\n",
       "      <td>-0.535894</td>\n",
       "      <td>0.815544</td>\n",
       "      <td>-0.623962</td>\n",
       "      <td>0.635035</td>\n",
       "      <td>1.851406</td>\n",
       "      <td>-0.210497</td>\n",
       "      <td>-0.756009</td>\n",
       "      <td>1.925397</td>\n",
       "      <td>-0.385228</td>\n",
       "      <td>-0.229840</td>\n",
       "    </tr>\n",
       "    <tr>\n",
       "      <th>2</th>\n",
       "      <td>-0.614660</td>\n",
       "      <td>0.342691</td>\n",
       "      <td>0.454488</td>\n",
       "      <td>1.702916</td>\n",
       "      <td>-1.565034</td>\n",
       "      <td>1.551885</td>\n",
       "      <td>-0.504819</td>\n",
       "      <td>-0.643405</td>\n",
       "      <td>-0.516736</td>\n",
       "      <td>0.357376</td>\n",
       "      <td>...</td>\n",
       "      <td>-0.535894</td>\n",
       "      <td>0.815544</td>\n",
       "      <td>-0.623962</td>\n",
       "      <td>0.635035</td>\n",
       "      <td>-0.540130</td>\n",
       "      <td>-0.210497</td>\n",
       "      <td>-0.756009</td>\n",
       "      <td>-0.519373</td>\n",
       "      <td>-0.385228</td>\n",
       "      <td>-0.229840</td>\n",
       "    </tr>\n",
       "    <tr>\n",
       "      <th>3</th>\n",
       "      <td>1.626916</td>\n",
       "      <td>1.575888</td>\n",
       "      <td>0.149222</td>\n",
       "      <td>-0.312717</td>\n",
       "      <td>0.638964</td>\n",
       "      <td>1.551885</td>\n",
       "      <td>-0.504819</td>\n",
       "      <td>-0.643405</td>\n",
       "      <td>-0.516736</td>\n",
       "      <td>0.357376</td>\n",
       "      <td>...</td>\n",
       "      <td>-0.535894</td>\n",
       "      <td>-1.226175</td>\n",
       "      <td>-0.623962</td>\n",
       "      <td>-1.574716</td>\n",
       "      <td>1.851406</td>\n",
       "      <td>-0.210497</td>\n",
       "      <td>-0.756009</td>\n",
       "      <td>-0.519373</td>\n",
       "      <td>-0.385228</td>\n",
       "      <td>4.350854</td>\n",
       "    </tr>\n",
       "    <tr>\n",
       "      <th>4</th>\n",
       "      <td>1.626916</td>\n",
       "      <td>1.575888</td>\n",
       "      <td>-1.682374</td>\n",
       "      <td>0.042983</td>\n",
       "      <td>0.638964</td>\n",
       "      <td>1.551885</td>\n",
       "      <td>-0.504819</td>\n",
       "      <td>-0.643405</td>\n",
       "      <td>-0.516736</td>\n",
       "      <td>0.357376</td>\n",
       "      <td>...</td>\n",
       "      <td>-0.535894</td>\n",
       "      <td>0.815544</td>\n",
       "      <td>-0.623962</td>\n",
       "      <td>0.635035</td>\n",
       "      <td>1.851406</td>\n",
       "      <td>-0.210497</td>\n",
       "      <td>1.322736</td>\n",
       "      <td>-0.519373</td>\n",
       "      <td>-0.385228</td>\n",
       "      <td>-0.229840</td>\n",
       "    </tr>\n",
       "  </tbody>\n",
       "</table>\n",
       "<p>5 rows × 23 columns</p>\n",
       "</div>"
      ],
      "text/plain": [
       "     weapon  incident_year  incident_month  officer_age  call_made  12am_6am  \\\n",
       "0 -0.614660      -0.890505       -0.156044    -0.075584   0.638964  1.551885   \n",
       "1  1.626916       0.959290       -0.156044    -0.668417   0.638964 -0.644378   \n",
       "2 -0.614660       0.342691        0.454488     1.702916  -1.565034  1.551885   \n",
       "3  1.626916       1.575888        0.149222    -0.312717   0.638964  1.551885   \n",
       "4  1.626916       1.575888       -1.682374     0.042983   0.638964  1.551885   \n",
       "\n",
       "   7am_12pm   1pm_6pm  7pm_11pm  officer_gender__M  ...  frisk_flag__Y  \\\n",
       "0 -0.504819 -0.643405 -0.516736           0.357376  ...      -0.535894   \n",
       "1  1.980909 -0.643405 -0.516736           0.357376  ...      -0.535894   \n",
       "2 -0.504819 -0.643405 -0.516736           0.357376  ...      -0.535894   \n",
       "3 -0.504819 -0.643405 -0.516736           0.357376  ...      -0.535894   \n",
       "4 -0.504819 -0.643405 -0.516736           0.357376  ...      -0.535894   \n",
       "\n",
       "   dif_race__Y  dif_gender__Y  dif_race_gender__Y  repeat_offenders__Y  \\\n",
       "0     0.815544       1.602663            0.635035            -0.540130   \n",
       "1     0.815544      -0.623962            0.635035             1.851406   \n",
       "2     0.815544      -0.623962            0.635035            -0.540130   \n",
       "3    -1.226175      -0.623962           -1.574716             1.851406   \n",
       "4     0.815544      -0.623962            0.635035             1.851406   \n",
       "\n",
       "   subject_age_group__1_17  subject_age_group__26_35  \\\n",
       "0                 4.750665                 -0.756009   \n",
       "1                -0.210497                 -0.756009   \n",
       "2                -0.210497                 -0.756009   \n",
       "3                -0.210497                 -0.756009   \n",
       "4                -0.210497                  1.322736   \n",
       "\n",
       "   subject_age_group__36_45  subject_age_group__46_55  \\\n",
       "0                 -0.519373                 -0.385228   \n",
       "1                  1.925397                 -0.385228   \n",
       "2                 -0.519373                 -0.385228   \n",
       "3                 -0.519373                 -0.385228   \n",
       "4                 -0.519373                 -0.385228   \n",
       "\n",
       "   subject_age_group__56_100  \n",
       "0                  -0.229840  \n",
       "1                  -0.229840  \n",
       "2                  -0.229840  \n",
       "3                   4.350854  \n",
       "4                  -0.229840  \n",
       "\n",
       "[5 rows x 23 columns]"
      ]
     },
     "execution_count": 465,
     "metadata": {},
     "output_type": "execute_result"
    }
   ],
   "source": [
    "X_test_all.head() # display the first 5 rows"
   ]
  },
  {
   "cell_type": "code",
   "execution_count": 466,
   "metadata": {
    "ExecuteTime": {
     "end_time": "2020-11-25T23:28:15.250392Z",
     "start_time": "2020-11-25T23:28:15.015871Z"
    }
   },
   "outputs": [
    {
     "name": "stdout",
     "output_type": "stream",
     "text": [
      "0    31588\n",
      "1     1974\n",
      "Name: arrest_flag__Y, dtype: int64\n",
      "\n",
      "\n",
      "1    31588\n",
      "0    31588\n",
      "Name: arrest_flag__Y, dtype: int64\n"
     ]
    }
   ],
   "source": [
    "# Check for class imbalance\n",
    "print(y_train.value_counts())\n",
    "\n",
    "# Fit SMOTE to training data\n",
    "smote = SMOTE()\n",
    "X_train_resampled, y_train_resampled = smote.fit_sample(X_train_all, y_train)\n",
    "\n",
    "# Preview synthetic sample class distrubution\n",
    "print('\\n')\n",
    "print(pd.Series(y_train_resampled).value_counts())"
   ]
  },
  {
   "cell_type": "markdown",
   "metadata": {},
   "source": [
    "### Modeling"
   ]
  },
  {
   "cell_type": "markdown",
   "metadata": {},
   "source": [
    "#### Using a pipeline for four methods: KNClassifier, Random Forest, AdaBoost, and GradientBoosing"
   ]
  },
  {
   "cell_type": "code",
   "execution_count": null,
   "metadata": {},
   "outputs": [],
   "source": []
  },
  {
   "cell_type": "code",
   "execution_count": 467,
   "metadata": {
    "ExecuteTime": {
     "end_time": "2020-11-25T23:29:04.541721Z",
     "start_time": "2020-11-25T23:28:27.221495Z"
    }
   },
   "outputs": [
    {
     "name": "stdout",
     "output_type": "stream",
     "text": [
      "KNeighborsClassifier()\n",
      "model score: 0.874\n",
      "RandomForestClassifier()\n",
      "model score: 0.915\n",
      "AdaBoostClassifier()\n",
      "model score: 0.840\n",
      "GradientBoostingClassifier()\n",
      "model score: 0.854\n"
     ]
    }
   ],
   "source": [
    "from sklearn.pipeline import Pipeline\n",
    "# Create a list of classifiers\n",
    "classifiers = [KNeighborsClassifier(), \n",
    "               RandomForestClassifier(), AdaBoostClassifier(), \n",
    "              GradientBoostingClassifier()]\n",
    "# Build a for loop to instaniate the classification models and loop through the classifiers\n",
    "for classifier in classifiers:\n",
    "    pipe = Pipeline(steps=[('classifier', classifier)])\n",
    "    pipe.fit(X_train_resampled, y_train_resampled) # Fit each model to the training data\n",
    "    print(classifier) #Print the classifer results with parameters\n",
    "    print('model score: %.3f' %pipe.score(X_test_all, y_test)) # Returns the coefficient of determination (R^2) of the prediction"
   ]
  },
  {
   "cell_type": "code",
   "execution_count": 468,
   "metadata": {
    "ExecuteTime": {
     "end_time": "2020-11-25T23:29:13.137769Z",
     "start_time": "2020-11-25T23:29:13.134500Z"
    }
   },
   "outputs": [],
   "source": [
    "# Guess and Check: Select Parameters\n",
    "grid = {\"classifier__n_estimators\": [5, 10],\n",
    "        \"classifier__min_samples_leaf\": [0.10, 1]}"
   ]
  },
  {
   "cell_type": "code",
   "execution_count": 469,
   "metadata": {
    "ExecuteTime": {
     "end_time": "2020-11-25T23:29:22.454230Z",
     "start_time": "2020-11-25T23:29:22.450615Z"
    }
   },
   "outputs": [],
   "source": [
    "# Run GridSearchCV and Cross Validation with the choosen parameters\n",
    "gridsearch = GridSearchCV(estimator=pipe, param_grid=grid, \n",
    "                          scoring='accuracy', cv=5, verbose=1, n_jobs=-1)"
   ]
  },
  {
   "cell_type": "code",
   "execution_count": null,
   "metadata": {},
   "outputs": [],
   "source": []
  },
  {
   "cell_type": "code",
   "execution_count": 470,
   "metadata": {
    "ExecuteTime": {
     "end_time": "2020-11-25T23:29:34.271094Z",
     "start_time": "2020-11-25T23:29:28.161102Z"
    }
   },
   "outputs": [
    {
     "name": "stdout",
     "output_type": "stream",
     "text": [
      "Fitting 5 folds for each of 4 candidates, totalling 20 fits\n"
     ]
    },
    {
     "name": "stderr",
     "output_type": "stream",
     "text": [
      "[Parallel(n_jobs=-1)]: Using backend LokyBackend with 8 concurrent workers.\n",
      "[Parallel(n_jobs=-1)]: Done  20 out of  20 | elapsed:    5.8s finished\n"
     ]
    },
    {
     "data": {
      "text/plain": [
       "GridSearchCV(cv=5,\n",
       "             estimator=Pipeline(steps=[('classifier',\n",
       "                                        GradientBoostingClassifier())]),\n",
       "             n_jobs=-1,\n",
       "             param_grid={'classifier__min_samples_leaf': [0.1, 1],\n",
       "                         'classifier__n_estimators': [5, 10]},\n",
       "             scoring='accuracy', verbose=1)"
      ]
     },
     "execution_count": 470,
     "metadata": {},
     "output_type": "execute_result"
    }
   ],
   "source": [
    "# Fit Model\n",
    "gridsearch.fit(X_train_resampled, y_train_resampled)"
   ]
  },
  {
   "cell_type": "code",
   "execution_count": null,
   "metadata": {
    "ExecuteTime": {
     "end_time": "2020-11-23T23:06:00.104793Z",
     "start_time": "2020-11-23T23:04:43.273Z"
    }
   },
   "outputs": [],
   "source": []
  },
  {
   "cell_type": "code",
   "execution_count": 471,
   "metadata": {
    "ExecuteTime": {
     "end_time": "2020-11-25T23:29:57.081669Z",
     "start_time": "2020-11-25T23:29:57.077442Z"
    }
   },
   "outputs": [
    {
     "data": {
      "text/plain": [
       "{'classifier__min_samples_leaf': 0.1, 'classifier__n_estimators': 5}"
      ]
     },
     "execution_count": 471,
     "metadata": {},
     "output_type": "execute_result"
    }
   ],
   "source": [
    "# Find the best paramters for the model\n",
    "gridsearch.best_params_"
   ]
  },
  {
   "cell_type": "code",
   "execution_count": 473,
   "metadata": {
    "ExecuteTime": {
     "end_time": "2020-11-25T23:30:29.080361Z",
     "start_time": "2020-11-25T23:30:29.072679Z"
    }
   },
   "outputs": [
    {
     "data": {
      "text/plain": [
       "Pipeline(steps=[('classifier',\n",
       "                 GradientBoostingClassifier(min_samples_leaf=0.1,\n",
       "                                            n_estimators=5))])"
      ]
     },
     "execution_count": 473,
     "metadata": {},
     "output_type": "execute_result"
    }
   ],
   "source": [
    "# find best estimator \n",
    "gridsearch.best_estimator_"
   ]
  },
  {
   "cell_type": "code",
   "execution_count": 474,
   "metadata": {
    "ExecuteTime": {
     "end_time": "2020-11-25T23:30:34.931567Z",
     "start_time": "2020-11-25T23:30:34.927430Z"
    }
   },
   "outputs": [
    {
     "data": {
      "text/plain": [
       "0.9112637431535553"
      ]
     },
     "execution_count": 474,
     "metadata": {},
     "output_type": "execute_result"
    }
   ],
   "source": [
    "gridsearch.best_score_"
   ]
  },
  {
   "cell_type": "code",
   "execution_count": null,
   "metadata": {},
   "outputs": [],
   "source": []
  },
  {
   "cell_type": "markdown",
   "metadata": {},
   "source": [
    "#### Base Estimator using sklearn with ClfSwitcher"
   ]
  },
  {
   "cell_type": "code",
   "execution_count": 475,
   "metadata": {
    "ExecuteTime": {
     "end_time": "2020-11-25T23:30:44.683838Z",
     "start_time": "2020-11-25T23:30:44.676805Z"
    }
   },
   "outputs": [],
   "source": [
    "# Create a child class to use multiple baseline models to use with the Pipeline Function\n",
    "from sklearn.base import BaseEstimator\n",
    "class ClfSwitcher(BaseEstimator):\n",
    "\n",
    "    def __init__(self, estimator=None):\n",
    "        \"\"\"\n",
    "        A Custom BaseEstimator that can switch between classifiers.\n",
    "        :param estimator: sklearn object - The classifier\n",
    "        \"\"\" \n",
    "\n",
    "        self.estimator = estimator\n",
    "\n",
    "\n",
    "    def fit(self, X, y=None, **kwargs):\n",
    "        self.estimator.fit(X, y)\n",
    "        return self\n",
    "\n",
    "\n",
    "    def predict(self, X, y=None):\n",
    "        return self.estimator.predict(X)\n",
    "\n",
    "\n",
    "    def predict_proba(self, X):\n",
    "        return self.estimator.predict_proba(X)\n",
    "\n",
    "\n",
    "    def score(self, X, y):\n",
    "        return self.estimator.score(X, y)"
   ]
  },
  {
   "cell_type": "code",
   "execution_count": 476,
   "metadata": {
    "ExecuteTime": {
     "end_time": "2020-11-25T23:30:53.521594Z",
     "start_time": "2020-11-25T23:30:53.518113Z"
    }
   },
   "outputs": [],
   "source": [
    "# Create a  Pipeline using \"ClfSwitcher\"\n",
    "pipeline_clf = Pipeline([('clf', ClfSwitcher())])"
   ]
  },
  {
   "cell_type": "code",
   "execution_count": 477,
   "metadata": {
    "ExecuteTime": {
     "end_time": "2020-11-25T23:30:59.381559Z",
     "start_time": "2020-11-25T23:30:59.375509Z"
    }
   },
   "outputs": [],
   "source": [
    "# Set parameters for each classification model\n",
    "parameters = [\n",
    "{\n",
    "    'clf__estimator': [KNeighborsClassifier()],\n",
    "    'clf__estimator__n_neighbors': [3, 5],\n",
    "    'clf__estimator__weights': ['uniform', 'distance']\n",
    "},\n",
    "{   'clf__estimator': [RandomForestClassifier()],\n",
    "    'clf__estimator__criterion': ['gini', 'entropy'],\n",
    "    'clf__estimator__min_samples_split': [2, 5], \n",
    "    'clf__estimator__max_depth': [3, 5]\n",
    "},  \n",
    "{   'clf__estimator': [AdaBoostClassifier()],\n",
    "    'clf__estimator__n_estimators': [2, 4]\n",
    "},\n",
    "{   'clf__estimator': [GradientBoostingClassifier()],\n",
    "    'clf__estimator__min_samples_leaf': [1, 3] \n",
    "}\n",
    "]"
   ]
  },
  {
   "cell_type": "code",
   "execution_count": 478,
   "metadata": {
    "ExecuteTime": {
     "end_time": "2020-11-25T23:31:07.191491Z",
     "start_time": "2020-11-25T23:31:07.187982Z"
    }
   },
   "outputs": [],
   "source": [
    "# Run a GridSearch using the paramters do cross validation for each iteration of each classifier\n",
    "gridsearch_final = GridSearchCV(pipeline_clf, param_grid=parameters, n_jobs=-1, verbose=1, cv=3)"
   ]
  },
  {
   "cell_type": "code",
   "execution_count": 479,
   "metadata": {
    "ExecuteTime": {
     "end_time": "2020-11-25T23:33:38.549942Z",
     "start_time": "2020-11-25T23:31:12.923330Z"
    }
   },
   "outputs": [
    {
     "name": "stdout",
     "output_type": "stream",
     "text": [
      "Fitting 3 folds for each of 16 candidates, totalling 48 fits\n"
     ]
    },
    {
     "name": "stderr",
     "output_type": "stream",
     "text": [
      "[Parallel(n_jobs=-1)]: Using backend LokyBackend with 8 concurrent workers.\n",
      "[Parallel(n_jobs=-1)]: Done  48 out of  48 | elapsed:  2.3min finished\n"
     ]
    },
    {
     "data": {
      "text/plain": [
       "GridSearchCV(cv=3, estimator=Pipeline(steps=[('clf', ClfSwitcher())]),\n",
       "             n_jobs=-1,\n",
       "             param_grid=[{'clf__estimator': [KNeighborsClassifier(weights='distance')],\n",
       "                          'clf__estimator__n_neighbors': [3, 5],\n",
       "                          'clf__estimator__weights': ['uniform', 'distance']},\n",
       "                         {'clf__estimator': [RandomForestClassifier()],\n",
       "                          'clf__estimator__criterion': ['gini', 'entropy'],\n",
       "                          'clf__estimator__max_depth': [3, 5],\n",
       "                          'clf__estimator__min_samples_split': [2, 5]},\n",
       "                         {'clf__estimator': [AdaBoostClassifier()],\n",
       "                          'clf__estimator__n_estimators': [2, 4]},\n",
       "                         {'clf__estimator': [GradientBoostingClassifier()],\n",
       "                          'clf__estimator__min_samples_leaf': [1, 3]}],\n",
       "             verbose=1)"
      ]
     },
     "execution_count": 479,
     "metadata": {},
     "output_type": "execute_result"
    }
   ],
   "source": [
    "# fit the models\n",
    "gridsearch_final.fit(X_train_resampled, y_train_resampled)"
   ]
  },
  {
   "cell_type": "code",
   "execution_count": 480,
   "metadata": {
    "ExecuteTime": {
     "end_time": "2020-11-25T23:35:48.892906Z",
     "start_time": "2020-11-25T23:35:48.890239Z"
    }
   },
   "outputs": [],
   "source": [
    "# Find the best best estimator\n",
    "best_pipeline = gridsearch_final.best_estimator_"
   ]
  },
  {
   "cell_type": "code",
   "execution_count": 481,
   "metadata": {
    "ExecuteTime": {
     "end_time": "2020-11-25T23:35:54.748299Z",
     "start_time": "2020-11-25T23:35:54.743328Z"
    }
   },
   "outputs": [
    {
     "data": {
      "text/plain": [
       "ClfSwitcher(estimator=KNeighborsClassifier(weights='distance'))"
      ]
     },
     "execution_count": 481,
     "metadata": {},
     "output_type": "execute_result"
    }
   ],
   "source": [
    "# Find the best performing model\n",
    "best_pipeline['clf']"
   ]
  },
  {
   "cell_type": "code",
   "execution_count": null,
   "metadata": {},
   "outputs": [],
   "source": []
  },
  {
   "cell_type": "code",
   "execution_count": null,
   "metadata": {
    "ExecuteTime": {
     "end_time": "2020-11-25T21:50:35.195886Z",
     "start_time": "2020-11-25T21:50:34.996Z"
    }
   },
   "outputs": [],
   "source": []
  },
  {
   "cell_type": "code",
   "execution_count": null,
   "metadata": {},
   "outputs": [],
   "source": []
  },
  {
   "cell_type": "markdown",
   "metadata": {},
   "source": [
    "### Evaluation Part 1: best_pipeline"
   ]
  },
  {
   "cell_type": "code",
   "execution_count": null,
   "metadata": {
    "ExecuteTime": {
     "end_time": "2020-11-25T21:50:35.197553Z",
     "start_time": "2020-11-25T21:50:35.054Z"
    }
   },
   "outputs": [],
   "source": []
  },
  {
   "cell_type": "code",
   "execution_count": null,
   "metadata": {},
   "outputs": [],
   "source": []
  },
  {
   "cell_type": "code",
   "execution_count": 482,
   "metadata": {
    "ExecuteTime": {
     "end_time": "2020-11-25T23:38:20.833552Z",
     "start_time": "2020-11-25T23:36:21.156099Z"
    }
   },
   "outputs": [
    {
     "data": {
      "text/plain": [
       "(0.995029758136001, 0.8904183053271362)"
      ]
     },
     "execution_count": 482,
     "metadata": {},
     "output_type": "execute_result"
    }
   ],
   "source": [
    "# Returns the coefficient of determination (R^2) of the prediction\n",
    "best_pipeline.score(X_train_resampled, y_train_resampled), best_pipeline.score(X_test_all, y_test)"
   ]
  },
  {
   "cell_type": "code",
   "execution_count": 483,
   "metadata": {
    "ExecuteTime": {
     "end_time": "2020-11-25T23:42:40.555528Z",
     "start_time": "2020-11-25T23:42:40.548353Z"
    }
   },
   "outputs": [
    {
     "data": {
      "text/plain": [
       "{'clf__estimator': KNeighborsClassifier(weights='distance'),\n",
       " 'clf__estimator__n_neighbors': 5,\n",
       " 'clf__estimator__weights': 'distance'}"
      ]
     },
     "execution_count": 483,
     "metadata": {},
     "output_type": "execute_result"
    }
   ],
   "source": [
    "# Find the best parameters\n",
    "gridsearch_final.best_params_"
   ]
  },
  {
   "cell_type": "markdown",
   "metadata": {},
   "source": [
    "### Use GradientBoostClassifier -best performing model"
   ]
  },
  {
   "cell_type": "code",
   "execution_count": 484,
   "metadata": {
    "ExecuteTime": {
     "end_time": "2020-11-25T23:42:50.995564Z",
     "start_time": "2020-11-25T23:42:50.992830Z"
    }
   },
   "outputs": [],
   "source": [
    "# Initiate Gradient Boosting Classifier\n",
    "best_mod = GradientBoostingClassifier()"
   ]
  },
  {
   "cell_type": "code",
   "execution_count": 485,
   "metadata": {
    "ExecuteTime": {
     "end_time": "2020-11-25T23:43:03.159122Z",
     "start_time": "2020-11-25T23:42:56.708858Z"
    }
   },
   "outputs": [
    {
     "data": {
      "text/plain": [
       "GradientBoostingClassifier()"
      ]
     },
     "execution_count": 485,
     "metadata": {},
     "output_type": "execute_result"
    }
   ],
   "source": [
    "# Fit model to resampled training data\n",
    "best_mod.fit(X_train_resampled, y_train_resampled)"
   ]
  },
  {
   "cell_type": "code",
   "execution_count": 486,
   "metadata": {
    "ExecuteTime": {
     "end_time": "2020-11-25T23:43:08.891811Z",
     "start_time": "2020-11-25T23:43:08.783105Z"
    }
   },
   "outputs": [],
   "source": [
    "# Calculate the probability scores of each point in the training set- solve for error\n",
    "y_scores = best_mod.decision_function(X_train_resampled)"
   ]
  },
  {
   "cell_type": "code",
   "execution_count": 487,
   "metadata": {
    "ExecuteTime": {
     "end_time": "2020-11-25T23:43:14.582818Z",
     "start_time": "2020-11-25T23:43:14.561259Z"
    }
   },
   "outputs": [],
   "source": [
    "# Make Predictions \n",
    "y_hat_test = best_mod.predict(X_test_all)"
   ]
  },
  {
   "cell_type": "code",
   "execution_count": 488,
   "metadata": {
    "ExecuteTime": {
     "end_time": "2020-11-25T23:43:30.569637Z",
     "start_time": "2020-11-25T23:43:30.550676Z"
    }
   },
   "outputs": [
    {
     "name": "stdout",
     "output_type": "stream",
     "text": [
      "Train FPR:  [0.         0.         0.         ... 0.99987337 0.99996834 1.        ]\n",
      "Train TPR:  [0.00000000e+00 6.33151830e-05 1.26630366e-04 ... 1.00000000e+00\n",
      " 1.00000000e+00 1.00000000e+00]\n",
      "Train ROC AUC Score:  0.990988129601826\n"
     ]
    }
   ],
   "source": [
    "# Calculate the False Positive Rate (FPR), True Posititve\n",
    "# Rate (TPR), and Threshold for the training data and training predictions\n",
    "fpr, tpr, thresh = roc_curve(y_train_resampled, y_scores)\n",
    "\n",
    "# Calculate the ROC (Reciever Operating Characteristic) AUC (Area Under the Curve)\n",
    "rocauc = auc(fpr, tpr)\n",
    "\n",
    "print('Train FPR: ', fpr)\n",
    "print('Train TPR: ', tpr)\n",
    "print('Train ROC AUC Score: ', rocauc)"
   ]
  },
  {
   "cell_type": "code",
   "execution_count": 490,
   "metadata": {
    "ExecuteTime": {
     "end_time": "2020-11-25T23:45:50.453303Z",
     "start_time": "2020-11-25T23:45:50.445238Z"
    }
   },
   "outputs": [
    {
     "name": "stdout",
     "output_type": "stream",
     "text": [
      "Test FPR:  [0.         0.14452347 1.        ]\n",
      "Test TPR:  [0.         0.83825816 1.        ]\n",
      "Test ROC AUC Score:  0.8468673470064974\n"
     ]
    }
   ],
   "source": [
    "# Calculate the False Positive Rate (FPR), True Posititve\n",
    "# Rate (TPR), and Threshold for the testing data and testing predictions\n",
    "false_positive_rate, true_positive_rate, thresholds = roc_curve(y_test, y_hat_test)\n",
    "roc_auc = auc(false_positive_rate, true_positive_rate)\n",
    "\n",
    "# print('Training Root Mean Square Error', np.sqrt(mean_squared_error(y_resampled_train, y_scores)))\n",
    "#print('Testing Root Mean Square Error', np.sqrt(mean_squared_error(y_test, y_hat_test)))\n",
    "print('Test FPR: ', false_positive_rate)\n",
    "print('Test TPR: ', true_positive_rate)\n",
    "print('Test ROC AUC Score: ', roc_auc)"
   ]
  },
  {
   "cell_type": "code",
   "execution_count": 492,
   "metadata": {
    "ExecuteTime": {
     "end_time": "2020-11-25T23:46:36.064206Z",
     "start_time": "2020-11-25T23:46:35.647862Z"
    }
   },
   "outputs": [
    {
     "name": "stdout",
     "output_type": "stream",
     "text": [
      "Testing AUC: 0.8468673470064974\n"
     ]
    },
    {
     "data": {
      "image/png": "[encoded data removed]",
      "text/plain": [
       "<Figure size 720x576 with 1 Axes>"
      ]
     },
     "metadata": {
      "needs_background": "light"
     },
     "output_type": "display_data"
    }
   ],
   "source": [
    "# ROC curve for testing set\n",
    "plt.figure(figsize=(10, 8))\n",
    "lw = 2\n",
    "plt.plot(false_positive_rate, true_positive_rate, color='darkorange',\n",
    "         lw=lw, label='ROC curve')\n",
    "plt.plot([0, 1], [0, 1], color='navy', lw=lw, linestyle='--')\n",
    "plt.xlim([0.0, 1.0])\n",
    "plt.ylim([0.0, 1.05])\n",
    "plt.yticks([i/20.0 for i in range(21)])\n",
    "plt.xticks([i/20.0 for i in range(21)])\n",
    "plt.xlabel('False Positive Rate')\n",
    "plt.ylabel('True Positive Rate')\n",
    "plt.title('Receiver operating characteristic (ROC) Curve for Testing Set')\n",
    "plt.legend(loc='lower right')\n",
    "print('Testing AUC: {}'.format(auc(false_positive_rate, true_positive_rate)))\n",
    "plt.show()"
   ]
  },
  {
   "cell_type": "code",
   "execution_count": 493,
   "metadata": {
    "ExecuteTime": {
     "end_time": "2020-11-25T23:47:05.666520Z",
     "start_time": "2020-11-25T23:47:05.629485Z"
    }
   },
   "outputs": [
    {
     "name": "stdout",
     "output_type": "stream",
     "text": [
      "Confusion Matrix:\n",
      " [[9021 1524]\n",
      " [ 104  539]]\n",
      "classification report:\n",
      "                precision    recall  f1-score   support\n",
      "\n",
      "           0       0.99      0.86      0.92     10545\n",
      "           1       0.26      0.84      0.40       643\n",
      "\n",
      "    accuracy                           0.85     11188\n",
      "   macro avg       0.62      0.85      0.66     11188\n",
      "weighted avg       0.95      0.85      0.89     11188\n",
      "\n"
     ]
    }
   ],
   "source": [
    "# Compute a confusion matrix to evaluate the accuracy of the model classifications\n",
    "cnf_matrix = confusion_matrix(y_test, y_hat_test)\n",
    "print('Confusion Matrix:\\n', cnf_matrix)\n",
    "print('classification report:\\n ', classification_report(y_test, y_hat_test)) # Build a text report showing the main classification metrics"
   ]
  },
  {
   "cell_type": "code",
   "execution_count": 497,
   "metadata": {
    "ExecuteTime": {
     "end_time": "2020-11-25T23:56:36.121875Z",
     "start_time": "2020-11-25T23:56:35.885812Z"
    }
   },
   "outputs": [
    {
     "data": {
      "image/png": "[encoded data removed]",
      "text/plain": [
       "<Figure size 432x288 with 2 Axes>"
      ]
     },
     "metadata": {
      "needs_background": "light"
     },
     "output_type": "display_data"
    }
   ],
   "source": [
    "import itertools\n",
    "# Create the basic confusion matrix\n",
    "plt.imshow(cnf_matrix,  cmap=plt.cm.Blues) \n",
    "\n",
    "# Add title and axis labels\n",
    "plt.title('Confusion Matrix')\n",
    "plt.ylabel('True label')\n",
    "plt.xlabel('Predicted label')\n",
    "\n",
    "# Add appropriate axis scales\n",
    "class_names = set(y) # Get class labels to add to matrix\n",
    "tick_marks = np.arange(len(class_names))\n",
    "plt.xticks(tick_marks, class_names, rotation=45)\n",
    "plt.yticks(tick_marks, class_names)\n",
    "\n",
    "# Add labels to each cell\n",
    "thresh = cnf_matrix.max() / 2. # Used for text coloring below\n",
    "# Here we iterate through the confusion matrix and append labels to our visualization \n",
    "for i, j in itertools.product(range(cnf_matrix.shape[0]), range(cnf_matrix.shape[1])):\n",
    "        plt.text(j, i, cnf_matrix[i, j],\n",
    "                 horizontalalignment='center',\n",
    "                 color='white' if cnf_matrix[i, j] > thresh else 'black')\n",
    "\n",
    "# Add a legend\n",
    "plt.colorbar()\n",
    "plt.show()"
   ]
  },
  {
   "cell_type": "code",
   "execution_count": 498,
   "metadata": {
    "ExecuteTime": {
     "end_time": "2020-11-25T23:57:03.712414Z",
     "start_time": "2020-11-25T23:57:03.707170Z"
    }
   },
   "outputs": [
    {
     "name": "stdout",
     "output_type": "stream",
     "text": [
      "Actual: [0, 1, 0, 0, 0, ..., 0, 0, 0, 0, 0]\n",
      "Length: 35\n",
      "Categories (2, int64): [0, 1]\n",
      "Prediction: [0 1 0 1 1 0 0 0 0 0 1 1 0 0 0 0 0 0 1 0 0 0 0 0 1 0 0 0 0 0 0 0 0 1 1]\n"
     ]
    }
   ],
   "source": [
    "# Print the Y_test (Actual) data and Y_hat (Predictions) response values.\n",
    "# Compare the two to check for overfitting\n",
    "\n",
    "print('Actual:', y_test.values[:35])\n",
    "print('Prediction:', y_hat_test[:35])\n"
   ]
  },
  {
   "cell_type": "code",
   "execution_count": 499,
   "metadata": {
    "ExecuteTime": {
     "end_time": "2020-11-25T23:57:09.771510Z",
     "start_time": "2020-11-25T23:57:09.440986Z"
    }
   },
   "outputs": [
    {
     "data": {
      "image/png": "[encoded data removed]",
      "text/plain": [
       "<Figure size 504x360 with 1 Axes>"
      ]
     },
     "metadata": {
      "needs_background": "light"
     },
     "output_type": "display_data"
    }
   ],
   "source": [
    "# Plot Model Performance\n",
    "plt.figure(figsize=(7, 5))\n",
    "plt.scatter(y_test, y_hat_test)\n",
    "plt.plot([0, 1.5], [0, 1.5], '--k') # Plot line of best fit\n",
    "plt.axis('tight') #  resize subplots in a figure so that there \n",
    "                  # are no overlaps between axes objects and labels on the axes.\n",
    "plt.title('Terry Stops Model Performance')\n",
    "plt.xlabel('Actual Arrests')\n",
    "plt.ylabel('Predicted Arrests')\n",
    "plt.tight_layout()"
   ]
  },
  {
   "cell_type": "markdown",
   "metadata": {},
   "source": [
    "### Best Features Model"
   ]
  },
  {
   "cell_type": "code",
   "execution_count": 500,
   "metadata": {
    "ExecuteTime": {
     "end_time": "2020-11-25T23:58:02.799839Z",
     "start_time": "2020-11-25T23:58:02.793293Z"
    }
   },
   "outputs": [
    {
     "data": {
      "text/plain": [
       "array([1.02869160e-14, 2.94692799e-02, 4.45895412e-02, 2.81448714e-02,\n",
       "       7.21667979e-04, 0.00000000e+00, 5.32559213e-04, 0.00000000e+00,\n",
       "       4.57318361e-04, 7.25739303e-04, 3.42429652e-04, 7.05770231e-05,\n",
       "       0.00000000e+00, 1.88256968e-03, 1.45793594e-04, 7.66594794e-04,\n",
       "       0.00000000e+00, 8.89775688e-01, 0.00000000e+00, 1.95135158e-03,\n",
       "       3.31389605e-04, 5.96178658e-05, 3.30105326e-05])"
      ]
     },
     "execution_count": 500,
     "metadata": {},
     "output_type": "execute_result"
    }
   ],
   "source": [
    "# Score and rank the features by importance (most relevant features)\n",
    "best_mod.feature_importances_"
   ]
  },
  {
   "cell_type": "code",
   "execution_count": 501,
   "metadata": {
    "ExecuteTime": {
     "end_time": "2020-11-25T23:59:34.910685Z",
     "start_time": "2020-11-25T23:59:34.905934Z"
    }
   },
   "outputs": [],
   "source": [
    "def plot_feature_importances(model, X_train):\n",
    "    \"\"\"\n",
    "    Input: the model, X training data\n",
    "    Output: A plot of the features by \n",
    "    their assigned importance\n",
    "    \n",
    "    \"\"\"\n",
    "    feature_importances = model.feature_importances_\n",
    "    features = X_train.columns\n",
    "    plt.bar(features, feature_importances)\n",
    "    plt.xlabel(\"Feature Names\")\n",
    "    plt.ylabel(\"Feature Importance\\nScores\")\n",
    "    plt.tight_layout()\n",
    "    plt.title(\"Feature Importances\\nBar Chart\")\n",
    "    plt.xticks(rotation=85)\n",
    "    plt.show()"
   ]
  },
  {
   "cell_type": "code",
   "execution_count": 502,
   "metadata": {
    "ExecuteTime": {
     "end_time": "2020-11-25T23:59:46.841465Z",
     "start_time": "2020-11-25T23:59:46.405034Z"
    }
   },
   "outputs": [
    {
     "data": {
      "image/png": "[encoded data removed]",
      "text/plain": [
       "<Figure size 432x288 with 1 Axes>"
      ]
     },
     "metadata": {
      "needs_background": "light"
     },
     "output_type": "display_data"
    }
   ],
   "source": [
    "# Call Function\n",
    "plot_feature_importances(model=best_mod, X_train=X_train_all)"
   ]
  },
  {
   "cell_type": "code",
   "execution_count": 505,
   "metadata": {
    "ExecuteTime": {
     "end_time": "2020-11-26T00:06:36.725132Z",
     "start_time": "2020-11-26T00:06:36.719612Z"
    }
   },
   "outputs": [],
   "source": [
    "# Create a list of the best feature column names and index into the X testing and training dataframes\n",
    "best_feats = ['weapon', 'repeat_offenders__Y', 'incident_year', 'incident_month', 'officer_age']\n",
    "X_feat_train = X_train_all[best_feats]\n",
    "X_feat_test = X_test_all[best_feats]"
   ]
  },
  {
   "cell_type": "code",
   "execution_count": 506,
   "metadata": {
    "ExecuteTime": {
     "end_time": "2020-11-26T00:06:52.212285Z",
     "start_time": "2020-11-26T00:06:52.175994Z"
    }
   },
   "outputs": [
    {
     "name": "stdout",
     "output_type": "stream",
     "text": [
      "0    31588\n",
      "1     1974\n",
      "Name: arrest_flag__Y, dtype: int64\n",
      "\n",
      "\n",
      "1    31588\n",
      "0    31588\n",
      "Name: arrest_flag__Y, dtype: int64\n"
     ]
    }
   ],
   "source": [
    "# Check for class imbalance\n",
    "print(y_train.value_counts())\n",
    "\n",
    "# Fit SMOTE to training data\n",
    "smote = SMOTE()\n",
    "X_feat_resampled, y_feat_resampled = smote.fit_sample(X_feat_train, y_train)\n",
    "\n",
    "# Preview synthtic sample class distrubution\n",
    "print('\\n')\n",
    "print(pd.Series(y_feat_resampled).value_counts())"
   ]
  },
  {
   "cell_type": "code",
   "execution_count": 507,
   "metadata": {
    "ExecuteTime": {
     "end_time": "2020-11-26T00:07:05.748673Z",
     "start_time": "2020-11-26T00:07:03.314155Z"
    }
   },
   "outputs": [
    {
     "data": {
      "text/plain": [
       "GradientBoostingClassifier()"
      ]
     },
     "execution_count": 507,
     "metadata": {},
     "output_type": "execute_result"
    }
   ],
   "source": [
    "# Fit the model\n",
    "best_mod.fit(X_feat_resampled, y_feat_resampled)"
   ]
  },
  {
   "cell_type": "code",
   "execution_count": 508,
   "metadata": {
    "ExecuteTime": {
     "end_time": "2020-11-26T00:07:16.786313Z",
     "start_time": "2020-11-26T00:07:16.769385Z"
    }
   },
   "outputs": [],
   "source": [
    "# Make predictions\n",
    "y_hat_feat = best_mod.predict(X_feat_test)"
   ]
  },
  {
   "cell_type": "markdown",
   "metadata": {},
   "source": [
    "## Evaluation Part 2: best_mod(w/best features)"
   ]
  },
  {
   "cell_type": "code",
   "execution_count": 509,
   "metadata": {
    "ExecuteTime": {
     "end_time": "2020-11-26T00:08:14.924124Z",
     "start_time": "2020-11-26T00:08:14.903826Z"
    }
   },
   "outputs": [
    {
     "data": {
      "text/plain": [
       "0.8367894172327494"
      ]
     },
     "execution_count": 509,
     "metadata": {},
     "output_type": "execute_result"
    }
   ],
   "source": [
    "# R^2 Score \n",
    "best_mod.score(X_feat_test, y_test)"
   ]
  },
  {
   "cell_type": "code",
   "execution_count": 511,
   "metadata": {
    "ExecuteTime": {
     "end_time": "2020-11-26T00:08:45.564322Z",
     "start_time": "2020-11-26T00:08:45.556062Z"
    }
   },
   "outputs": [
    {
     "name": "stdout",
     "output_type": "stream",
     "text": [
      "Test FPR:  [0.        0.1730678 1.       ]\n",
      "Test TPR:  [0.         0.99844479 1.        ]\n",
      "Test ROC AUC Score:  0.9126884926999521\n"
     ]
    }
   ],
   "source": [
    "# Calculate the False Positive Rate (FPR), True Posititve\n",
    "# Rate (TPR), and Threshold for the testing data and testing predictions\n",
    "\n",
    "fpr, tpr, thresh = roc_curve(y_test, y_hat_feat)\n",
    "rocauc = auc(fpr, tpr)\n",
    "\n",
    "# print('Training Root Mean Square Error', np.sqrt(mean_squared_error(y_resampled_train, y_scores)))\n",
    "#print('Testing Root Mean Square Error', np.sqrt(mean_squared_error(y_test, y_hat_feat)))\n",
    "print('Test FPR: ', fpr)\n",
    "print('Test TPR: ', tpr)\n",
    "print('Test ROC AUC Score: ', rocauc)"
   ]
  },
  {
   "cell_type": "code",
   "execution_count": 512,
   "metadata": {
    "ExecuteTime": {
     "end_time": "2020-11-26T00:09:03.800532Z",
     "start_time": "2020-11-26T00:09:03.398130Z"
    }
   },
   "outputs": [
    {
     "name": "stdout",
     "output_type": "stream",
     "text": [
      "Testing AUC: 0.9126884926999521\n"
     ]
    },
    {
     "data": {
      "image/png": "[encoded data removed]",
      "text/plain": [
       "<Figure size 720x576 with 1 Axes>"
      ]
     },
     "metadata": {
      "needs_background": "light"
     },
     "output_type": "display_data"
    }
   ],
   "source": [
    "plt.figure(figsize=(10, 8))\n",
    "lw = 2\n",
    "plt.plot(fpr, tpr, color='darkorange',\n",
    "         lw=lw, label='ROC curve')\n",
    "plt.plot([0, 1], [0, 1], color='navy', lw=lw, linestyle='--')\n",
    "plt.xlim([0.0, 1.0])\n",
    "plt.ylim([0.0, 1.05])\n",
    "plt.yticks([i/20.0 for i in range(21)])\n",
    "plt.xticks([i/20.0 for i in range(21)])\n",
    "plt.xlabel('False Positive Rate')\n",
    "plt.ylabel('True Positive Rate')\n",
    "plt.title('Receiver operating characteristic (ROC) Curve for Testing Set')\n",
    "plt.legend(loc='lower right')\n",
    "print('Testing AUC: {}'.format(auc(fpr, tpr)))\n",
    "plt.show()"
   ]
  },
  {
   "cell_type": "code",
   "execution_count": 513,
   "metadata": {
    "ExecuteTime": {
     "end_time": "2020-11-26T00:09:22.928264Z",
     "start_time": "2020-11-26T00:09:22.891836Z"
    }
   },
   "outputs": [
    {
     "name": "stdout",
     "output_type": "stream",
     "text": [
      "Confusion Matrix:\n",
      " [[8720 1825]\n",
      " [   1  642]]\n",
      "classification report:\n",
      "                precision    recall  f1-score   support\n",
      "\n",
      "           0       0.99      0.86      0.92     10545\n",
      "           1       0.26      0.84      0.40       643\n",
      "\n",
      "    accuracy                           0.85     11188\n",
      "   macro avg       0.62      0.85      0.66     11188\n",
      "weighted avg       0.95      0.85      0.89     11188\n",
      "\n"
     ]
    }
   ],
   "source": [
    "# Compute confusion matrix and print the classification report\n",
    "cf_matrix = confusion_matrix(y_test, y_hat_feat)\n",
    "print('Confusion Matrix:\\n', cf_matrix)\n",
    "print('classification report:\\n ', classification_report(y_test, y_hat_test))"
   ]
  },
  {
   "cell_type": "code",
   "execution_count": 514,
   "metadata": {
    "ExecuteTime": {
     "end_time": "2020-11-26T00:09:34.372498Z",
     "start_time": "2020-11-26T00:09:34.091912Z"
    }
   },
   "outputs": [
    {
     "data": {
      "image/png": "[encoded data removed]",
      "text/plain": [
       "<Figure size 504x360 with 1 Axes>"
      ]
     },
     "metadata": {
      "needs_background": "light"
     },
     "output_type": "display_data"
    }
   ],
   "source": [
    "# Plot Models with Best Features\n",
    "plt.figure(figsize=(7, 5))\n",
    "plt.scatter(y_test, y_hat_feat)\n",
    "plt.plot([0, 1.5], [0, 1.5], '--k')\n",
    "plt.axis('tight')\n",
    "plt.title('Terry Stops Model Performance - Best Features')\n",
    "plt.xlabel('Actual Arrests')\n",
    "plt.ylabel('Predicted Arrests')\n",
    "plt.tight_layout()"
   ]
  },
  {
   "cell_type": "markdown",
   "metadata": {},
   "source": [
    "### Fit Model Using Imbalanced Data (Original df not treated with SMOTE)"
   ]
  },
  {
   "cell_type": "code",
   "execution_count": 515,
   "metadata": {
    "ExecuteTime": {
     "end_time": "2020-11-26T00:10:44.989485Z",
     "start_time": "2020-11-26T00:10:44.986909Z"
    }
   },
   "outputs": [],
   "source": [
    "# Instantiate Model\n",
    "unSmote_mod = GradientBoostingClassifier()"
   ]
  },
  {
   "cell_type": "code",
   "execution_count": 516,
   "metadata": {
    "ExecuteTime": {
     "end_time": "2020-11-26T00:10:59.450563Z",
     "start_time": "2020-11-26T00:10:57.090822Z"
    }
   },
   "outputs": [
    {
     "data": {
      "text/plain": [
       "GradientBoostingClassifier()"
      ]
     },
     "execution_count": 516,
     "metadata": {},
     "output_type": "execute_result"
    }
   ],
   "source": [
    "# Fit model\n",
    "unSmote_mod.fit(X_train_all, y_train)"
   ]
  },
  {
   "cell_type": "code",
   "execution_count": 517,
   "metadata": {
    "ExecuteTime": {
     "end_time": "2020-11-26T00:11:22.108699Z",
     "start_time": "2020-11-26T00:11:22.086926Z"
    }
   },
   "outputs": [],
   "source": [
    "# Make predictions\n",
    "unSmote_ypred = unSmote_mod.predict(X_test_all)"
   ]
  },
  {
   "cell_type": "markdown",
   "metadata": {},
   "source": [
    "### Evaluation Part 3: unSMOTE_mod (w/ all features)"
   ]
  },
  {
   "cell_type": "code",
   "execution_count": 518,
   "metadata": {
    "ExecuteTime": {
     "end_time": "2020-11-26T00:12:18.138371Z",
     "start_time": "2020-11-26T00:12:18.060069Z"
    }
   },
   "outputs": [
    {
     "data": {
      "text/plain": [
       "(0.9414218461355104, 0.942885234179478)"
      ]
     },
     "execution_count": 518,
     "metadata": {},
     "output_type": "execute_result"
    }
   ],
   "source": [
    "# Print R^2 for the training data and testing data\n",
    "unSmote_mod.score(X_train_all, y_train), unSmote_mod.score(X_test_all, y_test)"
   ]
  },
  {
   "cell_type": "code",
   "execution_count": 519,
   "metadata": {
    "ExecuteTime": {
     "end_time": "2020-11-26T00:12:29.161812Z",
     "start_time": "2020-11-26T00:12:29.127081Z"
    }
   },
   "outputs": [
    {
     "name": "stdout",
     "output_type": "stream",
     "text": [
      "Confusion Matrix:\n",
      " [[10543     2]\n",
      " [  637     6]]\n",
      "classification report:\n",
      "                precision    recall  f1-score   support\n",
      "\n",
      "           0       0.94      1.00      0.97     10545\n",
      "           1       0.75      0.01      0.02       643\n",
      "\n",
      "    accuracy                           0.94     11188\n",
      "   macro avg       0.85      0.50      0.49     11188\n",
      "weighted avg       0.93      0.94      0.92     11188\n",
      "\n"
     ]
    }
   ],
   "source": [
    "# Compute confusion matrix and print the classification report\n",
    "cf_matrix = confusion_matrix(y_test, unSmote_ypred)\n",
    "print('Confusion Matrix:\\n', cf_matrix)\n",
    "print('classification report:\\n ', classification_report(y_test, unSmote_ypred))"
   ]
  },
  {
   "cell_type": "code",
   "execution_count": 520,
   "metadata": {
    "ExecuteTime": {
     "end_time": "2020-11-26T00:12:48.146968Z",
     "start_time": "2020-11-26T00:12:47.938868Z"
    }
   },
   "outputs": [
    {
     "data": {
      "image/png": "[encoded data removed]",
      "text/plain": [
       "<Figure size 432x288 with 2 Axes>"
      ]
     },
     "metadata": {
      "needs_background": "light"
     },
     "output_type": "display_data"
    }
   ],
   "source": [
    "# Create the basic matrix\n",
    "plt.imshow(cf_matrix,  cmap=plt.cm.Blues) \n",
    "\n",
    "# Add title and axis labels\n",
    "plt.title('Confusion Matrix')\n",
    "plt.ylabel('True label')\n",
    "plt.xlabel('Predicted label')\n",
    "\n",
    "# Add appropriate axis scales\n",
    "class_names = set(y) # Get class labels to add to matrix\n",
    "tick_marks = np.arange(len(class_names))\n",
    "plt.xticks(tick_marks, class_names, rotation=45)\n",
    "plt.yticks(tick_marks, class_names)\n",
    "\n",
    "# Add labels to each cell\n",
    "thresh = cf_matrix.max() / 2. # Used for text coloring below\n",
    "# Here we iterate through the confusion matrix and append labels to our visualization \n",
    "for i, j in itertools.product(range(cf_matrix.shape[0]), range(cf_matrix.shape[1])):\n",
    "        plt.text(j, i, cf_matrix[i, j],\n",
    "                 horizontalalignment='center',\n",
    "                 color='white' if cf_matrix[i, j] > thresh else 'black')\n",
    "\n",
    "# Add a legend\n",
    "plt.colorbar()\n",
    "plt.show()"
   ]
  },
  {
   "cell_type": "code",
   "execution_count": 521,
   "metadata": {
    "ExecuteTime": {
     "end_time": "2020-11-26T00:13:02.482722Z",
     "start_time": "2020-11-26T00:13:02.203557Z"
    }
   },
   "outputs": [
    {
     "data": {
      "image/png": "[encoded data removed]",
      "text/plain": [
       "<Figure size 504x360 with 1 Axes>"
      ]
     },
     "metadata": {
      "needs_background": "light"
     },
     "output_type": "display_data"
    }
   ],
   "source": [
    "# Plot the model performance\n",
    "\n",
    "plt.figure(figsize=(7, 5))\n",
    "plt.scatter(y_test, unSmote_ypred)\n",
    "plt.plot([0, 1.5], [0, 1.5], '--k')\n",
    "plt.axis('tight')\n",
    "plt.title('Terry Stops Model Performance - Imbalanced Data')\n",
    "plt.xlabel('Actual Arrests')\n",
    "plt.ylabel('Predicted Arrests')\n",
    "plt.tight_layout()"
   ]
  },
  {
   "cell_type": "code",
   "execution_count": 522,
   "metadata": {
    "ExecuteTime": {
     "end_time": "2020-11-26T00:13:20.025360Z",
     "start_time": "2020-11-26T00:13:19.586236Z"
    }
   },
   "outputs": [
    {
     "name": "stdout",
     "output_type": "stream",
     "text": [
      "Testing AUC: 0.8468673470064974\n"
     ]
    },
    {
     "data": {
      "image/png": "[encoded data removed]",
      "text/plain": [
       "<Figure size 720x576 with 1 Axes>"
      ]
     },
     "metadata": {
      "needs_background": "light"
     },
     "output_type": "display_data"
    }
   ],
   "source": [
    "\n",
    "# Plot both the training and testing ROC and AUC\n",
    "\n",
    "plt.figure(figsize=(10, 8))\n",
    "lw = 2\n",
    "plt.plot(false_positive_rate, true_positive_rate, color='darkorange',\n",
    "         lw=lw, label='Testing ROC curve')\n",
    "plt.plot(fpr, tpr, color='green',\n",
    "         lw=lw, label='Training ROC curve')\n",
    "fpr, tpr, thresh = roc_curve(y_train_resampled, y_scores)\n",
    "rocauc = auc(fpr, tpr)\n",
    "plt.plot([0, 1], [0, 1], color='navy', lw=lw, linestyle='--')\n",
    "plt.xlim([0.0, 1.0])\n",
    "plt.ylim([0.0, 1.05])\n",
    "plt.yticks([i/20.0 for i in range(21)])\n",
    "plt.xticks([i/20.0 for i in range(21)])\n",
    "plt.xlabel('False Positive Rate')\n",
    "plt.ylabel('True Positive Rate')\n",
    "plt.title('Receiver operating characteristic (ROC) Curve for Testing Set')\n",
    "plt.legend(loc='lower right')\n",
    "print('Testing AUC: {}'.format(auc(false_positive_rate, true_positive_rate)))\n",
    "plt.show()"
   ]
  },
  {
   "cell_type": "code",
   "execution_count": null,
   "metadata": {},
   "outputs": [],
   "source": []
  }
 ],
 "metadata": {
  "kernelspec": {
   "display_name": "Python 3",
   "language": "python",
   "name": "python3"
  },
  "language_info": {
   "codemirror_mode": {
    "name": "ipython",
    "version": 3
   },
   "file_extension": ".py",
   "mimetype": "text/x-python",
   "name": "python",
   "nbconvert_exporter": "python",
   "pygments_lexer": "ipython3",
   "version": "3.7.6"
  },
  "toc": {
   "base_numbering": "",
   "nav_menu": {},
   "number_sections": false,
   "sideBar": true,
   "skip_h1_title": false,
   "title_cell": "Table of Contents",
   "title_sidebar": "Contents",
   "toc_cell": false,
   "toc_position": {},
   "toc_section_display": true,
   "toc_window_display": false
  },
  "varInspector": {
   "cols": {
    "lenName": 16,
    "lenType": 16,
    "lenVar": 40
   },
   "kernels_config": {
    "python": {
     "delete_cmd_postfix": "",
     "delete_cmd_prefix": "del ",
     "library": "var_list.py",
     "varRefreshCmd": "print(var_dic_list())"
    },
    "r": {
     "delete_cmd_postfix": ") ",
     "delete_cmd_prefix": "rm(",
     "library": "var_list.r",
     "varRefreshCmd": "cat(var_dic_list()) "
    }
   },
   "types_to_exclude": [
    "module",
    "function",
    "builtin_function_or_method",
    "instance",
    "_Feature"
   ],
   "window_display": false
  }
 },
 "nbformat": 4,
 "nbformat_minor": 4
}
